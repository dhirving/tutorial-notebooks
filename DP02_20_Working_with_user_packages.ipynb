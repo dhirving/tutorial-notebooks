{
 "cells": [
  {
   "cell_type": "markdown",
   "id": "c4778164-58f3-4e2a-bf64-341240b01eac",
   "metadata": {},
   "source": [
    "# On command line install bagpipes\n",
    "> pips install --user bagpipes\n",
    "> .... \n",
    "> Successfully installed bagpipes-1.0.2 corner-2.2.2 pymultinest-2.11 spectres-2.2.0\n",
    "\n",
    "PyMultinest is a python interface to MultiNest. Both MultiNest and Cuba are not included, so you will see an error like:\n",
    "...\n",
    "\n",
    "Multinest and Cuba must be first installed \n",
    "Now you must first build Multinest before it can be used \n",
    "go to https://github.com/JohannesBuchner/PyMultiNest/blob/master/doc/install.rst\n",
    "\n",
    "Install locally on RSP space in ~/local\n",
    ">> cd ~/local\n",
    ">> git clone https://github.com/JohannesBuchner/MultiNest\n",
    ">> cd MultiNest/build\n",
    ">> cmake ..\n",
    ">> make\n",
    "\n",
    "# Put LD_LIBRARY_PATH \n",
    "export LD_LIBRARY_PATH=${LD_LIBRARY_PATH}:/home/leanne/local/MultiNest/lib:\n",
    "# export LD_LIBRARY_PATH=$HOME/Downloads/MultiNest/lib:$HOME/Downloads/cuba/directory/:$LD_LIBRARY_PATH\n"
   ]
  },
  {
   "cell_type": "code",
   "execution_count": 1,
   "id": "1c89f642-c2d5-482f-827c-69235058f05d",
   "metadata": {
    "execution": {
     "iopub.execute_input": "2023-07-27T18:27:30.020566Z",
     "iopub.status.busy": "2023-07-27T18:27:30.019899Z",
     "iopub.status.idle": "2023-07-27T18:27:30.025091Z",
     "shell.execute_reply": "2023-07-27T18:27:30.024382Z",
     "shell.execute_reply.started": "2023-07-27T18:27:30.020535Z"
    },
    "tags": []
   },
   "outputs": [
    {
     "name": "stdout",
     "output_type": "stream",
     "text": [
      "/opt/lsst/software/stack/stack/miniconda3-py38_4.9.2-6.0.0/Linux64/astshim/g1011452fe8+91250f09a0/lib:/opt/lsst/software/stack/stack/miniconda3-py38_4.9.2-6.0.0/Linux64/log/g8479130295+37bc81c514/lib:/opt/lsst/software/stack/stack/miniconda3-py38_4.9.2-6.0.0/Linux64/sphgeom/gd5d1ca8e18+f0a1800e64/lib:/opt/lsst/software/stack/stack/miniconda3-py38_4.9.2-6.0.0/Linux64/geom/g3f8e1907dc+7442544851/lib:/opt/lsst/software/stack/stack/miniconda3-py38_4.9.2-6.0.0/Linux64/pex_config/g38189d092c+b66847d792/lib:/opt/lsst/software/stack/stack/miniconda3-py38_4.9.2-6.0.0/Linux64/pex_exceptions/g131b30d954+f6e951a35a/lib:/opt/lsst/software/stack/stack/miniconda3-py38_4.9.2-6.0.0/Linux64/base/gca804b0f43+f0a1800e64/lib:/opt/lsst/software/stack/stack/miniconda3-py38_4.9.2-6.0.0/Linux64/cpputils/g4e8ce4af8a+d61c1479ad/lib:/opt/lsst/software/stack/stack/miniconda3-py38_4.9.2-6.0.0/Linux64/daf_base/g3a7e09fba3+647ad2b4cc/lib:/opt/lsst/software/stack/stack/miniconda3-py38_4.9.2-6.0.0/Linux64/afw/g2c743f43ab+e249109434/lib:/opt/lsst/software/stack/stack/miniconda3-py38_4.9.2-6.0.0/Linux64/cp_pipe/g2b0655198b+b2137dc517/lib:/opt/lsst/software/stack/stack/miniconda3-py38_4.9.2-6.0.0/Linux64/jointcal_cholmod/ga68e3ac08d+f0a1800e64/lib:/opt/lsst/software/stack/stack/miniconda3-py38_4.9.2-6.0.0/Linux64/jointcal/g93dcef90ea+d556f2ceff/lib:/opt/lsst/software/stack/stack/miniconda3-py38_4.9.2-6.0.0/Linux64/obs_subaru/gaf08615ecc+d00795c751/lib:/opt/lsst/software/stack/stack/miniconda3-py38_4.9.2-6.0.0/Linux64/ctrl_bps_parsl/g5198779c74+4d974ecb53/lib:/opt/lsst/software/stack/stack/miniconda3-py38_4.9.2-6.0.0/Linux64/meas_extensions_simpleShape/g498fc93c42+8a5c8fccd2/lib:/opt/lsst/software/stack/stack/miniconda3-py38_4.9.2-6.0.0/Linux64/psfex/g57437a15a7+f0a1800e64/lib:/opt/lsst/software/stack/stack/miniconda3-py38_4.9.2-6.0.0/Linux64/meas_extensions_psfex/g08c5a6d447+76108a4ea9/lib:/opt/lsst/software/stack/stack/miniconda3-py38_4.9.2-6.0.0/Linux64/meas_extensions_piff/g2aea266057+038a6eaf3f/lib:/opt/lsst/software/stack/stack/miniconda3-py38_4.9.2-6.0.0/Linux64/meas_extensions_photometryKron/g1e66b94187+038a6eaf3f/lib:/opt/lsst/software/stack/stack/miniconda3-py38_4.9.2-6.0.0/Linux64/ip_isr/gcba2a62c5a+038a6eaf3f/lib:/opt/lsst/software/stack/stack/miniconda3-py38_4.9.2-6.0.0/Linux64/meas_extensions_shapeHSM/g65112ec721+038a6eaf3f/lib:/opt/lsst/software/stack/stack/miniconda3-py38_4.9.2-6.0.0/Linux64/meas_extensions_trailedSources/g883b199ddb+8a5c8fccd2/lib:/opt/lsst/software/stack/stack/miniconda3-py38_4.9.2-6.0.0/Linux64/meas_astrom/g51277c4d12+038a6eaf3f/lib:/opt/lsst/software/stack/stack/miniconda3-py38_4.9.2-6.0.0/Linux64/ip_diffim/g41be43c305+0e4ba543ab/lib:/opt/lsst/software/stack/stack/miniconda3-py38_4.9.2-6.0.0/Linux64/coadd_utils/g67c5445c93+398098d96d/lib:/opt/lsst/software/stack/stack/miniconda3-py38_4.9.2-6.0.0/Linux64/shapelet/gd4112516d0+398098d96d/lib:/opt/lsst/software/stack/stack/miniconda3-py38_4.9.2-6.0.0/Linux64/meas_modelfit/g807e3ba568+3ba857e06e/lib:/opt/lsst/software/stack/stack/miniconda3-py38_4.9.2-6.0.0/Linux64/meas_base/g91d91042f5+912993bbc5/lib:/opt/lsst/software/stack/stack/miniconda3-py38_4.9.2-6.0.0/Linux64/meas_algorithms/g47bb462cdc+8a5c8fccd2/lib:/opt/lsst/software/stack/stack/miniconda3-py38_4.9.2-6.0.0/Linux64/meas_deblender/g2526fcf3cb+9c72450b1d/lib:/usr/local/lib64:/home/leanne/local/MultiNest/lib\n"
     ]
    }
   ],
   "source": [
    "# Setup env\n",
    "import os\n",
    "existing_value = os.getenv('LD_LIBRARY_PATH')\n",
    "\n",
    "# Replace 'NEW_VALUE' with the value you want to append\n",
    "new_value = '/home/leanne/local/MultiNest/lib'\n",
    "\n",
    "# Replace 'APPEND_DELIMITER' with an appropriate delimiter for your use case (e.g., ':' for PATH variable)\n",
    "append_delimiter = ':'\n",
    "\n",
    "# Concatenate the existing value with the new value using the delimiter\n",
    "updated_value = existing_value + append_delimiter + new_value\n",
    "\n",
    "print(existing_value)"
   ]
  },
  {
   "cell_type": "code",
   "execution_count": 13,
   "id": "1e901c77-6783-4c90-9974-9dbf48f0b162",
   "metadata": {
    "execution": {
     "iopub.execute_input": "2023-07-27T18:21:54.304760Z",
     "iopub.status.busy": "2023-07-27T18:21:54.303857Z",
     "iopub.status.idle": "2023-07-27T18:21:54.308484Z",
     "shell.execute_reply": "2023-07-27T18:21:54.307761Z",
     "shell.execute_reply.started": "2023-07-27T18:21:54.304731Z"
    },
    "tags": []
   },
   "outputs": [
    {
     "name": "stdout",
     "output_type": "stream",
     "text": [
      "/opt/lsst/software/stack/stack/miniconda3-py38_4.9.2-6.0.0/Linux64/astshim/g1011452fe8+91250f09a0/lib:/opt/lsst/software/stack/stack/miniconda3-py38_4.9.2-6.0.0/Linux64/log/g8479130295+37bc81c514/lib:/opt/lsst/software/stack/stack/miniconda3-py38_4.9.2-6.0.0/Linux64/sphgeom/gd5d1ca8e18+f0a1800e64/lib:/opt/lsst/software/stack/stack/miniconda3-py38_4.9.2-6.0.0/Linux64/geom/g3f8e1907dc+7442544851/lib:/opt/lsst/software/stack/stack/miniconda3-py38_4.9.2-6.0.0/Linux64/pex_config/g38189d092c+b66847d792/lib:/opt/lsst/software/stack/stack/miniconda3-py38_4.9.2-6.0.0/Linux64/pex_exceptions/g131b30d954+f6e951a35a/lib:/opt/lsst/software/stack/stack/miniconda3-py38_4.9.2-6.0.0/Linux64/base/gca804b0f43+f0a1800e64/lib:/opt/lsst/software/stack/stack/miniconda3-py38_4.9.2-6.0.0/Linux64/cpputils/g4e8ce4af8a+d61c1479ad/lib:/opt/lsst/software/stack/stack/miniconda3-py38_4.9.2-6.0.0/Linux64/daf_base/g3a7e09fba3+647ad2b4cc/lib:/opt/lsst/software/stack/stack/miniconda3-py38_4.9.2-6.0.0/Linux64/afw/g2c743f43ab+e249109434/lib:/opt/lsst/software/stack/stack/miniconda3-py38_4.9.2-6.0.0/Linux64/cp_pipe/g2b0655198b+b2137dc517/lib:/opt/lsst/software/stack/stack/miniconda3-py38_4.9.2-6.0.0/Linux64/jointcal_cholmod/ga68e3ac08d+f0a1800e64/lib:/opt/lsst/software/stack/stack/miniconda3-py38_4.9.2-6.0.0/Linux64/jointcal/g93dcef90ea+d556f2ceff/lib:/opt/lsst/software/stack/stack/miniconda3-py38_4.9.2-6.0.0/Linux64/obs_subaru/gaf08615ecc+d00795c751/lib:/opt/lsst/software/stack/stack/miniconda3-py38_4.9.2-6.0.0/Linux64/ctrl_bps_parsl/g5198779c74+4d974ecb53/lib:/opt/lsst/software/stack/stack/miniconda3-py38_4.9.2-6.0.0/Linux64/meas_extensions_simpleShape/g498fc93c42+8a5c8fccd2/lib:/opt/lsst/software/stack/stack/miniconda3-py38_4.9.2-6.0.0/Linux64/psfex/g57437a15a7+f0a1800e64/lib:/opt/lsst/software/stack/stack/miniconda3-py38_4.9.2-6.0.0/Linux64/meas_extensions_psfex/g08c5a6d447+76108a4ea9/lib:/opt/lsst/software/stack/stack/miniconda3-py38_4.9.2-6.0.0/Linux64/meas_extensions_piff/g2aea266057+038a6eaf3f/lib:/opt/lsst/software/stack/stack/miniconda3-py38_4.9.2-6.0.0/Linux64/meas_extensions_photometryKron/g1e66b94187+038a6eaf3f/lib:/opt/lsst/software/stack/stack/miniconda3-py38_4.9.2-6.0.0/Linux64/ip_isr/gcba2a62c5a+038a6eaf3f/lib:/opt/lsst/software/stack/stack/miniconda3-py38_4.9.2-6.0.0/Linux64/meas_extensions_shapeHSM/g65112ec721+038a6eaf3f/lib:/opt/lsst/software/stack/stack/miniconda3-py38_4.9.2-6.0.0/Linux64/meas_extensions_trailedSources/g883b199ddb+8a5c8fccd2/lib:/opt/lsst/software/stack/stack/miniconda3-py38_4.9.2-6.0.0/Linux64/meas_astrom/g51277c4d12+038a6eaf3f/lib:/opt/lsst/software/stack/stack/miniconda3-py38_4.9.2-6.0.0/Linux64/ip_diffim/g41be43c305+0e4ba543ab/lib:/opt/lsst/software/stack/stack/miniconda3-py38_4.9.2-6.0.0/Linux64/coadd_utils/g67c5445c93+398098d96d/lib:/opt/lsst/software/stack/stack/miniconda3-py38_4.9.2-6.0.0/Linux64/shapelet/gd4112516d0+398098d96d/lib:/opt/lsst/software/stack/stack/miniconda3-py38_4.9.2-6.0.0/Linux64/meas_modelfit/g807e3ba568+3ba857e06e/lib:/opt/lsst/software/stack/stack/miniconda3-py38_4.9.2-6.0.0/Linux64/meas_base/g91d91042f5+912993bbc5/lib:/opt/lsst/software/stack/stack/miniconda3-py38_4.9.2-6.0.0/Linux64/meas_algorithms/g47bb462cdc+8a5c8fccd2/lib:/opt/lsst/software/stack/stack/miniconda3-py38_4.9.2-6.0.0/Linux64/meas_deblender/g2526fcf3cb+9c72450b1d/lib:/usr/local/lib64:/home/leanne/local/MultiNest/lib:/home/leanne/local/MultiNest/lib\n"
     ]
    }
   ],
   "source": [
    "# Set the environment variable with the updated value\n",
    "os.environ['LD_LIBRARY_PATH'] = updated_value\n",
    "print(os.getenv('LD_LIBRARY_PATH'))"
   ]
  },
  {
   "cell_type": "code",
   "execution_count": 2,
   "id": "a17e9519-1488-4ab4-854e-51e1baf5dd4e",
   "metadata": {
    "execution": {
     "iopub.execute_input": "2023-07-27T18:27:37.144972Z",
     "iopub.status.busy": "2023-07-27T18:27:37.144199Z",
     "iopub.status.idle": "2023-07-27T18:27:39.624835Z",
     "shell.execute_reply": "2023-07-27T18:27:39.624067Z",
     "shell.execute_reply.started": "2023-07-27T18:27:37.144941Z"
    },
    "tags": []
   },
   "outputs": [
    {
     "name": "stdout",
     "output_type": "stream",
     "text": [
      "Bagpipes: Latex distribution not found, plots may look strange.\n"
     ]
    }
   ],
   "source": [
    "import bagpipes as pipes\n",
    "import pymultinest as pymn"
   ]
  },
  {
   "cell_type": "code",
   "execution_count": null,
   "id": "70e88eb1-ff1c-4060-b300-5237345c885e",
   "metadata": {},
   "outputs": [],
   "source": []
  }
 ],
 "metadata": {
  "kernelspec": {
   "display_name": "LSST",
   "language": "python",
   "name": "lsst"
  },
  "language_info": {
   "codemirror_mode": {
    "name": "ipython",
    "version": 3
   },
   "file_extension": ".py",
   "mimetype": "text/x-python",
   "name": "python",
   "nbconvert_exporter": "python",
   "pygments_lexer": "ipython3",
   "version": "3.10.10"
  }
 },
 "nbformat": 4,
 "nbformat_minor": 5
}
