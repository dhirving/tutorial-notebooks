{
 "cells": [
  {
   "cell_type": "markdown",
   "id": "2f0883bc-6272-451a-8b50-9184e2248954",
   "metadata": {},
   "source": [
    "<img align=\"left\" src = https://project.lsst.org/sites/default/files/Rubin-O-Logo_0.png width=250 style=\"padding: 10px\"> \n",
    "<b>Working with user installed packages</b> <br>\n",
    "Contact author: Leanne Guy <br>\n",
    "Last verified to run: 2023-07-27<br>\n",
    "LSST Science Piplines version: Weekly 2023_15<br>\n",
    "Container size: medium <br>\n",
    "Targeted learning level: beginner <br>"
   ]
  },
  {
   "cell_type": "markdown",
   "id": "c4778164-58f3-4e2a-bf64-341240b01eac",
   "metadata": {},
   "source": [
    "**Description:** An simple example showing how to install and setup user packages that require building libraries and a modification to the LD_LIBRARY_PATH so that they can be used in a notebook\n",
    "\n",
    "**Packages:** os, bagpipes, PyMultiNest, MultiNest, PyCuba, Cuba\n",
    "\n",
    "**References:** We will install the bagpipes package and the dependencies described at https://github.com/JohannesBuchner/PyMultiNest/blob/master/doc/install.rsthttps://github.com/JohannesBuchner/PyMultiNest/blob/master/doc/install.rst as an example"
   ]
  },
  {
   "cell_type": "markdown",
   "id": "0cd20249-93cc-4638-b366-b3db5e35932b",
   "metadata": {},
   "source": [
    "# 1. Install user packages \n",
    "\n",
    "Open a terminal in the RSP to execute the commands in this section\n",
    "\n",
    "### 1.1 Install the bagpipes package with pip\n",
    "```\n",
    "pip install --user bagpipes\n",
    "```\n",
    "You should get the message ```Successfully installed bagpipes-1.0.2 corner-2.2.2 pymultinest-2.11 spectres-2.2.0```\n",
    "\n",
    "PyMultiNest is a Python interface for MultiNest. The MultiNest package itself is not included. Before we can use the bagpipes package, which depends on pymultinest, we must install Multinest and update the environment in the LSST kernel\n",
    "\n",
    "### 1.2 Install and build dependencies \n",
    "\n",
    "Packages can be installed in the ```~/local``` directory. Execute the following from the command line\n",
    "\n",
    "```\n",
    "cd ~/local\n",
    "git clone https://github.com/JohannesBuchner/MultiNest\n",
    "cd MultiNest/build\n",
    "cmake ..\n",
    "make\n",
    "```\n",
    "\n",
    "### 1.3 Update local setup \n",
    "The LD_LIBRARY_PATH environment variable must now be updated to point to the MultiNest lib directory in both the  ```.bashrc```, to use bagpipes in python started on the command line, and in the  ```~/notebooks.user_setups``` to us it in a notebook\n",
    "\n",
    "In a terminal execute\n",
    "```\n",
    "export LD_LIBRARY_PATH=${LD_LIBRARY_PATH}:${HOME}local/MultiNest/lib\n",
    "python -c 'import bagpipes as pipes'\n",
    "```\n",
    "You can also add the ```export LD_LIBRARY_PATH``` to your ```~/.bashrc``` file so that this is setup automatically everytime you login. \n",
    "\n",
    "Finally, edit the ```~/notebooks.user_setups``` file to add the following line to be able to use ```bagpipes``` from a notebook\n",
    "```\n",
    "export LD_LIBRARY_PATH=${LD_LIBRARY_PATH}:/home/leanne/local/MultiNest/lib\n",
    "```\n",
    "\n",
    "You will need to log out and log back in again before you execute the next cell. "
   ]
  },
  {
   "cell_type": "markdown",
   "id": "041bfd09-8ec3-46fe-b597-be31c7ce6c87",
   "metadata": {},
   "source": [
    "# 2. Check the environment in the notebook and use the bagpipes package\n",
    "\n",
    "Execute the next cell to inspect the ```LD_LIBRARY_PATH```. Note that the last entry should be ```${HOME}/local/MultiNest/lib```"
   ]
  },
  {
   "cell_type": "code",
   "execution_count": 1,
   "id": "1c89f642-c2d5-482f-827c-69235058f05d",
   "metadata": {
    "execution": {
     "iopub.execute_input": "2023-07-27T19:35:38.686578Z",
     "iopub.status.busy": "2023-07-27T19:35:38.686322Z",
     "iopub.status.idle": "2023-07-27T19:35:38.690247Z",
     "shell.execute_reply": "2023-07-27T19:35:38.689655Z",
     "shell.execute_reply.started": "2023-07-27T19:35:38.686557Z"
    },
    "tags": []
   },
   "outputs": [
    {
     "name": "stdout",
     "output_type": "stream",
     "text": [
      "/opt/lsst/software/stack/stack/miniconda3-py38_4.9.2-6.0.0/Linux64/astshim/g1011452fe8+91250f09a0/lib:/opt/lsst/software/stack/stack/miniconda3-py38_4.9.2-6.0.0/Linux64/log/g8479130295+37bc81c514/lib:/opt/lsst/software/stack/stack/miniconda3-py38_4.9.2-6.0.0/Linux64/sphgeom/gd5d1ca8e18+f0a1800e64/lib:/opt/lsst/software/stack/stack/miniconda3-py38_4.9.2-6.0.0/Linux64/geom/g3f8e1907dc+7442544851/lib:/opt/lsst/software/stack/stack/miniconda3-py38_4.9.2-6.0.0/Linux64/pex_config/g38189d092c+b66847d792/lib:/opt/lsst/software/stack/stack/miniconda3-py38_4.9.2-6.0.0/Linux64/pex_exceptions/g131b30d954+f6e951a35a/lib:/opt/lsst/software/stack/stack/miniconda3-py38_4.9.2-6.0.0/Linux64/base/gca804b0f43+f0a1800e64/lib:/opt/lsst/software/stack/stack/miniconda3-py38_4.9.2-6.0.0/Linux64/cpputils/g4e8ce4af8a+d61c1479ad/lib:/opt/lsst/software/stack/stack/miniconda3-py38_4.9.2-6.0.0/Linux64/daf_base/g3a7e09fba3+647ad2b4cc/lib:/opt/lsst/software/stack/stack/miniconda3-py38_4.9.2-6.0.0/Linux64/afw/g2c743f43ab+e249109434/lib:/opt/lsst/software/stack/stack/miniconda3-py38_4.9.2-6.0.0/Linux64/cp_pipe/g2b0655198b+b2137dc517/lib:/opt/lsst/software/stack/stack/miniconda3-py38_4.9.2-6.0.0/Linux64/jointcal_cholmod/ga68e3ac08d+f0a1800e64/lib:/opt/lsst/software/stack/stack/miniconda3-py38_4.9.2-6.0.0/Linux64/jointcal/g93dcef90ea+d556f2ceff/lib:/opt/lsst/software/stack/stack/miniconda3-py38_4.9.2-6.0.0/Linux64/obs_subaru/gaf08615ecc+d00795c751/lib:/opt/lsst/software/stack/stack/miniconda3-py38_4.9.2-6.0.0/Linux64/ctrl_bps_parsl/g5198779c74+4d974ecb53/lib:/opt/lsst/software/stack/stack/miniconda3-py38_4.9.2-6.0.0/Linux64/meas_extensions_simpleShape/g498fc93c42+8a5c8fccd2/lib:/opt/lsst/software/stack/stack/miniconda3-py38_4.9.2-6.0.0/Linux64/psfex/g57437a15a7+f0a1800e64/lib:/opt/lsst/software/stack/stack/miniconda3-py38_4.9.2-6.0.0/Linux64/meas_extensions_psfex/g08c5a6d447+76108a4ea9/lib:/opt/lsst/software/stack/stack/miniconda3-py38_4.9.2-6.0.0/Linux64/meas_extensions_piff/g2aea266057+038a6eaf3f/lib:/opt/lsst/software/stack/stack/miniconda3-py38_4.9.2-6.0.0/Linux64/meas_extensions_photometryKron/g1e66b94187+038a6eaf3f/lib:/opt/lsst/software/stack/stack/miniconda3-py38_4.9.2-6.0.0/Linux64/ip_isr/gcba2a62c5a+038a6eaf3f/lib:/opt/lsst/software/stack/stack/miniconda3-py38_4.9.2-6.0.0/Linux64/meas_extensions_shapeHSM/g65112ec721+038a6eaf3f/lib:/opt/lsst/software/stack/stack/miniconda3-py38_4.9.2-6.0.0/Linux64/meas_extensions_trailedSources/g883b199ddb+8a5c8fccd2/lib:/opt/lsst/software/stack/stack/miniconda3-py38_4.9.2-6.0.0/Linux64/meas_astrom/g51277c4d12+038a6eaf3f/lib:/opt/lsst/software/stack/stack/miniconda3-py38_4.9.2-6.0.0/Linux64/ip_diffim/g41be43c305+0e4ba543ab/lib:/opt/lsst/software/stack/stack/miniconda3-py38_4.9.2-6.0.0/Linux64/coadd_utils/g67c5445c93+398098d96d/lib:/opt/lsst/software/stack/stack/miniconda3-py38_4.9.2-6.0.0/Linux64/shapelet/gd4112516d0+398098d96d/lib:/opt/lsst/software/stack/stack/miniconda3-py38_4.9.2-6.0.0/Linux64/meas_modelfit/g807e3ba568+3ba857e06e/lib:/opt/lsst/software/stack/stack/miniconda3-py38_4.9.2-6.0.0/Linux64/meas_base/g91d91042f5+912993bbc5/lib:/opt/lsst/software/stack/stack/miniconda3-py38_4.9.2-6.0.0/Linux64/meas_algorithms/g47bb462cdc+8a5c8fccd2/lib:/opt/lsst/software/stack/stack/miniconda3-py38_4.9.2-6.0.0/Linux64/meas_deblender/g2526fcf3cb+9c72450b1d/lib:/usr/local/lib64:/home/leanne/local/MultiNest/lib\n"
     ]
    }
   ],
   "source": [
    "import os\n",
    "print(os.getenv('LD_LIBRARY_PATH'))"
   ]
  },
  {
   "cell_type": "code",
   "execution_count": 2,
   "id": "a17e9519-1488-4ab4-854e-51e1baf5dd4e",
   "metadata": {
    "execution": {
     "iopub.execute_input": "2023-07-27T19:35:38.693178Z",
     "iopub.status.busy": "2023-07-27T19:35:38.692989Z",
     "iopub.status.idle": "2023-07-27T19:35:40.897945Z",
     "shell.execute_reply": "2023-07-27T19:35:40.897060Z",
     "shell.execute_reply.started": "2023-07-27T19:35:38.693161Z"
    },
    "tags": []
   },
   "outputs": [
    {
     "name": "stdout",
     "output_type": "stream",
     "text": [
      "Bagpipes: Latex distribution not found, plots may look strange.\n"
     ]
    }
   ],
   "source": [
    "import bagpipes as pipes"
   ]
  }
 ],
 "metadata": {
  "kernelspec": {
   "display_name": "LSST",
   "language": "python",
   "name": "lsst"
  },
  "language_info": {
   "codemirror_mode": {
    "name": "ipython",
    "version": 3
   },
   "file_extension": ".py",
   "mimetype": "text/x-python",
   "name": "python",
   "nbconvert_exporter": "python",
   "pygments_lexer": "ipython3",
   "version": "3.10.10"
  }
 },
 "nbformat": 4,
 "nbformat_minor": 5
}
