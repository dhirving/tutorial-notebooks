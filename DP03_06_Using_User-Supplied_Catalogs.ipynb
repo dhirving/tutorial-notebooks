{
 "cells": [
  {
   "cell_type": "markdown",
   "id": "749b0ddf",
   "metadata": {},
   "source": [
    "<img align=\"left\" src = https://project.lsst.org/sites/default/files/Rubin-O-Logo_0.png width=250 style=\"padding: 10px\"> \n",
    "<br><b>Using User-supplied Catalogs</b> <br>\n",
    "Contact authors: Yumi Choi <br>\n",
    "Last verified to run: 2024-05-24 <br>\n",
    "LSST Science Piplines version: Weekly 2024_16 <br>\n",
    "Container Size: small <br>\n",
    "Targeted learning level: Beginner <br>"
   ]
  },
  {
   "cell_type": "markdown",
   "id": "9da1a210-d858-42fe-8591-570965b8be1a",
   "metadata": {},
   "source": [
    "**Description:** Demonstrates a functionality for user-uploaded tables and their use in queries for DP0.3 "
   ]
  },
  {
   "cell_type": "markdown",
   "id": "80a0baf5-51ad-40ec-8991-060a7b27c289",
   "metadata": {},
   "source": [
    "**Skills:** Use the TAP service to access the DP0.3 tables, Upload user-supplied tables and retreived tables from the Gaia ESA Archive center using the TAP upload feature, Use them in ADQL. "
   ]
  },
  {
   "cell_type": "markdown",
   "id": "393da88f-7978-4920-aa4a-a9830df6eed9",
   "metadata": {},
   "source": [
    "**LSST Data Products:** TAP tables dp03_catalogs_10yr.SSObject, dp03_catalogs_10yr.MPCORB, dp03_catalogs_10yr.DiaSource, dp03_catalogs_10yr.SSSource"
   ]
  },
  {
   "cell_type": "markdown",
   "id": "5c67fab9-136a-4adc-bb42-142b91ab69dd",
   "metadata": {},
   "source": [
    "**Packages:** `lsst.rsp.get_tap_service`"
   ]
  },
  {
   "cell_type": "markdown",
   "id": "8f72b27f",
   "metadata": {},
   "source": [
    "**Credit:**\n",
    "Developed by Yumi Choi. This tutorial is based on <a href=\"https://dp0-3.lsst.io/tutorials-dp0-3/portal-dp0-3-5.html\">a Portal tutorial</a> by Christina Williams for using user-supplied tables in queries for DP0.3 and <a href=\"https://github.com/rubin-dp0/cst-dev/blob/main/MLG_sandbox/DP03/gaia_hack_day_Feb2024.ipynb\">a Jupyter Notebook</a> by Melissan Graham and Jake Kurlander for accessing Gaia data and matching with DP0.3 data for solar system objects."
   ]
  },
  {
   "cell_type": "markdown",
   "id": "a400d1bb-e1ec-4160-bd41-bc7ca953a97c",
   "metadata": {
    "execution": {
     "iopub.execute_input": "2023-07-27T17:55:39.523317Z",
     "iopub.status.busy": "2023-07-27T17:55:39.522902Z",
     "iopub.status.idle": "2023-07-27T17:55:40.035942Z",
     "shell.execute_reply": "2023-07-27T17:55:40.034503Z",
     "shell.execute_reply.started": "2023-07-27T17:55:39.523290Z"
    },
    "tags": []
   },
   "source": [
    "**Get Support:** Find DP0.3-related documentation and resources at <a href=\"https://dp0-3.lsst.io\">dp0-3.lsst.io</a>. Questions are welcome as new topics in the <a href=\"https://community.lsst.org/c/support/dp0\">Support - Data Preview 0 Category</a> of the Rubin Community Forum. Rubin staff will respond to all questions posted there."
   ]
  },
  {
   "attachments": {},
   "cell_type": "markdown",
   "id": "cfc73be0",
   "metadata": {
    "tags": []
   },
   "source": [
    "## 1. Introduction\n",
    "\n",
    "This notebook illustrates the process of uploading user-provided tables via the TAP service and integrating them into queries for DP0.3. It focuses on two types of user-provided tables: (1) tables generated outside the RSP, and (2) tables created within the RSP but retrieved from an external database using [PyVO](https://github.com/astropy/pyvo)."
   ]
  },
  {
   "cell_type": "markdown",
   "id": "5bf722b4-8227-441f-9f3e-0f8140040fc1",
   "metadata": {
    "tags": []
   },
   "source": [
    "### 1.1 Package imports\n",
    "\n",
    "Import general python packages and the Rubin Table Access Protocol (TAP) service utilities.\n",
    "\n",
    "The `PyVO` is a package providing access to remote data and services of the Virtual observatory (VO) using Python."
   ]
  },
  {
   "cell_type": "code",
   "execution_count": null,
   "id": "4d4078a1-8232-4f11-97ec-2a67ca19308e",
   "metadata": {},
   "outputs": [],
   "source": [
    "import matplotlib.pyplot as plt\n",
    "import numpy as np\n",
    "import getpass\n",
    "import pyvo\n",
    "from astropy.table import Table\n",
    "import pandas as pd\n",
    "\n",
    "from lsst.rsp import get_tap_service"
   ]
  },
  {
   "cell_type": "markdown",
   "id": "c217adff-25ed-4fce-95e7-8aa04630f6cc",
   "metadata": {},
   "source": [
    "### 1.2 Define parameters and get the path to the home directory"
   ]
  },
  {
   "cell_type": "markdown",
   "id": "8a4a8b3b-91cf-4729-a707-99b7b11a5b8d",
   "metadata": {},
   "source": [
    "#### 1.2.1 Set up some plotting defaults"
   ]
  },
  {
   "cell_type": "code",
   "execution_count": null,
   "id": "c780a382-5c5e-4f20-9ffd-7aa517c37146",
   "metadata": {
    "tags": []
   },
   "outputs": [],
   "source": [
    "plt.style.use('tableau-colorblind10')\n",
    "params = {'axes.labelsize': 15,\n",
    "          'font.size': 15,\n",
    "          'legend.fontsize': 12}\n",
    "plt.rcParams.update(params)"
   ]
  },
  {
   "cell_type": "markdown",
   "id": "12ab5a66-b37d-4a3b-b207-b95a68c7a7a7",
   "metadata": {},
   "source": [
    "#### 1.2.2 Get the path to the home directory"
   ]
  },
  {
   "cell_type": "code",
   "execution_count": null,
   "id": "f60d078e-a8b1-4925-8368-fe41064a1fa4",
   "metadata": {},
   "outputs": [],
   "source": [
    "my_username = getpass.getuser()\n",
    "my_home_dir = '/home/' + my_username + '/'\n",
    "print(my_home_dir)"
   ]
  },
  {
   "cell_type": "markdown",
   "id": "ec51ac0b",
   "metadata": {
    "tags": []
   },
   "source": [
    "## 2. Load a user-supplied table of coordinates for use in cone searches\n",
    "\n",
    "The same example table for cone searches used in <a href=\"https://dp0-3.lsst.io/tutorials-dp0-3/portal-dp0-3-5.html\">this Portal tutorial</a> is stored in the local `data/` directory. \n",
    "\n",
    "### 2.1 Create the Rubin TAP service client\n",
    "\n",
    "Get an instance of the `LSST TAP` service, and assert that it exists."
   ]
  },
  {
   "cell_type": "code",
   "execution_count": null,
   "id": "81b8cd59-1ba3-4eaa-846f-6478ed0c3cf5",
   "metadata": {
    "tags": []
   },
   "outputs": [],
   "source": [
    "lsst_tap = get_tap_service(\"ssotap\")\n",
    "assert lsst_tap is not None"
   ]
  },
  {
   "cell_type": "markdown",
   "id": "bf968de5-ce59-41c9-88f0-83cd88bdc083",
   "metadata": {},
   "source": [
    "### 2.2 Read and upload a user-supplied table of coordinates and execute cone searches against the `diaSource` table using a 10'' search radius"
   ]
  },
  {
   "cell_type": "code",
   "execution_count": null,
   "id": "220c90e6-5399-46c4-a1dc-49219c7f46fd",
   "metadata": {},
   "outputs": [],
   "source": [
    "t_cat_1 = Table.read('./data/portal_tut05_useruploadcat1.cat', format='ascii.basic')"
   ]
  },
  {
   "cell_type": "code",
   "execution_count": null,
   "id": "184ee9e9-c038-4aad-bbe1-87367794e63d",
   "metadata": {},
   "outputs": [],
   "source": [
    "query = \"\"\"\n",
    "    SELECT dia.ra, dia.dec, dia.midPointMjdTai, dia.ssObjectId, ut.ra, ut.dec\n",
    "    FROM dp03_catalogs_10yr.DiaSource AS dia, TAP_UPLOAD.t1 AS ut\n",
    "    WHERE CONTAINS(POINT('ICRS', dia.ra, dia.dec), \n",
    "    CIRCLE('ICRS', ut.ra, ut.dec, 0.002777777777777778))=1\n",
    "    ORDER BY dia.ssObjectId\n",
    "    \"\"\"\n",
    "\n",
    "results = lsst_tap.search(query, uploads={\"t1\": t_cat_1}).to_table()\n",
    "results"
   ]
  },
  {
   "cell_type": "markdown",
   "id": "476b0ef8-a1d8-4cfb-b408-715949807ae0",
   "metadata": {},
   "source": [
    "For a quick sanity check, create a plot showing the differences in right ascension ($\\Delta$ra) and declination ($\\Delta$dec). Expect both $\\Delta$ra and $\\Delta$dec to be less than 0.002777777777777778 degrees (or 10'')."
   ]
  },
  {
   "cell_type": "code",
   "execution_count": null,
   "id": "d3bede14-c8f1-41b2-987a-bb00343668a2",
   "metadata": {},
   "outputs": [],
   "source": [
    "plt.scatter(results['ra']-results['ra2'], results['dec']-results['dec2'])\n",
    "plt.xlabel(r'$\\Delta$ra [deg]')\n",
    "plt.ylabel(r'$\\Delta$dec [deg]')\n",
    "plt.show()"
   ]
  },
  {
   "cell_type": "markdown",
   "id": "94714005-d795-48ea-b80a-2885c09b21e3",
   "metadata": {},
   "source": [
    "## 3. ADQL table join with a user-supplied table of SSObject IDs\n",
    "\n",
    "This section demonstrates how to upload a user-supplied table and join it with a DP0.3 table using a list of SSObjectIds. The same example table of SSObjectIds used in Step 2 of <a href=\"https://dp0-3.lsst.io/tutorials-dp0-3/portal-dp0-3-5.html\">this Portal tutorial</a> is stored in the local `data/` directory. The table includes two SSObjectIds."
   ]
  },
  {
   "cell_type": "markdown",
   "id": "40c839dd-80a3-4c7e-8255-ddeb01a92fba",
   "metadata": {},
   "source": [
    "### 3.1 Read and upload a user-supplied table of SSObject IDs and execute query against the `diaSource` table"
   ]
  },
  {
   "cell_type": "code",
   "execution_count": null,
   "id": "04ceaa25-e7a4-4e7d-a2bd-3750bf188d05",
   "metadata": {
    "tags": []
   },
   "outputs": [],
   "source": [
    "t_cat_2 = Table.read('./data/portal_tut05_useruploadcat2.cat', format='ascii.basic')"
   ]
  },
  {
   "cell_type": "code",
   "execution_count": null,
   "id": "a50aa52c-30d6-48d6-9567-551f5370a64b",
   "metadata": {},
   "outputs": [],
   "source": [
    "query = \"\"\"\n",
    "    SELECT ut2.ssObjectId_user, dia.ssObjectId, dia.ra, dia.dec\n",
    "    FROM TAP_UPLOAD.t2 as ut2\n",
    "    INNER JOIN dp03_catalogs_10yr.diaSource as dia\n",
    "    ON ut2.ssObjectId_user = dia.ssObjectId\n",
    "    \"\"\"\n",
    "\n",
    "results = lsst_tap.search(query, uploads={\"t2\": t_cat_2}).to_table()\n",
    "results"
   ]
  },
  {
   "cell_type": "code",
   "execution_count": null,
   "id": "36797086-6eab-4067-946d-1b578ec0b7b4",
   "metadata": {},
   "outputs": [],
   "source": [
    "uniqIds = np.unique(results['ssObjectId'])\n",
    "print('Confirm that %d matched unique objects are returned.' % (len(uniqIds)))"
   ]
  },
  {
   "cell_type": "markdown",
   "id": "0d66aa55-aca3-4703-a6a1-376b9fdb5da8",
   "metadata": {
    "execution": {
     "iopub.execute_input": "2024-05-07T05:18:45.699109Z",
     "iopub.status.busy": "2024-05-07T05:18:45.698800Z",
     "iopub.status.idle": "2024-05-07T05:18:45.704297Z",
     "shell.execute_reply": "2024-05-07T05:18:45.703757Z",
     "shell.execute_reply.started": "2024-05-07T05:18:45.699088Z"
    }
   },
   "source": [
    "For a quick sanity check, create a plot showing sky distribution of these two unique objects over 10 years."
   ]
  },
  {
   "cell_type": "code",
   "execution_count": null,
   "id": "4b6651e9-4f82-47d7-80a6-a863a9702fd1",
   "metadata": {},
   "outputs": [],
   "source": [
    "for i in uniqIds:\n",
    "    add = results['ssObjectId'] == i\n",
    "    plt.scatter(results['ra'][add], results['dec'][add], \n",
    "                label='ssObjectId:'+str(i))\n",
    "plt.xlabel('ra [deg]')\n",
    "plt.ylabel('dec [deg]')\n",
    "plt.legend()\n",
    "plt.show()"
   ]
  },
  {
   "cell_type": "markdown",
   "id": "28a8f930-4423-4677-aa35-42faa2300019",
   "metadata": {},
   "source": [
    "## 4. Gaia data for DP0.3 asteroids\n",
    "\n",
    "The previous two sections describe the cases of pre-exist user-supplied tables. This section demonstrates how to retrieve an external table, as an example, from the Gaia Archive, using `PyVO` in real time within the RSP and upload the table to use in a joint query with the LSST database. This allows you to directly access to external databases, if they provide a TAP service URL, and use them within the RSP. For example, <a href=\"https://datalab.noirlab.edu\">Data Lab</a> TAP service URL is: https://datalab.noirlab.edu/tap. "
   ]
  },
  {
   "cell_type": "markdown",
   "id": "7bbad6ce-afde-44a4-9c1d-77e5074d67b4",
   "metadata": {},
   "source": [
    "### 4.1 Access to Gaia database and retrieve Gaia data for main-belt asteroids (MBAs)\n",
    "\n",
    "Get an instance of the `Gaia TAP` service using `PyVO`, and assert that it exists."
   ]
  },
  {
   "cell_type": "code",
   "execution_count": null,
   "id": "b7644df2-4ac8-466a-83f8-7a896258f4fd",
   "metadata": {},
   "outputs": [],
   "source": [
    "gaia_tap_url = 'https://gea.esac.esa.int/tap-server/tap'\n",
    "gaia_tap = pyvo.dal.TAPService(gaia_tap_url)\n",
    "assert gaia_tap is not None\n",
    "assert gaia_tap.baseurl == gaia_tap_url"
   ]
  },
  {
   "cell_type": "markdown",
   "id": "e1f90a3b-db1f-41c7-bd48-d53d5584068f",
   "metadata": {},
   "source": [
    "Query MBAs from the Gaia database following the population definition used by the JPL Horizons small body database query tool (https://ssd.jpl.nasa.gov/tools/sbdb_query.html): 2.0 < `a` < 3.25 au and `q` > 1.666 au. To expedite the query, restrict the number of observations to be more than 200 and the number of objects to retrieve to 1000. Save the result table in a pandas DataFrame to faciliate string modification in the following steps."
   ]
  },
  {
   "cell_type": "code",
   "execution_count": null,
   "id": "1c7a64ae-e845-42c8-9f1c-d1c85b7cf99e",
   "metadata": {},
   "outputs": [],
   "source": [
    "Nobj = 1000\n",
    "\n",
    "query = \"\"\"\n",
    "    SELECT TOP {} denomination, inclination,\n",
    "           eccentricity, semi_major_axis\n",
    "    FROM gaiadr3.sso_orbits\n",
    "    WHERE num_observations > 200\n",
    "    AND semi_major_axis > 2.0\n",
    "    AND semi_major_axis < 3.2 \n",
    "    AND semi_major_axis*(1-eccentricity) > 1.666\n",
    "    \"\"\".format(Nobj)\n",
    "\n",
    "t_gaia = gaia_tap.search(query).to_table().to_pandas()\n",
    "t_gaia"
   ]
  },
  {
   "cell_type": "markdown",
   "id": "13ea1769-d3ad-47e3-a8ee-2d50db607ec4",
   "metadata": {},
   "source": [
    "Make plots showing eccentricity (`e`) and inclination (`i`) against semi-major axis (`a`) of the retrived MBAs. These plots should resemble the second figure in Section 2.2.2 of the notebook tutorial: <a href=\"https://github.com/rubin-dp0/tutorial-notebooks/blob/main/DP03_02_Main_Belt_Asteroids.ipynb\">DP03_02_Main_Belt_Astetroids.ipynb</a>."
   ]
  },
  {
   "cell_type": "code",
   "execution_count": null,
   "id": "786b5319-f458-4c9b-8b75-c0d0c22eeff8",
   "metadata": {},
   "outputs": [],
   "source": [
    "fig = plt.figure(figsize=(13, 5))\n",
    "\n",
    "plt.subplot(121)\n",
    "plt.scatter(t_gaia['semi_major_axis'], t_gaia['eccentricity'], \n",
    "            s=3, alpha=0.3)\n",
    "plt.xlabel('a [au]')\n",
    "plt.ylabel('e')\n",
    "\n",
    "plt.subplot(122)\n",
    "plt.scatter(t_gaia['semi_major_axis'], np.sin(t_gaia['inclination']), \n",
    "            s=3, alpha=0.3)\n",
    "plt.xlabel('a [au]')\n",
    "plt.ylabel(r'sin($i$)')\n",
    "plt.show()"
   ]
  },
  {
   "cell_type": "markdown",
   "id": "37e5c09f-3333-49ad-b26e-acb3c25a6889",
   "metadata": {},
   "source": [
    "The `MPCORB` table in DP0.3 follows the standard format for MPC designation, which is the year, then a space, and then an identifier that is several characters, capital letters and numbers. The `denomination` in some Gaia tables uses underscores instead of spaces and/or lower-case letters instead of capital letters. Thus, the `denomination` column needs to be converted to the standard MPC designation format."
   ]
  },
  {
   "cell_type": "code",
   "execution_count": null,
   "id": "78eaedd6-a954-494c-bf1b-b7417a5311ab",
   "metadata": {},
   "outputs": [],
   "source": [
    "t_gaia['mpc_desig1'] = t_gaia['denomination'].str.replace('_', ' ').str.upper()\n",
    "t_gaia['mpc_desig2'] = t_gaia['denomination'].str.replace('_', ' ')\n",
    "t_gaia"
   ]
  },
  {
   "cell_type": "markdown",
   "id": "74a10b29-be39-4de0-adae-eff499aab84c",
   "metadata": {},
   "source": [
    "Save the result as a csv file in `my_home_dir` for the next step as well as for any follow-up analysis in the future. This is optional. "
   ]
  },
  {
   "cell_type": "code",
   "execution_count": null,
   "id": "ce31ab29-ce68-429a-b391-1c23fc467e91",
   "metadata": {},
   "outputs": [],
   "source": [
    "# t_gaia.to_csv(my_home_dir+'gaia_mba.cat', index=False)"
   ]
  },
  {
   "cell_type": "markdown",
   "id": "af945265-bfe6-40c0-86dc-b5232a103af3",
   "metadata": {},
   "source": [
    "### 4.2 Upload the Gaia table and Join with DP0.3 tables\n",
    "\n",
    "The TAP service does not accept uploads in a Pandas DataFrame format. Thus, conversion to an Astropy Table is needed."
   ]
  },
  {
   "cell_type": "code",
   "execution_count": null,
   "id": "a3422b55-7f4d-44ea-b1d2-0cd78a2bb569",
   "metadata": {},
   "outputs": [],
   "source": [
    "t_cat_3 = Table.from_pandas(t_gaia)\n",
    "t_cat_3.dtype"
   ]
  },
  {
   "cell_type": "markdown",
   "id": "e6053f80-5dab-457a-b89b-8e5132c67bdf",
   "metadata": {},
   "source": [
    "Uploading a table including a column(s) with the dtype of the Unicode string does not work. Converting unicode columns (dtype.kind='U') to bytestring (dtype.kind='S') using the `convert_unicde_to_bytestring` method is required."
   ]
  },
  {
   "cell_type": "code",
   "execution_count": null,
   "id": "9411d0f0-434f-410d-838e-110a83dd6575",
   "metadata": {},
   "outputs": [],
   "source": [
    "t_cat_3.convert_unicode_to_bytestring()"
   ]
  },
  {
   "cell_type": "code",
   "execution_count": null,
   "id": "bd1b8d0e-e598-4027-a88c-9dd237c9fd42",
   "metadata": {},
   "outputs": [],
   "source": [
    "query = \"\"\"\n",
    "    SELECT mpc.mpcDesignation, mpc.ssObjectId,\n",
    "           ut3.denomination, ut3.mpc_desig2,\n",
    "           dia.ssObjectId, dia.midPointMjdTai, dia.mag, dia.band\n",
    "    FROM dp03_catalogs_10yr.MPCORB AS mpc\n",
    "    INNER JOIN TAP_UPLOAD.t3 as ut3\n",
    "    ON ut3.mpc_desig1 = mpc.mpcDesignation\n",
    "    INNER JOIN dp03_catalogs_10yr.DiaSource as dia\n",
    "    ON dia.ssObjectId = mpc.ssObjectId\n",
    "    Where dia.band = 'g'\n",
    "    \"\"\"\n",
    "\n",
    "t_lsst = lsst_tap.search(query, uploads={\"t3\": t_cat_3}).to_table()"
   ]
  },
  {
   "cell_type": "markdown",
   "id": "ecc33d2d-b7fc-46a0-86f8-4efa45f0f936",
   "metadata": {},
   "source": [
    "Select one random asteroid and save its data entry as a small table called `random_mba`."
   ]
  },
  {
   "cell_type": "code",
   "execution_count": null,
   "id": "9fb292f4-55aa-417f-a872-e6e3829277be",
   "metadata": {},
   "outputs": [],
   "source": [
    "uniqueObj = np.random.choice(t_lsst['ssObjectId'], 1)[0]\n",
    "print(uniqueObj)\n",
    "random_mba = t_lsst[t_lsst['ssObjectId'] == uniqueObj]"
   ]
  },
  {
   "cell_type": "markdown",
   "id": "9b45e4f7-acf5-463c-8120-58955f0e2111",
   "metadata": {},
   "source": [
    "Retrieve Gaia individual observations for the selected asteroid. \n",
    "\n",
    "Occasionally, the following error message may occur: 'DALServiceError: 401 Client Error: 401 for url: https://gea.esac.esa.int/tap-server/tap/sync'. To avoid it, get an instance of the `Gaia TAP` service again before running the query below."
   ]
  },
  {
   "cell_type": "code",
   "execution_count": null,
   "id": "75ac700b-ee9c-4523-803c-91df0442161d",
   "metadata": {},
   "outputs": [],
   "source": [
    "gaia_tap_url = 'https://gea.esac.esa.int/tap-server/tap'\n",
    "gaia_tap = pyvo.dal.TAPService(gaia_tap_url)\n",
    "assert gaia_tap is not None\n",
    "assert gaia_tap.baseurl == gaia_tap_url"
   ]
  },
  {
   "cell_type": "code",
   "execution_count": null,
   "id": "6f5555f5-2ffa-43bf-b356-39525ad4e96a",
   "metadata": {},
   "outputs": [],
   "source": [
    "query = \"\"\"\n",
    "    SELECT epoch_utc, g_mag\n",
    "    FROM gaiadr3.sso_observation\n",
    "    WHERE denomination = '{}'\n",
    "    \"\"\".format(random_mba['mpc_desig2'][0])\n",
    "\n",
    "t_gaia_obs = gaia_tap.search(query).to_table()"
   ]
  },
  {
   "cell_type": "markdown",
   "id": "9bdafd75-62d8-42c0-af2d-41b7e15909c2",
   "metadata": {},
   "source": [
    "Convert Universal Time Coordinated (UTC) observation date to Modified Julian Date (MJD) observation date.\n",
    "\n",
    "From the [documentation](https://gea.esac.esa.int/archive/documentation/GDR2/Gaia_archive/chap_datamodel/sec_dm_sso_tables/ssec_dm_sso_observation.html), `epoch_utc` is the Gaiacentric epoch UTC, while the LSST records observing time in MJD. The conversion is MJD = UTC + 55197.5 (day)."
   ]
  },
  {
   "cell_type": "code",
   "execution_count": null,
   "id": "a9cbe7ba-d81c-4d0c-98a1-4496ed1009d4",
   "metadata": {},
   "outputs": [],
   "source": [
    "t_gaia_obs['epoch_mjd'] = t_gaia_obs['epoch_utc'] + 55197.5"
   ]
  },
  {
   "cell_type": "markdown",
   "id": "d80558ce-b77b-4840-9423-9243bcc251c0",
   "metadata": {},
   "source": [
    "Plot the `g`-band light curve for the selected asteroid."
   ]
  },
  {
   "cell_type": "code",
   "execution_count": null,
   "id": "794fc254-9063-49da-9cde-580bce4ca65b",
   "metadata": {},
   "outputs": [],
   "source": [
    "fig = plt.figure(figsize=(6, 4))\n",
    "plt.plot(t_gaia_obs['epoch_mjd'], t_gaia_obs['g_mag'],\n",
    "         'o', color='cyan', label='Gaia G')\n",
    "plt.plot(random_mba['midPointMjdTai'], random_mba['mag'],\n",
    "         'o', color='dodgerblue', label='LSST g')\n",
    "ymin = min(t_gaia_obs['g_mag'].min(), min(random_mba['mag']))\n",
    "ymax = max(t_gaia_obs['g_mag'].max(), min(random_mba['mag']))\n",
    "plt.ylim(ymax+0.1, ymin-0.1)\n",
    "plt.legend(loc='upper left')\n",
    "plt.xlabel('MJD')\n",
    "plt.ylabel('mag')\n",
    "plt.title(random_mba['mpcDesignation'][0])\n",
    "plt.show()"
   ]
  },
  {
   "cell_type": "markdown",
   "id": "f880c4d0-6ffc-49e9-86f2-95f1b698e279",
   "metadata": {},
   "source": [
    "## 5. Excercises for the learner\n",
    "\n",
    "1. Generate your own user table, perform a spatial and temporal search of the DiaSource table to look for a sample of solar system bodies observed in a specific part of the sky at a specific time. Save the query result table, and use it to search the SSSource table for all observations that exist, by matching on SSObjectId."
   ]
  }
 ],
 "metadata": {
  "kernelspec": {
   "display_name": "LSST",
   "language": "python",
   "name": "lsst"
  },
  "language_info": {
   "codemirror_mode": {
    "name": "ipython",
    "version": 3
   },
   "file_extension": ".py",
   "mimetype": "text/x-python",
   "name": "python",
   "nbconvert_exporter": "python",
   "pygments_lexer": "ipython3",
   "version": "3.11.7"
  },
  "toc-autonumbering": false
 },
 "nbformat": 4,
 "nbformat_minor": 5
}
