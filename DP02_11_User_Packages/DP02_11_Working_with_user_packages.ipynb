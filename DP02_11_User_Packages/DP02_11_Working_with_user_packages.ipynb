{
 "cells": [
  {
   "cell_type": "markdown",
   "id": "2f0883bc-6272-451a-8b50-9184e2248954",
   "metadata": {},
   "source": [
    "<img align=\"left\" src = https://project.lsst.org/sites/default/files/Rubin-O-Logo_0.png width=250 style=\"padding: 10px\"> \n",
    "<br><b>Working with user installed packages</b> <br>\n",
    "Contact author(s): Leanne Guy, Douglas Tucker <br>\n",
    "Last verified to run: 2024-02-27<br>\n",
    "LSST Science Piplines version: Weekly 2024_04<br>\n",
    "Container size: medium <br>\n",
    "Targeted learning level: beginner <br>"
   ]
  },
  {
   "cell_type": "markdown",
   "id": "c4778164-58f3-4e2a-bf64-341240b01eac",
   "metadata": {},
   "source": [
    "**Description:** Install and set up user packages that require building libraries and a modification to the LD_LIBRARY_PATH so that they can be used in a notebook.\n",
    "\n",
    "**Skills:** Installing sofware, building libraries, and modifying paths.\n",
    "\n",
    "**LSST Data Products:** N/A\n",
    "\n",
    "**Packages:** os, bagpipes, PyMultiNest, MultiNest, PyCuba, Cuba, astroML\n",
    "\n",
    "**Credit:** Created by Leanne Guy, with some additional material supplied by Douglas Tucker.\n",
    "\n",
    "**Get Support:**\n",
    "Find DP0-related documentation and resources at <a href=\"https://dp0-2.lsst.io\">dp0-2.lsst.io</a>. Questions are welcome as new topics in the <a href=\"https://community.lsst.org/c/support/dp0\">Support - Data Preview 0 Category</a> of the Rubin Community Forum. Rubin staff will respond to all questions posted there."
   ]
  },
  {
   "cell_type": "markdown",
   "id": "411f6ec8-cb72-4964-9b6e-115b49c50d3a",
   "metadata": {},
   "source": [
    "# 1. Install user packages \n",
    "\n",
    "For this example, the <a href=\"https://bagpipes.readthedocs.io/en/latest/\">bagpipes</a> package and the dependencies described at \n",
    "[PyMultiNest](https://github.com/JohannesBuchner/PyMultiNest/blob/master/doc/install.rst) \n",
    "are installed.\n",
    "\n",
    "Open a terminal in the Notebook Aspect of the RSP to execute the commands in this section.\n",
    "\n",
    "## 1.1 Install the bagpipes package with pip\n",
    "\n",
    "Copy-paste and execute the following at the terminal command line.\n",
    "\n",
    "```\n",
    "pip install --user bagpipes\n",
    "```\n",
    "\n",
    "The message should be: ```Successfully installed bagpipes-1.0.2 corner-2.2.2 pymultinest-2.11 spectres-2.2.0```."
   ]
  },
  {
   "cell_type": "markdown",
   "id": "f96423d3-3805-41c6-af97-19c063113c2f",
   "metadata": {},
   "source": [
    "## 1.2 Install and build the MultiNest package \n",
    "\n",
    "The bagpipes package depends on MultiNest.\n",
    "\n",
    "PyMultiNest is a Python interface for MultiNest. \n",
    "The MultiNest package itself is not included. \n",
    "\n",
    "Before the bagpipes package can be used, the MultiNest package must be installed, \n",
    "and the environment of the LSST kernel updated.\n",
    "\n",
    "Packages can be installed in a ```~/local``` directory, or in a preferred equivalent, \n",
    "if the user has already installed other user packages into another directory in their  \n",
    "user area on the RSP.  (For instance, other popular choices for a directory of\n",
    "user-installed packages include ```~/.local``` or ```~/software```.)\n",
    "\n",
    "Check if the ```~/local``` directory (or a preferred equivalent) already exists, \n",
    "by attempting to list it using the terminal command line; _e.g._:\n",
    "\n",
    "```\n",
    "ls ~/local\n",
    "```\n",
    "\n",
    "If the message \"cannot access\" is returned, create the directory using the terminal command line; _e.g._:\n",
    "\n",
    "```\n",
    "mkdir ~/local\n",
    "```\n",
    "\n",
    "Once a ```~/local``` directory (or its equivalent) has been determined to exist, execute the following, one by one, from the terminal command line.\n",
    "\n",
    "```\n",
    "cd ~/local\n",
    "git clone https://github.com/JohannesBuchner/MultiNest\n",
    "cd MultiNest/build\n",
    "cmake ..\n",
    "make\n",
    "```"
   ]
  },
  {
   "cell_type": "markdown",
   "id": "3f9fbecb-237c-4982-a73d-2a57e12a476f",
   "metadata": {},
   "source": [
    "_**Important: For the rest of this notebook, it will be assumed that the local package directory \n",
    "is called ```~/local``` (or, equivalently, ```${HOME}/local```).  \n",
    "If using a different name for the local package directory, please replace ```~/local``` \n",
    "(```${HOME}/local```) in the following commands with the correct local package directory name.**_"
   ]
  },
  {
   "cell_type": "markdown",
   "id": "0cd20249-93cc-4638-b366-b3db5e35932b",
   "metadata": {},
   "source": [
    "## 1.3 Update the local environment\n",
    "\n",
    "The `LD_LIBRARY_PATH` environment variable must now be updated to point to the MultiNest lib directory \n",
    "in both the  `.bashrc` (in order to use bagpipes in python from the command line)\n",
    "and in the  `~/notebooks/.user_setups` (in order to use bagpipes in a notebook).\n",
    "\n",
    "### 1.3.1 Update the terminal environment\n",
    "\n",
    "In a terminal execute the following two lines, one by one.\n",
    "\n",
    "```\n",
    "export LD_LIBRARY_PATH=${LD_LIBRARY_PATH}:${HOME}/local/MultiNest/lib\n",
    "python -c 'import bagpipes as pipes'\n",
    "```\n",
    "\n",
    "This will update the terminal environment to include bagpipes.\n",
    "\n",
    "#### Option to update the .bashrc file\n",
    "\n",
    "It is optional to add the `export LD_LIBRARY_PATH` statement to the `~/.bashrc` file \n",
    "so that this is setup automatically at the time of every login.\n",
    "See below for instructions to edit hidden files like `.bashrc`.\n"
   ]
  },
  {
   "cell_type": "markdown",
   "id": "ebc2e4fe-798a-46a9-9696-25b0393913bb",
   "metadata": {
    "jp-MarkdownHeadingCollapsed": true
   },
   "source": [
    "### 1.3.2 Update the notebooks environment\n",
    "\n",
    "Edit the hidden file `~/notebooks/.user_setups` and add the following line\n",
    "in order to be able to use `bagpipes` from a notebook:\n",
    "`export LD_LIBRARY_PATH=${LD_LIBRARY_PATH}:${HOME}/local/MultiNest/lib`.\n",
    "\n",
    "**Unfamiliar with editing hidden files?**\n",
    "\n",
    "One option is to open and edit a dot-file in `emacs` or `vi` from the terminal command line,\n",
    "but this requires familiarity with `emacs` or `vi`.\n",
    "\n",
    "Another is to use a combination of the terminal, the left-hand file navigator,\n",
    "and the JupyterLab text editor, as described below.\n",
    "\n",
    " * (1) use the terminal to navigate to the directory where the file is (in this case, use `cd ~/notebooks`)\n",
    " * (2) use the terminal to copy the file to a temporary file (e.g., `cp .user_setups temp.txt`)\n",
    " * (3) use the left-hand file navigator to navigate to the `~/notebooks` directory\n",
    " * (4) in the left-hand file navigator, double click on `temp.txt` to open the file\n",
    " * (5) in the newly-opened text file, edit `temp.txt` (add the `export ... /lib` line to the bottom of the file)\n",
    " * (6) save the edited text file and close it\n",
    " * (7) use the terminal to copy/rename the file (e.g., `cp temp.txt .user_setups`)\n",
    "\n",
    "Confirm the new line appears in `~/notebooks/.user_setups` by executing \n",
    "`more ~/notebooks/.user_setups` from the terminal command line, and\n",
    "reviewing the contents of the file that is output in the terminal as a result \n",
    "of the `more` command.\n",
    "\n",
    "## 1.4 Activate the new setup\n",
    "\n",
    "Before proceeding to Section 2, restart the notebook: i.e., clear its outputs, save it, shutdown its kernel, and then restart its kernel.  In this way, the  `~/notebooks/.user_setups` file gets read and the `LD_LIBRARY_PATH` gets updated."
   ]
  },
  {
   "cell_type": "markdown",
   "id": "041bfd09-8ec3-46fe-b597-be31c7ce6c87",
   "metadata": {},
   "source": [
    "# 2. Check the environment in the notebook and use the bagpipes package\n",
    "\n",
    "Execute the next cell to inspect the ```LD_LIBRARY_PATH```. Note that the last entry should be ```${HOME}/local/MultiNest/lib``` ."
   ]
  },
  {
   "cell_type": "code",
   "execution_count": null,
   "id": "1c89f642-c2d5-482f-827c-69235058f05d",
   "metadata": {
    "tags": []
   },
   "outputs": [],
   "source": [
    "import os\n",
    "print(os.getenv('LD_LIBRARY_PATH'))"
   ]
  },
  {
   "cell_type": "markdown",
   "id": "6556723b-5b36-45e9-88ad-7b43a67becda",
   "metadata": {},
   "source": [
    "Finally, execute the following cell to ensure that the bagpipes package is indeed being imported."
   ]
  },
  {
   "cell_type": "code",
   "execution_count": null,
   "id": "a17e9519-1488-4ab4-854e-51e1baf5dd4e",
   "metadata": {
    "tags": []
   },
   "outputs": [],
   "source": [
    "import bagpipes as pipes"
   ]
  },
  {
   "cell_type": "markdown",
   "id": "05a271ff-e57d-4c98-a33c-a171b8bdd1ea",
   "metadata": {},
   "source": [
    "Above, the message \"Bagpipes: Latex distribution not found, plots may look strange.\" might be produced. \n",
    "\n",
    "No other errors should be produced."
   ]
  },
  {
   "cell_type": "markdown",
   "id": "190f89ec-71a6-45c1-8d28-cb10e243bc64",
   "metadata": {
    "execution": {
     "iopub.execute_input": "2024-02-26T21:09:36.952477Z",
     "iopub.status.busy": "2024-02-26T21:09:36.951588Z",
     "iopub.status.idle": "2024-02-26T21:09:36.956472Z",
     "shell.execute_reply": "2024-02-26T21:09:36.955652Z",
     "shell.execute_reply.started": "2024-02-26T21:09:36.952432Z"
    }
   },
   "source": [
    "# 3. (Additional:)  Update the PYTHONPATH if needed"
   ]
  },
  {
   "cell_type": "markdown",
   "id": "cbd09fad-36ee-465c-8b4b-16a5a39aaf69",
   "metadata": {},
   "source": [
    "This step should not generally be necessary if installing a package via ```pip install --user <package name>``` or ```python setup.py install --home=<directory name>```, but there may be times a manual update of one's ```PYTHONPATH``` environment variable is necessary.  "
   ]
  },
  {
   "cell_type": "markdown",
   "id": "d1970533-9332-4bbc-a50e-6125a46ab330",
   "metadata": {},
   "source": [
    "One such case may be that the package's install script has an error.  Another case may be if the user is updating or developing a python module one's self."
   ]
  },
  {
   "cell_type": "markdown",
   "id": "06b37a8d-4c28-4f7b-905e-08e5ec0ec45a",
   "metadata": {},
   "source": [
    "As a concrete example of the latter, assume one wants to download the most recent version of Jake Vanderplas's <a href=https://www.astroml.org/>astroML</a> astronomy machine learning and data mining package from <a href=https://github.com/astroML/astroML>its GitHub repository</a>, perhaps with the idea of modifying some of the source code for one's own uses or even for <a href=https://www.astroml.org/development/contribution.html>contributing to the astroML project</a>."
   ]
  },
  {
   "cell_type": "markdown",
   "id": "ea7dc5a6-1a86-4ba1-a3ea-cdf8a38e1cb4",
   "metadata": {},
   "source": [
    "First, download astroML from <a href=https://github.com/astroML/astroML>its GitHub repository</a> into an appropriate directory by running the following commands in an RSP terminal window.  Here, in this example, astroML is downloaded into the `~/WORK/GitHub` directory. "
   ]
  },
  {
   "cell_type": "markdown",
   "id": "3d7f2252-858f-4c59-8e66-775b039654a9",
   "metadata": {},
   "source": [
    "First, if it does not already exist, create the `~/WORK/GitHub` directory."
   ]
  },
  {
   "cell_type": "markdown",
   "id": "417d4ab2-19c8-455a-9f3a-7f120a5d6fe8",
   "metadata": {},
   "source": [
    "```\n",
    "mkdir ~/WORK/GitHub\n",
    "```"
   ]
  },
  {
   "cell_type": "markdown",
   "id": "27b56244-c045-4117-ab81-6985dcbe1895",
   "metadata": {
    "execution": {
     "iopub.execute_input": "2024-03-12T19:47:15.275028Z",
     "iopub.status.busy": "2024-03-12T19:47:15.274152Z",
     "iopub.status.idle": "2024-03-12T19:47:15.279884Z",
     "shell.execute_reply": "2024-03-12T19:47:15.278998Z",
     "shell.execute_reply.started": "2024-03-12T19:47:15.275001Z"
    }
   },
   "source": [
    "Next, change to the `~/WORK/GitHub` directory."
   ]
  },
  {
   "cell_type": "markdown",
   "id": "a554923b-ba26-4c54-98ba-95cf67aa5d78",
   "metadata": {},
   "source": [
    "```\n",
    "cd ~/WORK/GitHub\n",
    "```"
   ]
  },
  {
   "cell_type": "markdown",
   "id": "ca8f1e28-0601-4fd9-a8a3-311298cf7038",
   "metadata": {},
   "source": [
    " Then, download the astroML code into this directory."
   ]
  },
  {
   "cell_type": "markdown",
   "id": "dc176b69-4a93-42f9-9ddd-c295507c9d44",
   "metadata": {
    "execution": {
     "iopub.execute_input": "2024-03-12T19:48:55.151711Z",
     "iopub.status.busy": "2024-03-12T19:48:55.150888Z",
     "iopub.status.idle": "2024-03-12T19:48:55.155301Z",
     "shell.execute_reply": "2024-03-12T19:48:55.154649Z",
     "shell.execute_reply.started": "2024-03-12T19:48:55.151684Z"
    }
   },
   "source": [
    "```\n",
    "git clone git@github.com:astroML/astroML.git\n",
    "```"
   ]
  },
  {
   "cell_type": "markdown",
   "id": "69c02604-a4f1-42ad-8c24-694b82f9cc2e",
   "metadata": {
    "execution": {
     "iopub.execute_input": "2024-02-27T20:43:49.073361Z",
     "iopub.status.busy": "2024-02-27T20:43:49.072533Z",
     "iopub.status.idle": "2024-02-27T20:43:49.078185Z",
     "shell.execute_reply": "2024-02-27T20:43:49.077471Z",
     "shell.execute_reply.started": "2024-02-27T20:43:49.073329Z"
    }
   },
   "source": [
    "Next, change into the upper-level directory of the just downloaded astroML package and print its path."
   ]
  },
  {
   "cell_type": "markdown",
   "id": "02033054-19d9-45b0-bb9d-8b40f712a3b0",
   "metadata": {
    "execution": {
     "iopub.execute_input": "2024-02-27T20:44:53.387867Z",
     "iopub.status.busy": "2024-02-27T20:44:53.387065Z",
     "iopub.status.idle": "2024-02-27T20:44:53.392051Z",
     "shell.execute_reply": "2024-02-27T20:44:53.391385Z",
     "shell.execute_reply.started": "2024-02-27T20:44:53.387822Z"
    }
   },
   "source": [
    "```\n",
    "cd astroML\n",
    "pwd\n",
    "```"
   ]
  },
  {
   "cell_type": "markdown",
   "id": "5b044f96-6aa7-4b4c-a1f9-5dfa937e114c",
   "metadata": {},
   "source": [
    "As in <a href=#1.3.2-Update-the-notebooks-environment>Section 1.3.2</a>, update your ```~/notebooks/.user_setups```, this time adding the following line to this file:"
   ]
  },
  {
   "cell_type": "markdown",
   "id": "45002e7d-102e-4b10-bc31-932cf415a7bc",
   "metadata": {},
   "source": [
    "```\n",
    "export PYTHONPATH=${HOME}/WORK/GitHub/astroML:${PYTHONPATH}\n",
    "```"
   ]
  },
  {
   "cell_type": "markdown",
   "id": "4b11da28-fb6c-4876-bccc-5be8a7b1a6a8",
   "metadata": {},
   "source": [
    "(of course, using the location of the upper-level directory of _your_ astroML GitHub download \n",
    "if it differs from ```${HOME}/WORK/GitHub/astroML```)."
   ]
  },
  {
   "cell_type": "markdown",
   "id": "d167aedb-240a-489d-a889-366980a30c84",
   "metadata": {},
   "source": [
    "As in <a href=#1.3.1-Update-the-terminal-environment>Section 1.3.1</a>, you can optionally add the export PYTHONPATH statement to the ~/.bashrc file so that this is setup automatically at the time of every login. "
   ]
  },
  {
   "cell_type": "markdown",
   "id": "e052f4d7-2e73-4094-a1e7-9f20c84d4cf9",
   "metadata": {},
   "source": [
    "Now, as in <a href=#1.4-Activate-the-new-setup>Section 1.4</a>, restart this notebook in order to activate the new `PYTHONPATH`."
   ]
  },
  {
   "cell_type": "markdown",
   "id": "53fae117-faba-4753-a1d5-1a3d4829913a",
   "metadata": {},
   "source": [
    "Next, as in <a href=#2.-Check-the-environment-in-the-notebook-and-use-the-bagpipes-package>Section 2</a>, \n",
    "execute the next cell to inspect the PYTHONPATH. Note that the *first* entry should be the location of your\n",
    "downloaded astroML directory."
   ]
  },
  {
   "cell_type": "code",
   "execution_count": 3,
   "id": "7286fc3b-0271-4f9a-99bd-7471eac6da1f",
   "metadata": {
    "execution": {
     "iopub.execute_input": "2024-03-12T19:56:50.053125Z",
     "iopub.status.busy": "2024-03-12T19:56:50.052389Z",
     "iopub.status.idle": "2024-03-12T19:56:50.056988Z",
     "shell.execute_reply": "2024-03-12T19:56:50.056443Z",
     "shell.execute_reply.started": "2024-03-12T19:56:50.053100Z"
    }
   },
   "outputs": [
    {
     "name": "stdout",
     "output_type": "stream",
     "text": [
      "/home/douglasleetucker/notebooks/MyStuff/GitHub/astroML:/home/douglasleetucker/notebooks/MyStuff/GitHub/petrofit:/opt/lsst/software/stack/stack/miniconda3-py38_4.9.2-8.0.0/Linux64/display_firefly/gae46bcf261+1c31ac625c/python:/opt/lsst/software/stack/stack/miniconda3-py38_4.9.2-8.0.0/Linux64/astshim/g50ff169b8f+f00c948d2c/python:/opt/lsst/software/stack/stack/miniconda3-py38_4.9.2-8.0.0/Linux64/log/g2079a07aa2+6a65a43b64/python:/opt/lsst/software/stack/stack/miniconda3-py38_4.9.2-8.0.0/Linux64/sphgeom/g8a8a8dda67+81bc2a20b4/python:/opt/lsst/software/stack/stack/miniconda3-py38_4.9.2-8.0.0/Linux64/geom/ga1e77700b3+ec8c1568a5/python:/opt/lsst/software/stack/stack/miniconda3-py38_4.9.2-8.0.0/Linux64/pex_config/gba4ed39666+d9abe90c32/python:/opt/lsst/software/stack/stack/miniconda3-py38_4.9.2-8.0.0/Linux64/pex_exceptions/gdaeeff99f8+6ceac51f81/python:/opt/lsst/software/stack/stack/miniconda3-py38_4.9.2-8.0.0/Linux64/base/g52b1c1532d+81bc2a20b4/python:/opt/lsst/software/stack/stack/miniconda3-py38_4.9.2-8.0.0/Linux64/cpputils/g9ddcbc5298+fe33e4d80d/python:/opt/lsst/software/stack/stack/miniconda3-py38_4.9.2-8.0.0/Linux64/sconsUtils/g80c3e6a29f/python:/opt/lsst/software/stack/stack/miniconda3-py38_4.9.2-8.0.0/Linux64/utils/g68ffd96954+81bc2a20b4/python:/opt/lsst/software/stack/stack/miniconda3-py38_4.9.2-8.0.0/Linux64/daf_base/gf041782ebf+0cc2057818/python:/opt/lsst/software/stack/stack/miniconda3-py38_4.9.2-8.0.0/Linux64/afw/gf11f55472b+99ee6e9747/python:/opt/lsst/software/stack/stack/miniconda3-py38_4.9.2-8.0.0/Linux64/display_astrowidgets/g2bbee38e9b+1c31ac625c/python:/opt/lsst/software/stack/stack/miniconda3-py38_4.9.2-8.0.0/Linux64/cell_coadds/g061c520765+5fb4b040e2/python:/opt/lsst/software/stack/stack/miniconda3-py38_4.9.2-8.0.0/Linux64/gbdes/g73f919205b+51036c5d8d/build/pydir:/opt/lsst/software/stack/stack/miniconda3-py38_4.9.2-8.0.0/Linux64/drp_tasks/g21efbaf6a9+1873ce9984/python:/opt/lsst/software/stack/stack/miniconda3-py38_4.9.2-8.0.0/Linux64/analysis_drp/gefe92d13dd+5fb4b040e2/python:/opt/lsst/software/stack/stack/miniconda3-py38_4.9.2-8.0.0/Linux64/drp_pipe/g02b5a80f42+58bc5fa8ba/python:/opt/lsst/software/stack/stack/miniconda3-py38_4.9.2-8.0.0/Linux64/spectractor/g931ce99066+6a65a43b64/lib/python:/opt/lsst/software/stack/stack/miniconda3-py38_4.9.2-8.0.0/Linux64/atmospec/g78605d9f14+9c327457bf/python:/opt/lsst/software/stack/stack/miniconda3-py38_4.9.2-8.0.0/Linux64/cp_verify/g87c0c8156c+513a741855/python:/opt/lsst/software/stack/stack/miniconda3-py38_4.9.2-8.0.0/Linux64/faro/g08f8b81572+b5b719c380/python:/opt/lsst/software/stack/stack/miniconda3-py38_4.9.2-8.0.0/Linux64/fgcm/g3be6a4b855/lib/python:/opt/lsst/software/stack/stack/miniconda3-py38_4.9.2-8.0.0/Linux64/fgcmcal/gb8350603e9+04d297f79d/python:/opt/lsst/software/stack/stack/miniconda3-py38_4.9.2-8.0.0/Linux64/display_matplotlib/g0265f82a02+1c31ac625c/python:/opt/lsst/software/stack/stack/miniconda3-py38_4.9.2-8.0.0/Linux64/ap_verify/g5bc294fa39+8190e6bbbf/python:/opt/lsst/software/stack/stack/miniconda3-py38_4.9.2-8.0.0/Linux64/jointcal/g99855d9996+619f8ed19d/python:/opt/lsst/software/stack/stack/miniconda3-py38_4.9.2-8.0.0/Linux64/cbp/ga32fcf49c8+1c31ac625c/python:/opt/lsst/software/stack/stack/miniconda3-py38_4.9.2-8.0.0/Linux64/obs_lsst/gbdc861c125+992a79d26a/python:/opt/lsst/software/stack/stack/miniconda3-py38_4.9.2-8.0.0/Linux64/obs_decam/gf748b16de2+86a2ab1d98/python:/opt/lsst/software/stack/stack/miniconda3-py38_4.9.2-8.0.0/Linux64/obs_cfht/gef70c04d3b+75543d56b0/python:/opt/lsst/software/stack/stack/miniconda3-py38_4.9.2-8.0.0/Linux64/ctrl_bps_parsl/gafe58674d3+9809b5820b/python:/opt/lsst/software/stack/stack/miniconda3-py38_4.9.2-8.0.0/Linux64/ctrl_bps_panda/gfa9b1debb9+9809b5820b/python:/opt/lsst/software/stack/stack/miniconda3-py38_4.9.2-8.0.0/Linux64/lsst_bps_plugins/g3a590c521e+2fdf684594/python:/opt/lsst/software/stack/stack/miniconda3-py38_4.9.2-8.0.0/Linux64/ctrl_platform_s3df/geb0cc018ab+e59dd6e92b/python:/opt/lsst/software/stack/stack/miniconda3-py38_4.9.2-8.0.0/Linux64/ctrl_mpexec/g21651d441e+aaa113cfcf/python:/opt/lsst/software/stack/stack/miniconda3-py38_4.9.2-8.0.0/Linux64/ctrl_bps/gd902e6400b+7bedf05953/python:/opt/lsst/software/stack/stack/miniconda3-py38_4.9.2-8.0.0/Linux64/ctrl_bps_htcondor/gde23a71526+9809b5820b/python:/opt/lsst/software/stack/stack/miniconda3-py38_4.9.2-8.0.0/Linux64/ctrl_execute/g1e8eb4f10c+b594eeaf5c/python:/opt/lsst/software/stack/stack/miniconda3-py38_4.9.2-8.0.0/Linux64/obs_subaru/g4ebd4bfda0+91a0474956/python:/opt/lsst/software/stack/stack/miniconda3-py38_4.9.2-8.0.0/Linux64/cp_pipe/gf576ed6eab+5fb4b040e2/python:/opt/lsst/software/stack/stack/miniconda3-py38_4.9.2-8.0.0/Linux64/analysis_tools/g67abf2d982+513a741855/python:/opt/lsst/software/stack/stack/miniconda3-py38_4.9.2-8.0.0/Linux64/source_injection/gb5039a9374+c470336821/python:/opt/lsst/software/stack/stack/miniconda3-py38_4.9.2-8.0.0/Linux64/display_ds9/g16a3bce237+1c31ac625c/python:/opt/lsst/software/stack/stack/miniconda3-py38_4.9.2-8.0.0/Linux64/meas_extensions_simpleShape/gcf0d15dbbd+15db52e637/python:/opt/lsst/software/stack/stack/miniconda3-py38_4.9.2-8.0.0/Linux64/meas_transiNet/gc2fa8eb834+15db52e637/python:/opt/lsst/software/stack/stack/miniconda3-py38_4.9.2-8.0.0/Linux64/alert_packet/g44f27b4f30/python:/opt/lsst/software/stack/stack/miniconda3-py38_4.9.2-8.0.0/Linux64/ap_association/g6b1805f162+063bf3110a/python:/opt/lsst/software/stack/stack/miniconda3-py38_4.9.2-8.0.0/Linux64/ap_pipe/gc5ed55b737+2a207c7825/python:/opt/lsst/software/stack/stack/miniconda3-py38_4.9.2-8.0.0/Linux64/scarlet_lite/gee10cc3b42+81bc2a20b4/python:/opt/lsst/software/stack/stack/miniconda3-py38_4.9.2-8.0.0/Linux64/proxmin/g33b4157f25/lib/python:/opt/lsst/software/stack/stack/miniconda3-py38_4.9.2-8.0.0/Linux64/scarlet/g87a95b57b9+4083830bf8/lib/python:/opt/lsst/software/stack/stack/miniconda3-py38_4.9.2-8.0.0/Linux64/meas_extensions_scarlet/gb176f90f3b+f21d8690be/python:/opt/lsst/software/stack/stack/miniconda3-py38_4.9.2-8.0.0/Linux64/meas_extensions_psfex/gbeb006f7da+e2f003f3e5/python:/opt/lsst/software/stack/stack/miniconda3-py38_4.9.2-8.0.0/Linux64/meas_extensions_piff/gc86a011abf+00d7be2b8d/python:/opt/lsst/software/stack/stack/miniconda3-py38_4.9.2-8.0.0/Linux64/meas_extensions_gaap/gc2d33604b7+439ef1ac9b/python:/opt/lsst/software/stack/stack/miniconda3-py38_4.9.2-8.0.0/Linux64/meas_extensions_photometryKron/g858d7b2824+00d7be2b8d/python:/opt/lsst/software/stack/stack/miniconda3-py38_4.9.2-8.0.0/Linux64/meas_extensions_convolved/g42fff21dfb+addae37924/python:/opt/lsst/software/stack/stack/miniconda3-py38_4.9.2-8.0.0/Linux64/kht/gafcb7142de/cpp/build:/opt/lsst/software/stack/stack/miniconda3-py38_4.9.2-8.0.0/Linux64/ip_isr/g535a204a91+00d7be2b8d/python:/opt/lsst/software/stack/stack/miniconda3-py38_4.9.2-8.0.0/Linux64/verify_metrics/g3c17f34f15+81bc2a20b4/python:/opt/lsst/software/stack/stack/miniconda3-py38_4.9.2-8.0.0/Linux64/felis/g4a5de05cba+81bc2a20b4/python:/opt/lsst/software/stack/stack/miniconda3-py38_4.9.2-8.0.0/Linux64/dax_apdb/g011c388f00+1570843bc3/python:/opt/lsst/software/stack/stack/miniconda3-py38_4.9.2-8.0.0/Linux64/verify/g46d7d7fcd2+f39a24a741/python:/opt/lsst/software/stack/stack/miniconda3-py38_4.9.2-8.0.0/Linux64/meas_extensions_shapeHSM/gb3ef3c6f46+00d7be2b8d/python:/opt/lsst/software/stack/stack/miniconda3-py38_4.9.2-8.0.0/Linux64/meas_extensions_trailedSources/g3ddfee87b4+15db52e637/python:/opt/lsst/software/stack/stack/miniconda3-py38_4.9.2-8.0.0/Linux64/meas_astrom/gf1cff7945b+00d7be2b8d/python:/opt/lsst/software/stack/stack/miniconda3-py38_4.9.2-8.0.0/Linux64/ip_diffim/g88964a4962+8a1a53efdf/python:/opt/lsst/software/stack/stack/miniconda3-py38_4.9.2-8.0.0/Linux64/dustmaps_cachedata/gbb0a0c949e+81bc2a20b4/python:/opt/lsst/software/stack/stack/miniconda3-py38_4.9.2-8.0.0/Linux64/coadd_utils/g337abbeb29+1c31ac625c/python:/opt/lsst/software/stack/stack/miniconda3-py38_4.9.2-8.0.0/Linux64/pipe_tasks/g8a2af25fa3+9b8ddba64b/python:/opt/lsst/software/stack/stack/miniconda3-py38_4.9.2-8.0.0/Linux64/shapelet/ge79ae78c31+1c31ac625c/python:/opt/lsst/software/stack/stack/miniconda3-py38_4.9.2-8.0.0/Linux64/meas_modelfit/gd162630629+0ff1f5d43c/python:/opt/lsst/software/stack/stack/miniconda3-py38_4.9.2-8.0.0/Linux64/astro_metadata_translator/gb8aeb2fa8e+d9abe90c32/python:/opt/lsst/software/stack/stack/miniconda3-py38_4.9.2-8.0.0/Linux64/obs_base/gae481fbbf9+66445c569b/python:/opt/lsst/software/stack/stack/miniconda3-py38_4.9.2-8.0.0/Linux64/pipe_base/ga8697e8c81+31379a5160/python:/opt/lsst/software/stack/stack/miniconda3-py38_4.9.2-8.0.0/Linux64/daf_relation/gb0a325e57d+6a65a43b64/python:/opt/lsst/software/stack/stack/miniconda3-py38_4.9.2-8.0.0/Linux64/resources/gbee90fef48+6a65a43b64/python:/opt/lsst/software/stack/stack/miniconda3-py38_4.9.2-8.0.0/Linux64/daf_butler/g6af44e7a1a+043fa2f30f/python:/opt/lsst/software/stack/stack/miniconda3-py38_4.9.2-8.0.0/Linux64/skymap/ga8c6da7877+b6c80215ae/python:/opt/lsst/software/stack/stack/miniconda3-py38_4.9.2-8.0.0/Linux64/meas_base/g08a116f7bc+9b5a8b4fc4/python:/opt/lsst/software/stack/stack/miniconda3-py38_4.9.2-8.0.0/Linux64/meas_algorithms/gf9db590de0+15db52e637/python:/opt/lsst/software/stack/stack/miniconda3-py38_4.9.2-8.0.0/Linux64/meas_deblender/gb700894bec+3b32ebc22c/python:/opt/lsst/software/stack/conda/miniconda3-py38_4.9.2/envs/lsst-scipipe-8.0.0/eups/python\n"
     ]
    }
   ],
   "source": [
    "import os\n",
    "print(os.getenv('PYTHONPATH'))"
   ]
  },
  {
   "cell_type": "markdown",
   "id": "9c5fe017-41f9-4db2-b11d-fe0576dc2923",
   "metadata": {},
   "source": [
    "Finally, as in <a href=#2.-Check-the-environment-in-the-notebook-and-use-the-bagpipes-package>Section 2</a>, \n",
    "execute the following cell to ensure that your download of the astroML package is indeed being imported."
   ]
  },
  {
   "cell_type": "code",
   "execution_count": 4,
   "id": "b8adff26-9dc4-4042-8b50-37e380be8a63",
   "metadata": {
    "execution": {
     "iopub.execute_input": "2024-03-12T19:56:51.610066Z",
     "iopub.status.busy": "2024-03-12T19:56:51.609671Z",
     "iopub.status.idle": "2024-03-12T19:56:51.615012Z",
     "shell.execute_reply": "2024-03-12T19:56:51.614415Z",
     "shell.execute_reply.started": "2024-03-12T19:56:51.610026Z"
    }
   },
   "outputs": [],
   "source": [
    "import astroML"
   ]
  },
  {
   "cell_type": "markdown",
   "id": "f35d29e2-e551-48f5-b03a-cc4909e1a80f",
   "metadata": {},
   "source": [
    "No errors should be produced."
   ]
  }
 ],
 "metadata": {
  "kernelspec": {
   "display_name": "LSST",
   "language": "python",
   "name": "lsst"
  },
  "language_info": {
   "codemirror_mode": {
    "name": "ipython",
    "version": 3
   },
   "file_extension": ".py",
   "mimetype": "text/x-python",
   "name": "python",
   "nbconvert_exporter": "python",
   "pygments_lexer": "ipython3",
   "version": "3.11.7"
  }
 },
 "nbformat": 4,
 "nbformat_minor": 5
}
