{
 "cells": [
  {
   "cell_type": "markdown",
   "id": "2f0883bc-6272-451a-8b50-9184e2248954",
   "metadata": {},
   "source": [
    "<img align=\"left\" src = https://project.lsst.org/sites/default/files/Rubin-O-Logo_0.png width=250 style=\"padding: 10px\"> \n",
    "<br><b>Working with user installed packages</b> <br>\n",
    "Contact author: Leanne Guy <br>\n",
    "Last verified to run: 2023-11-29<br>\n",
    "LSST Science Piplines version: Weekly 2023_47<br>\n",
    "Container size: medium <br>\n",
    "Targeted learning level: beginner <br>"
   ]
  },
  {
   "cell_type": "markdown",
   "id": "c4778164-58f3-4e2a-bf64-341240b01eac",
   "metadata": {},
   "source": [
    "**Description:** Install and set up user packages that require building libraries and a modification to the LD_LIBRARY_PATH so that they can be used in a notebook.\n",
    "\n",
    "**Skills:** Installing sofware, building libraries, and modifying paths.\n",
    "\n",
    "**LSST Data Products:** N/A\n",
    "\n",
    "**Packages:** os, bagpipes, PyMultiNest, MultiNest, PyCuba, Cuba\n",
    "\n",
    "**Credit:** Created by Leanne Guy.\n",
    "\n",
    "**Get Support:**\n",
    "Find DP0-related documentation and resources at <a href=\"https://dp0-2.lsst.io\">dp0-2.lsst.io</a>. Questions are welcome as new topics in the <a href=\"https://community.lsst.org/c/support/dp0\">Support - Data Preview 0 Category</a> of the Rubin Community Forum. Rubin staff will respond to all questions posted there."
   ]
  },
  {
   "cell_type": "markdown",
   "id": "411f6ec8-cb72-4964-9b6e-115b49c50d3a",
   "metadata": {},
   "source": [
    "# 1. Install user packages \n",
    "\n",
    "For this example, the <a href=\"https://bagpipes.readthedocs.io/en/latest/\">bagpipes</a> package and the dependencies described at \n",
    "[PyMultiNest](https://github.com/JohannesBuchner/PyMultiNest/blob/master/doc/install.rst) \n",
    "are installed.\n",
    "\n",
    "Open a terminal in the Notebook Aspect of the RSP to execute the commands in this section.\n",
    "\n",
    "## 1.1 Install the bagpipes package with pip\n",
    "\n",
    "Copy-paste and execute the following at the terminal command line.\n",
    "\n",
    "```\n",
    "pip install --user bagpipes\n",
    "```\n",
    "\n",
    "The message should be: ```Successfully installed bagpipes-1.0.2 corner-2.2.2 pymultinest-2.11 spectres-2.2.0```."
   ]
  },
  {
   "cell_type": "markdown",
   "id": "f96423d3-3805-41c6-af97-19c063113c2f",
   "metadata": {},
   "source": [
    "## 1.2 Install and build the MultiNest package \n",
    "\n",
    "The bagpipes package depends on MultiNest.\n",
    "\n",
    "PyMultiNest is a Python interface for MultiNest. \n",
    "The MultiNest package itself is not included. \n",
    "\n",
    "Before the bagpipes package can be used, the MultiNest package must be installed, \n",
    "and the environment of the LSST kernel updated.\n",
    "\n",
    "It is recommended to install packages in a ```~/local``` directory.\n",
    "\n",
    "First check if this directory exists by attempting to list it using the terminal command line.\n",
    "\n",
    "```\n",
    "ls ~/local\n",
    "```\n",
    "\n",
    "If the message \"cannot access\" is returned, create the directory using the terminal command line.\n",
    "\n",
    "```\n",
    "mkdir ~/local\n",
    "```\n",
    "\n",
    "Then execute the following, one by one, from the terminal command line.\n",
    "\n",
    "```\n",
    "cd ~/local\n",
    "git clone https://github.com/JohannesBuchner/MultiNest\n",
    "cd MultiNest/build\n",
    "cmake ..\n",
    "make\n",
    "```"
   ]
  },
  {
   "cell_type": "markdown",
   "id": "0cd20249-93cc-4638-b366-b3db5e35932b",
   "metadata": {},
   "source": [
    "## 1.3 Update the local environment\n",
    "\n",
    "The `LD_LIBRARY_PATH` environment variable must now be updated to point to the MultiNest lib directory \n",
    "in both the  ```.bashrc``` (in order to use bagpipes in python from the command line)\n",
    "and in the  ```~/notebooks/.user_setups``` (in order to use bagpipes in a notebook).\n",
    "\n",
    "### 1.3.1 Update the .bashrc file\n",
    "\n",
    "In a terminal execute the following two lines, one by one.\n",
    "\n",
    "```\n",
    "export LD_LIBRARY_PATH=${LD_LIBRARY_PATH}:${HOME}/local/MultiNest/lib\n",
    "python -c 'import bagpipes as pipes'\n",
    "```\n",
    "\n",
    "As an option, add the ```export LD_LIBRARY_PATH``` statement to the ```~/.bashrc``` file \n",
    "so that this is setup automatically at the time of every login.\n",
    "\n",
    "```\n",
    "echo \"export LD_LIBRARY_PATH=${LD_LIBRARY_PATH}:${HOME}/local/MultiNest/lib\" >> ~/.bashrc\n",
    "```\n",
    "\n",
    "### 1.3.2 Update the .user_setups file\n",
    "\n",
    "Edit the ```~/notebooks/.user_setups``` file to add the following line to be able to use ```bagpipes``` from a notebook:\n",
    "`export LD_LIBRARY_PATH=${LD_LIBRARY_PATH}:${HOME}/local/MultiNest/lib`.\n",
    "\n",
    "To do this, in the terminal execute the following line.\n",
    "\n",
    "```\n",
    "echo \"export LD_LIBRARY_PATH=${LD_LIBRARY_PATH}:${HOME}/local/MultiNest/lib\" ~/notebooks/.user_setups\n",
    "```\n",
    "\n",
    "To confirm that the line was added to the end of the file, execute the following in the terminal.\n",
    "\n",
    "```\n",
    "more ~/notebooks/.user_setups\n",
    "```\n",
    "\n",
    "Log out of the Notebook Aspect and log back in before proceeding to Section 2."
   ]
  },
  {
   "cell_type": "markdown",
   "id": "041bfd09-8ec3-46fe-b597-be31c7ce6c87",
   "metadata": {},
   "source": [
    "# 2. Check the environment in the notebook and use the bagpipes package\n",
    "\n",
    "Execute the next cell to inspect the ```LD_LIBRARY_PATH```. Note that the last entry should be ```${HOME}/local/MultiNest/lib```"
   ]
  },
  {
   "cell_type": "code",
   "execution_count": null,
   "id": "1c89f642-c2d5-482f-827c-69235058f05d",
   "metadata": {
    "tags": []
   },
   "outputs": [],
   "source": [
    "import os\n",
    "print(os.getenv('LD_LIBRARY_PATH'))"
   ]
  },
  {
   "cell_type": "code",
   "execution_count": null,
   "id": "a17e9519-1488-4ab4-854e-51e1baf5dd4e",
   "metadata": {
    "tags": []
   },
   "outputs": [],
   "source": [
    "import bagpipes as pipes"
   ]
  },
  {
   "cell_type": "markdown",
   "id": "05a271ff-e57d-4c98-a33c-a171b8bdd1ea",
   "metadata": {},
   "source": [
    "Above, the message \"Bagpipes: Latex distribution not found, plots may look strange.\" might be produced. \n",
    "If other errors are reported, return to the instructions."
   ]
  },
  {
   "cell_type": "code",
   "execution_count": null,
   "id": "33d9c2a9-452e-4a06-923b-9ec60eba30cd",
   "metadata": {},
   "outputs": [],
   "source": []
  }
 ],
 "metadata": {
  "kernelspec": {
   "display_name": "LSST",
   "language": "python",
   "name": "lsst"
  },
  "language_info": {
   "codemirror_mode": {
    "name": "ipython",
    "version": 3
   },
   "file_extension": ".py",
   "mimetype": "text/x-python",
   "name": "python",
   "nbconvert_exporter": "python",
   "pygments_lexer": "ipython3",
   "version": "3.11.4"
  }
 },
 "nbformat": 4,
 "nbformat_minor": 5
}
