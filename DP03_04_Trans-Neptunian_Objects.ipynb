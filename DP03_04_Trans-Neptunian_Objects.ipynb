{
 "cells": [
  {
   "cell_type": "markdown",
   "id": "6b7f500d-ba87-4a25-89ef-5c3038304aff",
   "metadata": {
    "execution": {
     "iopub.execute_input": "2023-07-11T17:31:37.391082Z",
     "iopub.status.busy": "2023-07-11T17:31:37.390105Z",
     "iopub.status.idle": "2023-07-11T17:31:37.396377Z",
     "shell.execute_reply": "2023-07-11T17:31:37.395279Z",
     "shell.execute_reply.started": "2023-07-11T17:31:37.391043Z"
    },
    "tags": []
   },
   "source": [
    "<img align=\"left\" src = https://project.lsst.org/sites/default/files/Rubin-O-Logo_0.png width=250 style=\"padding: 10px\"> \n",
    "<b>Trans-Neptunian Objects (TNOs)</b> <br>\n",
    "Contact author(s): Andrés A. Plazas Malagón<br>\n",
    "Last verified to run: July 24 2023 <br>\n",
    "LSST Science Pipelines version: w_2023_21  <br>\n",
    "Container Size: medium <br>\n",
    "Targeted learning level: intermediate<br>"
   ]
  },
  {
   "cell_type": "markdown",
   "id": "7de485fc-1275-4fef-9fd5-ad1374609cc0",
   "metadata": {},
   "source": [
    "**Description:** Explore the trans-Neptunian object populations in DP0.3. "
   ]
  },
  {
   "cell_type": "markdown",
   "id": "0b311418-01c0-49ef-9263-2321448ccf8b",
   "metadata": {},
   "source": [
    "**Skills:** Use of the DP0.3 catalogs to study TNO populations."
   ]
  },
  {
   "cell_type": "markdown",
   "id": "121ce17e-38eb-49ca-b95e-2a32d7b14250",
   "metadata": {},
   "source": [
    "**LSST Data Products:**  DP0.3 catalogs `SSObject` and `MPCORB`."
   ]
  },
  {
   "cell_type": "markdown",
   "id": "1c9393c0-0c43-4178-bd58-33af12540613",
   "metadata": {},
   "source": [
    "**Packages:** `lsst.rsp`"
   ]
  },
  {
   "cell_type": "markdown",
   "id": "4f62aabe-9d91-4541-ad95-5a0df25f2688",
   "metadata": {},
   "source": [
    "**Credits:** Developed by Andrés A. Plazas Malagón in collaboration with Melissa Graham, the Rubin Community Science Team for DP0.3, and Pedro Bernardinelli (University of Washington). \n",
    "This tutorial is based on a Jupyter Notebook by Pedro Bernardinelli. \n",
    "This notebook has made used of suggestions in the [Accessible Authoring Checklist](https://iota-school.github.io/accessibility_hackathon/hack#checklist)."
   ]
  },
  {
   "cell_type": "markdown",
   "id": "9a231d35-fd48-4caa-8519-c605f05e9330",
   "metadata": {},
   "source": [
    "**Get Support:**\n",
    "Find DP0-related documentation and resources at <a href=\"https://dp0-2.lsst.io\">dp0-2.lsst.io</a> and <a href=\"https://dp0-3.lsst.io\">dp0-3.lsst.io</a>. \n",
    "Questions are welcome as new topics in the <a href=\"https://community.lsst.org/c/support/dp0\">Support - Data Preview 0 Category</a> of the Rubin Community Forum. \n",
    "Rubin staff will respond to all questions posted there."
   ]
  },
  {
   "cell_type": "code",
   "execution_count": null,
   "id": "163ec61f-7d98-47b9-8089-b47a5756afdc",
   "metadata": {
    "tags": []
   },
   "outputs": [],
   "source": [
    "%load_ext pycodestyle_magic\n",
    "%flake8_on\n",
    "import logging\n",
    "logging.getLogger(\"flake8\").setLevel(logging.FATAL)"
   ]
  },
  {
   "cell_type": "markdown",
   "id": "b7f445fe-3f60-40b6-b2c2-704029b673ea",
   "metadata": {},
   "source": [
    "## 1. Introduction\n",
    "\n",
    "### 1.1 Trans-Neptunian objects (TNOs)\n",
    "\n",
    "A trans-Neptunian object (TNO) is a minor planet within the Solar System which orbits the Sun at an average distance greater than that of Neptune (> 30.1 astronomical units; AU). \n",
    "The population of TNOs is scientifically valuable because they are largely intact relics from the era of planetary formation. \n",
    "\n",
    "In the current model explaining the formation of the outer Solar System, the small building blocks of planets, called planetesimals, that eventually became TNOs can be categorized into two groups.\n",
    "\n",
    "1. **Outwardly Migrated \"Hot\" TNOs.**\n",
    "Some planetesimals formed within the inner region of the protoplanetary disk, located at a distance less than 30 Astronomical Units (AU) from the Sun. \n",
    "These planetesimals were later pushed outward by interactions with a migrating Neptune. \n",
    "As a result, they acquired dynamically \"hot\" orbits, meaning their inclination distribution\n",
    "includes high inclination objects (beyond 5 degrees).\n",
    "\n",
    "2. **In-Situ \"Cold\" TNOs.**\n",
    "Other planetesimals formed directly in the trans-Neptunian region, \n",
    "where they remain with dynamically \"cold\" orbits (inclinations < 5 degrees).\n",
    "\n",
    "\n",
    "#### 1.1.1 Dynamical classes\n",
    "\n",
    "In Section 4, clustering within plots of eccentricity or inclination versus semi-major axis\n",
    "will be used to illustrate the following TNO dynamical classes.\n",
    "\n",
    "**Classical TNOs** are situated between Neptune's 3:2 and 2:1 mean motion resonances, at distances ranging from 39 to 47 AU, and characterized by low eccentricity ($e \\lesssim 0.3$). \n",
    "This group is a mix of two types of objects: some are native and remained dynamically \"cold,\" while others were originally \"hot\" objects that migrated into this region.\n",
    "\n",
    "**Scattering TNOs** can have orbits extending to large distances, but their orbits are currently experiencing significant variations due to perturbations caused by Neptune when their closest distance to the Sun (perihelia $q$) is less than approximately 40 AU. \n",
    "Scattering TNOs are believed to be remnants of a population that was scattered during the early formation of the Solar System and have managed to survive for a long time.\n",
    "\n",
    "**Resonant TNOs** are currently found in stable mean motion resonances with Neptune, meaning they have a specific orbital relationship with the planet. \n",
    "It is presumed that they were transported outward while maintaining their resonant positions as Neptune migrated during the early history of the Solar System.\n",
    "\n",
    "**Detached TNOs**, in contrast, have higher perihelia and are dynamically independent from Neptune, as they currently maintain stable orbits that are not significantly influenced by Neptune's gravitational effects.\n",
    "Detached TNOs might have originated as Scattering TNOs whose perihelia were raised through past resonance interactions with Neptune or through interactions with a distant, massive planet in the outer Solar System (though this hypothetical planet has not been observed yet). \n",
    "This class of TNOs is among the most enigmatic one, and the questions about where they formed and how they got to their orbits are still open.  \n",
    "\n",
    "**Extreme TNOs** are characterized by their exceptional distances from the Sun, with semi-major axes ($a$) exceeding 150 AU (note that definitions may vary slightly) and $q > 40$ AU.\n",
    "The formation mechanism responsible for producing these distant extreme TNOs remains unclear.\n",
    "One prominent hypothesis involves the presence of a massive object often referred to as \"Planet X\" or \"Planet 9\" situated at approximately 400 AU from the Sun.\n",
    "The gravitational influence of this hypothetical Neptune-mass planet could have played a significant role in sculpting the distribution of these extreme TNOs, leading to the anisotropies observed in their orbital characteristics.\n",
    "\n",
    "#### 1.1.2 References\n",
    "\n",
    "The above information was compiled from the following articles.\n",
    "\n",
    "*A Search of the Full Six Years of the Dark Energy Survey for Outer Solar System Objects*, [Bernardinelli et al. (2022), ApJS](https://ui.adsabs.harvard.edu/abs/2022ApJS..258...41B/abstract)\n",
    "\n",
    "*Transneptunian Space*, [Gladmann and Volk (2021), AR&AA](https://ui.adsabs.harvard.edu/abs/2021ARA%26A..59..203G/abstract)\n",
    "\n",
    "*The Outer Solar System Origins Survey (OSSOS). VII. 800+ Trans-Neptunian Objects — The Complete Data Release*, [Banister et al (2018), ApJS](https://ui.adsabs.harvard.edu/abs/2018ApJS..236...18B/abstract)\n"
   ]
  },
  {
   "cell_type": "markdown",
   "id": "1ee13448-23c9-4c15-9091-dbdb6b52f3f3",
   "metadata": {},
   "source": [
    "### 1.2 Import packages\n",
    "\n",
    "The [matplotlib](https://matplotlib.org/) (and especially sublibrary `matplotlib.pyplot`), [numpy](http://www.numpy.org/), and [astropy](http://www.astropy.org/) libraries are widely used Python libraries for plotting, numerical analysis, and astronomical data analysis.\n",
    "\n",
    "The `cycler` package enables automatic cycling through default color options when plotting.\n",
    "\n",
    "The `lsst.rsp` package provides access to the Table Access Protocol (TAP) service for access to the DP0 catalogs."
   ]
  },
  {
   "cell_type": "code",
   "execution_count": null,
   "id": "c45fdcfe-be27-46c0-a24e-8173356440b0",
   "metadata": {
    "tags": []
   },
   "outputs": [],
   "source": [
    "import matplotlib.pyplot as plt\n",
    "import matplotlib.colors as mcolors\n",
    "from matplotlib import colormaps\n",
    "from matplotlib.patches import Polygon\n",
    "import numpy as np\n",
    "import astropy.units as u\n",
    "from cycler import cycler\n",
    "from lsst.rsp import get_tap_service"
   ]
  },
  {
   "cell_type": "markdown",
   "id": "c40b37d5-c522-4d14-8e13-d2cc0b8ad4bb",
   "metadata": {},
   "source": [
    "### 1.3 Define functions and parameters"
   ]
  },
  {
   "cell_type": "markdown",
   "id": "3d0270b0-5f41-45f3-8534-2a718478a725",
   "metadata": {},
   "source": [
    "The following functions and parameters are defined once, and used throughout this notebook.\n",
    "\n",
    "**_Parameter_**: `a_Neptune`\n",
    "\n",
    "Neptune's mean semimajor axis ($a_{Neptune}$)."
   ]
  },
  {
   "cell_type": "code",
   "execution_count": null,
   "id": "1bf0ecb1-d477-4df7-aa9e-fdb68327b597",
   "metadata": {
    "tags": []
   },
   "outputs": [],
   "source": [
    "a_Neptune = 30.11"
   ]
  },
  {
   "cell_type": "markdown",
   "id": "90bc8f87-06a8-4080-87ab-ca687daa38a2",
   "metadata": {},
   "source": [
    "**_Function_**: `estimateDiameter`\n",
    "\n",
    "Estimate the diameter ($d$), in kilometers, of a Solar System object.\n",
    "The inputs are the object's absolute H magnitude ($H$) and albedo ($A$).\n",
    "The term \"albedo\" refers to the fraction of light reflected, from 0 to 1.\n",
    "\n",
    "$d = 10^{(3.1236\\ -\\ 0.5 \\log(A)\\ -\\ 0.2H)}$\n",
    "\n",
    "This function is used in Section 3."
   ]
  },
  {
   "cell_type": "code",
   "execution_count": null,
   "id": "3c189ce6-ccd1-47e0-8007-c53bdc711167",
   "metadata": {
    "tags": []
   },
   "outputs": [],
   "source": [
    "def estimateDiameter(H, albedo=0.15):\n",
    "    \"\"\"\n",
    "    Return Solar System object size in kilometers.\n",
    "\n",
    "    Parameters\n",
    "    ----------\n",
    "    H : float\n",
    "        Solar System absolute magnitude\n",
    "    albedo: float\n",
    "        Solar system object albedo\n",
    "\n",
    "    Returns\n",
    "    -------\n",
    "    d : float\n",
    "        Estimated diameter of the object, in kilometers.\n",
    "    \"\"\"\n",
    "\n",
    "    d = np.power(10., 3.1236 - 0.5*np.log10(albedo) - 0.2*H)\n",
    "    return d"
   ]
  },
  {
   "cell_type": "markdown",
   "id": "a47f0719-8189-4093-a321-a40f116e8111",
   "metadata": {},
   "source": [
    "**_Function_**: `qVector`\n",
    "\n",
    "Compute the three-component coordinate vector $q = (q1, q2, q3)$ where: <br>\n",
    "$q1 = a (\\cos(E) - e)$ <br>\n",
    "$q2 = a \\sqrt{(1 - e^2)} \\sin(E)$, and <br>\n",
    "$q3 = 0$.\n",
    "\n",
    "The input values are ???? ($E$), semi-major axis ($a$), and eccentricity ($e$).\n",
    "\n",
    "This function is used in Section 5."
   ]
  },
  {
   "cell_type": "code",
   "execution_count": null,
   "id": "76f94b85-04f2-4899-a7c2-5d4e423669d8",
   "metadata": {
    "tags": []
   },
   "outputs": [],
   "source": [
    "def qVector(E, a, e):\n",
    "    \"\"\"\n",
    "    Computes the coordinate vector q = (a * (cos(E) - e),\n",
    "    a * sqrt(1 - e^2) * sin(E), 0),\n",
    "    on the plane of the ellipse.\n",
    "    \"\"\"\n",
    "    q1 = a * (np.cos(E) - e)\n",
    "    q2 = a * np.sqrt(1. - e ** 2) * np.sin(E)\n",
    "\n",
    "    if isinstance(q1, float):\n",
    "        return np.array([q1, q2, 0.])\n",
    "    else:\n",
    "        return np.array([q1, q2, np.zeros_like(q1)])"
   ]
  },
  {
   "cell_type": "markdown",
   "id": "1a3891c1-64cb-4cd1-90a7-89ca97db226b",
   "metadata": {},
   "source": [
    "**_Function_**: `rotationMatrix`\n",
    "\n",
    "_TBD_"
   ]
  },
  {
   "cell_type": "code",
   "execution_count": null,
   "id": "34ea2c86-562d-492b-8dfb-77dc9ece6b43",
   "metadata": {
    "tags": []
   },
   "outputs": [],
   "source": [
    "def rotationMatrix(omega, Omega, i):\n",
    "    \"\"\"\n",
    "    Computes the rotation matrix R = R(Omega, omega, i) that\n",
    "    maps from the plane of the ellipse to 3D space aligned\n",
    "    with the ecliptic plane.\n",
    "    \"\"\"\n",
    "    cO = np.cos(np.pi * Omega / 180)\n",
    "    sO = np.sin(np.pi * Omega / 180)\n",
    "    co = np.cos(np.pi * omega / 180)\n",
    "    so = np.sin(np.pi * omega / 180)\n",
    "    ci = np.cos(np.pi * i / 180)\n",
    "    si = np.sin(np.pi * i / 180)\n",
    "\n",
    "    R = np.array([[cO * co - sO * so * ci, -cO * so - sO * co * ci, sO * si],\n",
    "                  [sO * co + cO * so * ci, -sO * so + cO * co * ci, -cO * si],\n",
    "                  [si * so, si * co, ci]])\n",
    "\n",
    "    return R\n"
   ]
  },
  {
   "cell_type": "markdown",
   "id": "c31845a4-a67b-4257-8d9f-6a38afa6a6f3",
   "metadata": {
    "execution": {
     "iopub.execute_input": "2023-07-26T05:23:23.305455Z",
     "iopub.status.busy": "2023-07-26T05:23:23.304489Z",
     "iopub.status.idle": "2023-07-26T05:23:24.085144Z",
     "shell.execute_reply": "2023-07-26T05:23:24.083942Z",
     "shell.execute_reply.started": "2023-07-26T05:23:23.305420Z"
    },
    "tags": []
   },
   "source": [
    "**_Function_**: `fullEllipse`\n",
    "\n",
    "_TBD_"
   ]
  },
  {
   "cell_type": "code",
   "execution_count": null,
   "id": "64f01d19-7d23-481d-8868-6c51d30aa9e3",
   "metadata": {
    "tags": []
   },
   "outputs": [],
   "source": [
    "def fullEllipse(a, e, i, Omega, omega):\n",
    "    \"\"\"\n",
    "    Computes the coordinates of the full ellipse in 3D space.\n",
    "    \"\"\"\n",
    "    E = np.linspace(0, 2 * np.pi, 2000)\n",
    "    q_vec = qVector(E, a, e)\n",
    "    Rot = rotationMatrix(omega, Omega, i)\n",
    "    x = np.einsum('ij, j...', Rot, q_vec)\n",
    "\n",
    "    return x"
   ]
  },
  {
   "cell_type": "markdown",
   "id": "5aa4dff9-38a1-4f1d-860e-f9e37a57531c",
   "metadata": {},
   "source": [
    "**_Function_**: `gradientFill`\n",
    "\n",
    "Plot a line with a linear gradient filled beneath it.\n",
    "\n",
    "This function is uesd when plotting eccentricy (or inclination) versus semi-major axis, and\n",
    "was taken from [Stack Overflow](https://stackoverflow.com/questions/29321835/is-it-possible-to-get-color-gradients-under-curve-in-matplotlib)."
   ]
  },
  {
   "cell_type": "code",
   "execution_count": null,
   "id": "455b69fa-5e11-4cb7-9c67-eced6a9381cb",
   "metadata": {
    "tags": []
   },
   "outputs": [],
   "source": [
    "def gradientFill(x, y, alpha=1, fill_color=None, ax=None, invert=False, **kwargs):\n",
    "    \"\"\"\n",
    "    Plot a line with a linear alpha gradient filled beneath it.\n",
    "\n",
    "    Parameters\n",
    "    ----------\n",
    "    x, y : array-like\n",
    "        The data values of the line.\n",
    "    alpha : float\n",
    "        Transparency for plotted element, 0 for transparent, 1 for opaque.\n",
    "    fill_color : a matplotlib color specifier (string, tuple) or None\n",
    "        The color for the fill. If None, the color of the line will be used.\n",
    "    ax : a matplotlib Axes instance\n",
    "        The axes to plot on. If None, the current pyplot axes will be used.\n",
    "    invert : boolean\n",
    "        Whether to invert the gradient.\n",
    "\n",
    "    Additional arguments are passed on to matplotlib's `plot` function.\n",
    "\n",
    "    Returns\n",
    "    -------\n",
    "    line : a Line2D instance\n",
    "        The line plotted.\n",
    "    im : an AxesImage instance\n",
    "        The transparent gradient clipped to just the area beneath the curve.\n",
    "    \"\"\"\n",
    "    if ax is None:\n",
    "        ax = plt.gca()\n",
    "\n",
    "    line, = ax.plot(x, y, alpha=0, **kwargs)\n",
    "    if fill_color is None:\n",
    "        fill_color = line.get_color()\n",
    "\n",
    "    zorder = line.get_zorder()\n",
    "#    alpha = line.get_alpha()\n",
    "#    alpha = 1.0 if alpha is None else alpha\n",
    "\n",
    "    z = np.empty((100, 1, 4), dtype=float)\n",
    "    rgb = mcolors.colorConverter.to_rgb(fill_color)\n",
    "    z[:, :, :3] = rgb\n",
    "    z[:, :, -1] = np.linspace(0, alpha, 100)[:, None]\n",
    "\n",
    "    xmin, xmax, ymin, ymax = x.min(), x.max(), y.min(), y.max()\n",
    "    im = ax.imshow(z, aspect='auto', extent=[xmin, xmax, ymin, ymax],\n",
    "                   origin='upper', zorder=zorder)\n",
    "\n",
    "    xy = np.column_stack([x, y])\n",
    "\n",
    "    if invert == 0:\n",
    "        xy = np.vstack([[xmin, ymin], xy, [xmax, ymin], [xmin, ymin]])\n",
    "    else:\n",
    "        xy = np.vstack([[xmax, ymax], xy, [xmin, ymax], [xmin, ymin]])\n",
    "\n",
    "    clip_path = Polygon(xy, facecolor='none', edgecolor='none', closed=True)\n",
    "    ax.add_patch(clip_path)\n",
    "    im.set_clip_path(clip_path)\n",
    "\n",
    "#    ax.autoscale(True)\n",
    "    return line, im"
   ]
  },
  {
   "cell_type": "markdown",
   "id": "6df7032a-0860-4f64-af46-f9db6b48c10b",
   "metadata": {},
   "source": [
    "**_Function_**: `plotResonances`\n",
    "\n",
    "Calculate mean motion resonances with Neptune and plot them as vertical dashed lines."
   ]
  },
  {
   "cell_type": "code",
   "execution_count": null,
   "id": "79632108-f376-4a5d-83fa-3a52ff22029b",
   "metadata": {
    "tags": []
   },
   "outputs": [],
   "source": [
    "def plotResonances(ax, k, k_N, y_loc=None, a_shift=0.75, alpha=0.2):\n",
    "    \"\"\"\n",
    "    Plot Neptune resonances.\n",
    "\n",
    "    Parameters\n",
    "    ----------\n",
    "    ax : `matplotlib...`\n",
    "       Figure axes.\n",
    "\n",
    "    \"\"\"\n",
    "    a_res = a_Neptune * np.cbrt(float(k)**2/float(k_N)**2)\n",
    "    ax.axvline(a_res, linewidth=2, alpha=alpha, linestyle='--')\n",
    "    if y_loc is not None:\n",
    "        ax.annotate(r'${}:{}$'.format(k, k_N),\n",
    "                    (a_res + a_shift, y_loc), rotation=90, fontsize=16)\n",
    "    return ax"
   ]
  },
  {
   "cell_type": "markdown",
   "id": "506c6836-efe7-4f6a-b5a1-81e0f65a0bf0",
   "metadata": {
    "execution": {
     "iopub.execute_input": "2023-07-25T00:26:00.464887Z",
     "iopub.status.busy": "2023-07-25T00:26:00.464477Z",
     "iopub.status.idle": "2023-07-25T00:26:01.116431Z",
     "shell.execute_reply": "2023-07-25T00:26:01.115215Z",
     "shell.execute_reply.started": "2023-07-25T00:26:00.464861Z"
    },
    "tags": []
   },
   "source": [
    "**_Parameters_**: Set plotting parameters to make visually accessible plots."
   ]
  },
  {
   "cell_type": "code",
   "execution_count": null,
   "id": "20b76f7e-8bee-482f-8a59-7e0ddfde813e",
   "metadata": {
    "tags": []
   },
   "outputs": [],
   "source": [
    "plt.style.use('tableau-colorblind10')\n",
    "\n",
    "params = {'lines.linewidth': 2,\n",
    "          'lines.linestyle': '-',\n",
    "          'lines.color': 'black',\n",
    "          'patch.linewidth': 2,\n",
    "          'font.family': 'serif',\n",
    "          'font.weight': 'medium',\n",
    "          'font.size': 14.0,\n",
    "          'text.color': 'black',\n",
    "          'axes.edgecolor': 'black',\n",
    "          'axes.linewidth': 2.0,\n",
    "          'axes.grid': False,\n",
    "          'axes.titlesize': 'xx-large',\n",
    "          'axes.labelsize': 'xx-large',\n",
    "          'axes.labelweight': 'medium',\n",
    "          'axes.labelcolor': 'black',\n",
    "          'axes.formatter.limits': (-4, 4),\n",
    "          'xtick.major.size': 10,\n",
    "          'xtick.minor.size': 5,\n",
    "          'xtick.major.pad': 8,\n",
    "          'xtick.minor.pad': 8,\n",
    "          'xtick.labelsize': 'xx-large',\n",
    "          'xtick.minor.width': 2.0,\n",
    "          'xtick.major.width': 2.0,\n",
    "          'xtick.minor.visible': True,\n",
    "          'ytick.major.size': 10,\n",
    "          'ytick.minor.size': 5,\n",
    "          'ytick.major.pad': 8,\n",
    "          'ytick.minor.pad': 8,\n",
    "          'ytick.labelsize': 'xx-large',\n",
    "          'ytick.minor.width': 1.0,\n",
    "          'ytick.major.width': 1.0,\n",
    "          'ytick.minor.visible': True,\n",
    "          'axes.prop_cycle': cycler('color',\n",
    "                                    ['xkcd:cerulean blue',\n",
    "                                     'xkcd:scarlet',\n",
    "                                     'xkcd:grass green',\n",
    "                                     'xkcd:light orange',\n",
    "                                     'xkcd:lighter purple',\n",
    "                                     'xkcd:bright aqua',\n",
    "                                     'xkcd:dirt brown',\n",
    "                                     'xkcd:gunmetal',\n",
    "                                     'xkcd:dark hot pink',\n",
    "                                     'xkcd:very dark brown']),\n",
    "          'legend.numpoints': 1,\n",
    "          'legend.fontsize': 'x-large',\n",
    "          'legend.shadow': False,\n",
    "          'legend.frameon': True,\n",
    "          'legend.fancybox': True,\n",
    "          'figure.titlesize': 'xx-large',\n",
    "          'figure.figsize': (8, 6),\n",
    "          'figure.facecolor': 'white'}\n",
    "plt.rcParams.update(params)"
   ]
  },
  {
   "cell_type": "markdown",
   "id": "15715491-5943-4d01-a148-75c1ee42c57d",
   "metadata": {},
   "source": [
    "## 2. Query the `MPCORB` table for all TNOs\n",
    "\n",
    "Start the TAP service for DP0.3 Solar System data, ``ssotap``."
   ]
  },
  {
   "cell_type": "code",
   "execution_count": null,
   "id": "061db9be-1333-4a21-a2be-4c6425d0512b",
   "metadata": {
    "tags": []
   },
   "outputs": [],
   "source": [
    "service = get_tap_service(\"ssotap\")"
   ]
  },
  {
   "cell_type": "markdown",
   "id": "8130937d-480a-4cd7-8d08-832c11916bbf",
   "metadata": {},
   "source": [
    "The contents of the `MPCORB` table are explored and explained in the introductory DP0.3 notebook.\n",
    "\n",
    "**Option:** Uncomment the following cell to view the column descriptions for the `MPCORB` catalog as a `pandas` table."
   ]
  },
  {
   "cell_type": "code",
   "execution_count": null,
   "id": "07f8002b-d500-4c74-9e71-74dca7d7ef7d",
   "metadata": {
    "tags": []
   },
   "outputs": [],
   "source": [
    "# results = service.search(\"SELECT column_name, datatype, description, \"\n",
    "#                          \"unit from TAP_SCHEMA.columns \"\n",
    "#                          \"WHERE table_name = 'dp03_catalogs.MPCORB'\")\n",
    "# results.to_table().to_pandas()"
   ]
  },
  {
   "cell_type": "markdown",
   "id": "80da6bcf-ffc5-4f6e-b687-a0fb0b017517",
   "metadata": {},
   "source": [
    "### 2.1 Create and execute the query\n",
    "\n",
    "Create a query that will retrive the Solar System object ID (`ssObjectid`);\n",
    "five orbital elements eccentricity (`e`), \n",
    "inclination (`incl`; degrees),\n",
    "perihelion distance (`q`; AU),\n",
    "longitude of the ascending node (`node`; degrees), \n",
    "and argument of the perihelion (`peri`; degrees);\n",
    "and the MPC's measured absolute $H$ and $G$ magnitudes (`mpcH` and `mpcG`).\n",
    "\n",
    "**Orbital elements:**\n",
    "For a refresher on what each orbital element means, the \n",
    "[Wikipedia page for orbital elements](https://en.wikipedia.org/wiki/Orbital_elementshttps://en.wikipedia.org/wiki/Orbital_elements)\n",
    "is a good place to start and has an informative diagram.\n",
    "\n",
    "**Absolute $H$ magnitudes:**\n",
    "For Solar System objects, absolute $H$ magnitudes are defined to be for an object 1 AU from the Sun and 1 AU \n",
    "from the observer, and at a phase angle (the angle Sun-object-Earth) of 0 degrees.\n",
    "Absolute $H$ magnitudes are derived by correcting for distance, fitting a function to the relationship between\n",
    "absolute magnitude and phase (the slope of which is referred to as the $G$ magnitude; `mpcG` in the `MPCORB` table), \n",
    "and evaluating the function at a phase of 0 deg.\n",
    "The $H$ and $G$ magnitudes in different filters can reveal the the surface properties and composition of asteroids.\n",
    "The $H$ magnitude is specifically used for objects that primarily reflect sunlight, such as asteroids, since their brightness depends on their distance from the Sun and the observer, \n",
    "and their \"albedo\" (the fraction of light reflected, from 0 to 1; see Section 3).\n",
    "\n",
    "**Minimum semi-major axis:**\n",
    "TNOs, by definition, have a semi-major axis greater than the mean semi-amjor axis of Neptune, 30.11 AU (`a_Neptune`).\n",
    "The semi-major axis ($a$) is not included in the `MPCORB` table because it\n",
    "can be derived from the eccentricity and perihelion distance as $a = \\frac{q}{1-e}$.\n",
    "Include a constraint in the query to only return objects with semi-major axes greater than this limit:<br>\n",
    "`WHERE (mpc.q / (1 - mpc.e) > {a_Neptune})`.\n",
    "\n",
    "**Minimum number of observations:**\n",
    "In order to robustly measure the absolute $H$ magnitudes and the orbital elements for a TNO,\n",
    "multiple observations over time are required. \n",
    "The minimum number of observations needed for a given analysis will depend on the science goals\n",
    "and the precision required, and is ultimately left to the discretion\n",
    "of the scientist.\n",
    "Here, as an example, use a limit of 10 observations (`min_num_obs`).\n",
    "The number of observations are stored in the `numObs` column of the `SSObject` table,\n",
    "so including this constraint requires a `JOIN` with this table.\n",
    "\n",
    "**Maximum eccentricity:**\n",
    "Finally, include the constraint that the eccentricity must be less than 1 to reject any \n",
    "TNOs with catastrophic failures in eccentricity calculations. \n",
    "\n",
    "**Execute the query:**\n",
    "The following query returns 48574 TNOs, which is about an order of magnitude greater than \n",
    "the current number of confirmed TNOs, and is consistent wth expectations and forecast for LSST Y10."
   ]
  },
  {
   "cell_type": "code",
   "execution_count": null,
   "id": "4aac9a02-b820-4d64-8291-420ca8c645ed",
   "metadata": {
    "tags": []
   },
   "outputs": [],
   "source": [
    "min_num_obs = 10\n",
    "tnos = service.search(\"SELECT mpc.ssObjectId, mpc.e, mpc.incl, mpc.q, \"\n",
    "                      \"mpc.node, mpc.peri, mpc.mpcH, mpc.mpcG \"\n",
    "                      \"FROM dp03_catalogs.MPCORB as mpc \"\n",
    "                      \"JOIN dp03_catalogs.SSObject as sso \"\n",
    "                      \"ON mpc.ssObjectId = sso.ssObjectId \"\n",
    "                      f\"WHERE (mpc.q / (1 - mpc.e) > {a_Neptune}) \"\n",
    "                      f\"AND sso.numObs > {min_num_obs} \"\n",
    "                      \"AND mpc.e < 1 \").to_table()\n",
    "print(len(tnos))"
   ]
  },
  {
   "cell_type": "markdown",
   "id": "ff6a1146-a2aa-406d-91f3-98ecdf6677af",
   "metadata": {},
   "source": [
    "### 2.1 Calculate semi-major axis\n",
    "\n",
    "Calculate the semi-major axis, `a`, for all TNOs and add it to the table."
   ]
  },
  {
   "cell_type": "code",
   "execution_count": null,
   "id": "5db1fea4-bacd-49c6-be75-b6d160989418",
   "metadata": {
    "tags": []
   },
   "outputs": [],
   "source": [
    "tnos['a'] = tnos['q'] / (1.0 - tnos['e'])"
   ]
  },
  {
   "cell_type": "markdown",
   "id": "ddd322be-56bc-4bf4-8f2e-1b92f4c10a81",
   "metadata": {},
   "source": [
    "## 3. Estimate diameters for TNOs\n",
    "\n",
    "**Albedos:**\n",
    "Knowing the albedo of an object is a challenge beyond the scope of this notebook.\n",
    "In order to demonstrate how to estimate diameters, an albedo value of 0.2 is assumed.\n",
    "\n",
    "> **Warning**: Calculating an accurate size for a Solar System object typically requires \n",
    "additional measurements, such as radar observations, or studying its shadow during occultations.\n",
    "\n",
    "Use the `estimateDiameter` function to estimate the diameters, in kilometers, for all of the TNOs."
   ]
  },
  {
   "cell_type": "code",
   "execution_count": null,
   "id": "f902ce8e-507d-46b3-b7b5-1064db1331b3",
   "metadata": {
    "tags": []
   },
   "outputs": [],
   "source": [
    "albedo = 0.2\n",
    "sizes_tnos = estimateDiameter(tnos['mpcH'], albedo=albedo)"
   ]
  },
  {
   "cell_type": "markdown",
   "id": "e9edc3c5-b7df-4ec7-9ec5-bb358ebeae26",
   "metadata": {},
   "source": [
    "Plot the distribution of estimated diameters."
   ]
  },
  {
   "cell_type": "code",
   "execution_count": null,
   "id": "a4a1d371-52c3-4286-aa8b-d6a0284ae316",
   "metadata": {
    "tags": []
   },
   "outputs": [],
   "source": [
    "fig, axs = plt.subplots(1, 1)\n",
    "\n",
    "axs.hist(sizes_tnos, bins=100)\n",
    "\n",
    "plt.xlim([0, 500])\n",
    "plt.xlabel('Estimated diameter (km)')\n",
    "plt.ylabel('Counts')\n",
    "plt.title(f\"TNO sizes for albedo = {albedo}\")"
   ]
  },
  {
   "cell_type": "markdown",
   "id": "7cecd564-65b6-44f7-9b5a-0cf43f574435",
   "metadata": {},
   "source": [
    "## 4. Explore the dynamical classes of TNOs\n",
    "\n",
    "The dynamical classes of TNOs are defined by their orbital parameters, \n",
    "which show clustering in the parameter space of eccentricity or inclination\n",
    "versus semi-major axis.\n",
    "\n",
    "To first explore the relationships between these orbital parameters,\n",
    "plot all of the TNOs together by executing the cell below.\n",
    "\n",
    "After, uncomment the two lines to `set_ylim` and `set_xlim`, and re-execute the following cell,\n",
    "to further zoom in and view the clustering in parameter space."
   ]
  },
  {
   "cell_type": "code",
   "execution_count": null,
   "id": "064d22fb-6dce-475b-a404-fdf495887b5a",
   "metadata": {
    "tags": []
   },
   "outputs": [],
   "source": [
    "fig, (ax1, ax2) = plt.subplots(2, 1, sharex=True, figsize=(8, 7))\n",
    "\n",
    "ax1.plot(tnos['a'], tnos['e'], 'o', ms=2, alpha=0.2, mew=0, color='black')\n",
    "ax1.set_ylabel('Eccentricity')\n",
    "\n",
    "ax2.plot(tnos['a'], tnos['incl'], 'o', ms=2, alpha=0.2, mew=0, color='black')\n",
    "ax2.set_ylabel('Inclination (deg)')\n",
    "ax2.set_xlabel('Semi-major axis (AU)')\n",
    "\n",
    "# ax1.set_ylim([-0.03, 0.7])\n",
    "# ax2.set_xlim([28, 100])\n",
    "\n",
    "plt.show()"
   ]
  },
  {
   "cell_type": "markdown",
   "id": "744002a6-7ecd-4350-b379-cf95521ce79a",
   "metadata": {},
   "source": [
    "**Why is there clustering in semi-major axis?**\n",
    "\n",
    "The clustering in semi-major axis is due to *resonances*.\n",
    "Since Neptune is so much more massive than a TNO, it influences the regions\n",
    "of orbital element parameter space that are stable, \n",
    "and orbits that are \"in resonance with Neptune\" are stable orbits for TNOs.\n",
    "\n",
    "TNOs with orbital periods that are in, for example, a 1:1 resonance with Neptune\n",
    "have the same period, $P$, and thus same semi-major axis, $a$, because $P^2 \\propto a^3$.\n",
    "TNOs in a 2:1 resonance with Neptune have double the period, and thus $\\sqrt[3]{4}$ times\n",
    "the semi-major axies, which is $\\sim47$ AU.\n",
    "The population of 2:1 resonant TNOs at $\\sim47$ AU$\\sim47$ AU will be labeled in the plot in Section 4.2 below."
   ]
  },
  {
   "cell_type": "markdown",
   "id": "c94ad184-59ac-40dc-9d85-bddb11c0a353",
   "metadata": {},
   "source": [
    "### 4.1 Use known dynamical class boundaries to identify members\n",
    "\n",
    "Below, define the boundaries to clasify the TNOs in the following dynamical classes: \n",
    "scattering, detached, classical, and extreme. \n",
    "\n",
    "> **Warning**: In the liternature, class definitions may vary!\n",
    "This notebook is using the same definitions as [Bernardinelli et al. (2022), ApJS](https://ui.adsabs.harvard.edu/abs/2022ApJS..258...41B/abstract),\n",
    "which found nearly 800 TNOs in the Dark Energy Survey Year 6 data,\n",
    "in order to recreate their Figure 8 below."
   ]
  },
  {
   "cell_type": "code",
   "execution_count": null,
   "id": "2aaeaa60-82f6-4188-abcd-9c318d46a259",
   "metadata": {
    "tags": []
   },
   "outputs": [],
   "source": [
    "max_a_classical = 47\n",
    "min_a_classical = 40\n",
    "max_e_classical = 0.24\n",
    "mask_classical = ((tnos['a'] >= min_a_classical) & (tnos['a'] <= max_a_classical)\n",
    "                  & (tnos['e'] <= max_e_classical))\n",
    "\n",
    "min_q_detached = 38\n",
    "mask_detached = ((tnos['a'] > max_a_classical) & (tnos['e'] > max_e_classical)\n",
    "                 & (tnos['q'] >= min_q_detached))\n",
    "\n",
    "mask_scattering = ~mask_classical & (tnos['q'] < min_q_detached)\n",
    "\n",
    "min_a_extreme = 150\n",
    "min_q_extreme = 30\n",
    "mask_extreme = (tnos['a'] > min_a_extreme) & (tnos['q'] > min_q_extreme)"
   ]
  },
  {
   "cell_type": "markdown",
   "id": "8a0fb75a-d176-498a-9cd8-3c9dd1e8e9bd",
   "metadata": {
    "execution": {
     "iopub.execute_input": "2023-07-23T04:43:42.971784Z",
     "iopub.status.busy": "2023-07-23T04:43:42.971466Z",
     "iopub.status.idle": "2023-07-23T04:43:42.976329Z",
     "shell.execute_reply": "2023-07-23T04:43:42.975701Z",
     "shell.execute_reply.started": "2023-07-23T04:43:42.971760Z"
    },
    "tags": []
   },
   "source": [
    "Create a new array called `classes` that contains strings labeling the dynamical class for each object.\n",
    "Initialize this array with the string \"Other\" to cover unclassified TNOs."
   ]
  },
  {
   "cell_type": "code",
   "execution_count": null,
   "id": "45ff38ad-e7d8-4f6d-8c78-3ef907385531",
   "metadata": {
    "tags": []
   },
   "outputs": [],
   "source": [
    "other_string = 'Other     '\n",
    "classes = np.repeat(other_string, len(tnos))"
   ]
  },
  {
   "cell_type": "code",
   "execution_count": null,
   "id": "978e2449-dd8d-4b1d-bac5-eef066ab2eca",
   "metadata": {
    "tags": []
   },
   "outputs": [],
   "source": [
    "classes[mask_classical] = 'Classical'\n",
    "classes[mask_detached] = 'Detached'\n",
    "classes[mask_scattering] = 'Scattering'\n",
    "classes[mask_extreme] = 'Extreme'"
   ]
  },
  {
   "cell_type": "markdown",
   "id": "98bd9816-77f3-4e92-b7a8-235e007c0d25",
   "metadata": {},
   "source": [
    "Take the whitespace out of the string where `classes` = 'Other'."
   ]
  },
  {
   "cell_type": "code",
   "execution_count": null,
   "id": "4bdf4596-3c6f-44ca-8e74-5638799a6e3c",
   "metadata": {
    "tags": []
   },
   "outputs": [],
   "source": [
    "tx = np.where(classes == other_string)[0]\n",
    "classes[tx] = 'Other'\n",
    "del tx"
   ]
  },
  {
   "cell_type": "markdown",
   "id": "5423e164-971f-4e32-a374-6bf9b44db711",
   "metadata": {},
   "source": [
    "Add the contents of the `classes` array as a new column to the TNO table."
   ]
  },
  {
   "cell_type": "code",
   "execution_count": null,
   "id": "abf9a96e-720b-4fbf-90ef-241ded618ee1",
   "metadata": {
    "tags": []
   },
   "outputs": [],
   "source": [
    "tnos['class'] = classes"
   ]
  },
  {
   "cell_type": "markdown",
   "id": "033e5437-a231-4414-9ec5-fa7a9b68076c",
   "metadata": {},
   "source": [
    "Confirm that the only unique values of the `class` column are the five classes defined above.\n",
    "\n",
    "Print the number of TNOs identified as each class."
   ]
  },
  {
   "cell_type": "code",
   "execution_count": null,
   "id": "1b47129f-fd16-469d-ad28-63a86c2c56d3",
   "metadata": {
    "tags": []
   },
   "outputs": [],
   "source": [
    "class_strings, class_counts = np.unique(tnos['class'], return_counts=True)\n",
    "for s, string in enumerate(class_strings):\n",
    "    print('%-12s %6i' % (class_strings[s], class_counts[s]))"
   ]
  },
  {
   "cell_type": "markdown",
   "id": "30e60010-c6d6-48e1-9339-1b7f4e5a9bb5",
   "metadata": {
    "execution": {
     "iopub.execute_input": "2023-07-25T04:44:26.373430Z",
     "iopub.status.busy": "2023-07-25T04:44:26.372614Z",
     "iopub.status.idle": "2023-07-25T04:44:26.834260Z",
     "shell.execute_reply": "2023-07-25T04:44:26.832870Z",
     "shell.execute_reply.started": "2023-07-25T04:44:26.373401Z"
    },
    "tags": []
   },
   "source": [
    "### 4.2 Visualize the dynamical classes\n",
    "\n",
    "Define five colors to use, one for each class."
   ]
  },
  {
   "cell_type": "code",
   "execution_count": null,
   "id": "04932e52-2f8a-4e95-bb2d-eb027a00915d",
   "metadata": {
    "tags": []
   },
   "outputs": [],
   "source": [
    "class_to_color = {'Other': 'xkcd:scarlet',\n",
    "                  'Classical': 'xkcd:light purple',\n",
    "                  'Detached': 'xkcd:light orange',\n",
    "                  'Extreme': 'xkcd:light pink',\n",
    "                  'Scattering': 'xkcd:cerulean blue'}"
   ]
  },
  {
   "cell_type": "markdown",
   "id": "7ebb1759-e0a2-438e-b866-24ff447eb0d8",
   "metadata": {},
   "source": [
    "Recreate Figure 8 from \n",
    "[Bernardinelli et al. (2022), ApJS](https://ui.adsabs.harvard.edu/abs/2022ApJS..258...41B/abstract),\n",
    "but impose a limit on semi-major axis of 100 AU which excludes the extreme dynamical class."
   ]
  },
  {
   "cell_type": "code",
   "execution_count": null,
   "id": "418000e0-6ed4-4107-b4ec-dad2c4eeca82",
   "metadata": {
    "tags": []
   },
   "outputs": [],
   "source": [
    "fig, (ax1, ax2) = plt.subplots(2, 1, sharex=True)\n",
    "fig.set_size_inches(12, 10)\n",
    "plt.subplots_adjust(wspace=0, hspace=0)\n",
    "plt.rcParams[\"image.composite_image\"] = False\n",
    "e = np.linspace(0, 0.99999, 10000)\n",
    "\n",
    "for i in [30, 35, 40, 45, 50, 55]:\n",
    "    ax1.plot(i / (1 - e), e, 'k--', alpha=0.3)\n",
    "\n",
    "for i, j in zip([1, 2, 3, 3, 4, 4, 5, 5, 11],\n",
    "                [1, 1, 1, 2, 1, 3, 2, 1, 2]):\n",
    "    ax1 = plotResonances(ax1, i, j, 0.8)\n",
    "    ax2 = plotResonances(ax2, i, j, )\n",
    "\n",
    "gradientFill(30 / (1 - e), e, ax=ax1, alpha=0.3, invert=True)\n",
    "\n",
    "gradientFill(min_q_detached / (1 - e)[e > max_e_classical], e[e > max_e_classical],\n",
    "             ax=ax1, alpha=0.3, color=class_to_color['Detached'])\n",
    "\n",
    "scat = np.append(30 / (1 - e), 35 / (1 - e)[::-1])\n",
    "scat_e = np.append(e, e[::-1])\n",
    "gradientFill(scat, scat_e, ax=ax1, alpha=0.3, color=class_to_color['Scattering'])\n",
    "\n",
    "cl = np.append(35 / (1 - e)[e < max_e_classical], 100)\n",
    "e_cl = np.append(e[e < max_e_classical], 0.24)\n",
    "gradientFill(cl, e_cl, ax=ax1, alpha=0.3, color=class_to_color['Classical'])\n",
    "\n",
    "gradientFill(np.array([20, 30, 30]), np.array([0, 0, 1]), invert=True, ax=ax1, alpha=0.5,\n",
    "             color=class_to_color['Other'])\n",
    "\n",
    "for c in ['Classical', 'Scattering', 'Detached', 'Other']:\n",
    "    b = tnos[tnos['class'] == c]\n",
    "    use_alpha = 0.9\n",
    "    if c == 'Classical':\n",
    "        use_alpha = 0.2\n",
    "    ax1.plot(b['a'], b['e'], '.', alpha=use_alpha, color=class_to_color[c])\n",
    "    ax2.plot(b['a'], b['incl'], '.', alpha=use_alpha, color=class_to_color[c])\n",
    "\n",
    "ax1.text(40, 0.6, r'$\\bf{Scattering}$', rotation=0, color=class_to_color['Scattering'], fontsize=18)\n",
    "ax1.text(85, 0.3, r'$\\bf{Detached}$', rotation=0, color=class_to_color['Detached'], fontsize=18)\n",
    "ax1.text(65, 0.1, r'$\\bf{Classical}$', rotation=0, color=class_to_color['Classical'], fontsize=18)\n",
    "\n",
    "ax2.set_xlabel('Semi-major axis (AU)')\n",
    "ax1.set_ylabel('Eccentricity')\n",
    "ax2.set_ylabel('Inclination (deg)')\n",
    "\n",
    "ax1.set_ylim(0, 1)\n",
    "ax2.set_ylim(0, 65)\n",
    "ax1.set_xlim(20, 100)\n",
    "ax2.set_xlim(20, 100)\n",
    "\n",
    "ax1.set_xticks(np.arange(20, 110, 10))\n",
    "ax1.set_yticks(np.arange(0, 1.1, 0.1))\n",
    "ax2.set_yticks(np.arange(0, 70, 10))\n",
    "\n",
    "plt.show()"
   ]
  },
  {
   "cell_type": "markdown",
   "id": "8323d329-5a28-4b46-ba0d-34e8a2d6f341",
   "metadata": {},
   "source": [
    "Extend the plot in semi-major axies to include \"extreme\" TNOs and objects from the Oort Cloud (comets).\n",
    "As none of the latter are included in the DP0.3 simulation, there are no points in the far-right part of the plot below."
   ]
  },
  {
   "cell_type": "code",
   "execution_count": null,
   "id": "53ef9bdf-3b85-4183-8526-5b597a16273f",
   "metadata": {
    "tags": []
   },
   "outputs": [],
   "source": [
    "fig, (ax1, ax2, ax3) = plt.subplots(1, 3, sharey=True)\n",
    "fig.set_size_inches(20, 8)\n",
    "plt.subplots_adjust(wspace=0, hspace=0)\n",
    "plt.rcParams[\"image.composite_image\"] = False\n",
    "e = np.linspace(0, 0.9999999, 10000)\n",
    "\n",
    "for i in [30, 35, 40, 45, 50, 55]:\n",
    "    ax1.plot(i / (1 - e), e, 'k--', alpha=0.3)\n",
    "    ax2.plot(i / (1 - e), e, 'k--', alpha=0.3)\n",
    "\n",
    "for i, j in zip([1, 2, 3, 3, 4, 4, 5, 5, 11],\n",
    "                [1, 1, 1, 2, 1, 3, 2, 1, 2]):\n",
    "    ax1 = plotResonances(ax1, i, j, 0.8)\n",
    "\n",
    "gradientFill(30 / (1 - e), e, ax=ax1, alpha=0.3, invert=True)\n",
    "\n",
    "a_det = 35 / (1 - e)[e > 0.24]\n",
    "e_det = e[e > 0.24]\n",
    "gradientFill(35 / (1 - e)[e > 0.24], e[e > 0.24], ax=ax1, alpha=0.3,\n",
    "             color=class_to_color['Detached'])\n",
    "gradientFill(a_det[a_det < 150], e_det[a_det < 150], ax=ax2, alpha=0.3,\n",
    "             color=class_to_color['Detached'])\n",
    "\n",
    "scat = np.append(30/(1-e), 35/(1-e)[::-1])\n",
    "scat_e = np.append(e, e[::-1])\n",
    "gradientFill(scat, scat_e, ax=ax1, alpha=0.3, color=class_to_color['Scattering'])\n",
    "gradientFill(scat, scat_e, ax=ax2, alpha=0.3, color=class_to_color['Scattering'])\n",
    "gradientFill(30 / (1 - e), e, ax=ax2, alpha=0.5, invert=True,\n",
    "             color=class_to_color['Scattering'])\n",
    "\n",
    "cl = np.append(35 / (1 - e)[e < 0.24], 150)\n",
    "msk = cl < 151\n",
    "e_cl = np.append(e[e < 0.24], 0.24)\n",
    "gradientFill(cl, e_cl, ax=ax1, alpha=0.3, color=class_to_color['Classical'])\n",
    "gradientFill(cl[msk], e_cl[msk], ax=ax2, alpha=0.3, color=class_to_color['Classical'])\n",
    "\n",
    "cl = np.append(35 / (1 - e)[e < 0.24], 150)\n",
    "e_cl = np.append(e[e < 0.24], 0.24)\n",
    "gradientFill(np.array([20, 30, 30]), np.array([0, 0, 1]), ax=ax1, alpha=0.5, invert=True,\n",
    "             color=class_to_color['Other'])\n",
    "\n",
    "a = 30 / (1 - e)\n",
    "gradientFill(np.append(150, a[a > 150]), np.append(0, e[a > 150]), ax=ax2,\n",
    "             alpha=0.3, color=class_to_color['Extreme'])\n",
    "gradientFill(np.append(150, a[a < 1000]), np.append(0, e[a < 1000]), ax=ax3,\n",
    "             alpha=0.3, color=class_to_color['Extreme'])\n",
    "\n",
    "gradientFill(np.array([1000, 300000, 300000]), np.array([0, 0, 1.1]), ax=ax3,\n",
    "             alpha=0.5, invert=True, color='xkcd:teal')\n",
    "\n",
    "for c in ['Classical', 'Scattering', 'Detached', 'Extreme', 'Other']:\n",
    "    b = tnos[tnos['class'] == c]\n",
    "    use_alpha = 0.9\n",
    "    if c == 'Classical':\n",
    "        use_alpha = 0.2\n",
    "    ax1.plot(b['a'], b['e'], '.', alpha=use_alpha, color=class_to_color[c])\n",
    "    ax2.plot(b['a'], b['e'], '.', alpha=use_alpha, color=class_to_color[c])\n",
    "\n",
    "ax1.text(40, 0.6, r'$\\bf{Scattering}$', rotation=0, color=class_to_color['Scattering'], fontsize=18)\n",
    "ax1.text(75, 0.3, r'$\\bf{Detached}$', rotation=0, color=class_to_color['Detached'], fontsize=18)\n",
    "ax1.text(65, 0.1, r'$\\bf{Classical}$', rotation=0, color=class_to_color['Classical'], fontsize=18)\n",
    "ax2.text(250, 0.5, r'$\\bf{Extreme}$', rotation=0, color=class_to_color['Extreme'], fontsize=20)\n",
    "ax3.text(10000, 0.5, r'$\\bf{Oort\\ Cloud}$', rotation=0, color='xkcd:teal', fontsize=20)\n",
    "\n",
    "fig.supxlabel('Semi-major axis (AU)')\n",
    "ax1.set_ylabel('Eccentricity')\n",
    "\n",
    "ax1.set_ylim(0, 1.01)\n",
    "ax1.set_xlim(20, 100)\n",
    "ax2.set_xlim(100, 500)\n",
    "ax3.set_xlim(300, 100000)\n",
    "\n",
    "ax1.set_yticks([0, 0.1, 0.2, 0.3, 0.4, 0.5, 0.6, 0.7, 0.8, 0.9, 1.0])\n",
    "ax3.set_xticks([1000, 10000, 100000], labels=['1000', '10000', '100000'])\n",
    "\n",
    "ax3.set_xscale('log')\n",
    "\n",
    "plt.show()"
   ]
  },
  {
   "cell_type": "markdown",
   "id": "c1c9830b-dea5-4d77-b153-49aed0287496",
   "metadata": {},
   "source": [
    "### 4.3 Characterize the dynamical classes\n",
    "\n",
    "For the classical, detached, and scattering classes of TNOs, compare distributions of their\n",
    "orbital elements, estimated diameters, and absolute $H$ magnitudes from the MPC.\n",
    "\n",
    "Note that in DP0.3 data, the `SSObject` table does not contain any _LSST-measured_ absolute $H$ magnitudes\n",
    "in the LSST's $ugrizy$ filters.\n",
    "The reason why (noisy phase curves) will be demonstrated in Section 6.\n",
    "\n",
    "First, define the subset of classes to use in the plots."
   ]
  },
  {
   "cell_type": "code",
   "execution_count": null,
   "id": "f919faa4-18e0-4eb2-a49f-74d39478b901",
   "metadata": {
    "tags": []
   },
   "outputs": [],
   "source": [
    "use_labels = ['Classical', 'Detached', 'Scattering', 'Other', 'Extreme']\n",
    "use_colors = []\n",
    "for label in use_labels:\n",
    "    use_colors.append(class_to_color[label])"
   ]
  },
  {
   "cell_type": "markdown",
   "id": "f066850f-cedf-4aef-ba6e-f2e5ab262e16",
   "metadata": {},
   "source": [
    "#### 4.3.1 Orbital elements\n",
    "\n",
    "Plot histograms of the two orbital elements that have not yet been explored:\n",
    "the longitude of the ascending node (`node`; degrees) and the argument of the perihelion (`peri`; degrees).\n",
    "\n",
    "Use log(number) for the y-axis to simultaneously show the different populations.\n",
    "\n",
    "Notice that the distributions for both the `node` and the `peri` for classical, detached, scattering, \n",
    "and other are all quite flat, but that the distribution for the extreme objects looks\n",
    "clustered at certain values.\n",
    "\n",
    "Clustering of the orbital elements for extreme objects is a phenomenon that some researchers \n",
    "argue is evidence in favor of the existence of a large body in the outer Solar System.\n",
    "A statistical analysis that demonstrates whether this apparent clustering could be\n",
    "attributed to small-numbers of objects or not is beyond the scope of this tutorial."
   ]
  },
  {
   "cell_type": "code",
   "execution_count": null,
   "id": "a5402aae-050e-4332-926b-eb4cb5b0c2b0",
   "metadata": {
    "tags": []
   },
   "outputs": [],
   "source": [
    "nbins = 25\n",
    "for label in use_labels:\n",
    "    if label == 'Extreme':\n",
    "        nbins = 10\n",
    "    tx = np.where(tnos['class'] == label)[0]\n",
    "    plt.hist(tnos['node'][tx], bins=nbins, range=(0, 360),\n",
    "             histtype='step', log=True,\n",
    "             color=class_to_color[label], label=label)\n",
    "plt.xlabel('longitude of ascending node (deg)')\n",
    "plt.ylabel('log number of TNOs')\n",
    "plt.show()"
   ]
  },
  {
   "cell_type": "code",
   "execution_count": null,
   "id": "1759a308-bf85-4fe0-bbaa-c1b395a53766",
   "metadata": {
    "tags": []
   },
   "outputs": [],
   "source": [
    "nbins = 25\n",
    "for label in use_labels:\n",
    "    if label == 'Extreme':\n",
    "        nbins = 10\n",
    "    tx = np.where(tnos['class'] == label)[0]\n",
    "    plt.hist(tnos['peri'][tx], bins=nbins, range=(0, 360),\n",
    "             histtype='step', log=True,\n",
    "             color=class_to_color[label], label=label)\n",
    "plt.xlabel('argument of perihelion (deg)')\n",
    "plt.ylabel('log number of TNOs')\n",
    "plt.show()"
   ]
  },
  {
   "cell_type": "markdown",
   "id": "232a4f72-65c3-44a4-91dc-2196c884f4f3",
   "metadata": {},
   "source": [
    "#### 4.3.2 Estimated diameters\n",
    "\n",
    "Estimate the diameter of all TNOs using an assumed albedo of 0.2."
   ]
  },
  {
   "cell_type": "code",
   "execution_count": null,
   "id": "94bdf119-489e-49f4-97a3-2b9e48784405",
   "metadata": {
    "tags": []
   },
   "outputs": [],
   "source": [
    "tnos['d'] = estimateDiameter(tnos['mpcH'], albedo=0.2)"
   ]
  },
  {
   "cell_type": "markdown",
   "id": "e4373e5a-c16c-4317-b235-451a0c2ad299",
   "metadata": {},
   "source": [
    "Plot the estimated size distribution for these TNOs.\n",
    "\n",
    "Notice that the x-axis limit is set to 400 km.\n",
    "Adjust the limits to explore TNOs with larger estimated radii."
   ]
  },
  {
   "cell_type": "code",
   "execution_count": null,
   "id": "42913b8a-539c-475f-a6c0-cf7ce97e0777",
   "metadata": {
    "tags": []
   },
   "outputs": [],
   "source": [
    "nbins = 100\n",
    "for label in use_labels:\n",
    "    if label == 'Extreme':\n",
    "        nbins = 5\n",
    "    tx = np.where(tnos['class'] == label)[0]\n",
    "    plt.hist(tnos['d'][tx], bins=nbins, histtype='step', density=True,\n",
    "             color=class_to_color[label], label=label)\n",
    "plt.xlabel('estimated diameter (km)')\n",
    "plt.ylabel('fraction of TNOs')\n",
    "plt.xlim([0, 400])\n",
    "plt.legend(loc='best')\n",
    "plt.show()"
   ]
  },
  {
   "cell_type": "markdown",
   "id": "e0ddc8b7-6026-4446-a6ac-7467cd622135",
   "metadata": {},
   "source": [
    "#### 4.3.3 Absolute magnitude\n",
    "\n",
    "Print to screen the minimum and maximum values of \n",
    "the MPC absolute $G$ magnitudes, and notice that the MPC assumes a slope \n",
    "of $G=0.15$ for all DP0.3 TNOs.\n",
    "It is not worth creating a plot of the distribution for absolute $G$ magnitudes."
   ]
  },
  {
   "cell_type": "code",
   "execution_count": null,
   "id": "62a34f7f-fbb5-470d-9271-bdbd6bbc90c8",
   "metadata": {
    "tags": []
   },
   "outputs": [],
   "source": [
    "for label in use_labels:\n",
    "    tx = np.where(tnos['class'] == label)[0]\n",
    "    print('%-12s   min G = %4.2f   max G = %4.2f' %\n",
    "          (label, np.min(tnos['mpcG'][tx]), np.max(tnos['mpcG'][tx])))"
   ]
  },
  {
   "cell_type": "markdown",
   "id": "2562e97e-9d2f-4269-af2f-e1ab86fa9e9e",
   "metadata": {},
   "source": [
    "Plot the distribution of MPC absolute $H$ magnitudes for these TNOs.\n",
    "\n",
    "Notice the tail to bright magnitudes for detached objects, similar\n",
    "as the tail to objects with larger size estimates above."
   ]
  },
  {
   "cell_type": "code",
   "execution_count": null,
   "id": "21572c92-607f-430e-b965-dfdc4b2f2aee",
   "metadata": {
    "tags": []
   },
   "outputs": [],
   "source": [
    "nbins = 50\n",
    "for label in use_labels:\n",
    "    if label == 'Extreme':\n",
    "        nbins = 5\n",
    "    tx = np.where(tnos['class'] == label)[0]\n",
    "    plt.hist(tnos['mpcH'][tx], bins=nbins, histtype='step', density=True,\n",
    "             color=class_to_color[label], label=label)\n",
    "plt.xlabel('MPC absolute H magnitude')\n",
    "plt.ylabel('fraction of TNOs')\n",
    "plt.legend(loc='upper left')\n",
    "plt.show()"
   ]
  },
  {
   "cell_type": "markdown",
   "id": "10f88136-da46-468c-b0c0-4a5740fcc633",
   "metadata": {},
   "source": [
    "#### 4.3.4 Summary\n",
    "\n",
    "Interpreting exactly why these distributions are\n",
    "different for the different TNO dynamical classes is beyond the scope of this tutorial,\n",
    "and an ongoing area of planetary science research."
   ]
  },
  {
   "cell_type": "markdown",
   "id": "37663b79-daa5-45ad-ba1d-3a1e6023a90f",
   "metadata": {},
   "source": [
    "## 5. Visualize orbits for each dynamical class\n",
    "\n",
    "Use the MPC-derived orbital elements from the TNOs to visualize their orbits, \n",
    "and look for patterns in orbits of different dynamical classes."
   ]
  },
  {
   "cell_type": "markdown",
   "id": "dbb6a5d2-1428-4bb6-89fb-2939963c40bb",
   "metadata": {},
   "source": [
    "### 5.1 Calculate the full orbital ellipse per object\n",
    "\n",
    "Calculate the full ellipse of the orbit for each TNO, based on their\n",
    "orbital elements, using the `fullEllipse` function. \n",
    "Add the full ellipse to the `tnos` table as a new column."
   ]
  },
  {
   "cell_type": "code",
   "execution_count": null,
   "id": "963f5c42-0e54-4e22-aa9b-acdc8dcc54b6",
   "metadata": {
    "tags": []
   },
   "outputs": [],
   "source": [
    "temp = []\n",
    "for tno in tnos:\n",
    "    temp.append(fullEllipse(tno['a'], tno['e'], tno['incl'], tno['node'], tno['peri']))\n",
    "tnos['fullEllipse'] = temp\n",
    "del temp"
   ]
  },
  {
   "cell_type": "markdown",
   "id": "d5159696-2cdc-4262-b178-5cb5ea0307b2",
   "metadata": {},
   "source": [
    "Plot the full ellipse for the first 100 objects, as an example."
   ]
  },
  {
   "cell_type": "code",
   "execution_count": null,
   "id": "8b06f6f7-dc26-4e41-83bf-1ebca91ba231",
   "metadata": {
    "tags": []
   },
   "outputs": [],
   "source": [
    "for tno in tnos[:100]:\n",
    "    plt.plot(tno['fullEllipse'][:, 0], tno['fullEllipse'][:, 1], alpha=0.3)"
   ]
  },
  {
   "cell_type": "markdown",
   "id": "2b79038d-f78e-42f0-9ccb-b0a252539535",
   "metadata": {},
   "source": [
    "### 5.2 Illustrate the orbits of each dynamical class\n",
    "\n",
    "Plot the first 10 examples of orbits in each dynamical class in a 2x2 grid."
   ]
  },
  {
   "cell_type": "code",
   "execution_count": null,
   "id": "3a9ee378-429f-4883-b13c-d53ed1483626",
   "metadata": {
    "tags": []
   },
   "outputs": [],
   "source": [
    "fig, ax = plt.subplots(2, 2)\n",
    "fig.set_size_inches(8, 7)\n",
    "plt.rcParams[\"image.composite_image\"] = False\n",
    "\n",
    "use_class = 'Classical'\n",
    "for tno in tnos[tnos['class'] == use_class][:10]:\n",
    "    ax[0, 0].plot(tno['fullEllipse'][:, 0], tno['fullEllipse'][:, 1],\n",
    "                  color=class_to_color[use_class], alpha=0.3)\n",
    "\n",
    "use_class = 'Scattering'\n",
    "for tno in tnos[tnos['class'] == use_class][:10]:\n",
    "    ax[0, 1].plot(tno['fullEllipse'][:, 0], tno['fullEllipse'][:, 1],\n",
    "                  color=class_to_color[use_class], alpha=0.3)\n",
    "\n",
    "use_class = 'Detached'\n",
    "for tno in tnos[tnos['class'] == use_class][:10]:\n",
    "    ax[1, 0].plot(tno['fullEllipse'][:, 0], tno['fullEllipse'][:, 1],\n",
    "                  color=class_to_color[use_class], alpha=0.3)\n",
    "\n",
    "use_class = 'Extreme'\n",
    "for tno in tnos[tnos['class'] == use_class][:10]:\n",
    "    ax[1, 1].plot(tno['fullEllipse'][:, 0], tno['fullEllipse'][:, 1],\n",
    "                  color=class_to_color[use_class], alpha=0.3)\n",
    "\n",
    "plt.tight_layout()\n",
    "plt.show()"
   ]
  },
  {
   "cell_type": "code",
   "execution_count": null,
   "id": "85483a2a-c004-402b-b82c-4fc3eb513ff0",
   "metadata": {},
   "outputs": [],
   "source": []
  },
  {
   "cell_type": "code",
   "execution_count": null,
   "id": "54561b3a-a0b6-48b1-8caf-37b7741ce400",
   "metadata": {},
   "outputs": [],
   "source": []
  },
  {
   "cell_type": "code",
   "execution_count": null,
   "id": "928de21f-ebc4-458f-9c79-3d31aa171ff6",
   "metadata": {
    "tags": []
   },
   "outputs": [],
   "source": [
    "# fig = plt.figure()\n",
    "# fig.set_size_inches(5, 5)\n",
    "# plt.rcParams['figure.facecolor'] = 'white'\n",
    "# plt.axes().set_aspect('equal')\n",
    "# colors = {'Resonant' : '#9ed4bf', 'Classical' : '#9ed4bf', 'Scattering': '#9ed4bf',\n",
    "#           'Detached' : '#9ed4bf', 'Oort cloud' : '#9ed4bf', 'Inner Centaur' : '#9ed4bf'}\n",
    "# alphas = {'Resonant' : 0.1, 'Classical' : 0.1, 'Scattering' : 0.1, 'Detached': 0.1, 'Inner Centaur' : 0.1, 'Oort cloud' : 0.1}\n",
    "# alphas_dist = {'Resonant' : 0.2, 'Classical' : 0.2, 'Scattering' : 0.2, 'Detached': 0.2, 'Inner Centaur' : 0.2, 'Oort cloud' :0.2}\n",
    "# tnos.sort('a')\n",
    "# for i in tnos[tnos['class'] == 'Extreme']:\n",
    "#     plt.plot(i['fullEllipse'][:,0], i['fullEllipse'][:,1], 'xkcd:scarlet',\n",
    "#              linewidth=3, alpha=0.7)\n",
    "# plt.xlim(-1000,1000)\n",
    "# plt.ylim(-1000,1000)\n",
    "# plt.axis('off')\n",
    "# plt.show()"
   ]
  },
  {
   "cell_type": "code",
   "execution_count": null,
   "id": "2f3efb07-676e-47cb-956b-19afe6f48445",
   "metadata": {},
   "outputs": [],
   "source": [
    "# From Pedro: \" The above results is expected, and it also says a lot about expected results from LSST!\n",
    "#The S3M model predates the whole Planet 9 stuff (and is old enough that these more exotic \n",
    "# populations are not representative of what we have learned from the more recent surveys)\n",
    "#But this does an excellent job of showing that LSST will see the signal or not easily!\""
   ]
  },
  {
   "cell_type": "markdown",
   "id": "9655a9d3-4ece-49d8-be75-a6b2156e8d60",
   "metadata": {},
   "source": [
    "## 6. Visualize a TNO in the deep drilling field\n",
    "\n",
    "Since TNOs are distant they move slowly across the sky, with motions as low as \n",
    "a few degrees over 10 years, the duration of the LSST survey.\n",
    "\n",
    "As the LSST Deep Drilling Fields (add link) are the size of the field of view of the  \n",
    "LSST Science Camera, 9.6 square degrees, and recieve thousands of visits (observations)\n",
    "over the 10 year survey, a single TNO can have a great many observations.\n",
    "\n",
    "See Step 2 of:\n",
    "https://github.com/lsst/dp0-3_lsst_io/blob/tickets/PREOPS-3498/tutorials-dp0-3/portal-dp0-3-3.rst\n",
    "\n",
    "First do a query that gets you all the TNOs with the most number of observations.\n",
    "\n",
    "Then single out the one with ssObjectId = -735085100561880491.\n",
    "\n",
    "Then proceed with the following. If you can color the plot below by date like in the Portal tutorial that would be great."
   ]
  },
  {
   "cell_type": "code",
   "execution_count": null,
   "id": "d79c43a7-931b-4cbe-92bd-3d317dfed4e0",
   "metadata": {},
   "outputs": [],
   "source": []
  },
  {
   "cell_type": "code",
   "execution_count": null,
   "id": "75174782-c60f-41d6-a901-0e538ae20498",
   "metadata": {
    "tags": []
   },
   "outputs": [],
   "source": [
    "my_object = service.search(\"SELECT ra, decl, mag, filter, midPointTai \"\n",
    "                           \"FROM dp03_catalogs.DiaSource \"\n",
    "                           \"WHERE ssObjectId = -735085100561880491\").to_table()"
   ]
  },
  {
   "cell_type": "code",
   "execution_count": null,
   "id": "2d87c65d-4ee8-4e13-bc06-5cb0a08faa94",
   "metadata": {
    "tags": []
   },
   "outputs": [],
   "source": [
    "plt.rcParams['figure.facecolor'] = 'white'"
   ]
  },
  {
   "cell_type": "code",
   "execution_count": null,
   "id": "da23d949-c608-42f0-b0ea-b2c39988c0b7",
   "metadata": {
    "tags": []
   },
   "outputs": [],
   "source": [
    "plt.plot(my_object['ra'], my_object['decl'], 'o', alpha=0.5, mew=0)\n",
    "plt.xlabel('RA (deg)')\n",
    "plt.ylabel('Dec (deg)')\n",
    "plt.show()"
   ]
  },
  {
   "cell_type": "code",
   "execution_count": null,
   "id": "a4ef7a5f-d793-44d7-b68d-efacf9b9d636",
   "metadata": {},
   "outputs": [],
   "source": []
  },
  {
   "cell_type": "markdown",
   "id": "c34c9f68-5e03-4ed0-bf37-a614e914960c",
   "metadata": {},
   "source": [
    "## 7. Exercises for the learner\n",
    "\n",
    "1. Define cuts and plot the \"Resonant\" class in the e-i-a plots. \n",
    "\n",
    "2. Try estimating sizes with different albedos.\n",
    "\n",
    "3. In Section 4.3.1, it was left unclear whether the apparent clustering in the orbital\n",
    "elements of 'Extreme' dynamical class members could simply be due to low numbers, or whether\n",
    "it might be significant.\n",
    "Design a statistical analysis that evaluates this."
   ]
  },
  {
   "cell_type": "code",
   "execution_count": null,
   "id": "27f06e15-b8fb-4c5c-9f71-58acb7119a86",
   "metadata": {},
   "outputs": [],
   "source": []
  }
 ],
 "metadata": {
  "kernelspec": {
   "display_name": "LSST",
   "language": "python",
   "name": "lsst"
  },
  "language_info": {
   "codemirror_mode": {
    "name": "ipython",
    "version": 3
   },
   "file_extension": ".py",
   "mimetype": "text/x-python",
   "name": "python",
   "nbconvert_exporter": "python",
   "pygments_lexer": "ipython3",
   "version": "3.10.10"
  }
 },
 "nbformat": 4,
 "nbformat_minor": 5
}
