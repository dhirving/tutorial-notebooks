{
 "cells": [
  {
   "cell_type": "markdown",
   "id": "749b0ddf",
   "metadata": {},
   "source": [
    "<img align=\"left\" src = https://project.lsst.org/sites/default/files/Rubin-O-Logo_0.png width=250 style=\"padding: 10px\"> \n",
    "<br>\n",
    "<b>Using User-supplied Catalogs</b> <br>\n",
    "Contact authors: Yumi Choi <br>\n",
    "Last verified to run: 2024-04-XX <br>\n",
    "LSST Science Piplines version: Weekly 2024_04 <br>\n",
    "Container Size: small <br>\n",
    "Targeted learning level: Beginner <br>"
   ]
  },
  {
   "cell_type": "markdown",
   "id": "9da1a210-d858-42fe-8591-570965b8be1a",
   "metadata": {},
   "source": [
    "**Description:** Demonstrates a functionality for user-uploaded tables and their use in queries for DP0.3 "
   ]
  },
  {
   "cell_type": "markdown",
   "id": "80a0baf5-51ad-40ec-8991-060a7b27c289",
   "metadata": {},
   "source": [
    "**Skills:** Use the TAP service, API to Gaia to make a table, and ADQL to access the DP0.3 tables."
   ]
  },
  {
   "cell_type": "markdown",
   "id": "393da88f-7978-4920-aa4a-a9830df6eed9",
   "metadata": {},
   "source": [
    "**LSST Data Products:** TAP tables dp03_catalogs_10yr.SSObject, dp03_catalogs_10yr.MPCORB, dp03_catalogs_10yr.DiaSource, dp03_catalogs_10yr.SSSource"
   ]
  },
  {
   "cell_type": "markdown",
   "id": "5c67fab9-136a-4adc-bb42-142b91ab69dd",
   "metadata": {},
   "source": [
    "**Packages:** lsst.rsp.get_tap_service"
   ]
  },
  {
   "cell_type": "markdown",
   "id": "8f72b27f",
   "metadata": {},
   "source": [
    "**Credit:**\n",
    "Developed by Yumi Choi. This tutorial is basically a combination of <a href=\"https://dp0-3.lsst.io/tutorials-dp0-3/portal-dp0-3-5.html\">a Portal tutorial</a> by Christina Williams for user-uploaded tables and their use in queries for DP0.3 and <a href=\"https://github.com/rubin-dp0/cst-dev/blob/main/MLG_sandbox/DP03/gaia_hack_day_Feb2024.ipynb\">a Jupyter Notebook</a> by Melissan Graham and Jeke Kurlander for accessing Gaia data and matching with DP0.3 data for solar system objects."
   ]
  },
  {
   "cell_type": "markdown",
   "id": "a400d1bb-e1ec-4160-bd41-bc7ca953a97c",
   "metadata": {
    "execution": {
     "iopub.execute_input": "2023-07-27T17:55:39.523317Z",
     "iopub.status.busy": "2023-07-27T17:55:39.522902Z",
     "iopub.status.idle": "2023-07-27T17:55:40.035942Z",
     "shell.execute_reply": "2023-07-27T17:55:40.034503Z",
     "shell.execute_reply.started": "2023-07-27T17:55:39.523290Z"
    },
    "tags": []
   },
   "source": [
    "**Get Support:** Find DP0.3-related documentation and resources at <a href=\"https://dp0-3.lsst.io\">dp0-3.lsst.io</a>. Questions are welcome as new topics in the <a href=\"https://community.lsst.org/c/support/dp0\">Support - Data Preview 0 Category</a> of the Rubin Community Forum. Rubin staff will respond to all questions posted there."
   ]
  },
  {
   "attachments": {},
   "cell_type": "markdown",
   "id": "cfc73be0",
   "metadata": {
    "tags": []
   },
   "source": [
    "## 1. Introduction\n",
    "\n",
    "This notebook explores ..."
   ]
  },
  {
   "cell_type": "markdown",
   "id": "5bf722b4-8227-441f-9f3e-0f8140040fc1",
   "metadata": {
    "tags": []
   },
   "source": [
    "### 1.1 Package Imports\n",
    "\n",
    "The [matplotlib](https://matplotlib.org/) (and especially sublibrary `matplotlib.pyplot`), [numpy](http://www.numpy.org/), and [scipy](https://scipy.org/) libraries are widely used Python libraries for plotting and scientific computing, and model fitting.\n",
    "\n",
    "The `lsst.rsp` package provides access to the Table Access Protocol (TAP) service for queries to the DP0 catalogs.\n",
    "\n",
    "The [seaborn](https://seaborn.pydata.org/) package provides statistical data visualization with aesthetic and informative graphics.\n",
    "\n",
    "The [sbpy](https://sbpy.org) package is an `Astropy` affiliated package for small-body planetary astronomy."
   ]
  },
  {
   "cell_type": "code",
   "execution_count": 211,
   "id": "4d4078a1-8232-4f11-97ec-2a67ca19308e",
   "metadata": {
    "execution": {
     "iopub.execute_input": "2024-04-08T23:02:39.446435Z",
     "iopub.status.busy": "2024-04-08T23:02:39.445644Z",
     "iopub.status.idle": "2024-04-08T23:02:39.450262Z",
     "shell.execute_reply": "2024-04-08T23:02:39.449619Z",
     "shell.execute_reply.started": "2024-04-08T23:02:39.446406Z"
    }
   },
   "outputs": [],
   "source": [
    "import numpy as np\n",
    "import matplotlib.pyplot as plt\n",
    "import pyvo\n",
    "from astropy.table import Table\n",
    "import pandas as pd\n",
    "import os\n",
    "import getpass\n",
    "\n",
    "from lsst.rsp import get_tap_service"
   ]
  },
  {
   "cell_type": "markdown",
   "id": "c217adff-25ed-4fce-95e7-8aa04630f6cc",
   "metadata": {},
   "source": [
    "### 1.2 Define Parameters and Get a Path to My Home Directory"
   ]
  },
  {
   "cell_type": "markdown",
   "id": "8a4a8b3b-91cf-4729-a707-99b7b11a5b8d",
   "metadata": {},
   "source": [
    "#### 1.2.1 Set up some plotting defaults"
   ]
  },
  {
   "cell_type": "code",
   "execution_count": 13,
   "id": "c780a382-5c5e-4f20-9ffd-7aa517c37146",
   "metadata": {
    "execution": {
     "iopub.execute_input": "2024-04-08T19:18:02.382267Z",
     "iopub.status.busy": "2024-04-08T19:18:02.381299Z",
     "iopub.status.idle": "2024-04-08T19:18:02.385834Z",
     "shell.execute_reply": "2024-04-08T19:18:02.385210Z",
     "shell.execute_reply.started": "2024-04-08T19:18:02.382240Z"
    },
    "tags": []
   },
   "outputs": [],
   "source": [
    "plt.style.use('tableau-colorblind10')\n",
    "params = {'axes.labelsize': 15,\n",
    "          'font.size': 15,\n",
    "          'legend.fontsize': 12}\n",
    "plt.rcParams.update(params)"
   ]
  },
  {
   "cell_type": "markdown",
   "id": "5d85070a-bf10-4290-b63a-2b5754151fa6",
   "metadata": {
    "tags": []
   },
   "source": [
    "Set up colors and plot symbols corresponding to the $g,r,i,z$ bands since there are no $u$ and $y$ band data in the DP0.3 catalogs. These colors are the same as those used for $g,r,i,z$ bands in Dark Energy Survey (DES) publications, and are defined in <a href=\"https://github.com/DarkEnergySurvey/descolors\">this github repository</a>."
   ]
  },
  {
   "cell_type": "code",
   "execution_count": 14,
   "id": "3d5cd10e-7ab9-42a3-ac3b-d12cee04966b",
   "metadata": {
    "execution": {
     "iopub.execute_input": "2024-04-08T19:18:03.282847Z",
     "iopub.status.busy": "2024-04-08T19:18:03.281760Z",
     "iopub.status.idle": "2024-04-08T19:18:03.286998Z",
     "shell.execute_reply": "2024-04-08T19:18:03.286071Z",
     "shell.execute_reply.started": "2024-04-08T19:18:03.282816Z"
    },
    "tags": []
   },
   "outputs": [],
   "source": [
    "filts = ['g', 'r', 'i', 'z']\n",
    "filter_colors = {'g': '#008060', 'r': '#ff4000', 'i': '#850000', 'z': '#6600cc'}"
   ]
  },
  {
   "cell_type": "markdown",
   "id": "12ab5a66-b37d-4a3b-b207-b95a68c7a7a7",
   "metadata": {},
   "source": [
    "#### 1.2.2 Get a path to my home directory"
   ]
  },
  {
   "cell_type": "code",
   "execution_count": 213,
   "id": "f60d078e-a8b1-4925-8368-fe41064a1fa4",
   "metadata": {
    "execution": {
     "iopub.execute_input": "2024-04-08T23:05:04.663903Z",
     "iopub.status.busy": "2024-04-08T23:05:04.662853Z",
     "iopub.status.idle": "2024-04-08T23:05:04.668994Z",
     "shell.execute_reply": "2024-04-08T23:05:04.667987Z",
     "shell.execute_reply.started": "2024-04-08T23:05:04.663854Z"
    }
   },
   "outputs": [
    {
     "name": "stdout",
     "output_type": "stream",
     "text": [
      "/home/galaxyumi331/\n"
     ]
    }
   ],
   "source": [
    "my_username = getpass.getuser()\n",
    "my_home_dir = '/home/' + my_username + '/'\n",
    "print(my_home_dir)"
   ]
  },
  {
   "cell_type": "markdown",
   "id": "ec51ac0b",
   "metadata": {
    "tags": []
   },
   "source": [
    "## 2. A user-supplied table of coordinates for use in cone searches\n",
    "\n",
    "The same example table for cone searches used in <a href=\"https://dp0-3.lsst.io/tutorials-dp0-3/portal-dp0-3-5.html\">this Portal tutorial</a> is stored in data/ directory. \n",
    "\n",
    "### 2.1 Create the Rubin TAP Service Client\n",
    "\n",
    "Get an instance of the TAP service, and assert that it exists."
   ]
  },
  {
   "cell_type": "code",
   "execution_count": 15,
   "id": "81b8cd59-1ba3-4eaa-846f-6478ed0c3cf5",
   "metadata": {
    "execution": {
     "iopub.execute_input": "2024-04-08T19:44:47.883093Z",
     "iopub.status.busy": "2024-04-08T19:44:47.882008Z",
     "iopub.status.idle": "2024-04-08T19:44:47.954644Z",
     "shell.execute_reply": "2024-04-08T19:44:47.953791Z",
     "shell.execute_reply.started": "2024-04-08T19:44:47.883056Z"
    },
    "tags": []
   },
   "outputs": [],
   "source": [
    "service = get_tap_service(\"ssotap\")\n",
    "assert service is not None"
   ]
  },
  {
   "cell_type": "markdown",
   "id": "bf968de5-ce59-41c9-88f0-83cd88bdc083",
   "metadata": {},
   "source": [
    "### 2.2 Load a user-supplied table of coordinates and execute cone searches against the `diaSource` table using a 10'' search radius"
   ]
  },
  {
   "cell_type": "code",
   "execution_count": 214,
   "id": "220c90e6-5399-46c4-a1dc-49219c7f46fd",
   "metadata": {
    "execution": {
     "iopub.execute_input": "2024-04-08T23:06:40.451850Z",
     "iopub.status.busy": "2024-04-08T23:06:40.451018Z",
     "iopub.status.idle": "2024-04-08T23:06:40.458550Z",
     "shell.execute_reply": "2024-04-08T23:06:40.457809Z",
     "shell.execute_reply.started": "2024-04-08T23:06:40.451826Z"
    }
   },
   "outputs": [],
   "source": [
    "df_cat_1 = pd.read_csv(my_home_dir+'portal_tut05_useruploadcat1.cat', sep='\\t')\n",
    "t_cat_1 = Table.from_pandas(df_cat_1)"
   ]
  },
  {
   "cell_type": "code",
   "execution_count": 215,
   "id": "184ee9e9-c038-4aad-bbe1-87367794e63d",
   "metadata": {
    "execution": {
     "iopub.execute_input": "2024-04-08T23:06:47.084139Z",
     "iopub.status.busy": "2024-04-08T23:06:47.083173Z",
     "iopub.status.idle": "2024-04-08T23:06:48.853855Z",
     "shell.execute_reply": "2024-04-08T23:06:48.853045Z",
     "shell.execute_reply.started": "2024-04-08T23:06:47.084114Z"
    }
   },
   "outputs": [
    {
     "data": {
      "text/html": [
       "<div><i>Table length=20</i>\n",
       "<table id=\"table138662267641808\" class=\"table-striped table-bordered table-condensed\">\n",
       "<thead><tr><th>ra</th><th>dec</th><th>midPointMjdTai</th><th>ssObjectId</th><th>ra2</th><th>dec2</th></tr></thead>\n",
       "<thead><tr><th>deg</th><th>deg</th><th>d</th><th></th><th></th><th></th></tr></thead>\n",
       "<thead><tr><th>float64</th><th>float64</th><th>float64</th><th>int64</th><th>float64</th><th>float64</th></tr></thead>\n",
       "<tr><td>349.8496645</td><td>-14.3260072</td><td>62752.10131</td><td>-9104812481934879133</td><td>349.8507502</td><td>-14.3276051</td></tr>\n",
       "<tr><td>349.8499379</td><td>-14.327309</td><td>62060.12541</td><td>-6536565009333841460</td><td>349.8507502</td><td>-14.3276051</td></tr>\n",
       "<tr><td>345.2034553</td><td>-15.5911322</td><td>62377.26069</td><td>-1711989975490530589</td><td>345.2016394</td><td>-15.5920336</td></tr>\n",
       "<tr><td>338.014364</td><td>-14.4779895</td><td>61741.02776</td><td>2956589648411852100</td><td>338.0151274</td><td>-14.4770618</td></tr>\n",
       "<tr><td>22.8351124</td><td>13.0273351</td><td>63450.38788</td><td>2956589648411852100</td><td>22.8351124</td><td>13.0273351</td></tr>\n",
       "<tr><td>352.2623818</td><td>-13.4892628</td><td>61632.24295</td><td>2956589648411852100</td><td>352.2623818</td><td>-13.4892628</td></tr>\n",
       "<tr><td>349.8507502</td><td>-14.3276051</td><td>61644.29927</td><td>2956589648411852100</td><td>349.8507502</td><td>-14.3276051</td></tr>\n",
       "<tr><td>349.8505526</td><td>-14.3276598</td><td>61644.30017</td><td>2956589648411852100</td><td>349.8507502</td><td>-14.3276051</td></tr>\n",
       "<tr><td>338.0151274</td><td>-14.4770618</td><td>61741.04101</td><td>2956589648411852100</td><td>338.014364</td><td>-14.4779895</td></tr>\n",
       "<tr><td>338.014364</td><td>-14.4779895</td><td>61741.02776</td><td>2956589648411852100</td><td>338.014364</td><td>-14.4779895</td></tr>\n",
       "<tr><td>324.1765195</td><td>-35.9475313</td><td>61267.33191</td><td>2956589648411852100</td><td>324.1765195</td><td>-35.9475313</td></tr>\n",
       "<tr><td>314.939805</td><td>-31.5544472</td><td>62800.02065</td><td>2956589648411852100</td><td>314.9407129</td><td>-31.5520653</td></tr>\n",
       "<tr><td>338.0151274</td><td>-14.4770618</td><td>61741.04101</td><td>2956589648411852100</td><td>338.0151274</td><td>-14.4770618</td></tr>\n",
       "<tr><td>324.1758204</td><td>-35.9475937</td><td>61267.33416</td><td>2956589648411852100</td><td>324.1765195</td><td>-35.9475313</td></tr>\n",
       "<tr><td>314.9407129</td><td>-31.5520653</td><td>62800.04496</td><td>2956589648411852100</td><td>314.9407129</td><td>-31.5520653</td></tr>\n",
       "<tr><td>317.6806847</td><td>-35.8352905</td><td>61291.02415</td><td>2956589648411852100</td><td>317.6805893</td><td>-35.8352626</td></tr>\n",
       "<tr><td>317.6805893</td><td>-35.8352626</td><td>61291.0246</td><td>2956589648411852100</td><td>317.6805893</td><td>-35.8352626</td></tr>\n",
       "<tr><td>345.2016394</td><td>-15.5920336</td><td>61665.05291</td><td>2956589648411852100</td><td>345.2016394</td><td>-15.5920336</td></tr>\n",
       "<tr><td>317.6779218</td><td>-35.8351705</td><td>63488.19164</td><td>4352401544154588876</td><td>317.6805893</td><td>-35.8352626</td></tr>\n",
       "<tr><td>349.8523962</td><td>-14.3271538</td><td>60957.1747</td><td>5877471647625673067</td><td>349.8507502</td><td>-14.3276051</td></tr>\n",
       "</table></div>"
      ],
      "text/plain": [
       "<Table length=20>\n",
       "     ra         dec     midPointMjdTai ...     ra2         dec2   \n",
       "    deg         deg           d        ...                        \n",
       "  float64     float64      float64     ...   float64     float64  \n",
       "----------- ----------- -------------- ... ----------- -----------\n",
       "349.8496645 -14.3260072    62752.10131 ... 349.8507502 -14.3276051\n",
       "349.8499379  -14.327309    62060.12541 ... 349.8507502 -14.3276051\n",
       "345.2034553 -15.5911322    62377.26069 ... 345.2016394 -15.5920336\n",
       " 338.014364 -14.4779895    61741.02776 ... 338.0151274 -14.4770618\n",
       " 22.8351124  13.0273351    63450.38788 ...  22.8351124  13.0273351\n",
       "352.2623818 -13.4892628    61632.24295 ... 352.2623818 -13.4892628\n",
       "349.8507502 -14.3276051    61644.29927 ... 349.8507502 -14.3276051\n",
       "349.8505526 -14.3276598    61644.30017 ... 349.8507502 -14.3276051\n",
       "338.0151274 -14.4770618    61741.04101 ...  338.014364 -14.4779895\n",
       " 338.014364 -14.4779895    61741.02776 ...  338.014364 -14.4779895\n",
       "324.1765195 -35.9475313    61267.33191 ... 324.1765195 -35.9475313\n",
       " 314.939805 -31.5544472    62800.02065 ... 314.9407129 -31.5520653\n",
       "338.0151274 -14.4770618    61741.04101 ... 338.0151274 -14.4770618\n",
       "324.1758204 -35.9475937    61267.33416 ... 324.1765195 -35.9475313\n",
       "314.9407129 -31.5520653    62800.04496 ... 314.9407129 -31.5520653\n",
       "317.6806847 -35.8352905    61291.02415 ... 317.6805893 -35.8352626\n",
       "317.6805893 -35.8352626     61291.0246 ... 317.6805893 -35.8352626\n",
       "345.2016394 -15.5920336    61665.05291 ... 345.2016394 -15.5920336\n",
       "317.6779218 -35.8351705    63488.19164 ... 317.6805893 -35.8352626\n",
       "349.8523962 -14.3271538     60957.1747 ... 349.8507502 -14.3276051"
      ]
     },
     "execution_count": 215,
     "metadata": {},
     "output_type": "execute_result"
    }
   ],
   "source": [
    "query = \"\"\"\n",
    "    SELECT dia.ra, dia.dec, dia.midPointMjdTai, dia.ssObjectId, ut.ra, ut.dec \n",
    "    FROM dp03_catalogs_10yr.DiaSource AS dia, TAP_UPLOAD.t1 AS ut \n",
    "    WHERE CONTAINS(POINT('ICRS', dia.ra, dia.dec), CIRCLE('ICRS', ut.ra, ut.dec, 0.002777777777777778))=1\n",
    "    ORDER BY dia.ssObjectId\n",
    "    \"\"\"\n",
    "\n",
    "results = service.search(query, uploads={\"t1\" : t_cat_1}).to_table()\n",
    "results"
   ]
  },
  {
   "cell_type": "markdown",
   "id": "94714005-d795-48ea-b80a-2885c09b21e3",
   "metadata": {},
   "source": [
    "## 3. ADQL table join with a user-supplied table of SSObject IDs\n",
    "\n",
    "The same example table for Object ID searches used in <a href=\"https://dp0-3.lsst.io/tutorials-dp0-3/portal-dp0-3-5.html\">this Portal tutorial</a> is stored in data/ directory. \n"
   ]
  },
  {
   "cell_type": "markdown",
   "id": "40c839dd-80a3-4c7e-8255-ddeb01a92fba",
   "metadata": {},
   "source": [
    "### 3.1 Load a user-supplied table of SSObject IDs and "
   ]
  },
  {
   "cell_type": "code",
   "execution_count": 216,
   "id": "04ceaa25-e7a4-4e7d-a2bd-3750bf188d05",
   "metadata": {
    "execution": {
     "iopub.execute_input": "2024-04-08T23:08:01.235675Z",
     "iopub.status.busy": "2024-04-08T23:08:01.234504Z",
     "iopub.status.idle": "2024-04-08T23:08:01.243017Z",
     "shell.execute_reply": "2024-04-08T23:08:01.242174Z",
     "shell.execute_reply.started": "2024-04-08T23:08:01.235643Z"
    },
    "tags": []
   },
   "outputs": [],
   "source": [
    "df_cat_2 = pd.read_csv(my_home_dir+'portal_tut05_useruploadcat2.cat', sep='\\t')\n",
    "t_cat_2 = Table.from_pandas(df_cat_2)"
   ]
  },
  {
   "cell_type": "code",
   "execution_count": 217,
   "id": "a50aa52c-30d6-48d6-9567-551f5370a64b",
   "metadata": {
    "execution": {
     "iopub.execute_input": "2024-04-08T23:08:02.333479Z",
     "iopub.status.busy": "2024-04-08T23:08:02.332607Z",
     "iopub.status.idle": "2024-04-08T23:08:03.531570Z",
     "shell.execute_reply": "2024-04-08T23:08:03.530995Z",
     "shell.execute_reply.started": "2024-04-08T23:08:02.333437Z"
    }
   },
   "outputs": [
    {
     "data": {
      "text/html": [
       "<div><i>Table length=2</i>\n",
       "<table id=\"table138662415771536\" class=\"table-striped table-bordered table-condensed\">\n",
       "<thead><tr><th>ssObjectId_user</th><th>ssObjectId</th><th>numObs</th></tr></thead>\n",
       "<thead><tr><th>int64</th><th>int64</th><th>int32</th></tr></thead>\n",
       "<tr><td>5977535780727431144</td><td>5977535780727431144</td><td>350</td></tr>\n",
       "<tr><td>4350915375550808373</td><td>4350915375550808373</td><td>322</td></tr>\n",
       "</table></div>"
      ],
      "text/plain": [
       "<Table length=2>\n",
       "  ssObjectId_user        ssObjectId     numObs\n",
       "       int64               int64        int32 \n",
       "------------------- ------------------- ------\n",
       "5977535780727431144 5977535780727431144    350\n",
       "4350915375550808373 4350915375550808373    322"
      ]
     },
     "execution_count": 217,
     "metadata": {},
     "output_type": "execute_result"
    }
   ],
   "source": [
    "query = \"\"\"\n",
    "    SELECT ut2.ssObjectId_user, sso.ssObjectId, sso.numObs\n",
    "    FROM TAP_UPLOAD.t2 as ut2\n",
    "    JOIN dp03_catalogs_10yr.SSObject as sso\n",
    "    ON ut2.ssObjectId_user = sso.ssObjectId\n",
    "    \"\"\"\n",
    "\n",
    "results = service.search(query, uploads={\"t2\" : t_cat_2}).to_table()\n",
    "results"
   ]
  },
  {
   "cell_type": "markdown",
   "id": "28a8f930-4423-4677-aa35-42faa2300019",
   "metadata": {},
   "source": [
    "## 4. Gaia data for DP0.3 asteroids"
   ]
  },
  {
   "cell_type": "markdown",
   "id": "7bbad6ce-afde-44a4-9c1d-77e5074d67b4",
   "metadata": {},
   "source": [
    "### 4.1 Access to Gaia database and retrieve Gaia data for main-belt asteroids"
   ]
  },
  {
   "cell_type": "code",
   "execution_count": 285,
   "id": "b7644df2-4ac8-466a-83f8-7a896258f4fd",
   "metadata": {
    "execution": {
     "iopub.execute_input": "2024-04-09T04:53:54.694857Z",
     "iopub.status.busy": "2024-04-09T04:53:54.694400Z",
     "iopub.status.idle": "2024-04-09T04:53:54.699115Z",
     "shell.execute_reply": "2024-04-09T04:53:54.698392Z",
     "shell.execute_reply.started": "2024-04-09T04:53:54.694832Z"
    }
   },
   "outputs": [],
   "source": [
    "gaia_tap_url = 'https://gea.esac.esa.int/tap-server/tap'\n",
    "gaia_tap = pyvo.dal.TAPService(gaia_tap_url)\n",
    "assert gaia_tap is not None\n",
    "assert gaia_tap.baseurl == gaia_tap_url"
   ]
  },
  {
   "cell_type": "markdown",
   "id": "e1f90a3b-db1f-41c7-bd48-d53d5584068f",
   "metadata": {},
   "source": [
    "Query main-belt asteroids from the Gaia database following the population definition used by the JPL Horizons small body database query tool (https://ssd.jpl.nasa.gov/tools/sbdb_query.html): Main Belt asteroids (2.0 < `a` < 3.25 au and `q` > 1.666 au)."
   ]
  },
  {
   "cell_type": "code",
   "execution_count": 380,
   "id": "1c7a64ae-e845-42c8-9f1c-d1c85b7cf99e",
   "metadata": {
    "execution": {
     "iopub.execute_input": "2024-04-09T05:31:26.298216Z",
     "iopub.status.busy": "2024-04-09T05:31:26.297330Z",
     "iopub.status.idle": "2024-04-09T05:31:27.425007Z",
     "shell.execute_reply": "2024-04-09T05:31:27.424102Z",
     "shell.execute_reply.started": "2024-04-09T05:31:26.298171Z"
    }
   },
   "outputs": [],
   "source": [
    "Nobs = 2000\n",
    "\n",
    "query = \"\"\"\n",
    "    SELECT TOP {} denomination, num_observations, inclination, \n",
    "           eccentricity, semi_major_axis\n",
    "    FROM gaiadr3.sso_orbits \n",
    "    WHERE num_observations > 100 AND semi_major_axis > 2.0 AND semi_major_axis < 3.2 AND semi_major_axis*(1-eccentricity) > 1.666\n",
    "    \"\"\".format(Nobs)\n",
    "\n",
    "pd_gaia = gaia_tap.search(query).to_table().to_pandas()"
   ]
  },
  {
   "cell_type": "code",
   "execution_count": 381,
   "id": "786b5319-f458-4c9b-8b75-c0d0c22eeff8",
   "metadata": {
    "execution": {
     "iopub.execute_input": "2024-04-09T05:31:27.458013Z",
     "iopub.status.busy": "2024-04-09T05:31:27.457769Z",
     "iopub.status.idle": "2024-04-09T05:31:27.790997Z",
     "shell.execute_reply": "2024-04-09T05:31:27.789917Z",
     "shell.execute_reply.started": "2024-04-09T05:31:27.457994Z"
    }
   },
   "outputs": [
    {
     "data": {
      "image/png": "[encoded data removed]",
      "text/plain": [
       "<Figure size 1300x500 with 2 Axes>"
      ]
     },
     "metadata": {},
     "output_type": "display_data"
    }
   ],
   "source": [
    "fig = plt.figure(figsize=(13, 5))\n",
    "\n",
    "plt.subplot(121)\n",
    "plt.scatter(pd_gaia['semi_major_axis'], pd_gaia['eccentricity'], s=3, alpha=0.3)\n",
    "plt.xlabel('semi-major axis [au]')\n",
    "plt.ylabel('eccentricity')\n",
    "\n",
    "plt.subplot(122)\n",
    "plt.scatter(pd_gaia['semi_major_axis'], np.sin(pd_gaia['inclination']), s=3, alpha=0.3)\n",
    "plt.xlabel('semi-major axis [au]')\n",
    "plt.ylabel(r'sin($i$)')\n",
    "plt.show()"
   ]
  },
  {
   "cell_type": "code",
   "execution_count": 382,
   "id": "78eaedd6-a954-494c-bf1b-b7417a5311ab",
   "metadata": {
    "execution": {
     "iopub.execute_input": "2024-04-09T05:31:27.821551Z",
     "iopub.status.busy": "2024-04-09T05:31:27.821292Z",
     "iopub.status.idle": "2024-04-09T05:31:27.831440Z",
     "shell.execute_reply": "2024-04-09T05:31:27.830265Z",
     "shell.execute_reply.started": "2024-04-09T05:31:27.821526Z"
    }
   },
   "outputs": [],
   "source": [
    "pd_gaia['mpc_desig1'] = pd_gaia['denomination'].str.replace('_', ' ').str.upper()\n",
    "pd_gaia['mpc_desig2'] = pd_gaia['denomination'].str.replace('_', ' ')"
   ]
  },
  {
   "cell_type": "code",
   "execution_count": 383,
   "id": "6356520f-c19a-4398-8073-8071afe32c8d",
   "metadata": {
    "execution": {
     "iopub.execute_input": "2024-04-09T05:31:28.607564Z",
     "iopub.status.busy": "2024-04-09T05:31:28.606826Z",
     "iopub.status.idle": "2024-04-09T05:31:28.621251Z",
     "shell.execute_reply": "2024-04-09T05:31:28.620343Z",
     "shell.execute_reply.started": "2024-04-09T05:31:28.607537Z"
    }
   },
   "outputs": [
    {
     "data": {
      "text/html": [
       "<div>\n",
       "<style scoped>\n",
       "    .dataframe tbody tr th:only-of-type {\n",
       "        vertical-align: middle;\n",
       "    }\n",
       "\n",
       "    .dataframe tbody tr th {\n",
       "        vertical-align: top;\n",
       "    }\n",
       "\n",
       "    .dataframe thead th {\n",
       "        text-align: right;\n",
       "    }\n",
       "</style>\n",
       "<table border=\"1\" class=\"dataframe\">\n",
       "  <thead>\n",
       "    <tr style=\"text-align: right;\">\n",
       "      <th></th>\n",
       "      <th>denomination</th>\n",
       "      <th>num_observations</th>\n",
       "      <th>inclination</th>\n",
       "      <th>eccentricity</th>\n",
       "      <th>semi_major_axis</th>\n",
       "      <th>mpc_desig1</th>\n",
       "      <th>mpc_desig2</th>\n",
       "    </tr>\n",
       "  </thead>\n",
       "  <tbody>\n",
       "    <tr>\n",
       "      <th>0</th>\n",
       "      <td>2000_so179</td>\n",
       "      <td>213</td>\n",
       "      <td>0.058380</td>\n",
       "      <td>0.120836</td>\n",
       "      <td>2.701355</td>\n",
       "      <td>2000 SO179</td>\n",
       "      <td>2000 so179</td>\n",
       "    </tr>\n",
       "    <tr>\n",
       "      <th>1</th>\n",
       "      <td>1997_wk13</td>\n",
       "      <td>106</td>\n",
       "      <td>0.087523</td>\n",
       "      <td>0.156276</td>\n",
       "      <td>2.311130</td>\n",
       "      <td>1997 WK13</td>\n",
       "      <td>1997 wk13</td>\n",
       "    </tr>\n",
       "    <tr>\n",
       "      <th>2</th>\n",
       "      <td>1999_jm14</td>\n",
       "      <td>103</td>\n",
       "      <td>0.098808</td>\n",
       "      <td>0.159146</td>\n",
       "      <td>2.288144</td>\n",
       "      <td>1999 JM14</td>\n",
       "      <td>1999 jm14</td>\n",
       "    </tr>\n",
       "    <tr>\n",
       "      <th>3</th>\n",
       "      <td>1999_ng38</td>\n",
       "      <td>175</td>\n",
       "      <td>0.083685</td>\n",
       "      <td>0.139582</td>\n",
       "      <td>2.318096</td>\n",
       "      <td>1999 NG38</td>\n",
       "      <td>1999 ng38</td>\n",
       "    </tr>\n",
       "    <tr>\n",
       "      <th>4</th>\n",
       "      <td>1999_gu8</td>\n",
       "      <td>265</td>\n",
       "      <td>0.113790</td>\n",
       "      <td>0.208611</td>\n",
       "      <td>2.203320</td>\n",
       "      <td>1999 GU8</td>\n",
       "      <td>1999 gu8</td>\n",
       "    </tr>\n",
       "    <tr>\n",
       "      <th>...</th>\n",
       "      <td>...</td>\n",
       "      <td>...</td>\n",
       "      <td>...</td>\n",
       "      <td>...</td>\n",
       "      <td>...</td>\n",
       "      <td>...</td>\n",
       "      <td>...</td>\n",
       "    </tr>\n",
       "    <tr>\n",
       "      <th>1995</th>\n",
       "      <td>2000_jv26</td>\n",
       "      <td>134</td>\n",
       "      <td>0.173983</td>\n",
       "      <td>0.162852</td>\n",
       "      <td>2.983560</td>\n",
       "      <td>2000 JV26</td>\n",
       "      <td>2000 jv26</td>\n",
       "    </tr>\n",
       "    <tr>\n",
       "      <th>1996</th>\n",
       "      <td>1994_te12</td>\n",
       "      <td>106</td>\n",
       "      <td>0.066080</td>\n",
       "      <td>0.149784</td>\n",
       "      <td>2.361802</td>\n",
       "      <td>1994 TE12</td>\n",
       "      <td>1994 te12</td>\n",
       "    </tr>\n",
       "    <tr>\n",
       "      <th>1997</th>\n",
       "      <td>1999_jc123</td>\n",
       "      <td>140</td>\n",
       "      <td>0.131958</td>\n",
       "      <td>0.149669</td>\n",
       "      <td>2.336503</td>\n",
       "      <td>1999 JC123</td>\n",
       "      <td>1999 jc123</td>\n",
       "    </tr>\n",
       "    <tr>\n",
       "      <th>1998</th>\n",
       "      <td>1999_ro80</td>\n",
       "      <td>112</td>\n",
       "      <td>0.191739</td>\n",
       "      <td>0.196486</td>\n",
       "      <td>3.120791</td>\n",
       "      <td>1999 RO80</td>\n",
       "      <td>1999 ro80</td>\n",
       "    </tr>\n",
       "    <tr>\n",
       "      <th>1999</th>\n",
       "      <td>1999_rp240</td>\n",
       "      <td>195</td>\n",
       "      <td>0.261919</td>\n",
       "      <td>0.087885</td>\n",
       "      <td>3.185348</td>\n",
       "      <td>1999 RP240</td>\n",
       "      <td>1999 rp240</td>\n",
       "    </tr>\n",
       "  </tbody>\n",
       "</table>\n",
       "<p>2000 rows × 7 columns</p>\n",
       "</div>"
      ],
      "text/plain": [
       "     denomination  num_observations  inclination  eccentricity  \\\n",
       "0      2000_so179               213     0.058380      0.120836   \n",
       "1       1997_wk13               106     0.087523      0.156276   \n",
       "2       1999_jm14               103     0.098808      0.159146   \n",
       "3       1999_ng38               175     0.083685      0.139582   \n",
       "4        1999_gu8               265     0.113790      0.208611   \n",
       "...           ...               ...          ...           ...   \n",
       "1995    2000_jv26               134     0.173983      0.162852   \n",
       "1996    1994_te12               106     0.066080      0.149784   \n",
       "1997   1999_jc123               140     0.131958      0.149669   \n",
       "1998    1999_ro80               112     0.191739      0.196486   \n",
       "1999   1999_rp240               195     0.261919      0.087885   \n",
       "\n",
       "      semi_major_axis  mpc_desig1  mpc_desig2  \n",
       "0            2.701355  2000 SO179  2000 so179  \n",
       "1            2.311130   1997 WK13   1997 wk13  \n",
       "2            2.288144   1999 JM14   1999 jm14  \n",
       "3            2.318096   1999 NG38   1999 ng38  \n",
       "4            2.203320    1999 GU8    1999 gu8  \n",
       "...               ...         ...         ...  \n",
       "1995         2.983560   2000 JV26   2000 jv26  \n",
       "1996         2.361802   1994 TE12   1994 te12  \n",
       "1997         2.336503  1999 JC123  1999 jc123  \n",
       "1998         3.120791   1999 RO80   1999 ro80  \n",
       "1999         3.185348  1999 RP240  1999 rp240  \n",
       "\n",
       "[2000 rows x 7 columns]"
      ]
     },
     "execution_count": 383,
     "metadata": {},
     "output_type": "execute_result"
    }
   ],
   "source": [
    "pd_gaia"
   ]
  },
  {
   "cell_type": "markdown",
   "id": "74a10b29-be39-4de0-adae-eff499aab84c",
   "metadata": {},
   "source": [
    "Save the result as a csv file in 'my_home_dir'."
   ]
  },
  {
   "cell_type": "code",
   "execution_count": 384,
   "id": "ce31ab29-ce68-429a-b391-1c23fc467e91",
   "metadata": {
    "execution": {
     "iopub.execute_input": "2024-04-09T05:31:30.369623Z",
     "iopub.status.busy": "2024-04-09T05:31:30.369316Z",
     "iopub.status.idle": "2024-04-09T05:31:30.395256Z",
     "shell.execute_reply": "2024-04-09T05:31:30.394378Z",
     "shell.execute_reply.started": "2024-04-09T05:31:30.369602Z"
    }
   },
   "outputs": [],
   "source": [
    "pd_gaia.to_csv(my_home_dir+'gaia_mba.cat', index=False)"
   ]
  },
  {
   "cell_type": "markdown",
   "id": "af945265-bfe6-40c0-86dc-b5232a103af3",
   "metadata": {},
   "source": [
    "### 4.2 Load the saved Gaia table and Join with DP0.3 tables"
   ]
  },
  {
   "cell_type": "code",
   "execution_count": 385,
   "id": "a3422b55-7f4d-44ea-b1d2-0cd78a2bb569",
   "metadata": {
    "execution": {
     "iopub.execute_input": "2024-04-09T05:31:33.383129Z",
     "iopub.status.busy": "2024-04-09T05:31:33.382475Z",
     "iopub.status.idle": "2024-04-09T05:31:33.398064Z",
     "shell.execute_reply": "2024-04-09T05:31:33.397294Z",
     "shell.execute_reply.started": "2024-04-09T05:31:33.383100Z"
    }
   },
   "outputs": [],
   "source": [
    "df_cat_3 = pd.read_csv(my_home_dir+'gaia_mba.cat')\n",
    "t_cat_3 = Table.from_pandas(df_cat_3)"
   ]
  },
  {
   "cell_type": "code",
   "execution_count": 386,
   "id": "ac14d853-ddb0-402c-adfa-7afe24294441",
   "metadata": {
    "execution": {
     "iopub.execute_input": "2024-04-09T05:31:34.744138Z",
     "iopub.status.busy": "2024-04-09T05:31:34.743786Z",
     "iopub.status.idle": "2024-04-09T05:31:34.750973Z",
     "shell.execute_reply": "2024-04-09T05:31:34.750069Z",
     "shell.execute_reply.started": "2024-04-09T05:31:34.744114Z"
    }
   },
   "outputs": [],
   "source": [
    "t_cat_3.convert_unicode_to_bytestring()"
   ]
  },
  {
   "cell_type": "code",
   "execution_count": 387,
   "id": "66bb06d5-0148-433c-a572-d05ca61a0a5e",
   "metadata": {
    "execution": {
     "iopub.execute_input": "2024-04-09T05:31:36.125017Z",
     "iopub.status.busy": "2024-04-09T05:31:36.124146Z",
     "iopub.status.idle": "2024-04-09T05:33:29.738739Z",
     "shell.execute_reply": "2024-04-09T05:33:29.737806Z",
     "shell.execute_reply.started": "2024-04-09T05:31:36.124989Z"
    }
   },
   "outputs": [
    {
     "name": "stdout",
     "output_type": "stream",
     "text": [
      "\n",
      "    SELECT mpc.mpcDesignation, mpc.ssObjectId, ut3.denomination, ut3.mpc_desig2\n",
      "    FROM dp03_catalogs_10yr.MPCORB AS mpc, TAP_UPLOAD.t3 as ut3\n",
      "    WHERE mpc.mpcDesignation = ut3.mpc_desig1\n",
      "    \n"
     ]
    }
   ],
   "source": [
    "query = \"\"\"\n",
    "    SELECT mpc.mpcDesignation, mpc.ssObjectId, ut3.denomination, ut3.mpc_desig2\n",
    "    FROM dp03_catalogs_10yr.MPCORB AS mpc, TAP_UPLOAD.t3 as ut3\n",
    "    WHERE mpc.mpcDesignation = ut3.mpc_desig1\n",
    "    \"\"\"\n",
    "\n",
    "print(query)\n",
    "pd_lsst = service.search(query, uploads={\"t3\" : t_cat_3}).to_table().to_pandas()"
   ]
  },
  {
   "cell_type": "markdown",
   "id": "ecc33d2d-b7fc-46a0-86f8-4efa45f0f936",
   "metadata": {},
   "source": [
    "Select one random asteroid."
   ]
  },
  {
   "cell_type": "code",
   "execution_count": 388,
   "id": "9fb292f4-55aa-417f-a872-e6e3829277be",
   "metadata": {
    "execution": {
     "iopub.execute_input": "2024-04-09T05:33:33.573974Z",
     "iopub.status.busy": "2024-04-09T05:33:33.573063Z",
     "iopub.status.idle": "2024-04-09T05:33:33.579813Z",
     "shell.execute_reply": "2024-04-09T05:33:33.579134Z",
     "shell.execute_reply.started": "2024-04-09T05:33:33.573947Z"
    }
   },
   "outputs": [
    {
     "data": {
      "text/plain": [
       "{'mpcDesignation': ['1102 T-3'],\n",
       " 'ssObjectId': [5845354262825855665],\n",
       " 'denomination': ['1102_t-3'],\n",
       " 'mpc_desig2': ['1102 t-3']}"
      ]
     },
     "execution_count": 388,
     "metadata": {},
     "output_type": "execute_result"
    }
   ],
   "source": [
    "random_mba = pd_lsst.sample(1).to_dict(orient='list')\n",
    "random_mba"
   ]
  },
  {
   "cell_type": "markdown",
   "id": "9b45e4f7-acf5-463c-8120-58955f0e2111",
   "metadata": {},
   "source": [
    "Retrieve Gaia observations for the selected asteroid."
   ]
  },
  {
   "cell_type": "code",
   "execution_count": 389,
   "id": "6f5555f5-2ffa-43bf-b356-39525ad4e96a",
   "metadata": {
    "execution": {
     "iopub.execute_input": "2024-04-09T05:33:35.203409Z",
     "iopub.status.busy": "2024-04-09T05:33:35.203085Z",
     "iopub.status.idle": "2024-04-09T05:33:44.171010Z",
     "shell.execute_reply": "2024-04-09T05:33:44.170339Z",
     "shell.execute_reply.started": "2024-04-09T05:33:35.203387Z"
    }
   },
   "outputs": [
    {
     "name": "stdout",
     "output_type": "stream",
     "text": [
      "\n",
      "    SELECT epoch, epoch_utc, g_mag \n",
      "    FROM gaiadr3.sso_observation \n",
      "    WHERE denomination = '1102 t-3'\n",
      "    \n"
     ]
    }
   ],
   "source": [
    "query = \"\"\"\n",
    "    SELECT epoch, epoch_utc, g_mag \n",
    "    FROM gaiadr3.sso_observation \n",
    "    WHERE denomination = '{}'\n",
    "    \"\"\".format(random_mba['mpc_desig2'][0])\n",
    "\n",
    "print(query)\n",
    "pd_gaia_obs = gaia_tap.search(query).to_table().to_pandas()"
   ]
  },
  {
   "cell_type": "markdown",
   "id": "9bdafd75-62d8-42c0-af2d-41b7e15909c2",
   "metadata": {},
   "source": [
    "Convert UTC observation date to MJD observation date."
   ]
  },
  {
   "cell_type": "code",
   "execution_count": 390,
   "id": "a9cbe7ba-d81c-4d0c-98a1-4496ed1009d4",
   "metadata": {
    "execution": {
     "iopub.execute_input": "2024-04-09T05:33:48.515050Z",
     "iopub.status.busy": "2024-04-09T05:33:48.514604Z",
     "iopub.status.idle": "2024-04-09T05:33:48.521000Z",
     "shell.execute_reply": "2024-04-09T05:33:48.519920Z",
     "shell.execute_reply.started": "2024-04-09T05:33:48.515020Z"
    }
   },
   "outputs": [],
   "source": [
    "pd_gaia_obs['epoch_jd'] = pd_gaia_obs['epoch_utc'] + 2455197.5\n",
    "pd_gaia_obs['epoch_mjd'] = pd_gaia_obs['epoch_utc'] + 55197.5"
   ]
  },
  {
   "cell_type": "markdown",
   "id": "a3fa2936-f004-43af-a527-792a5409438a",
   "metadata": {},
   "source": [
    "Retrieve LSST observations for the selected asteroid."
   ]
  },
  {
   "cell_type": "code",
   "execution_count": 391,
   "id": "36f015ed-d260-466d-9e9a-a9cc2bf1f934",
   "metadata": {
    "execution": {
     "iopub.execute_input": "2024-04-09T05:33:49.930694Z",
     "iopub.status.busy": "2024-04-09T05:33:49.929836Z",
     "iopub.status.idle": "2024-04-09T05:33:50.214287Z",
     "shell.execute_reply": "2024-04-09T05:33:50.213269Z",
     "shell.execute_reply.started": "2024-04-09T05:33:49.930661Z"
    }
   },
   "outputs": [],
   "source": [
    "query = \"\"\"\n",
    "    SELECT ssObjectId, midpointMjdTai, mag, band \n",
    "    FROM dp03_catalogs_10yr.DiaSource\n",
    "    WHERE ssObjectId = '{}' AND band = 'g'\n",
    "    \"\"\".format(random_mba['ssObjectId'][0])\n",
    "\n",
    "pd_lsst_obs = service.search(query).to_table().to_pandas()"
   ]
  },
  {
   "cell_type": "markdown",
   "id": "d80558ce-b77b-4840-9423-9243bcc251c0",
   "metadata": {},
   "source": [
    "Plot `g`-band light curve for the selected asteroid."
   ]
  },
  {
   "cell_type": "code",
   "execution_count": 400,
   "id": "794fc254-9063-49da-9cde-580bce4ca65b",
   "metadata": {
    "execution": {
     "iopub.execute_input": "2024-04-09T05:39:36.341442Z",
     "iopub.status.busy": "2024-04-09T05:39:36.340756Z",
     "iopub.status.idle": "2024-04-09T05:39:36.521162Z",
     "shell.execute_reply": "2024-04-09T05:39:36.520358Z",
     "shell.execute_reply.started": "2024-04-09T05:39:36.341408Z"
    }
   },
   "outputs": [
    {
     "data": {
      "image/png": "[encoded data removed]",
      "text/plain": [
       "<Figure size 600x400 with 1 Axes>"
      ]
     },
     "metadata": {},
     "output_type": "display_data"
    }
   ],
   "source": [
    "fig = plt.figure(figsize=(6, 4))\n",
    "plt.plot(pd_gaia_obs['epoch_mjd'], pd_gaia_obs['g_mag'], \n",
    "         'o', color='cyan', label='Gaia G')\n",
    "plt.plot(pd_lsst_obs['midpointMjdTai'], pd_lsst_obs['mag'], \n",
    "         'o', color='dodgerblue', label='LSST g')\n",
    "ymin = min(pd_gaia_obs['g_mag'].min(),pd_lsst_obs['mag'].min())\n",
    "ymax = max(pd_gaia_obs['g_mag'].max(),pd_lsst_obs['mag'].max())\n",
    "plt.ylim(ymax+0.1, ymin-0.1)\n",
    "plt.legend(loc='upper left')\n",
    "plt.xlabel('mjd')\n",
    "plt.ylabel('mag')\n",
    "plt.title(random_mba['mpcDesignation'][0])\n",
    "plt.show()\n"
   ]
  },
  {
   "cell_type": "markdown",
   "id": "f880c4d0-6ffc-49e9-86f2-95f1b698e279",
   "metadata": {},
   "source": [
    "## 5. Excercises for the learner\n",
    "\n",
    "1. "
   ]
  },
  {
   "cell_type": "code",
   "execution_count": null,
   "id": "6a1ec0fa-e663-4e60-a4a3-6c78aa0c9bb1",
   "metadata": {},
   "outputs": [],
   "source": []
  },
  {
   "cell_type": "code",
   "execution_count": null,
   "id": "4a302257-1686-44ed-aaa3-7e743e560d5b",
   "metadata": {},
   "outputs": [],
   "source": []
  },
  {
   "cell_type": "code",
   "execution_count": null,
   "id": "ac20d0f7-99dd-41a5-abeb-94f95fd65011",
   "metadata": {},
   "outputs": [],
   "source": []
  }
 ],
 "metadata": {
  "kernelspec": {
   "display_name": "LSST",
   "language": "python",
   "name": "lsst"
  },
  "language_info": {
   "codemirror_mode": {
    "name": "ipython",
    "version": 3
   },
   "file_extension": ".py",
   "mimetype": "text/x-python",
   "name": "python",
   "nbconvert_exporter": "python",
   "pygments_lexer": "ipython3",
   "version": "3.11.7"
  },
  "toc-autonumbering": false
 },
 "nbformat": 4,
 "nbformat_minor": 5
}
