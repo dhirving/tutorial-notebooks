{
 "cells": [
  {
   "cell_type": "markdown",
   "id": "749b0ddf",
   "metadata": {
    "tags": []
   },
   "source": [
    "<img align=\"left\" src = https://project.lsst.org/sites/default/files/Rubin-O-Logo_0.png width=250 style=\"padding: 10px\"> \n",
    "<br><b>Introducción a Jupyter Notebooks para Data Preview 0.2</b> <br>\n",
    "Autoría: Melissa Graham <br>\n",
    "Última verificación de ejecución: 2023-11-29 <br>\n",
    "Versión de LSST Science Pipelines: Semana 2023_47 <br>\n",
    "Tamaño del contenedor (Container size): medium <br>\n",
    "Nivel de aprendizaje: principiante <br>"
   ]
  },
  {
   "cell_type": "markdown",
   "id": "cf7b00a0-a005-4a22-a4c7-a6ecb32c749a",
   "metadata": {},
   "source": [
    "**Descripción:** Una introducción al uso de las Jupyter Notebooks y los paquetes de Python de Rubin para accedder a los productos de datos de LSST (imágenes y catálogos).\n",
    "\n",
    "> **Description:** An introduction to using Jupyter Notebooks and Rubin Python packages to access LSST data products (images and catalogs)."
   ]
  },
  {
   "cell_type": "markdown",
   "id": "0ed8dff8-bcf7-4508-a2f2-cd2260321261",
   "metadata": {},
   "source": [
    "**Habilidades:** Ejecutar código Python en una Jupyter Notebook. Usar el servicio TAP para recuperar datos Object catalog. Utilizar Butler para recuperar y visualizar una imagen deepCoadd."
   ]
  },
  {
   "cell_type": "markdown",
   "id": "a748b3a3-00e8-4215-adfa-adcabff26f56",
   "metadata": {},
   "source": [
    "**LSST Data Products:** TAP dp02_dc2_catalogs.Object table. Butler deepCoadd image."
   ]
  },
  {
   "cell_type": "markdown",
   "id": "387f46c8-d58f-400f-a6e6-f21c9ae7ce94",
   "metadata": {},
   "source": [
    "**Paquetes:** lsst.rsp.get_tap_service, lsst.rsp.retrieve_query, lsst.daf.butler, lsst.afw.display, lsst.geom, pandas, matplotlib\n",
    "> **Packages:** lsst.rsp.get_tap_service, lsst.rsp.retrieve_query, lsst.daf.butler, lsst.afw.display, lsst.geom, pandas, matplotlib"
   ]
  },
  {
   "cell_type": "markdown",
   "id": "7d622b84-83fa-4de9-94b6-d16af645a37e",
   "metadata": {},
   "source": [
    "**Créditos:** Desarrollado originalmente por Melissa Graham y el equipo científico de la comundiad de Rubin (Rubin Community Science Team) en el contexto de Rubin DP0.1.\n",
    "> **Credit:** Originally developed by Melissa Graham and the Rubin Community Science Team in the context of the Rubin DP0.1."
   ]
  },
  {
   "cell_type": "markdown",
   "id": "8f72b27f",
   "metadata": {},
   "source": [
    "**Conseguir Soporte:**\n",
    "Se pueden entonctrar recursos y documentación relacionada a DP0 en <a href=\"https://dp0-2.lsst.io\">dp0-2.lsst.io</a>. Las preguntas son bienvenidas como nuevos tema en la categoría <a href=\"https://community.lsst.org/c/support/dp0\">Support - Data Preview 0</a> del foro de la comunidad de Rubin. El equipo de Rubin responderá a todas las preguntas publicadas allí.\n",
    "\n",
    "> **Get Support:**\n",
    "Find DP0-related documentation and resources at <a href=\"https://dp0-2.lsst.io\">dp0-2.lsst.io</a>. Questions are welcome as new topics in the <a href=\"https://community.lsst.org/c/support/dp0\">Support - Data Preview 0 Category</a> of the Rubin Community Forum. Rubin staff will respond to all questions posted there."
   ]
  },
  {
   "cell_type": "markdown",
   "id": "cfc73be0",
   "metadata": {},
   "source": [
    "## 1.0. Introducción\n",
    "\n",
    "Esta Jupyter Notebook da una introducción cómo funcionan las notebooks. Demuestra cómo ejecutar celdas de código y de texto *markdown*, cómo importar paquetes de Python y aprender acerca de sus módulos, y provee links a documentacion adicional\n",
    "> This Jupyter Notebook provides an introduction to how notebooks work. It demonstrates how to execute code and markdown text cells, how to import Python packages and learn about their modules, and provides links to further documentation.\n",
    "\n",
    "Esta Notebook tambien muestra la funcionalidad básica de la Plataforma científica de Rubin (RSP - Rubin Science Platform) instalada en el Centro interino de datos (IDF - Interim Data Facility; Google Cloud) incluyendo cómo usar el servicio TAP para consultar y recuperar datos de catálogo; matplotlib para graficar datos de catálogo;  el paquete LST Buttler para consultar y recuperar datos de imágen; y el paquete LSST afwDisplay para visualizar imágenes.\n",
    "\n",
    "> This Notebook also demonstrates the basic functionality of the Rubin Science Platform (RSP) installed at the Interim Data Facility (IDF; the Google Cloud), such as how to use the TAP service to query and retrieve catalog data; matplotlib to plot catalog data; the LSST Butler package to query and retrieve image data; and the LSST afwDisplay package to display images.\n",
    "\n",
    "Esta notebook utiliza el conjunto de datos Vista previa de datos 0.2 (DP0.2 - Data Preview 0.2). Este conjunto de datos utiliza un subconjunto de imágenes simuladas del Desafío de datos 2 de DESC (DC2 - DESC's Data Challenge 2), que han sido *reprocesadas* por el Observatorio de Rubin usando la versión 23 de las pipelines científicas del LSST (LSST Science Pipelines). Se puede encontrar más información sobre los datos simulados en el [paper de DC2](https://ui.adsabs.harvard.edu/abs/2021ApJS..253...31L/abstract>) de DESC y en la [documentación del lanzamiento de datos de DP0.2](https://dp0-2.lsst.io).\n",
    "> This Notebook uses the Data Preview 0.2 (DP0.2) data set. This data set uses a subset of the DESC's Data Challenge 2 (DC2) simulated images, which have been *reprocessed* by Rubin Observatory using Version 23 of the LSST Science Pipelines. More information about the simulated data can be found in the <a href=\"https://ui.adsabs.harvard.edu/abs/2021ApJS..253...31L/abstract\">DESC's DC2 paper</a> and in the <a href=\"https://dp0-2.lsst.io\">DP0.2 data release documentation</a>."
   ]
  },
  {
   "cell_type": "markdown",
   "id": "c3507e32",
   "metadata": {},
   "source": [
    "### 1.1. Cómo usar una Jupyter Notebook\n",
    "\n",
    "Las Jupyter Notebooks contienen un mix de código, salida, visualizaciones y texto narrativo. La fuente de documentación más completa acerca de las Jupyter Notebooks es [https://jupyter-notebook.readthedocs.io](https://jupyter-notebook.readthedocs.io), pero hay numerosos y muy buenos tutoriales y demostraciones de nivel principiante disponibles. Generalmente una búsqueda en la web de una pregunta, como \"cómo hacer una tabla markdown jupyter notebook\", llevara a varios buenos ejemplos. A menudo las respuestas se hallaran en [StackOverflow](https://stackoverflow.com/) \n",
    "> Jupyter Notebooks contain a mix of code, output, visualizations, and narrative text. The most comprehensive source for documentation about Jupyter Notebooks is https://jupyter-notebook.readthedocs.io, but there are many great beginner-level tutorials and demos out there. Usually a web search of a question, like \"how to make a table in markdown jupyter notebook\", will yield several good examples. Often the answers will be found in <a href=\"https://stackoverflow.com/\">StackOverflow</a>.\n",
    "\n",
    "Una Jupyter Notebook is una serie de celdas (cells). Hay tres tipos de celda: código, markdown y raw. Este texto se genero a partir de una celda markdown. Arriba en la barra de menú vás a encontrar un menú desplegable para establecer el tipo de celda.\n",
    "\n",
    "> A Jupyter Notebook is a series of cells. There are three types of cells: code, markdown, and raw. This text was generated from a markdown cell. Up in the menu bar you will find a drop-down menu to set the cell type."
   ]
  },
  {
   "cell_type": "markdown",
   "id": "3db41666-4e0a-4a7e-93a5-90b99286fedf",
   "metadata": {},
   "source": [
    ">  **Advertencia:** Todas las celdas de código en una notebook deben ser ejecutadas en el orden en que aparecen.\n",
    ">> **Warning:** All of the code cells in a notebook should be executed in the order that they appear. "
   ]
  },
  {
   "cell_type": "markdown",
   "id": "6fb67584-1bc1-4049-9f93-fa0f45d477c0",
   "metadata": {},
   "source": [
    "Hacer clic en la siguiente celda de código: con el cursor en la celda, presionar simultaneamente \"Mayús\" (tecla *shift*) y \"Entrar\" (tecla *enter*) para ejecutar el código de la celda.\n",
    "\n",
    "> Click in the following code cell: with the cursor in the cell, simultaneously press \"shift\" and \"enter\" (or \"return\") to execute the cell code."
   ]
  },
  {
   "cell_type": "code",
   "execution_count": null,
   "id": "ba94de19",
   "metadata": {
    "tags": []
   },
   "outputs": [],
   "source": [
    "# This is a code cell. Press shift-enter to execute.\n",
    "# The # makes these lines comments, not code. They are not executed.\n",
    "print('Hello, world!')"
   ]
  },
  {
   "cell_type": "markdown",
   "id": "06a6f7ed-284b-4a35-b0ba-d95a1300d463",
   "metadata": {},
   "source": [
    "<!---\n",
    "Esta es una celda markdown.\n",
    "Presiona Mayus-Entrar (shift-enter) para ejecutar, y ver reaparecer el texto formateado.\n",
    "-->\n",
    "Hacer doble clic sobre ESTAS PALABRAS EN ESTA CELDA MARKDOWN para ver el código fuente markdown.\n",
    "> Double click on THESE WORDS IN THIS MARKDOWN CELL to see the markdown source code."
   ]
  },
  {
   "cell_type": "raw",
   "id": "a3449766",
   "metadata": {},
   "source": [
    "# Esta es una celda raw (cruda). Puedes presionar Mayus-Entrar, pero nada será ejecutado\n",
    "# El símbolo # no significa nada en una celda raw\n",
    "print('Hello, world!')\n",
    "\n",
    "> # This is a raw cell. You can press shift-enter, but nothing will execute.\n",
    "> # The # symbol does not mean anything in a raw cell.\n",
    "> print('Hello, world!')"
   ]
  },
  {
   "cell_type": "markdown",
   "id": "a34975f6",
   "metadata": {},
   "source": [
    "#### 1.1.1. Guías prácticas para Jupyter Notebooks\n",
    "\n",
    "**Cómo ejecutar rápidamente todas las celdas:**\n",
    "Ir a la barra de menú de más arriba y seleccionar \"Kernel\", luego \"Restart Kernel and Run All Cells\" (Reiniciar Kernel y Ejecutar Todas las Celdas)\n",
    "\n",
    "> **How to quickly execute all the cells:** \n",
    "> Go to the top menu bar and select \"Kernel\", then \"Restart Kernel and Run All Cells\".\n",
    "\n",
    "**Cómo detener de emergencia a una notebook:**\n",
    "Si una celda de código esta demorando mucho tiempo en ejecutarse (e.g., si se inicio por accidente un proceso que recupera los datos un catálogo entero)\n",
    "mátalo yendo a \"Kernel\" en el menú de más arriba y seleccionar \"\"Restart Kernel and Clear All Outputs\" (Reiniciar el Kernel y Limpiar Todas las Salidas).\n",
    "Puede igualmente tomar algunos cuantos segundos, pero detendra el proceso y reiniciará el kernel.\n",
    "\n",
    "> **How to emergency-stop a notebook:** \n",
    "> If a code cell is taking a long time to execute (e.g., if a process to retrieve an entire catalog was started by accident)\n",
    "> kill it by going to \"Kernel\" in the top menu bar and selecting \"Restart Kernel and Clear All Outputs\".\n",
    "> It might still a few tens of seconds, but it will stop the process and restart the kernel.\n",
    "\n",
    "**El kernel** es el motor de cómputo para la notebook (la Plataforma Científica de Rubin -RSP- usa un kernel de `python3`)\n",
    "y se puede pensar como un compilador en vivo.\n",
    "Reiniciar el kernel y limpiar todas las salidas significa que todas las variables o funciones definidas son eliminadas de la mamoria,\n",
    "y todas las celdas de código vuelven al estado \"sin-ejecutar\".\n",
    "\n",
    "> **The kernel** is the computational engine for the notebook (the RSP uses a `python3` kernel),\n",
    "> and can be thought of as a live compiler. \n",
    "> Restarting the kernel and clearning all outputs means that all defined variables or functions are removed from memory, \n",
    "> and all code cells revert to an \"unexecuted\" state.\n",
    "\n",
    "**Cómo ver una tabla de contenidos para esta notebook**\n",
    "Hacer clic en el ícono de una lista con biñetas en la barra de menú vertical de más a la izquierda, y aparecerá a la izquierda una tabla de contenidos (ToC - Table of Contents) generada automáticamente.\n",
    "Hacer clic en el ícono de la carpeta de archivos que está en lo más alto de la barra de menu vertical que está más a la izquierda, para volver a la vista de directorio.\n",
    "\n",
    "> **How to view a table of contents for this notebook:** \n",
    "> Click on the icon of a bullet list in the leftmost vertical menu bar, and an automatically-generated ToC will appear at left. \n",
    "> Click on the icon of the file folder at the top of the leftmost vertical menu bar to return to a directory view.\n",
    "\n",
    "**Cómo saber cuál versión de las pipelines científicas de LSST (LSST Scientific Pipelines) esta ejecutándose:**\n",
    "Mirar a lo largo de la barra inferior del navegador, y buscar la versión LSST Science Pipelines (pipelines científicas de LSST) que se seleccionó como \"imagen\".\n",
    "Es probablemente \"Recommended (Weekly yyyy_ww)\", y debería corresponderse con la versión verificada que se lista en la cabecera de la notebook.\n",
    "Alternativamente, descomentar de la siguiente celda de código las dos líneas y ejecutarla\n",
    "\n",
    "\n",
    "> **How to know which version of the LSST Science Pipelines is running:** \n",
    "> Look along the bottom bar of this browser window, and find the version of the LSST Science Pipelines that was selected as the \"image\". \n",
    "> It is probably \"Recommended (Weekly yyyy_ww)\", and it should match the verified version listed in the notebook's header. \n",
    "> Alternatively, uncomment the two lines in the following code cell and execute the cell."
   ]
  },
  {
   "cell_type": "code",
   "execution_count": null,
   "id": "48e9d2d7-ebec-42d9-8de0-73c1475fd539",
   "metadata": {
    "tags": []
   },
   "outputs": [],
   "source": [
    "# ! echo $IMAGE_DESCRIPTION\n",
    "# ! eups list -s | grep lsst_distrib"
   ]
  },
  {
   "cell_type": "markdown",
   "id": "245d2838",
   "metadata": {},
   "source": [
    "### 1.2. Importación de paquetes\n",
    "\n",
    "La mayoría de las Jupyter Notebooks comienzan cargando / importando todos los paquetes que necesitarán en la primera celda de código.\n",
    "\n",
    "> Most Jupyter Notebooks start out by importing all the packages they will need in the first code cell.\n",
    "\n",
    "No es necesario conocer en profundidad esos paquetes para completar este tutorial, pero aqui hay un poco de información básica y algunos links para seguir aprendiendo.  \n",
    "\n",
    "> Complete knowledge of these packages is not required in order to complete this tutorial, but here is a bit of basic information and some links for further learning.\n",
    "\n",
    "**numpy**: Un paquete fundamental para cómputo científico con arreglos (arrays) en Python. Su documentación completa esta disponible en <a href=\"https://numpy.org\">numpy.org</a>, e incluye una guia rápida para principiantes. (El paquete numpy no se utiliza en esta notebook, pero se importa como ejemplo porque en general es muy utilizado).\n",
    "\n",
    "> **numpy**: A fundamental package for scientific computing with arrays in Python. Its comprehensive documentation is available at <a href=\"https://numpy.org\">numpy.org</a>, and it includes quickstart beginner guides. (The numpy package is not used in this notebook, but is imported as a demonstration because it is a very commonly-used package.) <br>\n",
    "\n",
    "**matplotlib**: Este paquete es una librería muy completa para crear visualizaciones estáticas, animadas e interactivas en Pytho. Toda su documentación se encuentra en <a href=\"https://matplotlib.org/\">matplotlib.org</a>. La <a href=\"https://matplotlib.org/stable/gallery/index.html\">galería de matplotlib</a> es un gran purto de partida que tiene enlaces a ejemplos.\n",
    "\n",
    "> **matplotlib**: This package is a comprehensive library for creating static, animated, and interactive visualizations in Python. Its comprehensive documentation is at <a href=\"https://matplotlib.org/\">matplotlib.org</a>. The <a href=\"https://matplotlib.org/stable/gallery/index.html\">matplotlib gallery</a> is a great place to start and links to examples. <br>\n",
    "\n",
    " **pandas**: Un paquete que permite trabajar de manera eficiente con datos tabulares en *dataframes* (marcos de datos). Se puede aprender maá en la <a href=\"https://pandas.pydata.org/docs/reference/api/pandas.DataFrame.html\">documentación de Pandas</a>. <br>\n",
    " \n",
    "> **pandas**: A package which allows users to deal efficiently with tabular data in dataframes. Learn more in the <a href=\"https://pandas.pydata.org/docs/reference/api/pandas.DataFrame.html\">Pandas documentation</a>. <br>\n",
    "\n",
    "**astropy**: Un paquete de Python con herramientas de astronomía muy útiles. Se puede aprender más en la <a href=\"http://docs.astropy.org/en/stable/_modules/astropy/table/table.html\">documentación de astropy</a>.\n",
    "\n",
    "> **astropy**: A Python package of useful astronomy tools. Learn more in the <a href=\"http://docs.astropy.org/en/stable/_modules/astropy/table/table.html\">astropy documentation</a>.\n",
    "\n",
    " **lsst**: Estos paquetes son todos de <a href=\"https://pipelines.lsst.io/\">LSST Science Pipelines</a> (pipelines científicas de LSST).\n",
    " El paquete `lsst.rsp` habilita el acceso a imágenes y catálogos a través del servicio TAP (ver Sección 2);\n",
    " el paquete `lsst.daf.butler` habilita el acceso a imágenes y catálogos a traves de Butler (ver Sección 3);\n",
    " y el paquete `lsst.geom` posee funciones auxiliares para metadatos de imágenes y el paquete `lsst.afw.display` habilita la visualización de imágen (ver Sección 3)\n",
    " \n",
    "> **lsst**: These packages are all from the <a href=\"https://pipelines.lsst.io/\">LSST Science Pipelines</a>.\n",
    "> The `lsst.rsp` package enables image and catalog access via the TAP service (see Section 2); \n",
    "> the `lsst.daf.butler` package enables image and catalog access via the butler (see Section 3);\n",
    "> and the `lsst.geom` has helper functions for image metadata and `lsst.afw.display` package enables image display (see Section 3)."
   ]
  },
  {
   "cell_type": "markdown",
   "id": "e8106313",
   "metadata": {},
   "source": [
    "Importar los paquetes utilizados en esta notebook ejecutando la siguiente celda.\n",
    "\n",
    "> Import the packages used in this notebook by executing the following cell."
   ]
  },
  {
   "cell_type": "code",
   "execution_count": null,
   "id": "cddc1458",
   "metadata": {
    "tags": []
   },
   "outputs": [],
   "source": [
    "import numpy\n",
    "import matplotlib\n",
    "import matplotlib.pyplot as plt\n",
    "import pandas\n",
    "from lsst.rsp import get_tap_service, retrieve_query\n",
    "import lsst.daf.butler as dafButler\n",
    "import lsst.geom\n",
    "import lsst.afw.display as afwDisplay"
   ]
  },
  {
   "cell_type": "markdown",
   "id": "f5ca54f6",
   "metadata": {},
   "source": [
    "#### 1.2.1. Aprender más sobre los paquetes de Python importados\n",
    "\n",
    "Mostrar las versiones de numpy y matplotlib.\n",
    "\n",
    "> Print the version of numpy and matplotlib."
   ]
  },
  {
   "cell_type": "code",
   "execution_count": null,
   "id": "0ef89712-485d-4016-93df-4b3627bc3415",
   "metadata": {
    "tags": []
   },
   "outputs": [],
   "source": [
    "print('numpy version: ', numpy.__version__)\n",
    "print('matplotlib version: ', matplotlib.__version__)"
   ]
  },
  {
   "cell_type": "markdown",
   "id": "2649d146-4903-4c47-95f3-640970b55618",
   "metadata": {},
   "source": [
    "Se puede ver una lista emergente de cualquier módulo del paquete escribiendo el nombre del paquete, luego un punto, y finalmente presionando la tecla Tab. Usar las flechas de arriba y abajo para desplazarse a través de la lista emergente. Esto funciona tanto si la línea el código está comentada como si no lo está. In la celda de abajo, `numpy.` está comentada porque aquella no es una sentencia de código que se pueda ejecutar, y si no estuviera el #, esta celda fallaría en la ejecución (probalo -- elimina el #, presiona shift-enter (Mayus-Entrar), y mira cómo falla).\n",
    "\n",
    "> View a pop-up list of any package's modules by writing the package name, then a period, and then pressing tab. Use the up and down arrows to scroll through the pop-up list. This works whether or not the line is commented-out. In the cell below, `numpy.` is commented-out because that is not an executable code statement, and if the # were not there, this cell would fail to execute (try it -- remove the #, press shift-enter, and watch it fail)."
   ]
  },
  {
   "cell_type": "code",
   "execution_count": null,
   "id": "9ff354c2",
   "metadata": {
    "tags": []
   },
   "outputs": [],
   "source": [
    "# numpy."
   ]
  },
  {
   "cell_type": "markdown",
   "id": "8a4a559b",
   "metadata": {},
   "source": [
    "Utilizar la funcion \"help\" para ver la documentación de ayuda para el paquete. Sacar el símbolo # para des-comentar cualquiera de las líneas, y ejecutar la siguiete celda. La documentación de ayuda puede ser demasiado larga. Re-comentar la línea reintroduciendo el #, luego re-ejecutar la celda y la salida se iŕa.\n",
    "\n",
    "> Use \"help\" function to view the help documentation for a package. Remove the # symbol to un-comment any one line, and execute the following cell. Help documentation can be really long. Re-comment the line by replacing the #, then re-execute the cell and the output will go away."
   ]
  },
  {
   "cell_type": "code",
   "execution_count": null,
   "id": "c2d31bd7",
   "metadata": {
    "tags": []
   },
   "outputs": [],
   "source": [
    "# help(numpy)\n",
    "# help(matplotlib)\n",
    "# help(numpy.abs)\n",
    "# help(matplotlib.pyplot)"
   ]
  },
  {
   "cell_type": "markdown",
   "id": "ec51ac0b",
   "metadata": {},
   "source": [
    "## 2.0. Datos de Catálogo\n",
    "\n",
    "### 2.1. Servicio de protocolo de acceso a datos tabulados (TAP - Table Access Protocol)\n",
    "\n",
    "El protocolo de acceso a datos tabulados TAP (Table Access Protocol) provee un acceso estandarizado a los datos de catálogo para exploracion, búsqueda y recuperación. La <a href=\"http://www.ivoa.net/documents/TAP\">documentacióm completa de TAP</a> es porvista por la Alianza Internacional del Observatorio Virtual (IVOA - International Virtual Observatory Alliance).\n",
    "\n",
    "> Table Access Procotol (TAP) provides standardized access to the catalog data for discovery, search, and retrieval. Full <a href=\"http://www.ivoa.net/documents/TAP\">documentation for TAP</a> is provided by the International Virtual Observatory Alliance (IVOA).\n",
    "\n",
    "El servicio TAP utiliza un lenguaje de consultas similar a SQL (Structured Query Language, lenguaje de consulta estructurado) denominado ADQL (Astronomical Data Query Language, lenguaje de consulta de datos astronómicos).\n",
    "La <a href=\"http://www.ivoa.net/documents/latest/ADQL.html\">documentación para ADQL</a> incluye más información sobre sintaxis y palabras clave.\n",
    "\n",
    "> The TAP service uses a query language similar to SQL (Structured Query Langage) called ADQL (Astronomical Data Query Language). The <a href=\"http://www.ivoa.net/documents/latest/ADQL.html\">documentation for ADQL</a> includes more information about syntax and keywords.\n",
    "\n",
    "> **Aviso:** No están soportadas por RSP todas las funcionalidades de ADQL para la vista previa de datos 0 (DP0).\n",
    ">> **Notice:** Not all ADQL functionality is supported by the RSP for Data Preview 0. "
   ]
  },
  {
   "cell_type": "markdown",
   "id": "4936e520",
   "metadata": {},
   "source": [
    "Iniciar el servicio TAP.\n",
    "\n",
    "> Start the TAP service."
   ]
  },
  {
   "cell_type": "code",
   "execution_count": null,
   "id": "f0a530b9",
   "metadata": {
    "tags": []
   },
   "outputs": [],
   "source": [
    "service = get_tap_service(\"tap\")"
   ]
  },
  {
   "cell_type": "markdown",
   "id": "10804bb0",
   "metadata": {},
   "source": [
    "### 2.2. Explorando talbas y columnas de catálogos con TAP\n",
    "> Exploring catalog tables and columns with TAP\n",
    "\n",
    "Estos ejemplos utilizan el catálogo de Objetos DP0.2, que contiene fuentes detectadas en imágenes compuestas (coadded) (también llamadas imagenes apiladas - stacked, combinadas - combined, o *deepCoad*).\n",
    "\n",
    "> This example uses the !!!DP0.2 Object catalog!!!, which contains sources detected in the coadded images (also called stacked, combined, or deepCoadd images). \n",
    "\n",
    "Los contenidos del catálogo también se pueden explorar con el <a href=\"https://dm.lsst.org/sdm_schemas/browser/dp02.html\"> navegador de esquemas DP0.2 </a>.\n",
    "\n",
    "> Catalog contents can also be explored with the <a href=\"https://dm.lsst.org/sdm_schemas/browser/dp02.html\">DP0.2 schema browser</a>.\n",
    "\n",
    "Los resultados de una búsqueda usando el servicio TAP se visualizan de mejor manera usando una de las dos funciones:\n",
    "`.to_table()`: convierte los resultados en una tabla de astropy. <br>\n",
    "`.to_table().to_pandas()`: convierte a una tabla de astropy y luego a un marco de datos (dataframe) de Pandas.\n",
    "\n",
    "> Results from a TAP service search are best displayed using one of two functions:<br>\n",
    "> `.to_table()`: convert results to an astropy table. <br>\n",
    "> `.to_table().to_pandas()`: convert to an astropy table and then to a Pandas dataframe.\n",
    "\n",
    "> **Advertencia:** No usar el método .to_table().show_in_notebook(). Esto puede provocar problemas en el entorno de RSP Jupyterlab que podría bloquear tu notebook indefinidamente.\n",
    ">> **Warning:** do not use the .to_table().show_in_notebook() method. This can cause issues in the RSP Jupyterlab environment that make your notebook hang indefinitely.\n",
    "\n",
    "Los tres ejercicios opcionales de abajo enseñan diferentes maneras de explorar usando el servicio TAP. Muestran cómo usar el servicio TAP con sentencias ADQL para explorar qué catálodos existen y qué columnas contienen. Cada celda utiliza un método diferente para visualizar los resultados de la búsqueda con TAP. Eliminar todos los # y ejecutar cada celda, observar que se crean muchas salidas -- agregar el # nuevamente a cada linea y re-ejecutar la celda, y la salida se irá.\n",
    "> The three optional exercises below teach different ways to explore using the TAP service. They show how to use the TAP service with ADQL statements to discover what catalogs exist and which columns they contain. Each cell uses a different method to display the TAP search results. Remove all of the # and execute each cell, and see that they create a lot of output -- add the # back to each line and re-execute the cell, and the output will go away."
   ]
  },
  {
   "cell_type": "markdown",
   "id": "beef6193",
   "metadata": {},
   "source": [
    "#### 2.2.1. Ejercicio 1\n",
    "Recuperar y mostrar una lista de nombres de tabla y descripciones que están disponibles a través del servidor TAP\n",
    "> Retrieve and display a list of all the table names and descriptions that are available via the TAP server."
   ]
  },
  {
   "cell_type": "code",
   "execution_count": null,
   "id": "75ba75e6",
   "metadata": {
    "tags": []
   },
   "outputs": [],
   "source": [
    "# my_adql_query = \"SELECT description, table_name FROM TAP_SCHEMA.tables\"\n",
    "# results = service.search(my_adql_query)\n",
    "# results_table = results.to_table().to_pandas()\n",
    "# results_table"
   ]
  },
  {
   "cell_type": "markdown",
   "id": "723cbe86",
   "metadata": {},
   "source": [
    "#### 2.2.2. Ejercicio 2\n",
    "Recuperar y mostrar una lista de los nombres de campos (nombres de columna) en el esquema TAP del catálogo de Objetos DP0.2\n",
    "> Retrieve and display a list of the field names (columns names) in the DP0.2 Object catalog's TAP schema. Note that the results can be named anything else; here, 'res' is used instead."
   ]
  },
  {
   "cell_type": "code",
   "execution_count": null,
   "id": "88711ca7",
   "metadata": {
    "tags": []
   },
   "outputs": [],
   "source": [
    "# my_adql_query = \"SELECT * from TAP_SCHEMA.columns \"+\\\n",
    "#                 \"WHERE table_name = 'dp02_dc2_catalogs.Object'\"\n",
    "# res = service.search(my_adql_query)\n",
    "# print(res.fieldnames)"
   ]
  },
  {
   "cell_type": "markdown",
   "id": "de30cca5",
   "metadata": {},
   "source": [
    "#### 2.2.3. Ejercicio 3\n",
    "Recuperar nombres, tipos de datos, descripciones y unidades para todas las columnas en el catálodo de Objetos. Mostrar el número de columnas.\n",
    "> Retrieve the names, data types, description, and units for all columns in the Object catalog. Display the number of columns."
   ]
  },
  {
   "cell_type": "code",
   "execution_count": null,
   "id": "5129c644",
   "metadata": {
    "tags": []
   },
   "outputs": [],
   "source": [
    "# my_adql_query = \"SELECT column_name, datatype, description, unit \"+\\\n",
    "#                 \"FROM TAP_SCHEMA.columns \"+\\\n",
    "#                 \"WHERE table_name = 'dp02_dc2_catalogs.Object'\"\n",
    "# results = service.search(my_adql_query)\n",
    "# results_table = results.to_table().to_pandas()\n",
    "# print('Number of columns available in the Object catalog: ', len(results_table))"
   ]
  },
  {
   "cell_type": "markdown",
   "id": "a8f5cb6e-1844-4f0f-9329-cb20f20617be",
   "metadata": {},
   "source": [
    "Mostrar todos los 991 nombres de columnas y su información. Son tantas salidas! Comentar la linea en la celda y re-ejecutar la celda para hacer que todas las salidas desaparezcan.\n",
    "> Display all 991 column names and their information. It's so much output! Comment-out the line in the cell and re-execute the cell to make all that output disappear."
   ]
  },
  {
   "cell_type": "code",
   "execution_count": null,
   "id": "a2142c9a-3be3-4e61-b69e-47fd25d23178",
   "metadata": {
    "tags": []
   },
   "outputs": [],
   "source": [
    "# results_table"
   ]
  },
  {
   "cell_type": "markdown",
   "id": "2577a97a-4a96-41bb-8e29-4cae62672b3d",
   "metadata": {},
   "source": [
    "Sólo mostrar nombres y descripciones para columnas que contengan la cadena (texto) \"cModeFlux\".\n",
    "Probar otra cadena como \"coord\", \"extendedness\", \"deblend\", o \"detect\".\n",
    "> Only display names and descriptions for columns that contain the string \"cModelFlux\". \n",
    "> Try other strings like \"coord\", \"extendedness\", \"deblend\", or \"detect\"."
   ]
  },
  {
   "cell_type": "code",
   "execution_count": null,
   "id": "40bde1ad-15cd-409c-9bcb-162052ee7890",
   "metadata": {
    "tags": []
   },
   "outputs": [],
   "source": [
    "# my_string = 'cModelFlux'\n",
    "# for col,des in zip(results_table['column_name'],results_table['description']):\n",
    "#     if col.find(my_string) > -1:\n",
    "#         print('%-40s %-200s' % (col,des))"
   ]
  },
  {
   "cell_type": "markdown",
   "id": "8ced15d7",
   "metadata": {},
   "source": [
    "### 2.3. Recuperando Datos con TAP\n",
    "\n",
    "Algunos consejos sobre cómo hacer consultas eficientes en los catálogos de DP0.2\n",
    "> A few tips about how to do efficient queries on the DP0.2 catalogs.\n",
    "\n",
    "\n",
    "**Restricciones en RA, Dec producen consultas más rápidas:**\n",
    "Los Servicios de consulta de LSST (Qserv - Query Services) proveen acceso a la base de datos de catálogos del LSST.\n",
    "Los catálogos se pueden consultar utilizando el lenguaje estándar de cosultas SQL con unas pocas limitaciones.\n",
    "Qserv almacena los datos de catálogos compartidos por coordenadas (RA, Dec).\n",
    "Las sentencias de consultas ADQL que incluyen restricciones por coordenada no requieren una búsqueda en todo el catálodo, y son generalmente más rápidas (y pueden ser mucho más rápidas) que las sentencias de consulta ADQL que solo incluyen restricciones para otras columnas.\n",
    "\n",
    "> **RA, Dec constraints yield faster queries:**\n",
    "> LSST Query Services (Qserv) provides access to the LSST Database Catalogs.\n",
    "> !!!Users!!!{Busco una traducción sin sesgo masculino} can query the catalogs using standard SQL query language with a few restrictions.\n",
    "> Qserv stores catalog data sharded by coordinate (RA, Dec).\n",
    "> ADQL query statements that include constraints by coordinate do not require a whole-catalog search, and are typically faster (and can be much faster) than ADQL query statements which only include constraints for other columns.\n",
    "\n",
    "**Recuperar una pequeña muestra de filas:**\n",
    "Como se mostró en la Sección 2.3.2, usar `maxrec=10` o `SELECT TOP 10` cuando se explora el conjunto de datos para obtener como resultado unas pocas filas con las que jugar (esto también puede acortar los tiempos de consulta para consultas exploratorias sin las sentencias WHERE).\n",
    "\n",
    "> **Retrieve a small sample of rows:**\n",
    "> As demonstrated in Section 2.3.2, use `maxrec=10` or `SELECT TOP 10` when exploring data sets in order to return only a few rows to play with (this can also shorten query times for exploratory queries without WHERE statements).\n",
    "\n",
    "**Reestricción recomendada en `detect_isPrimary`:**\n",
    "Cuando sea aplicable, se recomienda incluir `detect_isPrimary = True` en las consultas para los catálogos `Object`, `Source` y `ForcedSource`.\n",
    "Este parámetro vale `True` si una fuente no tiene hijos, si está en la región interior de un parche coadd (coad patch) y si no se detecta en un pseudo-filtro.\n",
    "Al incluir esta restricción se eliminan duplicados (i.e., no se incluirán a padres y a sus hijos obtenidos en la separación (deblend) al mismo tiempo).\n",
    "> **Recommended constraint on `detect_isPrimary`:**\n",
    "> When applicable, it is recommended to include `detect_isPrimary = True` in queries for the `Object`, `Source`, and `ForcedSource` catalogs.\n",
    "> This parameter is `True` if a source has no children, is in the inner region of a coadd patch, is in the inner region of a coadd tract, and is not detected in a pseudo-filter.\n",
    "> Including this constraint will remove any duplicates (i.e., will not include both a parent and its deblended children)."
   ]
  },
  {
   "cell_type": "markdown",
   "id": "0370bb6e-6c3d-4cd2-978a-4b00fd485478",
   "metadata": {},
   "source": [
    "#### 2.3.1. Convirtiendo flujos a magnitudes\n",
    "\n",
    "> Converting fluxes to magnitudes\n",
    "\n",
    "Los catálogos de objetos y fuentes almacenan sólo flujos. Hay cientos de columnas relacionadas a flujos, y almacenarlas también como magnitudes sería redundante, y un desperdicio de espacio.\n",
    "\n",
    "> The object and source catalogs store only fluxes. There are hundreds of flux-related columns, and to store them also as magnitudes would be redundant, and a waste of space.\n",
    "\n",
    "Todas las unidades de flujo son nanojanskys ($nJy$). La <a href=\"https://en.wikipedia.org/wiki/AB_magnitude\"> página de Wikipedia sobre Magnitudes AB</a>\n",
    " proporciona un recurso conciso para quienes no les resulta familiar el uso de magnitudes AB y flujos jansky. Para convertir $nJy$ a magnitudes AB usar: $m_{AB} = -2.5log( f_{nJy}) + 31.4$.\n",
    " \n",
    "> All flux units are nanojanskys ($nJy$). The <a href=\"https://en.wikipedia.org/wiki/AB_magnitude\">AB Magnitudes Wikipedia page</a> provides a concise resource for users unfamiliar with AB magnitudes and jansky fluxes. To convert $nJy$ to AB magnitudes use: $m_{AB} = -2.5log( f_{nJy}) + 31.4$.\n",
    "\n",
    "Como se muestra en la Sección 2.3.2, para agregar columnas de magnitudes después de recuperar columnas de flujos, se puede hacer lo siguiente:<br>\n",
    "`results_table['r_calibMag'] = -2.50 * numpy.log10(results_table['r_calibFlux']) + 31.4`<br>\n",
    "`results_table['r_cModelMag'] = -2.50 * numpy.log10(results_table['r_cModelFlux']) + 31.4`\n",
    "\n",
    "> As demonstrated in Section 2.3.2, to add columns of magnitudes after retrieving columns of flux, users can do this:<br>\n",
    "> `results_table['r_calibMag'] = -2.50 * numpy.log10(results_table['r_calibFlux']) + 31.4`<br>\n",
    "> `results_table['r_cModelMag'] = -2.50 * numpy.log10(results_table['r_cModelFlux']) + 31.4`\n",
    "\n",
    "Como se muestra en la Sección 2.3.3, para recuperar columnas de flujos *como magnitudes* en una consulta ADQL, se puede hacer:<br>\n",
    "`scisql_nanojanskyToAbMag(g_calibFlux) as g_calibMag`,\n",
    "y las columnas de errores de magnitud se pueden recuperar haciendo:<br>\n",
    "`scisql_nanojanskyToAbMagSigma(g_calibFlux, g_calibFluxErr) as g_calibMagErr`.\n",
    "\n",
    "> As demonstrated in Section 2.3.3, to retrieve columns of fluxes *as magnitudes* in an ADQL query, users can do this:<br>\n",
    "> `scisql_nanojanskyToAbMag(g_calibFlux) as g_calibMag`,\n",
    "> and columns of magnitude errors can be retrieved with:<br>\n",
    "> `scisql_nanojanskyToAbMagSigma(g_calibFlux, g_calibFluxErr) as g_calibMagErr`."
   ]
  },
  {
   "cell_type": "markdown",
   "id": "5356f2e2-a369-42d2-8d46-ff155e221d7e",
   "metadata": {},
   "source": [
    "#### 2.3.2. Diez objetos de cualquier tipo\n",
    "\n",
    "> Ten objects of any kind\n",
    "\n",
    "Para mostrar rápidamente cómo recuperar datos del catálogo de objetos Object, usar una búsqueda de cono y solicitar que se devuelvan sólo 10 registros. La Figura 2 del <a href=\"https://ui.adsabs.harvard.edu/abs/2021ApJS..253...31L/abstract\">artículo de DC2 de DESC</a>  muestra que la región del cielo cubierta por la simulación de DC2 contiente coordenadas RA,Dec = 62,-37\n",
    "\n",
    "> To quickly demonstrate how to retrieve data from the Object catalog,  use a cone search and request only 10 records be returned. Figure 2 of the <a href=\"https://ui.adsabs.harvard.edu/abs/2021ApJS..253...31L/abstract\">DESC's DC2 paper</a> shows the sky region covered by the DC2 simulation contains coordinates RA,Dec = 62,-37.\n",
    "\n",
    "Este ejemplo usa `maxrec=10` en la función `service.search()`, pero se pueden lograr los mismos resultados reemplazando `SELECT` por `SELECT TOP 10` en la consulta ADQL.\n",
    "\n",
    "> This example uses `maxrec=10` in the `service.search()` function, but the same results could be achieved by replacing `SELECT` with `SELECT TOP 10` in the ADQL query.\n",
    "\n",
    "> **Atención:** El catálogo Object contiene cientos de millones de filas. Las búsquedas que no especifican una región y/o un número máximo de registros pueden tomar mucho tiempo, y devolver demasiadas filas para mostras en una notebook.\n",
    "\n",
    ">> **Warning:** The Object catalog contains hundreds of millions of rows. Searches that do not specify a region and/or a maximum number of records can take a long time, and return far too many rows to display in a notebook.\n",
    "\n",
    "Recuperar coordenadas y magnitudes g,r,i para diez objetos dentro de un radio de 0.5 grados de 62,-37\n",
    "> Retrieve coordinates and g,r,i magnitudes for 10 objects within a radius 0.5 degrees of 62,-37."
   ]
  },
  {
   "cell_type": "code",
   "execution_count": null,
   "id": "8fa7d255-584b-4be5-94a3-2b901147c4c3",
   "metadata": {
    "tags": []
   },
   "outputs": [],
   "source": [
    "use_center_coords = \"62, -37\""
   ]
  },
  {
   "cell_type": "markdown",
   "id": "c23a25b7-e861-4d74-a07d-cde752b10483",
   "metadata": {},
   "source": [
    "Abajo, `SELECT TOP 10` se utiliza en la sentencia de consulta para limitar a 10 objetos los datos que se devuelven.\n",
    "Una alternativa es usar la palabra clave `maxrec` en la sentencia de búsqueda: `service.search(my_adql_query, maxrec=10)`.\n",
    "Sin embargo, usar `maxrec` puede devolver un `DALOverflowWarning` que alerta que se han devuelto resultados parciales (aún cuando se deseaban resultados parciales)\n",
    "\n",
    "> Below, `SELECT TOP 10` is used in the query statement to limit the returned data to 10 objects.\n",
    "> An alternative is to use the `maxrec` keyword in the search statement: `service.search(my_adql_query, maxrec=10)`.\n",
    "> However, use of `maxrec` might return a `DALOverflowWarning` to warn the user that partial results have been returned (even though partial results were desired)."
   ]
  },
  {
   "cell_type": "code",
   "execution_count": null,
   "id": "355a5cb2",
   "metadata": {
    "tags": []
   },
   "outputs": [],
   "source": [
    "my_adql_query = \"SELECT TOP 10 \"+ \\\n",
    "                \"coord_ra, coord_dec, detect_isPrimary, \" + \\\n",
    "                \"r_calibFlux, r_cModelFlux, r_extendedness \" + \\\n",
    "                \"FROM dp02_dc2_catalogs.Object \" + \\\n",
    "                \"WHERE CONTAINS(POINT('ICRS', coord_ra, coord_dec), \" + \\\n",
    "                \"CIRCLE('ICRS', \" + use_center_coords + \", 0.01)) = 1 \"\n",
    "\n",
    "results = service.search(my_adql_query)\n",
    "results_table = results.to_table()"
   ]
  },
  {
   "cell_type": "code",
   "execution_count": null,
   "id": "eb72874d-8c81-44a4-a1f8-c37b117f734e",
   "metadata": {
    "tags": []
   },
   "outputs": [],
   "source": [
    "results_table['r_calibMag'] = -2.50 * numpy.log10(results_table['r_calibFlux']) + 31.4\n",
    "results_table['r_cModelMag'] = -2.50 * numpy.log10(results_table['r_cModelFlux']) + 31.4"
   ]
  },
  {
   "cell_type": "code",
   "execution_count": null,
   "id": "2a863831-690c-4cb9-b48b-2e49256863b6",
   "metadata": {
    "tags": []
   },
   "outputs": [],
   "source": [
    "results_table"
   ]
  },
  {
   "cell_type": "markdown",
   "id": "e1f5b222",
   "metadata": {},
   "source": [
    "#### 2.3.2. Diez mil objetos puntuales\n",
    "\n",
    "> Ten thousand point-like objects\n",
    "\n",
    "Además de la búsqueda de cono, fijar restricciones de consulta para detect_isPrimary tenga valor True (esto no devolverá fuentes \"hijas\" producto de separación o deblending), que el flujo calibrado sea mayor que 360 nJy (aproximadamente magnitud 25), y que los parámetros de extensión sean 0 (fuentes puntuales).\n",
    "\n",
    "> In addition to a cone search, impose query restrictions that detect_isPrimary is True (this will not return deblended \"child\" sources), that the calibrated flux is greater than 360 nJy (about 25th mag), and that the extendedness parameters are 0 (point-like sources).\n",
    "\n",
    "Recuperar las magnitudes de manda g, r e i para 10000 objetos que tienen alta probabilidad de ser estrellas.\n",
    "> Retrieve g-, r- and i-band magnitudes for 10000 objects that are likely to be stars."
   ]
  },
  {
   "cell_type": "code",
   "execution_count": null,
   "id": "e9989da7",
   "metadata": {
    "tags": []
   },
   "outputs": [],
   "source": [
    "results = service.search(\"SELECT TOP 10000 \"\n",
    "                         \"coord_ra, coord_dec, \"\n",
    "                         \"scisql_nanojanskyToAbMag(g_calibFlux) as g_calibMag, \"\n",
    "                         \"scisql_nanojanskyToAbMag(r_calibFlux) as r_calibMag, \"\n",
    "                         \"scisql_nanojanskyToAbMag(i_calibFlux) as i_calibMag, \"\n",
    "                         \"scisql_nanojanskyToAbMagSigma(g_calibFlux, g_calibFluxErr) as g_calibMagErr \"\n",
    "                         \"FROM dp02_dc2_catalogs.Object \"\n",
    "                         \"WHERE CONTAINS(POINT('ICRS', coord_ra, coord_dec), \"\n",
    "                         \"CIRCLE('ICRS', \"+use_center_coords+\", 1.0)) = 1 \"\n",
    "                         \"AND detect_isPrimary = 1 \"\n",
    "                         \"AND g_calibFlux > 360 \"\n",
    "                         \"AND r_calibFlux > 360 \"\n",
    "                         \"AND i_calibFlux > 360 \"\n",
    "                         \"AND g_extendedness = 0 \"\n",
    "                         \"AND r_extendedness = 0 \"\n",
    "                         \"AND i_extendedness = 0\")\n",
    "\n",
    "results_table = results.to_table()\n",
    "print(len(results_table))"
   ]
  },
  {
   "cell_type": "markdown",
   "id": "d293260a-e7d3-4fdb-9a37-716f612c6220",
   "metadata": {},
   "source": [
    "La muestra de tabla se truncará automáticamente\n",
    "\n",
    "> The table display will automatically truncate."
   ]
  },
  {
   "cell_type": "code",
   "execution_count": null,
   "id": "13eeaa07-ca19-4b1e-983f-3e29908adbc2",
   "metadata": {
    "tags": []
   },
   "outputs": [],
   "source": [
    "results_table"
   ]
  },
  {
   "cell_type": "markdown",
   "id": "41b68c33",
   "metadata": {},
   "source": [
    "Guardar los resultados en un marco de datos de pandas (dataframe) para tener fácil acceso al contenido. Estos datos son utilizados para crear un diagrama color-magnitud en la Sección 2.5.\n",
    "> Put the results into a pandas dataframe for easy access to contents. This data is used to create a color-magnitude diagram in Section 2.5."
   ]
  },
  {
   "cell_type": "code",
   "execution_count": null,
   "id": "798b0809",
   "metadata": {
    "tags": []
   },
   "outputs": [],
   "source": [
    "data = results_table.to_pandas()"
   ]
  },
  {
   "cell_type": "markdown",
   "id": "3e1dc71c",
   "metadata": {},
   "source": [
    "Para quienes no tienen familiaridad con Pandas, aquí hay algunas líneas de código opcionales que muestran cómo imprimir los nombres de columna, la columna de información de 'ra', o la columna de valores de 'ra'. Descomentar (eliminar #) y ejecutar la celda para ver la salida de la demostración.\n",
    "\n",
    "> For users unfamiliar with Pandas, here are some optional lines of code that demonstrate how to print the column names, the 'ra' column info, or the 'ra' column values. Uncomment (remove #) and execute the cell to view the demo output."
   ]
  },
  {
   "cell_type": "code",
   "execution_count": null,
   "id": "fd0f247a",
   "metadata": {
    "tags": []
   },
   "outputs": [],
   "source": [
    "# data.columns"
   ]
  },
  {
   "cell_type": "code",
   "execution_count": null,
   "id": "a3dd33a7",
   "metadata": {
    "tags": []
   },
   "outputs": [],
   "source": [
    "# data['coord_ra']"
   ]
  },
  {
   "cell_type": "code",
   "execution_count": null,
   "id": "a72e6ecd",
   "metadata": {
    "tags": []
   },
   "outputs": [],
   "source": [
    "# data['coord_ra'].values"
   ]
  },
  {
   "cell_type": "markdown",
   "id": "cd5b98bc",
   "metadata": {},
   "source": [
    "### 2.5 Hacer un diagrama color-magnitud\n",
    "\n",
    "> Make a color-magnitude diagram\n",
    "\n",
    "Usar la utilidad para graficar del paquete matplotlib.pyplot (que fue importado como plt). Los parámetros para la utilidad para graficar se describen en su totalidad en <a href=\"https://matplotlib.org/stable/api/_as_gen/matplotlib.pyplot.plot.html#matplotlib.pyplot.plot\"> este sitio web de matplotlib</a>, pero bercemente son: valores de x, valores de y, símbolo de forma ('o' es círculo), tamaño de marcador (marker size, ms) y transparencia del marcador (alpha).\n",
    "\n",
    "> Use the plot task of the matplotlib.pyplot package (which was imported as plt). The plot task parameters are described in full at <a href=\"https://matplotlib.org/stable/api/_as_gen/matplotlib.pyplot.plot.html#matplotlib.pyplot.plot\">this matplotlib website</a>, but briefly they are: x values, y values, symbol shape ('o' is circle), marker size (ms), and marker transparency (alpha)."
   ]
  },
  {
   "cell_type": "code",
   "execution_count": null,
   "id": "98b2c106",
   "metadata": {
    "tags": []
   },
   "outputs": [],
   "source": [
    "plt.plot(data['r_calibMag'].values - data['i_calibMag'].values,\n",
    "         data['g_calibMag'].values, 'o', ms=2, alpha=0.2)\n",
    "\n",
    "plt.xlabel('mag_r - mag_i', fontsize=16)\n",
    "plt.ylabel('mag_g', fontsize=16)\n",
    "plt.xticks(fontsize=16)\n",
    "plt.yticks(fontsize=16)\n",
    "\n",
    "plt.xlim([-0.5, 2.0])\n",
    "plt.ylim([25.5, 16.5])\n",
    "\n",
    "plt.show()"
   ]
  },
  {
   "cell_type": "markdown",
   "id": "8c2c40f7",
   "metadata": {},
   "source": [
    "Este gráfico genera muchas interrogantes, por ejemplo \"¿Por qué los colores están cuantizados?\" y \"¿Son todas esas realmente estrellas?\". Las respuestas exceden el ámbito de esta notebook, y son dejadas como temas potenciales de análisis científico que puede hacerse con el conjunto de datos DC2.\n",
    "> This plot generates many questions, such as \"Why are the colors quantized?\" and \"Are those all really stars?\". The answers are beyond the scope of this notebook, and are left as potential topics of scientific analysis that could be done with the DC2 data set."
   ]
  },
  {
   "cell_type": "markdown",
   "id": "d7c27a75-8928-4ead-a958-c7142b0a9a6e",
   "metadata": {},
   "source": [
    "### 2.6 Opcional: graficar magnitud versus error de magnitud\n",
    "\n",
    "> 2.6 Optional: plot magnitude versus magnitude error\n",
    "\n",
    "Para ilsutrar tanto las magnitudes como los errores de magnitud recuperados mediante la cunsulta TAP más arriba,\n",
    "aquí hay una opción para graficar el error de magnitud como una función de magnitud.\n",
    "> To illustrate both the magnitudes and magnitude errors retrieved via the TAP query above,\n",
    "> here is an option to plot the magnitude error as a function of magnitude."
   ]
  },
  {
   "cell_type": "code",
   "execution_count": null,
   "id": "d9503291-d974-471a-9d53-fd880f57e6fd",
   "metadata": {
    "tags": []
   },
   "outputs": [],
   "source": [
    "# plt.plot(data['g_calibMag'].values, data['g_calibMagErr'].values, 'o', ms=2, alpha=0.2)\n",
    "# plt.show()"
   ]
  },
  {
   "cell_type": "markdown",
   "id": "56baaa33",
   "metadata": {},
   "source": [
    "## 3.0. Datos de Imagen\n",
    "\n",
    "> Image Data\n",
    "\n",
    "Los dos tipos de imágenes más comunes con los que van a interactuar los delegados y delegadas de DP0 son calexps y deepCoadds.\n",
    "\n",
    "> The two most common types of images that DP0 delegates will interact with are calexps and deepCoadds.\n",
    "\n",
    "**calexp:** Una única imagen con un único filtro.\n",
    "> **calexp**: A single image in a single filter.\n",
    "\n",
    "**deepCoadd:** Una combinación de imágenes individuales en pila profunda o Coadd.\n",
    ">**deepCoadd**: A combination of single images into a deep stack or Coadd.\n",
    "\n",
    " Las pipelines científicas LSST (Science Pipelines) procesan y almacenan imágenes en regiones (tracts) y parcelas (patches).\n",
    "> The LSST Science Pipelines processes and stores images in tracts and patches.\n",
    "\n",
    "**región**: Una porción del cielo dentro de la teselación de todo el cielo de LSST (LSST all-sky tessellation) (mapa del cielo); dividido en parcelas.\n",
    "> **tract**: A portion of sky within the LSST all-sky tessellation (sky map); divided into patches.\n",
    "\n",
    "**parcela**: Una subregión cuadrilátera de una región, de un tamaño que se ajusta fácilmente en la memoria de las computadoras de escritorio.\n",
    "> **patch**: A quadrilateral sub-region of a tract, of a size that fits easily into memory on desktop computers.\n",
    "\n",
    "Para recuperar y visualizar una imagen en las cordenadas deseadas, se debe especificar el tipo de imagen, la región (tract) y la parcela (patch).\n",
    "> To retrieve and display an image at a desired coordinate, users have to specify their image type, tract, and patch."
   ]
  },
  {
   "cell_type": "markdown",
   "id": "6758b295",
   "metadata": {},
   "source": [
    "### 3.1. Crear una instancia de Butler\n",
    "\n",
    "> Create an instance of the butler\n",
    "\n",
    "Butler -que en inglés significa mayordomo- (<a href=\"https://pipelines.lsst.io/modules/lsst.daf.butler/index.html\">documentation</a>) es un paquete de software de LSST Science Pipelines que sirve para obtener datos de LSST sin necesidad de conocer su ubicación o formato. Además Butler también puede ser utilizado para explorar y descubrir qué datos existen. Otros tutoriales demuestran la funcionalidad completa de Butler.\n",
    "\n",
    "> The butler (<a href=\"https://pipelines.lsst.io/modules/lsst.daf.butler/index.html\">documentation</a>) is an LSST Science Pipelines software package to fetch LSST data without having to know its location or format. The butler can also be used to explore and discover what data exist. Other tutorials demonstrate the full butler functionality."
   ]
  },
  {
   "cell_type": "markdown",
   "id": "3b640a69",
   "metadata": {},
   "source": [
    "Crea una instancia de Butler utilizando la siguiente configuración y colección de DP0.2\n",
    "Devolverá una declaración informativa sobre las credenciales encontradas.\n",
    "> Create an instance of the butler using the following DP0.2 configuration and collection.\n",
    "> It will return an informative statement about credentials being found."
   ]
  },
  {
   "cell_type": "code",
   "execution_count": null,
   "id": "2122a1fb",
   "metadata": {
    "tags": []
   },
   "outputs": [],
   "source": [
    "butler = dafButler.Butler('dp02', collections='2.2i/runs/DP0.2')"
   ]
  },
  {
   "cell_type": "markdown",
   "id": "7f25b7df-a901-4a69-81d0-c630cec28539",
   "metadata": {},
   "source": [
    "### 3.2. Identificar y recuperar una deepCoadd\n",
    "> Identify and retrieve a deepCoadd"
   ]
  },
  {
   "cell_type": "markdown",
   "id": "b0519417",
   "metadata": {},
   "source": [
    "Hay cúmulo de galaxias DC2 que se ve genial en RA = 03h42m59.0s, Dec = -32d16m09s (en grados, 55.745834, -32.269167).\n",
    "> There is a cool-looking DC2 galaxy cluster at RA = 03h42m59.0s, Dec = -32d16m09s (in degrees, 55.745834, -32.269167).\n",
    "\n",
    "Usar lsst.geom para definir un SpherePoint -punto de esfera- para las coordenadas del cúmulo (<a href=\"https://pipelines.lsst.io/modules/lsst.geom/index.html\">documentación de lsst.geom</a>)\n",
    "> Use lsst.geom to define a SpherePoint for the cluster's coordinates (<a href=\"https://pipelines.lsst.io/modules/lsst.geom/index.html\">lsst.geom documentation</a>)."
   ]
  },
  {
   "cell_type": "code",
   "execution_count": null,
   "id": "56ea8e01",
   "metadata": {
    "tags": []
   },
   "outputs": [],
   "source": [
    "my_ra_deg = 55.745834\n",
    "my_dec_deg = -32.269167\n",
    "\n",
    "my_spherePoint = lsst.geom.SpherePoint(my_ra_deg*lsst.geom.degrees,\n",
    "                                       my_dec_deg*lsst.geom.degrees)\n",
    "print(my_spherePoint)"
   ]
  },
  {
   "cell_type": "markdown",
   "id": "789fb4ff",
   "metadata": {},
   "source": [
    "Recuperar el mapa del cielo de DC2 desde Butler y usarlo para identificar la región y parcela para las coordenadas del cúmulo (<a href=\"http://doxygen.lsst.codes/stack/doxygen/x_masterDoxyDoc/skymap.html\">documentación de skymap</a>)\n",
    "> Retrieve the DC2 sky map from the butler and use it to identify the tract and patch for the cluster's coordinates (<a href=\"http://doxygen.lsst.codes/stack/doxygen/x_masterDoxyDoc/skymap.html\">skymap documentation</a>)."
   ]
  },
  {
   "cell_type": "code",
   "execution_count": null,
   "id": "1796f237",
   "metadata": {
    "tags": []
   },
   "outputs": [],
   "source": [
    "skymap = butler.get('skyMap')\n",
    "\n",
    "tract = skymap.findTract(my_spherePoint)\n",
    "patch = tract.findPatch(my_spherePoint)\n",
    "\n",
    "my_tract = tract.tract_id\n",
    "my_patch = patch.getSequentialIndex()\n",
    "\n",
    "print('my_tract: ', my_tract)\n",
    "print('my_patch: ', my_patch)"
   ]
  },
  {
   "cell_type": "markdown",
   "id": "63c0e237",
   "metadata": {},
   "source": [
    "Utiliza Butler para recuperar el Coadd profundo en la banda i para la región y parcela.\n",
    "> Use the butler to retrieve the deep i-band Coadd for the tract and patch."
   ]
  },
  {
   "cell_type": "code",
   "execution_count": null,
   "id": "460e1df6",
   "metadata": {
    "tags": []
   },
   "outputs": [],
   "source": [
    "dataId = {'band': 'i', 'tract': my_tract, 'patch': my_patch}\n",
    "my_deepCoadd = butler.get('deepCoadd', dataId=dataId)"
   ]
  },
  {
   "cell_type": "markdown",
   "id": "d4e2c4d1",
   "metadata": {},
   "source": [
    "### 3.3. Visualizar la imagen con afwDisplay\n",
    "\n",
    "> Display the image with afwDisplay\n",
    "\n",
    "Los datos de imagen recuperados con Butler se pueden visualizar de diferentes maneras. Una opción sencilla es utilizar el paquete afwDisplay de las pipelines científicas de LSST. Hay alguna <a href=\"https://pipelines.lsst.io/modules/lsst.afw.display/index.html\">documentación de afwDisplay</a> disponible, y otros tutoriales de DP0 entran en más detalle acerca de todas las opciones de visualización (e.g., datos de máscara de superposición para mostrar píxeles malos).\n",
    "\n",
    "> Image data retrieved with the butler can be displayed several different ways. A simple option is to use the LSST Science Pipelines package afwDisplay. There is some <a href=\"https://pipelines.lsst.io/modules/lsst.afw.display/index.html\">documentation for afwDisplay</a> available, and other DP0 tutorials go into more detail about all the display options (e.g., overlaying mask data to show bad pixels).\n",
    "\n",
    "Establecer el backend de afwDisplay para matplotlib.\n",
    "> Set the backend of afwDisplay to matplotlib."
   ]
  },
  {
   "cell_type": "code",
   "execution_count": null,
   "id": "d4ebe015",
   "metadata": {
    "tags": []
   },
   "outputs": [],
   "source": [
    "afwDisplay.setDefaultBackend('matplotlib')"
   ]
  },
  {
   "cell_type": "markdown",
   "id": "4f1ab1a8",
   "metadata": {},
   "source": [
    "Usar afwDisplay para mostrar los datos de imagen recuperados.\n",
    "> Use afwDisplay to show the image data retrieved.\n",
    "\n",
    "La siguiente celda de código crea una figura matplot.pyplot; renombra `lsst.afw.display.Display` como  `afw_display`; establece la escala para las intensidades o tonos de los píxeles (pixel shading): visualiza la imagen usando `mtvp`; y activa las etiquetas para los ejes x, y (coordenadas de píxel).\n",
    "> The following code cell creates a matplotlib.pyplot figure; aliases `lsst.afw.display.Display` as `afw_display`; \n",
    "> sets the scale for the pixel shading; displays the image data using `mtv`; and turns on the x and y axes labels (pixel coordinates)."
   ]
  },
  {
   "cell_type": "code",
   "execution_count": null,
   "id": "dd46970e",
   "metadata": {
    "tags": []
   },
   "outputs": [],
   "source": [
    "fig = plt.figure(figsize=(10, 8))\n",
    "afw_display = afwDisplay.Display(1)\n",
    "afw_display.scale('asinh', 'zscale')\n",
    "afw_display.mtv(my_deepCoadd.image)\n",
    "plt.gca().axis('on')"
   ]
  },
  {
   "cell_type": "markdown",
   "id": "2a318232",
   "metadata": {},
   "source": [
    "Para conocer más sobre el paquete afwDisplay  y sus tareas, usar la función de ayuda `help`\n",
    "> To learn more about the afwDisplay package and its tasks, use the help function."
   ]
  },
  {
   "cell_type": "code",
   "execution_count": null,
   "id": "4e9a1ee0",
   "metadata": {
    "tags": []
   },
   "outputs": [],
   "source": [
    "# help(afw_display.scale)\n",
    "# help(afw_display.mtv)"
   ]
  }
 ],
 "metadata": {
  "kernelspec": {
   "display_name": "LSST",
   "language": "python",
   "name": "lsst"
  },
  "language_info": {
   "codemirror_mode": {
    "name": "ipython",
    "version": 3
   },
   "file_extension": ".py",
   "mimetype": "text/x-python",
   "name": "python",
   "nbconvert_exporter": "python",
   "pygments_lexer": "ipython3",
   "version": "3.11.7"
  },
  "toc-autonumbering": false
 },
 "nbformat": 4,
 "nbformat_minor": 5
}
