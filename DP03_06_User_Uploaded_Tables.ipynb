{
 "cells": [
  {
   "cell_type": "markdown",
   "id": "749b0ddf",
   "metadata": {},
   "source": [
    "# User-Uploaded Catalogs\n",
    "<img align=\"left\" src = https://project.lsst.org/sites/default/files/Rubin-O-Logo_0.png width=250 style=\"padding: 10px\"> \n",
    "<br>\n",
    "Contact authors: Yumi Choi <br>\n",
    "Last verified to run: 2024-06-03 <br>\n",
    "LSST Science Piplines version: Weekly 2024_16 <br>\n",
    "Container Size: small <br>\n",
    "Targeted learning level: Beginner <br>"
   ]
  },
  {
   "cell_type": "code",
   "execution_count": null,
   "id": "d5937237-3419-4298-a366-461f698b65f6",
   "metadata": {},
   "outputs": [],
   "source": [
    "%load_ext pycodestyle_magic\n",
    "%flake8_on\n",
    "import logging\n",
    "logging.getLogger(\"flake8\").setLevel(logging.FATAL)"
   ]
  },
  {
   "cell_type": "markdown",
   "id": "9da1a210-d858-42fe-8591-570965b8be1a",
   "metadata": {},
   "source": [
    "**Description:** Use the TAP upload functionality for user-supplied tables and join them with DP0.3 catalogs."
   ]
  },
  {
   "cell_type": "markdown",
   "id": "80a0baf5-51ad-40ec-8991-060a7b27c289",
   "metadata": {},
   "source": [
    "**Skills:** Use the TAP service to upload a table and join it to an LSST table with ADQL."
   ]
  },
  {
   "cell_type": "markdown",
   "id": "393da88f-7978-4920-aa4a-a9830df6eed9",
   "metadata": {},
   "source": [
    "**LSST Data Products:** TAP tables dp03_catalogs_10yr.SSObject, dp03_catalogs_10yr.MPCORB, dp03_catalogs_10yr.DiaSource"
   ]
  },
  {
   "cell_type": "markdown",
   "id": "5c67fab9-136a-4adc-bb42-142b91ab69dd",
   "metadata": {},
   "source": [
    "**Packages:** lsst.rsp.get_tap_service"
   ]
  },
  {
   "cell_type": "markdown",
   "id": "8f72b27f",
   "metadata": {},
   "source": [
    "**Credit:**\n",
    "Developed by Yumi Choi. This tutorial is based on <a href=\"https://dp0-3.lsst.io/tutorials-dp0-3/portal-dp0-3-5.html\">a Portal tutorial</a> by Christina Williams for using user-supplied tables in queries for DP0.3 and <a href=\"https://github.com/rubin-dp0/cst-dev/blob/main/MLG_sandbox/DP03/gaia_hack_day_Feb2024.ipynb\">a Jupyter Notebook</a> by Melissan Graham and Jake Kurlander for accessing Gaia data and matching with DP0.3 data for solar system objects."
   ]
  },
  {
   "cell_type": "markdown",
   "id": "a400d1bb-e1ec-4160-bd41-bc7ca953a97c",
   "metadata": {
    "execution": {
     "iopub.execute_input": "2023-07-27T17:55:39.523317Z",
     "iopub.status.busy": "2023-07-27T17:55:39.522902Z",
     "iopub.status.idle": "2023-07-27T17:55:40.035942Z",
     "shell.execute_reply": "2023-07-27T17:55:40.034503Z",
     "shell.execute_reply.started": "2023-07-27T17:55:39.523290Z"
    },
    "tags": []
   },
   "source": [
    "**Get Support:** Find DP0-related documentation and resources at <a href=\"https://dp0.lsst.io\">dp0.lsst.io</a>. Questions are welcome as new topics in the <a href=\"https://community.lsst.org/c/support/dp0\">Support - Data Preview 0 Category</a> of the Rubin Community Forum. Rubin staff will respond to all questions posted there."
   ]
  },
  {
   "attachments": {},
   "cell_type": "markdown",
   "id": "cfc73be0",
   "metadata": {
    "tags": []
   },
   "source": [
    "## 1. Introduction\n",
    "\n",
    "This notebook illustrates the process of uploading user-provided tables via the TAP service and integrating them into queries for DP0.3. It focuses on two types of user-provided tables: (1) tables generated outside the RSP, and (2) tables created within the RSP but retrieved from an external database using [PyVO](https://github.com/astropy/pyvo)."
   ]
  },
  {
   "cell_type": "markdown",
   "id": "5bf722b4-8227-441f-9f3e-0f8140040fc1",
   "metadata": {
    "tags": []
   },
   "source": [
    "### 1.1. Import packages\n",
    "\n",
    "Import general python packages and the Rubin Table Access Protocol (TAP) service.\n",
    "\n",
    "[PyVO](https://pyvo.readthedocs.io/en/latest/) is a package providing access to remote data and services of the Virtual observatory (VO) using Python."
   ]
  },
  {
   "cell_type": "code",
   "execution_count": null,
   "id": "4d4078a1-8232-4f11-97ec-2a67ca19308e",
   "metadata": {},
   "outputs": [],
   "source": [
    "import os\n",
    "import getpass\n",
    "import matplotlib.pyplot as plt\n",
    "import numpy as np\n",
    "import pyvo\n",
    "from astropy.table import Table\n",
    "from lsst.rsp import get_tap_service"
   ]
  },
  {
   "cell_type": "markdown",
   "id": "c217adff-25ed-4fce-95e7-8aa04630f6cc",
   "metadata": {},
   "source": [
    "### 1.2. Define parameters"
   ]
  },
  {
   "cell_type": "markdown",
   "id": "8a4a8b3b-91cf-4729-a707-99b7b11a5b8d",
   "metadata": {},
   "source": [
    "Set a few style parameters for the plots."
   ]
  },
  {
   "cell_type": "code",
   "execution_count": null,
   "id": "c780a382-5c5e-4f20-9ffd-7aa517c37146",
   "metadata": {
    "tags": []
   },
   "outputs": [],
   "source": [
    "plt.style.use('tableau-colorblind10')\n",
    "params = {'axes.labelsize': 12,\n",
    "          'font.size': 12,\n",
    "          'legend.fontsize': 10}\n",
    "plt.rcParams.update(params)"
   ]
  },
  {
   "cell_type": "markdown",
   "id": "12ab5a66-b37d-4a3b-b207-b95a68c7a7a7",
   "metadata": {},
   "source": [
    "Define the path to the home directory, where outputs generated by this tutorial will be saved."
   ]
  },
  {
   "cell_type": "code",
   "execution_count": null,
   "id": "f60d078e-a8b1-4925-8368-fe41064a1fa4",
   "metadata": {},
   "outputs": [],
   "source": [
    "my_home_dir = '/home/' + getpass.getuser() + '/'\n",
    "print(my_home_dir)"
   ]
  },
  {
   "cell_type": "markdown",
   "id": "00b268e9-b011-4c57-9604-91e82bca58ce",
   "metadata": {},
   "source": [
    "Start the TAP service and assert that it exists."
   ]
  },
  {
   "cell_type": "code",
   "execution_count": null,
   "id": "b62bc6f9-62ea-46a8-a05d-f6a7efaa855c",
   "metadata": {},
   "outputs": [],
   "source": [
    "rsp_tap = get_tap_service(\"ssotap\")\n",
    "assert rsp_tap is not None"
   ]
  },
  {
   "cell_type": "markdown",
   "id": "ec51ac0b",
   "metadata": {
    "tags": []
   },
   "source": [
    "## 2. Spatial and temporal cross-match to diaSources\n",
    "\n",
    "The scientific scenario here is that a list of expected locations of moving objects\n",
    "across multiple nights is in-hand, and the question is whether LSST detected them.\n",
    "\n",
    "The query below uploads this list to the TAP service and cross-matches to the table of detected sources \n",
    "that results from difference image analysis: the `diaSource` table\n",
    "(learn more about [DP0.3 catalogs](https://dp0-3.lsst.io/data-products-dp0-3/index.html#dp0-3-data-products-definition-document-dpdd)).\n",
    "\n",
    "The list of identifier indicies, right ascensions, declinations, and modified julian dates (id, ra, dec, and mjd) is\n",
    "provided in a file (nine rows, i.e., nine expected locations and times).\n",
    "\n",
    "The format for user-uploadable tables is to have the column names in the first row, with no # symbol at the start of the row."
   ]
  },
  {
   "cell_type": "code",
   "execution_count": null,
   "id": "43f597c0-8ba4-40c7-aee9-9f250dac82dd",
   "metadata": {},
   "outputs": [],
   "source": [
    "fnm1 = 'data/dp03_06_user_table_1.cat'"
   ]
  },
  {
   "cell_type": "markdown",
   "id": "c62755f2-f3fc-4759-9f10-e6f72d245edb",
   "metadata": {},
   "source": [
    "**Option:** View the contents of the file with `more`, or return the word count (lines, words, characters) with `wc`."
   ]
  },
  {
   "cell_type": "code",
   "execution_count": null,
   "id": "81b8cd59-1ba3-4eaa-846f-6478ed0c3cf5",
   "metadata": {
    "tags": []
   },
   "outputs": [],
   "source": [
    "# os.system('more ' + fnm1)\n",
    "# os.system('wc ' + fnm1)"
   ]
  },
  {
   "cell_type": "markdown",
   "id": "bf968de5-ce59-41c9-88f0-83cd88bdc083",
   "metadata": {},
   "source": [
    "Read the file as user table 1, `ut1`."
   ]
  },
  {
   "cell_type": "code",
   "execution_count": null,
   "id": "220c90e6-5399-46c4-a1dc-49219c7f46fd",
   "metadata": {},
   "outputs": [],
   "source": [
    "ut1 = Table.read(fnm1, format='ascii.basic')"
   ]
  },
  {
   "cell_type": "markdown",
   "id": "e99ebf49-6bf9-47bf-bcf6-5b768be279d3",
   "metadata": {},
   "source": [
    "Define a query to cross match the coordinates and dates in the file to detections in the DP0.3 `diaSource` catalog.\n",
    "\n",
    "This query is applying a spatial threshold of 10 arcseconds (0.00278 degrees), and a temporal threshold of half a day.\n",
    "\n",
    "Notice that the columns from the user-uploaded table are being renamed in the query, e.g., `ut1.ra AS ut1_ra`.\n",
    "If this renaming is not done, the TAP service will rename the columns from the user table as `ra2` and `dec2`\n",
    "to distinguish them from the `ra` and `dec` columns from the `DiaSource` table."
   ]
  },
  {
   "cell_type": "code",
   "execution_count": null,
   "id": "184ee9e9-c038-4aad-bbe1-87367794e63d",
   "metadata": {},
   "outputs": [],
   "source": [
    "query = \"\"\"\n",
    "    SELECT dias.ra, dias.dec, dias.midPointMjdTai, dias.ssObjectId,\n",
    "    ut1.ra AS ut1_ra, ut1.dec AS ut1_dec, ut1.mjd AS ut1_mjd, ut1.id AS ut1_id\n",
    "    FROM dp03_catalogs_10yr.DiaSource AS dias, TAP_UPLOAD.ut1 AS ut1\n",
    "    WHERE CONTAINS(POINT('ICRS', dias.ra, dias.dec),\n",
    "    CIRCLE('ICRS', ut1.ra, ut1.dec, 0.00278))=1\n",
    "    AND ABS(dias.midPointMjdTai - ut1.mjd) < 0.5\n",
    "    ORDER BY dias.ssObjectId\n",
    "    \"\"\""
   ]
  },
  {
   "cell_type": "markdown",
   "id": "46e8419f-ca60-4fc4-abf0-fa255f6d13ad",
   "metadata": {
    "execution": {
     "iopub.execute_input": "2024-06-03T03:44:00.969710Z",
     "iopub.status.busy": "2024-06-03T03:44:00.969017Z",
     "iopub.status.idle": "2024-06-03T03:44:01.592200Z",
     "shell.execute_reply": "2024-06-03T03:44:01.590939Z",
     "shell.execute_reply.started": "2024-06-03T03:44:00.969685Z"
    }
   },
   "source": [
    "Create the job by submitting the query and then run it asynchronously."
   ]
  },
  {
   "cell_type": "code",
   "execution_count": null,
   "id": "12d0080b-13f2-4a50-8b0e-126aa8b02faa",
   "metadata": {},
   "outputs": [],
   "source": [
    "job = rsp_tap.submit_job(query, uploads={\"ut1\": ut1})\n",
    "job.run()"
   ]
  },
  {
   "cell_type": "markdown",
   "id": "c3e7aaf0-2f7b-4185-9d1f-f5eb40ae06d3",
   "metadata": {},
   "source": [
    "Check that the job is completed."
   ]
  },
  {
   "cell_type": "code",
   "execution_count": null,
   "id": "801f6215-f541-408e-82c1-e147267c8765",
   "metadata": {},
   "outputs": [],
   "source": [
    "job.wait(phases=['COMPLETED', 'ERROR'])\n",
    "print('Job phase is', job.phase)"
   ]
  },
  {
   "cell_type": "markdown",
   "id": "b5383c21-d6c5-43b9-b189-62e429d11298",
   "metadata": {},
   "source": [
    "Retrieve the results and display them."
   ]
  },
  {
   "cell_type": "code",
   "execution_count": null,
   "id": "4164a28a-0786-4f0d-ada6-c7a5a371477e",
   "metadata": {},
   "outputs": [],
   "source": [
    "results = job.fetch_result().to_table()\n",
    "results"
   ]
  },
  {
   "cell_type": "markdown",
   "id": "476b0ef8-a1d8-4cfb-b408-715949807ae0",
   "metadata": {},
   "source": [
    "In the table above, notice that the `ssObjectId` is all the same.\n",
    "This is because the file was created to contain the detections of a single moving object across multiple nights.\n",
    "\n",
    "Notice also that whereas the user-uploaded table had 9 rows, there are 15 matches to the `diaSource` table.\n",
    "Six of the rows had two matches.\n",
    "This means that six times, this moving object was detected twice within 10 arcseconds in the same night.\n",
    "\n",
    "**Create a plot out of this data.**\n",
    "Moving objects do not exhibit a constant rate of motion on the sky in terms of, e.g., arcsec per minute.\n",
    "However, for the purposes of plotting the results of this cross-matching, calculate the spatial and temporal\n",
    "offsets between the detected `diaSource`s and the user uploaded expectations, and then plot the spatial vs. the temporal offsets.\n",
    "Eight of these will be zero (no offset; perfect match) but for the additional, newly-discovered detections in\n",
    "the `diaSource` catalog which were not in the user-uploaded table, there should be larger spatial offsets\n",
    "for larger temporal offsets."
   ]
  },
  {
   "cell_type": "code",
   "execution_count": null,
   "id": "c452a798-221a-4443-8061-69d26bc33f25",
   "metadata": {},
   "outputs": [],
   "source": [
    "cos_dec = np.cos(np.deg2rad(results['dec']))\n",
    "delta_ra = cos_dec * np.abs(results['ra'] - results['ut1_ra'])\n",
    "delta_dec = np.abs(results['dec'] - results['ut1_dec'])\n",
    "s_off = 3600.0 * np.sqrt(delta_ra**2 + delta_dec**2)\n",
    "t_off = 24.0 * 60.0 * np.abs(results['midPointMjdTai'] - results['ut1_mjd'])\n",
    "del cos_dec, delta_ra, delta_dec"
   ]
  },
  {
   "cell_type": "code",
   "execution_count": null,
   "id": "d3bede14-c8f1-41b2-987a-bb00343668a2",
   "metadata": {},
   "outputs": [],
   "source": [
    "fig = plt.figure(figsize=(6, 4))\n",
    "plt.plot(t_off, s_off, 'o', ms=10, alpha=0.3, mew=0)\n",
    "plt.xlabel('time difference (minutes)')\n",
    "plt.ylabel('sky distance (arcseconds)')\n",
    "plt.title('distance between same-night observations')\n",
    "plt.show()"
   ]
  },
  {
   "cell_type": "markdown",
   "id": "d7cba04f-1538-417f-8260-80193b092b3a",
   "metadata": {},
   "source": [
    "> Figure 1: Above, the sky distance in arcseconds is plotted versus the time difference in minutes for the 15 detections cross-matched with the 9 anticipated coordinates and times in the user-uploaded table.\n",
    "\n",
    "Clean up."
   ]
  },
  {
   "cell_type": "code",
   "execution_count": null,
   "id": "cc70f4d4-9551-435f-aa1c-84da684414b3",
   "metadata": {},
   "outputs": [],
   "source": [
    "del t_off, s_off\n",
    "del fnm1, ut1, query, job, results"
   ]
  },
  {
   "cell_type": "markdown",
   "id": "94714005-d795-48ea-b80a-2885c09b21e3",
   "metadata": {},
   "source": [
    "## 3. ADQL table join with a user-supplied table of SSObject IDs\n",
    "\n",
    "This section demonstrates how to upload a user-supplied table and join it with a DP0.3 table using a list of SSObjectIds. The same example table of SSObjectIds used in Step 2 of <a href=\"https://dp0-3.lsst.io/tutorials-dp0-3/portal-dp0-3-5.html\">this Portal tutorial</a> is stored in the local `data/` directory. The table includes two SSObjectIds."
   ]
  },
  {
   "cell_type": "markdown",
   "id": "40c839dd-80a3-4c7e-8255-ddeb01a92fba",
   "metadata": {},
   "source": [
    "### 3.1 Read and upload a user-supplied table of SSObject IDs and execute query against the `diaSource` table"
   ]
  },
  {
   "cell_type": "code",
   "execution_count": null,
   "id": "04ceaa25-e7a4-4e7d-a2bd-3750bf188d05",
   "metadata": {
    "tags": []
   },
   "outputs": [],
   "source": [
    "t_cat_2 = Table.read('./data/portal_tut05_useruploadcat2.cat', format='ascii.basic')"
   ]
  },
  {
   "cell_type": "code",
   "execution_count": null,
   "id": "a50aa52c-30d6-48d6-9567-551f5370a64b",
   "metadata": {},
   "outputs": [],
   "source": [
    "query = \"\"\"\n",
    "    SELECT ut2.ssObjectId_user, dia.ssObjectId, dia.ra, dia.dec\n",
    "    FROM TAP_UPLOAD.t2 as ut2\n",
    "    INNER JOIN dp03_catalogs_10yr.diaSource as dia\n",
    "    ON ut2.ssObjectId_user = dia.ssObjectId\n",
    "    \"\"\"\n",
    "\n",
    "results = lsst_tap.search(query, uploads={\"t2\": t_cat_2}).to_table()\n",
    "results"
   ]
  },
  {
   "cell_type": "code",
   "execution_count": null,
   "id": "36797086-6eab-4067-946d-1b578ec0b7b4",
   "metadata": {},
   "outputs": [],
   "source": [
    "uniqIds = np.unique(results['ssObjectId'])\n",
    "print('Confirm that %d matched unique objects are returned.' % (len(uniqIds)))"
   ]
  },
  {
   "cell_type": "markdown",
   "id": "0d66aa55-aca3-4703-a6a1-376b9fdb5da8",
   "metadata": {
    "execution": {
     "iopub.execute_input": "2024-05-07T05:18:45.699109Z",
     "iopub.status.busy": "2024-05-07T05:18:45.698800Z",
     "iopub.status.idle": "2024-05-07T05:18:45.704297Z",
     "shell.execute_reply": "2024-05-07T05:18:45.703757Z",
     "shell.execute_reply.started": "2024-05-07T05:18:45.699088Z"
    }
   },
   "source": [
    "For a quick sanity check, create a plot showing sky distribution of these two unique objects over 10 years."
   ]
  },
  {
   "cell_type": "code",
   "execution_count": null,
   "id": "4b6651e9-4f82-47d7-80a6-a863a9702fd1",
   "metadata": {},
   "outputs": [],
   "source": [
    "for i in uniqIds:\n",
    "    add = results['ssObjectId'] == i\n",
    "    plt.scatter(results['ra'][add], results['dec'][add], \n",
    "                label='ssObjectId:'+str(i))\n",
    "plt.xlabel('ra [deg]')\n",
    "plt.ylabel('dec [deg]')\n",
    "plt.legend()\n",
    "plt.show()"
   ]
  },
  {
   "cell_type": "markdown",
   "id": "28a8f930-4423-4677-aa35-42faa2300019",
   "metadata": {},
   "source": [
    "## 4. Gaia data for DP0.3 asteroids\n",
    "\n",
    "The previous two sections describe the cases of pre-exist user-supplied tables. This section demonstrates how to retrieve an external table, as an example, from the Gaia Archive, using `PyVO` in real time within the RSP and upload the table to use in a joint query with the LSST database. This allows you to directly access to external databases, if they provide a TAP service URL, and use them within the RSP. For example, <a href=\"https://datalab.noirlab.edu\">Data Lab</a> TAP service URL is: https://datalab.noirlab.edu/tap. "
   ]
  },
  {
   "cell_type": "markdown",
   "id": "7bbad6ce-afde-44a4-9c1d-77e5074d67b4",
   "metadata": {},
   "source": [
    "### 4.1 Access to Gaia database and retrieve Gaia data for main-belt asteroids (MBAs)\n",
    "\n",
    "Get an instance of the `Gaia TAP` service using `PyVO`, and assert that it exists."
   ]
  },
  {
   "cell_type": "code",
   "execution_count": null,
   "id": "b7644df2-4ac8-466a-83f8-7a896258f4fd",
   "metadata": {},
   "outputs": [],
   "source": [
    "gaia_tap_url = 'https://gea.esac.esa.int/tap-server/tap'\n",
    "gaia_tap = pyvo.dal.TAPService(gaia_tap_url)\n",
    "assert gaia_tap is not None\n",
    "assert gaia_tap.baseurl == gaia_tap_url"
   ]
  },
  {
   "cell_type": "markdown",
   "id": "e1f90a3b-db1f-41c7-bd48-d53d5584068f",
   "metadata": {},
   "source": [
    "Query MBAs from the Gaia database following the population definition used by the JPL Horizons small body database query tool (https://ssd.jpl.nasa.gov/tools/sbdb_query.html): 2.0 < `a` < 3.25 au and `q` > 1.666 au. To expedite the query, restrict the number of observations to be more than 200 and the number of objects to retrieve to 1000. Save the result table in a pandas DataFrame to faciliate string modification in the following steps."
   ]
  },
  {
   "cell_type": "code",
   "execution_count": null,
   "id": "1c7a64ae-e845-42c8-9f1c-d1c85b7cf99e",
   "metadata": {},
   "outputs": [],
   "source": [
    "Nobj = 1000\n",
    "\n",
    "query = \"\"\"\n",
    "    SELECT TOP {} denomination, inclination,\n",
    "           eccentricity, semi_major_axis\n",
    "    FROM gaiadr3.sso_orbits\n",
    "    WHERE num_observations > 200\n",
    "    AND semi_major_axis > 2.0\n",
    "    AND semi_major_axis < 3.2 \n",
    "    AND semi_major_axis*(1-eccentricity) > 1.666\n",
    "    \"\"\".format(Nobj)\n",
    "\n",
    "t_gaia = gaia_tap.search(query).to_table().to_pandas()\n",
    "t_gaia"
   ]
  },
  {
   "cell_type": "markdown",
   "id": "13ea1769-d3ad-47e3-a8ee-2d50db607ec4",
   "metadata": {},
   "source": [
    "Make plots showing eccentricity (`e`) and inclination (`i`) against semi-major axis (`a`) of the retrived MBAs. These plots should resemble the second figure in Section 2.2.2 of the notebook tutorial: <a href=\"https://github.com/rubin-dp0/tutorial-notebooks/blob/main/DP03_02_Main_Belt_Asteroids.ipynb\">DP03_02_Main_Belt_Astetroids.ipynb</a>."
   ]
  },
  {
   "cell_type": "code",
   "execution_count": null,
   "id": "786b5319-f458-4c9b-8b75-c0d0c22eeff8",
   "metadata": {},
   "outputs": [],
   "source": [
    "fig = plt.figure(figsize=(13, 5))\n",
    "\n",
    "plt.subplot(121)\n",
    "plt.scatter(t_gaia['semi_major_axis'], t_gaia['eccentricity'], \n",
    "            s=3, alpha=0.3)\n",
    "plt.xlabel('a [au]')\n",
    "plt.ylabel('e')\n",
    "\n",
    "plt.subplot(122)\n",
    "plt.scatter(t_gaia['semi_major_axis'], np.sin(t_gaia['inclination']), \n",
    "            s=3, alpha=0.3)\n",
    "plt.xlabel('a [au]')\n",
    "plt.ylabel(r'sin($i$)')\n",
    "plt.show()"
   ]
  },
  {
   "cell_type": "markdown",
   "id": "37e5c09f-3333-49ad-b26e-acb3c25a6889",
   "metadata": {},
   "source": [
    "The `MPCORB` table in DP0.3 follows the standard format for MPC designation, which is the year, then a space, and then an identifier that is several characters, capital letters and numbers. The `denomination` in some Gaia tables uses underscores instead of spaces and/or lower-case letters instead of capital letters. Thus, the `denomination` column needs to be converted to the standard MPC designation format."
   ]
  },
  {
   "cell_type": "code",
   "execution_count": null,
   "id": "78eaedd6-a954-494c-bf1b-b7417a5311ab",
   "metadata": {},
   "outputs": [],
   "source": [
    "t_gaia['mpc_desig1'] = t_gaia['denomination'].str.replace('_', ' ').str.upper()\n",
    "t_gaia['mpc_desig2'] = t_gaia['denomination'].str.replace('_', ' ')\n",
    "t_gaia"
   ]
  },
  {
   "cell_type": "markdown",
   "id": "74a10b29-be39-4de0-adae-eff499aab84c",
   "metadata": {},
   "source": [
    "Save the result as a csv file in `my_home_dir` for the next step as well as for any follow-up analysis in the future. This is optional. "
   ]
  },
  {
   "cell_type": "code",
   "execution_count": null,
   "id": "ce31ab29-ce68-429a-b391-1c23fc467e91",
   "metadata": {},
   "outputs": [],
   "source": [
    "# t_gaia.to_csv(my_home_dir+'gaia_mba.cat', index=False)"
   ]
  },
  {
   "cell_type": "markdown",
   "id": "af945265-bfe6-40c0-86dc-b5232a103af3",
   "metadata": {},
   "source": [
    "### 4.2 Upload the Gaia table and Join with DP0.3 tables\n",
    "\n",
    "The TAP service does not accept uploads in a Pandas DataFrame format. Thus, conversion to an Astropy Table is needed."
   ]
  },
  {
   "cell_type": "code",
   "execution_count": null,
   "id": "a3422b55-7f4d-44ea-b1d2-0cd78a2bb569",
   "metadata": {},
   "outputs": [],
   "source": [
    "t_cat_3 = Table.from_pandas(t_gaia)\n",
    "t_cat_3.dtype"
   ]
  },
  {
   "cell_type": "markdown",
   "id": "e6053f80-5dab-457a-b89b-8e5132c67bdf",
   "metadata": {},
   "source": [
    "Uploading a table including a column(s) with the dtype of the Unicode string does not work. Converting unicode columns (dtype.kind='U') to bytestring (dtype.kind='S') using the `convert_unicde_to_bytestring` method is required."
   ]
  },
  {
   "cell_type": "code",
   "execution_count": null,
   "id": "9411d0f0-434f-410d-838e-110a83dd6575",
   "metadata": {},
   "outputs": [],
   "source": [
    "t_cat_3.convert_unicode_to_bytestring()"
   ]
  },
  {
   "cell_type": "code",
   "execution_count": null,
   "id": "bd1b8d0e-e598-4027-a88c-9dd237c9fd42",
   "metadata": {},
   "outputs": [],
   "source": [
    "query = \"\"\"\n",
    "    SELECT mpc.mpcDesignation, mpc.ssObjectId,\n",
    "           ut3.denomination, ut3.mpc_desig2,\n",
    "           dia.ssObjectId, dia.midPointMjdTai, dia.mag, dia.band\n",
    "    FROM dp03_catalogs_10yr.MPCORB AS mpc\n",
    "    INNER JOIN TAP_UPLOAD.t3 as ut3\n",
    "    ON ut3.mpc_desig1 = mpc.mpcDesignation\n",
    "    INNER JOIN dp03_catalogs_10yr.DiaSource as dia\n",
    "    ON dia.ssObjectId = mpc.ssObjectId\n",
    "    Where dia.band = 'g'\n",
    "    \"\"\"\n",
    "\n",
    "t_lsst = lsst_tap.search(query, uploads={\"t3\": t_cat_3}).to_table()"
   ]
  },
  {
   "cell_type": "markdown",
   "id": "ecc33d2d-b7fc-46a0-86f8-4efa45f0f936",
   "metadata": {},
   "source": [
    "Select one random asteroid and save its data entry as a small table called `random_mba`."
   ]
  },
  {
   "cell_type": "code",
   "execution_count": null,
   "id": "9fb292f4-55aa-417f-a872-e6e3829277be",
   "metadata": {},
   "outputs": [],
   "source": [
    "uniqueObj = np.random.choice(t_lsst['ssObjectId'], 1)[0]\n",
    "print(uniqueObj)\n",
    "random_mba = t_lsst[t_lsst['ssObjectId'] == uniqueObj]"
   ]
  },
  {
   "cell_type": "markdown",
   "id": "9b45e4f7-acf5-463c-8120-58955f0e2111",
   "metadata": {},
   "source": [
    "Retrieve Gaia individual observations for the selected asteroid. \n",
    "\n",
    "Occasionally, the following error message may occur: 'DALServiceError: 401 Client Error: 401 for url: https://gea.esac.esa.int/tap-server/tap/sync'. To avoid it, get an instance of the `Gaia TAP` service again before running the query below."
   ]
  },
  {
   "cell_type": "code",
   "execution_count": null,
   "id": "75ac700b-ee9c-4523-803c-91df0442161d",
   "metadata": {},
   "outputs": [],
   "source": [
    "gaia_tap_url = 'https://gea.esac.esa.int/tap-server/tap'\n",
    "gaia_tap = pyvo.dal.TAPService(gaia_tap_url)\n",
    "assert gaia_tap is not None\n",
    "assert gaia_tap.baseurl == gaia_tap_url"
   ]
  },
  {
   "cell_type": "code",
   "execution_count": null,
   "id": "6f5555f5-2ffa-43bf-b356-39525ad4e96a",
   "metadata": {},
   "outputs": [],
   "source": [
    "query = \"\"\"\n",
    "    SELECT epoch_utc, g_mag\n",
    "    FROM gaiadr3.sso_observation\n",
    "    WHERE denomination = '{}'\n",
    "    \"\"\".format(random_mba['mpc_desig2'][0])\n",
    "\n",
    "t_gaia_obs = gaia_tap.search(query).to_table()"
   ]
  },
  {
   "cell_type": "markdown",
   "id": "9bdafd75-62d8-42c0-af2d-41b7e15909c2",
   "metadata": {},
   "source": [
    "Convert Universal Time Coordinated (UTC) observation date to Modified Julian Date (MJD) observation date.\n",
    "\n",
    "From the [documentation](https://gea.esac.esa.int/archive/documentation/GDR2/Gaia_archive/chap_datamodel/sec_dm_sso_tables/ssec_dm_sso_observation.html), `epoch_utc` is the Gaiacentric epoch UTC, while the LSST records observing time in MJD. The conversion is MJD = UTC + 55197.5 (day)."
   ]
  },
  {
   "cell_type": "code",
   "execution_count": null,
   "id": "a9cbe7ba-d81c-4d0c-98a1-4496ed1009d4",
   "metadata": {},
   "outputs": [],
   "source": [
    "t_gaia_obs['epoch_mjd'] = t_gaia_obs['epoch_utc'] + 55197.5"
   ]
  },
  {
   "cell_type": "markdown",
   "id": "d80558ce-b77b-4840-9423-9243bcc251c0",
   "metadata": {},
   "source": [
    "Plot the `g`-band light curve for the selected asteroid."
   ]
  },
  {
   "cell_type": "code",
   "execution_count": null,
   "id": "794fc254-9063-49da-9cde-580bce4ca65b",
   "metadata": {},
   "outputs": [],
   "source": [
    "fig = plt.figure(figsize=(6, 4))\n",
    "plt.plot(t_gaia_obs['epoch_mjd'], t_gaia_obs['g_mag'],\n",
    "         'o', color='cyan', label='Gaia G')\n",
    "plt.plot(random_mba['midPointMjdTai'], random_mba['mag'],\n",
    "         'o', color='dodgerblue', label='LSST g')\n",
    "ymin = min(t_gaia_obs['g_mag'].min(), min(random_mba['mag']))\n",
    "ymax = max(t_gaia_obs['g_mag'].max(), min(random_mba['mag']))\n",
    "plt.ylim(ymax+0.1, ymin-0.1)\n",
    "plt.legend(loc='upper left')\n",
    "plt.xlabel('MJD')\n",
    "plt.ylabel('mag')\n",
    "plt.title(random_mba['mpcDesignation'][0])\n",
    "plt.show()"
   ]
  },
  {
   "cell_type": "markdown",
   "id": "f880c4d0-6ffc-49e9-86f2-95f1b698e279",
   "metadata": {},
   "source": [
    "## 5. Excercises for the learner\n",
    "\n",
    "1. Generate your own user table, perform a spatial and temporal search of the DiaSource table to look for a sample of solar system bodies observed in a specific part of the sky at a specific time. Save the query result table, and use it to search the SSSource table for all observations that exist, by matching on SSObjectId."
   ]
  }
 ],
 "metadata": {
  "kernelspec": {
   "display_name": "LSST",
   "language": "python",
   "name": "lsst"
  },
  "language_info": {
   "codemirror_mode": {
    "name": "ipython",
    "version": 3
   },
   "file_extension": ".py",
   "mimetype": "text/x-python",
   "name": "python",
   "nbconvert_exporter": "python",
   "pygments_lexer": "ipython3",
   "version": "3.11.7"
  },
  "toc-autonumbering": false
 },
 "nbformat": 4,
 "nbformat_minor": 5
}
