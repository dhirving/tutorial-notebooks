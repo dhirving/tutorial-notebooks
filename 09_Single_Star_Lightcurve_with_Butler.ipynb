{
 "cells": [
  {
   "cell_type": "markdown",
   "id": "c5593a5b",
   "metadata": {},
   "source": [
    "<img align=\"left\" src = https://project.lsst.org/sites/default/files/Rubin-O-Logo_0.png width=250 style=\"padding: 10px\"> \n",
    "<b>Single Star Lightcurve with the Butler</b> <br>\n",
    "Last verified to run on 2021-07-22 with LSST Science Pipelines release w_2021_25 <br>\n",
    "Contact authors: Melissa Graham, Jeff Carlin <br>\n",
    "Target audience: All DP0 delegates. <br>\n",
    "Container Size: medium <br>\n",
    "Questions welcome at <a href=\"https://community.lsst.org/c/support/dp0\">community.lsst.org/c/support/dp0</a>. <br>\n",
    "Find DP0 documentation and resources at <a href=\"https://dp0-1.lsst.io\">dp0-1.lsst.io</a>. <br>"
   ]
  },
  {
   "cell_type": "markdown",
   "id": "41bd7634",
   "metadata": {},
   "source": [
    "**Credit:** This tutorial notebook was created by Jeff Carlin, Leanne Guy, and Melissa Graham, and draws on material in the fourth notebook \"04 Intro to Butler\"."
   ]
  },
  {
   "cell_type": "markdown",
   "id": "db97f83c",
   "metadata": {},
   "source": [
    "### Caveats\n",
    "\n",
    "The DP0.1 data set is not well suited to large-scale time domain analyses, and one goal of this notebook is to clearly illustrate the limitations.\n",
    "\n",
    "The DP0.1 data set does not contain any data products from difference image analysis.\n",
    "\n",
    "A catalog of sources detected in processed visit images (PVIs) is available via the Butler (read more in the [DP0.1 DPDD](https://dp0-1.lsst.io/data-products-dp0-1/index.html#dp0-1-data-products-definition-document-dpdd)).\n",
    "However, this source catalog does not include *associations* of PVI sources by sky coordinate, nor associations between PVI sources and objects detected in the deep coadded images.\n",
    "\n",
    "It is recommended that DP0 delegates work through the Butler notebooks \"01 Intro to DP0 Notebooks\" and \"04 Intro to Butler\" before using this notebook.\n",
    "\n",
    "### Learning Objectives\n",
    "\n",
    "First, use the TAP Service to find a time-domain target to make a light curve for.\n",
    "\n",
    "Then, use the Butler to retrieve all detected sources from all processed visit images (PVIs or `calexps`) at a given sky coordinate, and plot magnitude as a function of time."
   ]
  },
  {
   "cell_type": "code",
   "execution_count": null,
   "id": "2bf380a8",
   "metadata": {},
   "outputs": [],
   "source": [
    "# %load_ext pycodestyle_magic\n",
    "# %flake8_on"
   ]
  },
  {
   "cell_type": "markdown",
   "id": "03b5e6a5",
   "metadata": {},
   "source": [
    "### Set Up\n",
    "\n",
    "Import the packages we will need for this notebook."
   ]
  },
  {
   "cell_type": "code",
   "execution_count": null,
   "id": "1ad5b6d8",
   "metadata": {},
   "outputs": [],
   "source": [
    "### Rubin-specific packages\n",
    "\n",
    "import lsst.daf.butler as dafButler\n",
    "import lsst.geom as geom\n",
    "import lsst.sphgeom as sphgeom\n",
    "import lsst.daf.base\n",
    "\n",
    "# from rubin_jupyter_utils.lab.notebook import get_tap_service #, retrieve_query    \n",
    "# service = get_tap_service()\n",
    "\n",
    "### General python / astronomy packages\n",
    "\n",
    "import matplotlib.pyplot as plt\n",
    "import numpy as np\n",
    "\n",
    "from astropy.coordinates import SkyCoord\n",
    "import astropy.units as u\n",
    "from astropy.time import Time\n",
    "\n",
    "import time"
   ]
  },
  {
   "cell_type": "markdown",
   "id": "c5d0f3b7",
   "metadata": {},
   "source": [
    "Create an instance of the Butler."
   ]
  },
  {
   "cell_type": "code",
   "execution_count": null,
   "id": "fed5f032",
   "metadata": {},
   "outputs": [],
   "source": [
    "repo = 's3://butler-us-central1-dp01'\n",
    "butler = dafButler.Butler(repo)\n",
    "registry = butler.registry\n",
    "collection = \"2.2i/runs/DP0.1\""
   ]
  },
  {
   "cell_type": "markdown",
   "id": "1f1ac6d4",
   "metadata": {},
   "source": [
    "### 1. Use the TAP Service to choose a variable star.\n",
    "\n",
    "Retrieve the RA and Dec of elements in the `truth_match` table that are within a 1 degree radius circle near the center of the DC2 region, and have `is_variable = 1` (is variable), `truth_type = 2` (is a star), and `mag_r > 20` (r-band AB magnitude is brighter than 20).\n",
    "Find more information about the `truth_match` table in the [DP0.1 DPDD](https://dp0-1.lsst.io/data-products-dp0-1/index.html#dp0-1-data-products-definition-document-dpdd)."
   ]
  },
  {
   "cell_type": "code",
   "execution_count": null,
   "id": "a096e3aa",
   "metadata": {},
   "outputs": [],
   "source": [
    "# results = service.search(\"SELECT ra, dec \"\\\n",
    "#                          \"FROM dp01_dc2_catalogs.truth_match \"\\\n",
    "#                          \"WHERE CONTAINS(POINT('ICRS', ra, dec), CIRCLE('ICRS', 62.0, -37.0, 1.0)) = 1 \"\\\n",
    "#                          \"AND is_variable = 1 AND truth_type = 2 AND mag_r > 20 \", maxrec=10000)"
   ]
  },
  {
   "cell_type": "code",
   "execution_count": null,
   "id": "deafdf91",
   "metadata": {},
   "outputs": [],
   "source": [
    "## Alternative: use TAP service to choose a Type Ia supernova: truth_type = 3\n",
    "# results = service.search(\"SELECT ra, dec, host_galaxy \"\\\n",
    "#                          \"FROM dp01_dc2_catalogs.truth_match \"\\\n",
    "#                          \"WHERE CONTAINS(POINT('ICRS', ra, dec), CIRCLE('ICRS', 62.0, -37.0, 1.0)) = 1 \"\\\n",
    "#                          \"AND truth_type = 3 \", maxrec=10000)"
   ]
  },
  {
   "cell_type": "markdown",
   "id": "49254e2c",
   "metadata": {},
   "source": [
    "Convert the results to a pandas data frame and show it."
   ]
  },
  {
   "cell_type": "code",
   "execution_count": null,
   "id": "4d48ed53",
   "metadata": {},
   "outputs": [],
   "source": [
    "# data = results.to_table().to_pandas()\n",
    "# data"
   ]
  },
  {
   "cell_type": "markdown",
   "id": "6ad34b41",
   "metadata": {},
   "source": [
    "Clean up, we don't need these anymore."
   ]
  },
  {
   "cell_type": "code",
   "execution_count": null,
   "id": "1b5bc22b",
   "metadata": {},
   "outputs": [],
   "source": [
    "# del results,data\n",
    "# del service"
   ]
  },
  {
   "cell_type": "markdown",
   "id": "f77a49e0",
   "metadata": {},
   "source": [
    "### 2. Execute spatial search of the `src` catalog with the Butler.\n",
    "\n",
    "Use [astropy.SkyCoord](https://docs.astropy.org/en/stable/api/astropy.coordinates.SkyCoord.html) to define the coordinates for the first variable star in the list above.\n",
    "\n",
    "Since lists returned by the Butler are in random order, the coordinate used below might be different."
   ]
  },
  {
   "cell_type": "code",
   "execution_count": null,
   "id": "e4d4299b",
   "metadata": {},
   "outputs": [],
   "source": [
    "targ_coord = SkyCoord(ra=62.1803311*u.deg, dec=-37.0137459*u.deg)"
   ]
  },
  {
   "cell_type": "markdown",
   "id": "153989c0",
   "metadata": {},
   "source": [
    "Use these coordinates to define the HTM ID spatial search region to pass to the Butler's `queryDatasets` function.\n",
    "\n",
    "Find more details about sky pixelization with HTM and Butler spatial queries in Section 2.5 of notebook \"04 Intro to Butler\"."
   ]
  },
  {
   "cell_type": "code",
   "execution_count": null,
   "id": "5b90f395",
   "metadata": {},
   "outputs": [],
   "source": [
    "pixelization = sphgeom.HtmPixelization(15)\n",
    "htm_id = pixelization.index(sphgeom.UnitVector3d(sphgeom.LonLat.fromDegrees(targ_coord.ra.value, targ_coord.dec.value)))\n",
    "\n",
    "# Obtain and print the scale to provide a sense of the size of the sky pixelization being used\n",
    "scale = pixelization.triangle(htm_id).getBoundingCircle().getOpeningAngle().asDegrees()*3600\n",
    "print(f'HTM ID={htm_id} at level={pixelization.getLevel()} is a ~{scale:0.2}\" triangle.')"
   ]
  },
  {
   "cell_type": "markdown",
   "id": "fc056ae4",
   "metadata": {},
   "source": [
    "<br>\n",
    "\n",
    "Query the `src` datasets for this HTM pixel via the Butler.\n",
    "To keep things simple, just query for r-band data.\n",
    "\n",
    "Find more details about the `src` catalog in the [DP0.1 DPDD](https://dp0-1.lsst.io/data-products-dp0-1/index.html#dp0-1-data-products-definition-document-dpdd)."
   ]
  },
  {
   "cell_type": "code",
   "execution_count": null,
   "id": "0815967a",
   "metadata": {},
   "outputs": [],
   "source": [
    "datasetRefs = registry.queryDatasets(\"src\", htm20=htm_id, collections=collection, where=\"band in ('r')\")"
   ]
  },
  {
   "cell_type": "markdown",
   "id": "a904652d",
   "metadata": {},
   "source": [
    "Extract the datasetRefs into a python list called `refs` to speed up access to the dataIds in Section 3."
   ]
  },
  {
   "cell_type": "code",
   "execution_count": null,
   "id": "1158da93",
   "metadata": {},
   "outputs": [],
   "source": [
    "t1 = time.time()\n",
    "\n",
    "ii = 0\n",
    "refs = []\n",
    "for i,ref in enumerate(datasetRefs):\n",
    "    refs.append( ref )\n",
    "    ii += 1\n",
    "print(ii)\n",
    "\n",
    "t2 = time.time()\n",
    "print('t2-t1 = ',t2-t1)\n",
    "del t1,t2,ii"
   ]
  },
  {
   "cell_type": "markdown",
   "id": "5e4b39d8",
   "metadata": {},
   "source": [
    "### 3. Loop over search results and store `src` data in python lists.\n",
    "\n",
    "For each query result (i.e., each element of `refs`), use the `dataId` to retrieve all sources for that query result.\n",
    "\n",
    "Calculate the separation of each source from the target.\n",
    "If the nearest source is within 1.5\" of the target, it probably *is* the target.\n",
    "Store the RA, Dec, r-band magnitude, and MJD for that source in a python list."
   ]
  },
  {
   "cell_type": "code",
   "execution_count": null,
   "id": "ca1998d4",
   "metadata": {},
   "outputs": [],
   "source": [
    "### Instatiate empty lists\n",
    "ra_arr = []\n",
    "dec_arr = []\n",
    "rmag_arr = []\n",
    "mjd_arr = []\n",
    "\n",
    "for i,d in enumerate(refs):\n",
    "    \n",
    "    if i < 10:\n",
    "\n",
    "        t1 = time.time()\n",
    "\n",
    "        # Use the butler to get all sources for this datasetRefs dataId\n",
    "        did = d.dataId.full\n",
    "        src = butler.get('src', dataId=did, collections=collection)\n",
    "        t2 = time.time()\n",
    "        print('i, len(src) = ',i,len(src))\n",
    "        print('t2-t1 = ',t2-t1)\n",
    "\n",
    "        # Get the separation of all sources from the target\n",
    "        src_coords = SkyCoord(ra=src['coord_ra']*u.rad, dec=src['coord_dec']*u.rad)\n",
    "        sep = src_coords.separation(targ_coord)\n",
    "        t3 = time.time()\n",
    "        print('t3-t2 = ', t3-t2)\n",
    "\n",
    "        # If the nearest source is within 1.5\", add it to our list\n",
    "        if np.min(sep.arcsecond) < 1.5:\n",
    "            sx = np.argmin(sep.arcsecond)\n",
    "            ra_arr.append(src['coord_ra'][sx])\n",
    "            dec_arr.append(src['coord_dec'][sx])\n",
    "\n",
    "            # Calculate the AB magnitude from the calibrated flux in nJy\n",
    "            # \"calibrated flux\" = base_PsfFlux_instFlux * base_localPhotoCalib\n",
    "            rmag_arr.append( -2.5 * np.log10( src['base_PsfFlux_instFlux'][sx] * src['base_localPhotoCalib'][sx] ) + 31.4 )\n",
    "            t4 = time.time()\n",
    "            print('t4-t3 = ',t4-t3)\n",
    "\n",
    "            # Retrieve the mjd date for this dataId from the image header for this dataid\n",
    "            visit_info = butler.get('calexp.visitInfo', dataId=did, collections=collection)\n",
    "            mjd_arr.append(visit_info.getDate().get(lsst.daf.base.DateTime.MJD))\n",
    "            t5 = time.time()\n",
    "            print('t5-t4 = ',t5-t4)\n",
    "\n",
    "            del sx,visit_info\n",
    "\n",
    "        del did,src,src_coords,sep"
   ]
  },
  {
   "cell_type": "markdown",
   "id": "7526f8e2",
   "metadata": {},
   "source": [
    "Plot the RA vs. Dec to show the dispersion in coordinate and get a sense of how well a 1.5 arcsecond limit for source association has worked in this case.\n",
    "Seeing two clumps of points might indicate there is another nearby point-source."
   ]
  },
  {
   "cell_type": "code",
   "execution_count": null,
   "id": "d0f58d3c",
   "metadata": {},
   "outputs": [],
   "source": [
    "plt.plot(ra_arr, dec_arr, 'k.')\n",
    "plt.plot(targ_coord.ra.rad,targ_coord.dec.rad, 'x', color='red')\n",
    "plt.xlabel('ra')\n",
    "plt.ylabel('dec')\n",
    "plt.gca().invert_yaxis()\n",
    "plt.minorticks_on()\n",
    "plt.show()"
   ]
  },
  {
   "cell_type": "code",
   "execution_count": null,
   "id": "9935914b",
   "metadata": {},
   "outputs": [],
   "source": [
    "plt.plot(mjd_arr, rmag_arr, 'k.')\n",
    "plt.xlabel('ra')\n",
    "plt.ylabel('dec')\n",
    "plt.gca().invert_yaxis()\n",
    "plt.minorticks_on()\n",
    "plt.show()"
   ]
  },
  {
   "cell_type": "code",
   "execution_count": null,
   "id": "d5bae5b3",
   "metadata": {},
   "outputs": [],
   "source": []
  }
 ],
 "metadata": {
  "kernelspec": {
   "display_name": "LSST",
   "language": "python",
   "name": "lsst"
  },
  "language_info": {
   "codemirror_mode": {
    "name": "ipython",
    "version": 3
   },
   "file_extension": ".py",
   "mimetype": "text/x-python",
   "name": "python",
   "nbconvert_exporter": "python",
   "pygments_lexer": "ipython3",
   "version": "3.8.8"
  }
 },
 "nbformat": 4,
 "nbformat_minor": 5
}
