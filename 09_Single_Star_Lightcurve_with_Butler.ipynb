{
 "cells": [
  {
   "cell_type": "markdown",
   "id": "88c5ceb3",
   "metadata": {},
   "source": [
    "<img align=\"left\" src = https://project.lsst.org/sites/default/files/Rubin-O-Logo_0.png width=250 style=\"padding: 10px\"> \n",
    "<br>\n",
    "<b>Single Star Lightcurve with the Butler</b> <br>\n",
    "Last verified to run on 2021-07-22 with LSST Science Pipelines release w_2021_25 <br>\n",
    "Contact authors: Melissa Graham, Jeff Carlin <br>\n",
    "Target audience: All DP0 delegates. <br>\n",
    "Container Size: medium <br>\n",
    "Questions welcome at <a href=\"https://community.lsst.org/c/support/dp0\">community.lsst.org/c/support/dp0</a>. <br>\n",
    "Find DP0 documentation and resources at <a href=\"https://dp0-1.lsst.io\">dp0-1.lsst.io</a>. <br>"
   ]
  },
  {
   "cell_type": "markdown",
   "id": "ac922b9c",
   "metadata": {},
   "source": [
    "**Credit:** This tutorial notebook was created by Jeff Carlin, Leanne Guy, and Melissa Graham, and draws on material in the fourth notebook \"04 Intro to Butler\"."
   ]
  },
  {
   "cell_type": "markdown",
   "id": "d2ed790e",
   "metadata": {},
   "source": [
    "### Caveats\n",
    "\n",
    "The DP0.1 data set is not well suited to large-scale time domain analyses, and one goal of this notebook is to clearly illustrate the limitations.\n",
    "\n",
    "The DP0.1 data set does not contain any data products from difference image analysis.\n",
    "\n",
    "A catalog of sources detected in processed visit images (PVIs) is available via the Butler (read more in the [DP0.1 DPDD](https://dp0-1.lsst.io/data-products-dp0-1/index.html#dp0-1-data-products-definition-document-dpdd)).\n",
    "However, this source catalog does not include *associations* of PVI sources by sky coordinate, nor associations between PVI sources and objects detected in the deep coadded images.\n",
    "\n",
    "It is recommended that DP0 delegates work through the Butler notebooks \"01 Intro to DP0 Notebooks\" and \"04 Intro to Butler\" before using this notebook.\n",
    "\n",
    "### Learning Objectives\n",
    "\n",
    "First, use the TAP Service to find a time-domain target to make a light curve for.\n",
    "\n",
    "Then, use the Butler to retrieve all detected sources from all processed visit images (PVIs or `calexps`) at a given sky coordinate, and plot magnitude as a function of time."
   ]
  },
  {
   "cell_type": "code",
   "execution_count": 1,
   "id": "26cabfb7",
   "metadata": {},
   "outputs": [],
   "source": [
    "# %load_ext pycodestyle_magic\n",
    "# %flake8_on"
   ]
  },
  {
   "cell_type": "markdown",
   "id": "9ba3cb47",
   "metadata": {},
   "source": [
    "### Set Up\n",
    "\n",
    "Import the packages we will need for this notebook."
   ]
  },
  {
   "cell_type": "code",
   "execution_count": 42,
   "id": "b5fbc666",
   "metadata": {},
   "outputs": [],
   "source": [
    "### Rubin-specific packages\n",
    "\n",
    "import lsst.daf.butler as dafButler\n",
    "import lsst.geom as geom\n",
    "import lsst.sphgeom as sphgeom\n",
    "import lsst.daf.base as dafBase\n",
    "\n",
    "# from rubin_jupyter_utils.lab.notebook import get_tap_service #, retrieve_query    \n",
    "# service = get_tap_service()\n",
    "\n",
    "### General python / astronomy packages\n",
    "\n",
    "import matplotlib.pyplot as plt\n",
    "import numpy as np\n",
    "\n",
    "from astropy.coordinates import SkyCoord\n",
    "import astropy.units as u\n",
    "from astropy.time import Time\n",
    "from astropy.table import Table\n",
    "from astropy.io import fits\n",
    "\n",
    "import time"
   ]
  },
  {
   "cell_type": "markdown",
   "id": "4b5f2c53",
   "metadata": {},
   "source": [
    "Create an instance of the Butler."
   ]
  },
  {
   "cell_type": "code",
   "execution_count": 7,
   "id": "74e8efcb",
   "metadata": {},
   "outputs": [],
   "source": [
    "repo = 's3://butler-us-central1-dp01'\n",
    "butler = dafButler.Butler(repo)\n",
    "registry = butler.registry\n",
    "collection = \"2.2i/runs/DP0.1\""
   ]
  },
  {
   "cell_type": "markdown",
   "id": "f2aed33d",
   "metadata": {},
   "source": [
    "### 1. Use the TAP Service to choose a variable star.\n",
    "\n",
    "Retrieve the RA and Dec of elements in the `truth_match` table that are within a 1 degree radius circle near the center of the DC2 region, and have `is_variable = 1` (is variable), `truth_type = 2` (is a star), and `mag_r > 20` (r-band AB magnitude is brighter than 20).\n",
    "Find more information about the `truth_match` table in the [DP0.1 DPDD](https://dp0-1.lsst.io/data-products-dp0-1/index.html#dp0-1-data-products-definition-document-dpdd)."
   ]
  },
  {
   "cell_type": "code",
   "execution_count": 8,
   "id": "84c6b173",
   "metadata": {},
   "outputs": [],
   "source": [
    "# results = service.search(\"SELECT ra, dec \"\\\n",
    "#                          \"FROM dp01_dc2_catalogs.truth_match \"\\\n",
    "#                          \"WHERE CONTAINS(POINT('ICRS', ra, dec), CIRCLE('ICRS', 62.0, -37.0, 1.0)) = 1 \"\\\n",
    "#                          \"AND is_variable = 1 AND truth_type = 2 AND mag_r > 20 \", maxrec=10000)"
   ]
  },
  {
   "cell_type": "code",
   "execution_count": 9,
   "id": "01f3b4a3",
   "metadata": {},
   "outputs": [],
   "source": [
    "## Alternative: use TAP service to choose a Type Ia supernova: truth_type = 3\n",
    "# results = service.search(\"SELECT ra, dec, host_galaxy \"\\\n",
    "#                          \"FROM dp01_dc2_catalogs.truth_match \"\\\n",
    "#                          \"WHERE CONTAINS(POINT('ICRS', ra, dec), CIRCLE('ICRS', 62.0, -37.0, 1.0)) = 1 \"\\\n",
    "#                          \"AND truth_type = 3 \", maxrec=10000)"
   ]
  },
  {
   "cell_type": "markdown",
   "id": "280e7e14",
   "metadata": {},
   "source": [
    "Convert the results to a pandas data frame and show it."
   ]
  },
  {
   "cell_type": "code",
   "execution_count": 20,
   "id": "0f288543",
   "metadata": {},
   "outputs": [],
   "source": [
    "# data = results.to_table().to_pandas()\n",
    "# data"
   ]
  },
  {
   "cell_type": "markdown",
   "id": "c135ac82",
   "metadata": {},
   "source": [
    "Clean up, we don't need these anymore."
   ]
  },
  {
   "cell_type": "code",
   "execution_count": 7,
   "id": "844a44fb",
   "metadata": {},
   "outputs": [],
   "source": [
    "# del results,data\n",
    "# del service"
   ]
  },
  {
   "cell_type": "markdown",
   "id": "91608ad4",
   "metadata": {},
   "source": [
    "### 2. Execute spatial search of the `src` catalogs with the Butler.\n",
    "\n",
    "For now, we will select a star that is known to be a simulated RR Lyrae variable. The star of interest is located at a position (RA, Dec) = (60.2837946, -35.4042439) degrees. \n",
    "\n",
    "Use [astropy.SkyCoord](https://docs.astropy.org/en/stable/api/astropy.coordinates.SkyCoord.html) to define a coordinate object for this variable star."
   ]
  },
  {
   "cell_type": "code",
   "execution_count": 22,
   "id": "c5220cc8",
   "metadata": {},
   "outputs": [],
   "source": [
    "# targ_coord = SkyCoord(ra=62.1803311*u.deg, dec=-37.0137459*u.deg)\n",
    "targ_coord = SkyCoord(ra=60.2837946*u.deg, dec=-35.4042439*u.deg)"
   ]
  },
  {
   "cell_type": "markdown",
   "id": "35257461",
   "metadata": {},
   "source": [
    "Use these coordinates to define the HTM ID spatial search region to pass to the Butler's `queryDatasets` function.\n",
    "\n",
    "Find more details about sky pixelization with HTM and Butler spatial queries in Section 2.5 of notebook \"04 Intro to Butler\"."
   ]
  },
  {
   "cell_type": "code",
   "execution_count": 23,
   "id": "7252b9b5",
   "metadata": {},
   "outputs": [
    {
     "name": "stdout",
     "output_type": "stream",
     "text": [
      "HTM ID=9418649859 at level=15 is a ~8.4\" triangle.\n"
     ]
    }
   ],
   "source": [
    "pixelization = sphgeom.HtmPixelization(15)\n",
    "htm_id = pixelization.index(sphgeom.UnitVector3d(sphgeom.LonLat.fromDegrees(targ_coord.ra.value, targ_coord.dec.value)))\n",
    "\n",
    "# Obtain and print the scale to provide a sense of the size of the sky pixelization being used\n",
    "scale = pixelization.triangle(htm_id).getBoundingCircle().getOpeningAngle().asDegrees()*3600\n",
    "print(f'HTM ID={htm_id} at level={pixelization.getLevel()} is a ~{scale:0.2}\" triangle.')"
   ]
  },
  {
   "cell_type": "markdown",
   "id": "0f39e54b",
   "metadata": {},
   "source": [
    "<br>\n",
    "\n",
    "Now we will query the `src` datasets (i.e., measurements from each processed visit image) for this HTM pixel via the Butler. Notice that the ID for the HTM triangle of interest was extracted using the RA, Dec coordinates of the star of interest. When we extract dataset references, we can limit it to return only catalogs overlapping that HTM \"pixel.\"\n",
    "\n",
    "To keep things simple, we will just query for r-band data.\n",
    "\n",
    "Find more details about the `src` catalog in the [DP0.1 DPDD](https://dp0-1.lsst.io/data-products-dp0-1/index.html#dp0-1-data-products-definition-document-dpdd)."
   ]
  },
  {
   "cell_type": "code",
   "execution_count": 24,
   "id": "4a8e2c0f",
   "metadata": {},
   "outputs": [],
   "source": [
    "datasetRefs = registry.queryDatasets(\"src\", htm20=htm_id, collections=collection, where=\"band in ('r')\")"
   ]
  },
  {
   "cell_type": "code",
   "execution_count": 25,
   "id": "d0867505",
   "metadata": {},
   "outputs": [
    {
     "data": {
      "text/plain": [
       "<lsst.daf.butler.registry.queries._results.ChainedDatasetQueryResults at 0x7fb6b77bf240>"
      ]
     },
     "execution_count": 25,
     "metadata": {},
     "output_type": "execute_result"
    }
   ],
   "source": [
    "datasetRefs"
   ]
  },
  {
   "cell_type": "markdown",
   "id": "a8f6f35c",
   "metadata": {},
   "source": [
    "Extract the datasetRefs into a python list called `refs` to speed up access to the dataIds in Section 3. This may take a little while (~30 seconds)."
   ]
  },
  {
   "cell_type": "code",
   "execution_count": 26,
   "id": "d9b602e0",
   "metadata": {},
   "outputs": [
    {
     "name": "stdout",
     "output_type": "stream",
     "text": [
      "108  catalogs matching that position.\n"
     ]
    }
   ],
   "source": [
    "ii = 0\n",
    "refs = []\n",
    "for i, ref in enumerate(datasetRefs):\n",
    "    refs.append( ref )\n",
    "    ii += 1\n",
    "print(ii,' catalogs matching the requested position.')"
   ]
  },
  {
   "cell_type": "markdown",
   "id": "e7e00a2b",
   "metadata": {},
   "source": [
    "<br>\n",
    "\n",
    "Let's take a look at a `dataId` from the list we have compiled. It should specify the `visit` and `detector` containing the star, and the `band` (r) that we specified in the query."
   ]
  },
  {
   "cell_type": "code",
   "execution_count": 28,
   "id": "818b0d48",
   "metadata": {},
   "outputs": [
    {
     "data": {
      "text/plain": [
       "{band: 'r', instrument: 'LSSTCam-imSim', detector: 180, physical_filter: 'r_sim_1.4', visit_system: 1, visit: 694278}"
      ]
     },
     "execution_count": 28,
     "metadata": {},
     "output_type": "execute_result"
    }
   ],
   "source": [
    "refs[0].dataId.full"
   ]
  },
  {
   "cell_type": "markdown",
   "id": "6190a05b",
   "metadata": {},
   "source": [
    "### 3. Loop over search results and store `src` data in python lists.\n",
    "\n",
    "For each query result (i.e., each element of `refs`), use the `dataId` to retrieve all sources for that query result.\n",
    "\n",
    "Calculate the separation of each source from the target. If the nearest source is within 1.5\" of the target, it probably *is* the target.\n",
    "\n",
    "We will store the RA, Dec, separation (between the supplied position and the measured position in each visit image), r-band magnitude, visit and detector IDs, and date of observation (in \"Modified Julian Date,\" or MJD) for that source into python lists.\n",
    "\n",
    "This requires extracting the `calexp` so that we can access its `photoCalib` and `visitInfo` (which contains the date of observation) for each visit  (and, of course, extracting the `src` catalog).\n",
    "\n",
    "(NOTE: this takes a _long_ time (many minutes) to run...)"
   ]
  },
  {
   "cell_type": "code",
   "execution_count": 45,
   "id": "8866a28a",
   "metadata": {},
   "outputs": [
    {
     "name": "stdout",
     "output_type": "stream",
     "text": [
      "i, len(src) =  0 1919\n",
      "i, len(src) =  1 3086\n",
      "i, len(src) =  2 2753\n",
      "i, len(src) =  3 2644\n",
      "i, len(src) =  4 2652\n",
      "i, len(src) =  5 1643\n",
      "i, len(src) =  6 2270\n",
      "i, len(src) =  7 2791\n",
      "i, len(src) =  8 1771\n",
      "i, len(src) =  9 2862\n",
      "i, len(src) =  10 2576\n",
      "i, len(src) =  11 3063\n",
      "i, len(src) =  12 1817\n",
      "i, len(src) =  13 1825\n",
      "i, len(src) =  14 2837\n",
      "i, len(src) =  15 2711\n",
      "i, len(src) =  16 1801\n",
      "i, len(src) =  17 1998\n",
      "i, len(src) =  18 3186\n",
      "i, len(src) =  19 3602\n",
      "i, len(src) =  20 3260\n",
      "i, len(src) =  21 2913\n",
      "i, len(src) =  22 1834\n",
      "i, len(src) =  23 3214\n",
      "i, len(src) =  24 3371\n",
      "i, len(src) =  25 2225\n",
      "i, len(src) =  26 2413\n",
      "i, len(src) =  27 2325\n",
      "i, len(src) =  28 2227\n",
      "i, len(src) =  29 3199\n",
      "i, len(src) =  30 2747\n",
      "i, len(src) =  31 1800\n",
      "i, len(src) =  32 1680\n",
      "i, len(src) =  33 1898\n",
      "i, len(src) =  34 1914\n",
      "i, len(src) =  35 3398\n",
      "i, len(src) =  36 2417\n",
      "i, len(src) =  37 2451\n",
      "i, len(src) =  38 1907\n",
      "i, len(src) =  39 3528\n",
      "i, len(src) =  40 2411\n",
      "i, len(src) =  41 2751\n",
      "i, len(src) =  42 2802\n",
      "i, len(src) =  43 2127\n",
      "i, len(src) =  44 1921\n",
      "i, len(src) =  45 1873\n",
      "i, len(src) =  46 3154\n",
      "i, len(src) =  47 2420\n",
      "i, len(src) =  48 2430\n",
      "i, len(src) =  49 1964\n",
      "i, len(src) =  50 2862\n",
      "i, len(src) =  51 2566\n",
      "i, len(src) =  52 2361\n",
      "i, len(src) =  53 3117\n",
      "i, len(src) =  54 2822\n",
      "i, len(src) =  55 2119\n",
      "i, len(src) =  56 2697\n",
      "i, len(src) =  57 2715\n",
      "i, len(src) =  58 1912\n",
      "i, len(src) =  59 2953\n",
      "i, len(src) =  60 2179\n",
      "i, len(src) =  61 1639\n",
      "i, len(src) =  62 2628\n",
      "i, len(src) =  63 1625\n",
      "i, len(src) =  64 2544\n",
      "i, len(src) =  65 2552\n",
      "i, len(src) =  66 1685\n",
      "i, len(src) =  67 2092\n",
      "i, len(src) =  68 2602\n",
      "i, len(src) =  69 2847\n",
      "i, len(src) =  70 2787\n",
      "i, len(src) =  71 2539\n",
      "i, len(src) =  72 2236\n",
      "i, len(src) =  73 2015\n",
      "i, len(src) =  74 2442\n",
      "i, len(src) =  75 2360\n",
      "i, len(src) =  76 2061\n",
      "i, len(src) =  77 2309\n",
      "i, len(src) =  78 2427\n",
      "i, len(src) =  79 2212\n",
      "i, len(src) =  80 3081\n",
      "i, len(src) =  81 1713\n",
      "i, len(src) =  82 2156\n",
      "i, len(src) =  83 1917\n",
      "i, len(src) =  84 3047\n",
      "i, len(src) =  85 3044\n",
      "i, len(src) =  86 3000\n",
      "i, len(src) =  87 1717\n",
      "i, len(src) =  88 1961\n",
      "i, len(src) =  89 3273\n",
      "i, len(src) =  90 1807\n",
      "i, len(src) =  91 2432\n",
      "i, len(src) =  92 1891\n",
      "i, len(src) =  93 2621\n",
      "i, len(src) =  94 2461\n",
      "i, len(src) =  95 2725\n",
      "i, len(src) =  96 2346\n",
      "i, len(src) =  97 2839\n",
      "i, len(src) =  98 3375\n",
      "i, len(src) =  104 2271\n",
      "i, len(src) =  105 1710\n",
      "i, len(src) =  106 1911\n",
      "i, len(src) =  107 2592\n"
     ]
    }
   ],
   "source": [
    "### Instantiate empty lists\n",
    "ra_arr = []\n",
    "dec_arr = []\n",
    "sep_arr = []\n",
    "mag_arr = []\n",
    "visit_arr = []\n",
    "detector_arr = []\n",
    "mjd_arr = []\n",
    "\n",
    "for i, d in enumerate(refs):\n",
    "    \n",
    "    if i < 1000:\n",
    "\n",
    "        # t1 = time.time()\n",
    "\n",
    "        # Use the butler to get all sources for this datasetRef's dataId\n",
    "        did = d.dataId.full\n",
    "        src = butler.get('src', dataId=did, collections=collection)\n",
    "        # t2 = time.time()\n",
    "        print('i, len(src) = ', i, len(src))\n",
    "        # print('t2-t1 = ', t2-t1)\n",
    "\n",
    "        # Get the separation of all sources from the target\n",
    "        src_coords = SkyCoord(ra=src['coord_ra']*u.rad, dec=src['coord_dec']*u.rad)\n",
    "        sep = src_coords.separation(targ_coord)\n",
    "        # t3 = time.time()\n",
    "        # print('t3-t2 = ', t3-t2)\n",
    "\n",
    "        # If the nearest source is within 1.5\", add it to our list\n",
    "        if np.min(sep.arcsecond) < 1.5:\n",
    "            sx = np.argmin(sep.arcsecond)\n",
    "            ra_arr.append(src['coord_ra'][sx])\n",
    "            dec_arr.append(src['coord_dec'][sx])\n",
    "\n",
    "            # Extract the PVI:\n",
    "            calexp = butler.get('calexp', dataId=did, collections=collection)\n",
    "\n",
    "            # Extract the photocalib and apply it to calculate a magnitude:\n",
    "            #calib = butler.get('calexp.photoCalib', dataId=did, collections=collection)\n",
    "            calib = calexp.getPhotoCalib()\n",
    "            mag_arr.append(calib.instFluxToMagnitude(src['base_PsfFlux_instFlux'][sx]))\n",
    "\n",
    "            # Calculate the AB magnitude from the calibrated flux in nJy\n",
    "            # \"calibrated flux\" = base_PsfFlux_instFlux * base_localPhotoCalib\n",
    "            # rmag_arr.append( -2.5 * np.log10( src['base_PsfFlux_instFlux'][sx] * src['base_localPhotoCalib'][sx] ) + 31.4 )\n",
    "            # t4 = time.time()\n",
    "            # print('t4-t3 = ',t4-t3)\n",
    "\n",
    "            # Retrieve the mjd date for this dataId from the image header for this dataid\n",
    "            date_obs = calexp.getInfo().getVisitInfo().getDate()\n",
    "            mjd_arr.append(date_obs.get(dafBase.DateTime.MJD))\n",
    "            # visit_info = butler.get('calexp.visitInfo', dataId=did, collections=collection)\n",
    "            # mjd_arr.append(visit_info.getDate().get(lsst.daf.base.DateTime.MJD))\n",
    "            # t5 = time.time()\n",
    "            # print('t5-t4 = ',t5-t4)\n",
    "\n",
    "            sep_arr.append(sep[sx].arcsecond)\n",
    "            visit_arr.append(did['visit'])\n",
    "            detector_arr.append(did['detector'])\n",
    "            \n",
    "            del sx, date_obs\n",
    "\n",
    "        del did, src, src_coords, sep"
   ]
  },
  {
   "cell_type": "code",
   "execution_count": 47,
   "id": "6d076017",
   "metadata": {},
   "outputs": [],
   "source": [
    "# Make an Astropy Table of the data:\n",
    "tab_timeseries = Table([mjd_arr, ra_arr, dec_arr, sep_arr, mag_arr, visit_arr, detector_arr],\n",
    "                       names=['mjd', 'ra', 'dec', 'separation', 'mag', 'visit', 'detector'])\n",
    "\n",
    "# Save the timeseries data to a FITS file for later use:\n",
    "# tab_timeseries.write('timeseries_rband.fits', overwrite=True)"
   ]
  },
  {
   "cell_type": "code",
   "execution_count": 48,
   "id": "14ee3bfb",
   "metadata": {},
   "outputs": [],
   "source": [
    "# Uncomment the following to read the saved timeseries data:\n",
    "tab_timeseries = fits.getdata('timeseries_rband.fits')"
   ]
  },
  {
   "cell_type": "code",
   "execution_count": 49,
   "id": "4abe9dfa",
   "metadata": {},
   "outputs": [
    {
     "data": {
      "text/plain": [
       "ColDefs(\n",
       "    name = 'mjd'; format = 'D'\n",
       "    name = 'ra'; format = 'D'\n",
       "    name = 'dec'; format = 'D'\n",
       "    name = 'separation'; format = 'D'\n",
       "    name = 'mag'; format = 'D'\n",
       "    name = 'visit'; format = 'K'\n",
       "    name = 'detector'; format = 'K'\n",
       ")"
      ]
     },
     "execution_count": 49,
     "metadata": {},
     "output_type": "execute_result"
    }
   ],
   "source": [
    "tab_timeseries.columns"
   ]
  },
  {
   "cell_type": "markdown",
   "id": "544e79b6",
   "metadata": {},
   "source": [
    "### 4. Plot a time series (magnitude vs. time) of the star's measurements:"
   ]
  },
  {
   "cell_type": "code",
   "execution_count": 50,
   "id": "fa2d09b9",
   "metadata": {},
   "outputs": [
    {
     "data": {
      "image/png": "[encoded data removed]",
      "text/plain": [
       "<Figure size 432x288 with 1 Axes>"
      ]
     },
     "metadata": {
      "needs_background": "light"
     },
     "output_type": "display_data"
    }
   ],
   "source": [
    "plt.plot(tab_timeseries['mjd'], tab_timeseries['mag'], 'k.')\n",
    "plt.xlabel('MJD')\n",
    "plt.ylabel('r magnitude')\n",
    "plt.gca().invert_yaxis()\n",
    "plt.minorticks_on()\n",
    "plt.show()"
   ]
  },
  {
   "cell_type": "markdown",
   "id": "ea20dbcb",
   "metadata": {},
   "source": [
    "Hooray! The star is clearly a variable, with a peak-to-peak variation of almost a full magnitude."
   ]
  },
  {
   "cell_type": "code",
   "execution_count": null,
   "id": "890e52bb",
   "metadata": {},
   "outputs": [],
   "source": []
  },
  {
   "cell_type": "code",
   "execution_count": null,
   "id": "535f998d",
   "metadata": {},
   "outputs": [],
   "source": []
  },
  {
   "cell_type": "code",
   "execution_count": null,
   "id": "6224252e",
   "metadata": {},
   "outputs": [],
   "source": []
  },
  {
   "cell_type": "code",
   "execution_count": null,
   "id": "04b4f82a",
   "metadata": {},
   "outputs": [],
   "source": []
  },
  {
   "cell_type": "markdown",
   "id": "af150eac",
   "metadata": {},
   "source": [
    "Plot the RA vs. Dec to show the dispersion in coordinate and get a sense of how well a 1.5 arcsecond limit for source association has worked in this case.\n",
    "Seeing two clumps of points might indicate there is another nearby point-source."
   ]
  },
  {
   "cell_type": "code",
   "execution_count": 13,
   "id": "32b924d2",
   "metadata": {},
   "outputs": [
    {
     "data": {
      "image/png": "[encoded data removed]",
      "text/plain": [
       "<Figure size 432x288 with 1 Axes>"
      ]
     },
     "metadata": {
      "needs_background": "light"
     },
     "output_type": "display_data"
    }
   ],
   "source": [
    "plt.plot(ra_arr, dec_arr, 'k.')\n",
    "plt.plot(targ_coord.ra.rad,targ_coord.dec.rad, 'x', color='red')\n",
    "plt.xlabel('ra')\n",
    "plt.ylabel('dec')\n",
    "plt.gca().invert_yaxis()\n",
    "plt.minorticks_on()\n",
    "plt.show()"
   ]
  },
  {
   "cell_type": "code",
   "execution_count": null,
   "id": "38475303",
   "metadata": {},
   "outputs": [],
   "source": [
    "plt.plot(mjd_arr, rmag_arr, 'k.')\n",
    "plt.xlabel('ra')\n",
    "plt.ylabel('dec')\n",
    "plt.gca().invert_yaxis()\n",
    "plt.minorticks_on()\n",
    "plt.show()"
   ]
  },
  {
   "cell_type": "code",
   "execution_count": null,
   "id": "f858f296",
   "metadata": {},
   "outputs": [],
   "source": []
  }
 ],
 "metadata": {
  "kernelspec": {
   "display_name": "LSST",
   "language": "python",
   "name": "lsst"
  },
  "language_info": {
   "codemirror_mode": {
    "name": "ipython",
    "version": 3
   },
   "file_extension": ".py",
   "mimetype": "text/x-python",
   "name": "python",
   "nbconvert_exporter": "python",
   "pygments_lexer": "ipython3",
   "version": "3.8.8"
  }
 },
 "nbformat": 4,
 "nbformat_minor": 5
}
