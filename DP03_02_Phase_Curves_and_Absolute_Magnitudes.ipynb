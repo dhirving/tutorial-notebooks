{
 "cells": [
  {
   "cell_type": "markdown",
   "id": "749b0ddf",
   "metadata": {},
   "source": [
    "<img align=\"left\" src = https://project.lsst.org/sites/default/files/Rubin-O-Logo_0.png width=250 style=\"padding: 10px\"> \n",
    "<br>\n",
    "<b>Phase Curve of Solar System Objects</b> <br>\n",
    "Contact authors: Christina Williams and Yumi Choi<br>\n",
    "Last verified to run: <i>2023-07-dd</i> <br>\n",
    "LSST Science Piplines version: Weekly <i>2023_21</i> <br>\n",
    "Container Size: medium <br>\n",
    "Targeted learning level: intermediate <br>"
   ]
  },
  {
   "cell_type": "markdown",
   "id": "9da1a210-d858-42fe-8591-570965b8be1a",
   "metadata": {},
   "source": [
    "**Description:** Investigate the derivation of phase curves for DP0.3 solar system objects and explore DP0.3-provided phase curve parameters. "
   ]
  },
  {
   "cell_type": "markdown",
   "id": "80a0baf5-51ad-40ec-8991-060a7b27c289",
   "metadata": {},
   "source": [
    "**Skills:** Use various TAP tables, including joining multiple tables. Derive and compare phase curves. Explore accuracy of the phase curve parameters as a function of observation quality."
   ]
  },
  {
   "cell_type": "markdown",
   "id": "393da88f-7978-4920-aa4a-a9830df6eed9",
   "metadata": {},
   "source": [
    "**LSST Data Products:** TAP tables dp03_catalogs_10yr.SSObject, dp03_catalogs_10yr.MPCORB, dp03_catalogs_10yr.DiaSource, dp03_catalogs_10yr.SSSource"
   ]
  },
  {
   "cell_type": "markdown",
   "id": "5c67fab9-136a-4adc-bb42-142b91ab69dd",
   "metadata": {},
   "source": [
    "**Packages:** numpy, scipy, pandas, matplotlib, seaborn, lsst.rsp"
   ]
  },
  {
   "cell_type": "markdown",
   "id": "8f72b27f",
   "metadata": {},
   "source": [
    "**Credit:**\n",
    "Inspired by a jupyter notebook developed by Queen's University Belfast Planet Lab (including Brian Rogers, Niall McElroy, and Meg Schwamb). Standalone functions for phase curve fitting were developed by Pedro Bernardinelli. References: <a href=\"https://ui.adsabs.harvard.edu/abs/2010Icar..209..542M/abstract\">Muinonen et al. (2010)</a> and <a href=\"http://astronotes.co.uk/blog/2018/05/28/determining-the-h-g-parameters-of-atlas-asteroid-phase-curves.html\">David Young's webpage.</a> Please consider acknowledging them if this notebook is used for the preparation of journal articles, software releases, or other notebooks.Please consider acknowledging them if this notebook is used for the preparation of journal articles, software releases, or other notebooks."
   ]
  },
  {
   "cell_type": "markdown",
   "id": "a400d1bb-e1ec-4160-bd41-bc7ca953a97c",
   "metadata": {
    "execution": {
     "iopub.execute_input": "2023-07-27T17:55:39.523317Z",
     "iopub.status.busy": "2023-07-27T17:55:39.522902Z",
     "iopub.status.idle": "2023-07-27T17:55:40.035942Z",
     "shell.execute_reply": "2023-07-27T17:55:40.034503Z",
     "shell.execute_reply.started": "2023-07-27T17:55:39.523290Z"
    },
    "tags": []
   },
   "source": [
    "**Get Support:** Find DP0.3-related documentation and resources at <a href=\"https://dp0-3.lsst.io\">dp0-3.lsst.io</a>. Questions are welcome as new topics in the <a href=\"https://community.lsst.org/c/support/dp0\">Support - Data Preview 0 Category</a> of the Rubin Community Forum. Rubin staff will respond to all questions posted there."
   ]
  },
  {
   "cell_type": "code",
   "execution_count": null,
   "id": "16896376-9f5b-466f-a627-eb978e7f46e5",
   "metadata": {
    "tags": []
   },
   "outputs": [],
   "source": [
    "%load_ext pycodestyle_magic\n",
    "%flake8_on\n",
    "import logging\n",
    "logging.getLogger(\"flake8\").setLevel(logging.FATAL)"
   ]
  },
  {
   "cell_type": "markdown",
   "id": "cfc73be0",
   "metadata": {},
   "source": [
    "## 1. Introduction\n",
    "\n",
    "This notebook will explore the properties of solar system objects in the DP0.3 dataset by using the science example of measuring their phase curves. \n",
    "\n",
    "The DP0.3 catalog contains both real and simulated Solar System objects (including asteroids, near-earth objects, Trojans, trans-Neptunian objects) In the real survey, these objects will change position between each Rubin image. The DP0.3 catalog simulates the measurements of object movements between images, and these can be used to estimate their intrinsic properties and orbital parameters. An important way to characterize intrinsic properties of a solar system object is by measuring its \"phase curve\", which is the object brightness as a function of its \"solar phase angle\" (the angle made between the line of sight from the object to the sun, and the line of sight from the object to earth; see diagram at <a href=\"http://astronotes.co.uk/blog/2018/05/28/determining-the-h-g-parameters-of-atlas-asteroid-phase-curves.html\">David Young's webpage.</a>)\n",
    "\n",
    "\n",
    "In order to reveal the intrinsic properties of the astroid (such as its surface properties and albedo; and as a result helps determine its class of solar system body) we first must turn apparent magnitudes as a function of time (what is measured by LSST data) into \"reduced magnitude\", which takes into account the relative distances between the asteroid and the sun/earth (heliocentric/topocentric distances) at each observation. Thus, reduced magnitude is normalized such that it is the brightness of an asteroid as if it is observed at 1 AU from both the Sun and the Earth. \n",
    "\n",
    "In this notebook we will show an example of measuring the phase curve of solar system bodies using the DP0.3 simulated catalogs. In Section 2 we will manually perform the phase curve fitting on the DP0.3 measurements for one solar system object, using 3 different parametrizations of the phase curve model (see Section 1.2). In Section 3, we will compare that to the automated phase curve fitting that is performed as part of the LSST data products, and available in the SSObject Table. Lastly in Section 4 we will aggregate the phase curve fits for a number of solar system bodies in DP0.3 and study how the quality of the fit depends on LSST observations (which additionally provides some insight into expectations for real LSST data).\n",
    "\n"
   ]
  },
  {
   "cell_type": "markdown",
   "id": "5bf722b4-8227-441f-9f3e-0f8140040fc1",
   "metadata": {},
   "source": [
    "### 1.1 Package Imports\n",
    "\n",
    "The [matplotlib](https://matplotlib.org/) (and especially sublibrary `matplotlib.pyplot`), [numpy](http://www.numpy.org/), and [scipy](https://scipy.org/) libraries are widely used Python libraries for plotting and scientific computing, and model fitting.\n",
    "\n",
    "The `lsst.rsp` package provides access to the Table Access Protocol (TAP) service for queries to the DP0 catalogs.\n",
    "\n",
    "The [seaborn](https://seaborn.pydata.org/) package provides statistical data visualization with aesthetic and informative graphics.\n",
    "\n",
    "The [pandas](https://pandas.pydata.org/) package enables table and dataset manipulation (TBD are we using this)\n"
   ]
  },
  {
   "cell_type": "code",
   "execution_count": null,
   "id": "cddc1458",
   "metadata": {
    "tags": []
   },
   "outputs": [],
   "source": [
    "# general python packages\n",
    "import numpy as np\n",
    "from scipy.interpolate import CubicSpline\n",
    "from scipy.optimize import leastsq\n",
    "import pandas as pd\n",
    "import matplotlib.pyplot as plt\n",
    "import matplotlib.patches as mpatches\n",
    "import seaborn as sns\n",
    "\n",
    "# LSST package for TAP queries\n",
    "from lsst.rsp import get_tap_service"
   ]
  },
  {
   "cell_type": "markdown",
   "id": "c217adff-25ed-4fce-95e7-8aa04630f6cc",
   "metadata": {},
   "source": [
    "### 1.2 Define Functions and Parameters"
   ]
  },
  {
   "cell_type": "markdown",
   "id": "8a4a8b3b-91cf-4729-a707-99b7b11a5b8d",
   "metadata": {},
   "source": [
    "#### 1.2.1 Set up some plotting defaults:"
   ]
  },
  {
   "cell_type": "code",
   "execution_count": null,
   "id": "c780a382-5c5e-4f20-9ffd-7aa517c37146",
   "metadata": {
    "tags": []
   },
   "outputs": [],
   "source": [
    "plt.style.use('tableau-colorblind10')\n",
    "prop_cycle = plt.rcParams['axes.prop_cycle']\n",
    "colors = prop_cycle.by_key()['color']\n",
    "params = {'axes.labelsize': 15,\n",
    "          'font.size': 15,\n",
    "          'legend.fontsize': 12}\n",
    "plt.rcParams.update(params)"
   ]
  },
  {
   "cell_type": "markdown",
   "id": "ca7ae11c-5ee6-4b64-9ed3-7a0e2b9630a3",
   "metadata": {},
   "source": [
    "To supress NumPy RuntimeWarning"
   ]
  },
  {
   "cell_type": "code",
   "execution_count": null,
   "id": "cbc8769f-e313-46f3-970b-7596636b5342",
   "metadata": {
    "tags": []
   },
   "outputs": [],
   "source": [
    "np.seterr(divide='ignore')"
   ]
  },
  {
   "cell_type": "markdown",
   "id": "e4d55d16-f2c0-495c-8f43-0b93bc44ed89",
   "metadata": {},
   "source": [
    "#### 1.2.2 Define functions for phase curve fitting. \n",
    "First we will define some arrays that will be used later by the phase curve fitting, followed by three different parametrizations (confirm this is the correct word??) of the phase curve. These are (in increasing complexity(??) `HG_model`, `HG1G2_model`, `HG12_model`. The `HG_model` has the form:\n",
    "\n",
    "$$H(α)=H−2.5log[(1−G)Φ1(α)+GΦ2(α)]$$\n",
    "where\n",
    "$$Φn=exp[−An(tan(α/2))Bn]$$\n",
    "\n",
    "and provides a best fit for the slope parameter G (from which surface properties can then be derived) and H(α), the reduced magnitude (H is the value at 0 phase angle α, i.e. asteroid and sun are at opposition with respect to the earth). H is the absolute magnitude: asteroid brightness if measured at 1 AU away from both earth and from the Sun (i.e. unit tropocentric and heliocentric distnace) and at a zero phase angle. For further info on the `HG_model` see [Bowell et al 1989](https://ui.adsabs.harvard.edu/abs/1989aste.conf..524B/abstract). \n",
    "\n",
    "\n",
    "In practice, the more complex `HG1G2_model`, `HG12_model` are (better representations?? something else?). In particular for long-timescale observations and excellent(??) sampling of the orbit(??) data, the 3-parameter model `HG1G2_model` is sometimes (more accurate? desirable?). The `HG1G2_model` has the form\n",
    "\n",
    "$$H(α)=H−2.5log[G1Φ1(α)+G2Φ2(α) + (1-G1-G2)Φ3(α)]$$\n",
    "\n",
    "which now has three free parameters, H, G1 and G2. However, a third representation, the `HG12_model`, is can be useful for deriving reliable values of absolute magnitude when the phase angle coverage is poorly sampled. This version expresses the G1 and G2 parameters as a piecewise lineary function of a single parameter, G12, \n",
    "\n",
    "for G12 > 0.2\n",
    "$$G1 = 0.9529xG12 + 0.02162$$\n",
    "$$G2 = -0.6125xG12 + 0.5572$$\n",
    "    for G12 < 0.2\n",
    "$$G1 = 0.7527xG12 + 0.06164$$\n",
    "$$G2 = -0.9612xG12 + 0.6270$$\n",
    "\n",
    "This parametrization performs better when modeling sub-optimal(?) data <a href=\"https://ui.adsabs.harvard.edu/abs/2010Icar..209..542M/abstract\">Muinonen et al. (2010)</a>. Thus, the LSST data products will compute estimated parameters of the `HG12_model` and this will be the focus of this tutorial.\n",
    "\n",
    "The constant coefficients An, Bn, Cn are pre-defined below (TBD what do they mean?) with values taken from `sbpy` (https://sbpy.org).\n"
   ]
  },
  {
   "cell_type": "code",
   "execution_count": null,
   "id": "2d95d30d-77f4-420c-a791-b90dfad3f6ea",
   "metadata": {
    "tags": []
   },
   "outputs": [],
   "source": [
    "A = [3.332, 1.862]\n",
    "B = [0.631, 1.218]\n",
    "C = [0.986, 0.238]\n",
    "\n",
    "alpha_12 = np.deg2rad([7.5, 30., 60, 90, 120, 150])\n",
    "\n",
    "phi_1_sp = [7.5e-1, 3.3486016e-1, 1.3410560e-1, 5.1104756e-2, 2.1465687e-2,\n",
    "            3.6396989e-3]\n",
    "phi_1_derivs = [-1.9098593, -9.1328612e-2]\n",
    "\n",
    "phi_2_sp = [9.25e-1, 6.2884169e-1, 3.1755495e-1, 1.2716367e-1, 2.2373903e-2,\n",
    "            1.6505689e-4]\n",
    "phi_2_derivs = [-5.7295780e-1, -8.6573138e-8]\n",
    "\n",
    "alpha_3 = np.deg2rad([0.0, 0.3, 1., 2., 4., 8., 12., 20., 30.])\n",
    "\n",
    "phi_3_sp = [1., 8.3381185e-1, 5.7735424e-1, 4.2144772e-1, 2.3174230e-1,\n",
    "            1.0348178e-1, 6.1733473e-2, 1.6107006e-2, 0.]\n",
    "phi_3_derivs = [-1.0630097, 0]\n",
    "\n",
    "phi_1 = CubicSpline(alpha_12, phi_1_sp,\n",
    "                    bc_type=((1, phi_1_derivs[0]), (1, phi_1_derivs[1])))\n",
    "phi_2 = CubicSpline(alpha_12, phi_2_sp,\n",
    "                    bc_type=((1, phi_2_derivs[0]), (1, phi_2_derivs[1])))\n",
    "phi_3 = CubicSpline(alpha_3, phi_3_sp,\n",
    "                    bc_type=((1, phi_3_derivs[0]), (1, phi_3_derivs[1])))"
   ]
  },
  {
   "cell_type": "code",
   "execution_count": null,
   "id": "abbfa96c-d77b-4b63-b092-8e1a1e14aeca",
   "metadata": {
    "tags": []
   },
   "outputs": [],
   "source": [
    "def HG_model(phase, params):\n",
    "    \"\"\"\n",
    "    Compute HG model phase curve for a given set\n",
    "    of parameters. The simplest 2-parameter model.\n",
    "\n",
    "    Parameters\n",
    "    ----------\n",
    "    phase: ndarray\n",
    "        phase angle in radians\n",
    "    params: list\n",
    "        phase curve parameters\n",
    "\n",
    "    Returns\n",
    "    -------\n",
    "    computed reduced magnitude: ndarray\n",
    "    \"\"\"\n",
    "\n",
    "    sin_a = np.sin(phase)\n",
    "    tan_ah = np.tan(phase/2)\n",
    "\n",
    "    W = np.exp(-90.56 * tan_ah * tan_ah)\n",
    "    scale_sina = sin_a/(0.119 + 1.341*sin_a - 0.754*sin_a*sin_a)\n",
    "\n",
    "    phi_1_S = 1 - C[0] * scale_sina\n",
    "    phi_2_S = 1 - C[1] * scale_sina\n",
    "\n",
    "    phi_1_L = np.exp(-A[0] * np.power(tan_ah, B[0]))\n",
    "    phi_2_L = np.exp(-A[1] * np.power(tan_ah, B[1]))\n",
    "\n",
    "    phi_1 = W * phi_1_S + (1-W) * phi_1_L\n",
    "    phi_2 = W * phi_2_S + (1-W) * phi_2_L\n",
    "\n",
    "    return params[0] - 2.5*np.log10((1-params[1]) * phi_1\n",
    "                                    + (params[1]) * phi_2)"
   ]
  },
  {
   "cell_type": "code",
   "execution_count": null,
   "id": "4c4908e8-859f-4bd3-a9cf-7f006a505b98",
   "metadata": {
    "tags": []
   },
   "outputs": [],
   "source": [
    "def HG1G2_model(phase, params):\n",
    "    \"\"\"\n",
    "    Compute HG1G2 model phase curve for a given set\n",
    "    of parameters. This is a 3-parameter model, which works best\n",
    "    when sufficiently long phaseangle coverage is available.\n",
    "\n",
    "    Parameters\n",
    "    ----------\n",
    "    phase: ndarray\n",
    "        phase angle in radians\n",
    "    params: list\n",
    "        phase curve parameters\n",
    "\n",
    "    Returns\n",
    "    -------\n",
    "    computed reduced magnitude: ndarray\n",
    "    \"\"\"\n",
    "\n",
    "    phi_1_ev = phi_1(phase)\n",
    "    phi_2_ev = phi_2(phase)\n",
    "    phi_3_ev = phi_3(phase)\n",
    "\n",
    "    msk = phase < 7.5 * np.pi/180\n",
    "\n",
    "    phi_1_ev[msk] = 1-6 * phase[msk]/np.pi\n",
    "    phi_2_ev[msk] = 1-9 * phase[msk]/(5 * np.pi)\n",
    "\n",
    "    phi_3_ev[phase > np.pi/6] = 0\n",
    "\n",
    "    return params[0] - 2.5 * np.log10(params[1] * phi_1_ev\n",
    "                                      + params[2] * phi_2_ev\n",
    "                                      + (1-params[1]-params[2]) * phi_3_ev)"
   ]
  },
  {
   "cell_type": "code",
   "execution_count": null,
   "id": "4119e25a-0f1b-4acc-ade2-5ca6b669617f",
   "metadata": {
    "tags": []
   },
   "outputs": [],
   "source": [
    "def HG12_model(phase, params):\n",
    "    \"\"\"\n",
    "    Compute HG12 model phase curve for a given set\n",
    "    of parameters. This is a 2-parameter, simplified version\n",
    "    of HG1G2 model, which is useful when phaseangle coverage is shorter.\n",
    "\n",
    "    Parameters\n",
    "    ----------\n",
    "    phase: ndarray\n",
    "        phase angle in radians\n",
    "    params: list\n",
    "        phase curve parameters\n",
    "\n",
    "    Returns\n",
    "    -------\n",
    "    computed reduced magnitude: ndarray\n",
    "    \"\"\"\n",
    "\n",
    "    if params[1] >= 0.2:\n",
    "        G1 = +0.9529*params[1] + 0.02162\n",
    "        G2 = -0.6125*params[1] + 0.5572\n",
    "    else:\n",
    "        G1 = +0.7527*params[1] + 0.06164\n",
    "        G2 = -0.9612*params[1] + 0.6270\n",
    "\n",
    "    return HG1G2_model(phase, [params[0], G1, G2])"
   ]
  },
  {
   "cell_type": "code",
   "execution_count": null,
   "id": "0014b131-11e5-4ab1-b805-31163b105371",
   "metadata": {
    "tags": []
   },
   "outputs": [],
   "source": [
    "def wd(params, mag, phase, mag_err, model):\n",
    "    \"\"\"\n",
    "    Compute weighted deviation for a given model.\n",
    "    \"\"\"\n",
    "\n",
    "    pred = model(phase, params)\n",
    "\n",
    "    return (mag - pred)/mag_err"
   ]
  },
  {
   "cell_type": "code",
   "execution_count": null,
   "id": "37d86162-8557-4f65-9813-ec46818466a9",
   "metadata": {
    "tags": []
   },
   "outputs": [],
   "source": [
    "def fitPhaseCurve(mag, phase, sigma, model=HG12_model, params=[0.1]):\n",
    "    \"\"\"\n",
    "    Fit phase curve for given observations to a designated model.\n",
    "\n",
    "    Parameters\n",
    "    ----------\n",
    "    mag: ndarray\n",
    "        reduced magnitude\n",
    "    phase: ndarray\n",
    "        phase angle in degrees\n",
    "    sigma: ndarray\n",
    "        uncertainty in magnitude\n",
    "    model: function (default=HG12_model)\n",
    "        phase curve model function\n",
    "    params: list (default=[0.1])\n",
    "        phase curve paramters\n",
    "\n",
    "    Returns\n",
    "    -------\n",
    "    sol: tuple\n",
    "        best-fit solution\n",
    "    \"\"\"\n",
    "\n",
    "    phase = np.deg2rad(phase)\n",
    "    sol = leastsq(wd, [mag[0]] + params, (mag, phase, sigma, model),\n",
    "                  full_output=True)\n",
    "\n",
    "    return sol"
   ]
  },
  {
   "cell_type": "code",
   "execution_count": null,
   "id": "5cdf1dd4-10b7-4c1f-8f4f-b4ab252822a6",
   "metadata": {
    "tags": []
   },
   "outputs": [],
   "source": [
    "def fitAllPhaseCurveModels(reducedMag, magSigma, phaseAngle, verbose=False):\n",
    "    \"\"\"\n",
    "    Fit phase curves for given observations to 3 different models.\n",
    "\n",
    "    Parameters\n",
    "    ----------\n",
    "    reducedMag: ndarray\n",
    "        reduced magnitude\n",
    "    magSigma: ndarray\n",
    "        uncertainty in magnitude\n",
    "    phaseAngle: ndarray\n",
    "        phase angle in degrees\n",
    "\n",
    "    Returns\n",
    "    -------\n",
    "    solutions: dict\n",
    "        Best-fit solutions for each model\n",
    "    \"\"\"\n",
    "\n",
    "    # We fit observations using each one of the HG, HG12 and HG1G2 models\n",
    "    # and store the resulting solutions in a dictionary of dictionaries.\n",
    "    # Save np.nan values when the fit has not been converged\n",
    "    solutions = {}\n",
    "\n",
    "    # Let's do HG first\n",
    "    sol_HG = fitPhaseCurve(reducedMag, phaseAngle, magSigma, model=HG_model)\n",
    "\n",
    "    solutions['HG'] = {}\n",
    "    try:\n",
    "        solutions['HG']['chi2'] = np.sum(sol_HG[2]['fvec']**2)\n",
    "        solutions['HG']['H'] = sol_HG[0][0]\n",
    "        solutions['HG']['G'] = sol_HG[0][1]\n",
    "        solutions['HG']['H_err'] = np.sqrt(sol_HG[1][0, 0])\n",
    "        solutions['HG']['G_err'] = np.sqrt(sol_HG[1][1, 1])\n",
    "        solutions['HG']['cov'] = sol_HG[1]\n",
    "    except TypeError:\n",
    "        if verbose:\n",
    "            print('HG model is not converging')\n",
    "        solutions['HG']['chi2'] = np.nan\n",
    "        solutions['HG']['H'] = np.nan\n",
    "        solutions['HG']['G'] = np.nan\n",
    "        solutions['HG']['H_err'] = np.nan\n",
    "        solutions['HG']['G_err'] = np.nan\n",
    "        solutions['HG']['cov'] = np.nan\n",
    "\n",
    "    # Now HG12\n",
    "    sol_HG12 = fitPhaseCurve(reducedMag, phaseAngle,\n",
    "                             magSigma, model=HG12_model)\n",
    "\n",
    "    solutions['HG12'] = {}\n",
    "    try:\n",
    "        solutions['HG12']['chi2'] = np.sum(sol_HG12[2]['fvec']**2)\n",
    "        solutions['HG12']['H'] = sol_HG12[0][0]\n",
    "        solutions['HG12']['G12'] = sol_HG12[0][1]\n",
    "        solutions['HG12']['H_err'] = np.sqrt(sol_HG12[1][0, 0])\n",
    "        solutions['HG12']['G12_err'] = np.sqrt(sol_HG12[1][1, 1])\n",
    "        solutions['HG12']['cov'] = sol_HG12[1]\n",
    "    except TypeError:\n",
    "        if verbose:\n",
    "            print('HG12 model is not converging')\n",
    "        solutions['HG12']['chi2'] = np.nan\n",
    "        solutions['HG12']['H'] = np.nan\n",
    "        solutions['HG12']['G12'] = np.nan\n",
    "        solutions['HG12']['H_err'] = np.nan\n",
    "        solutions['HG12']['G12_err'] = np.nan\n",
    "        solutions['HG12']['cov'] = np.nan\n",
    "\n",
    "    # Finally, HG1G2 - note this returns an extra parameter\n",
    "    sol_HG1G2 = fitPhaseCurve(reducedMag, phaseAngle, magSigma,\n",
    "                              model=HG1G2_model, params=[0.1, 0.1])\n",
    "\n",
    "    solutions['HG1G2'] = {}\n",
    "    try:\n",
    "        solutions['HG1G2']['chi2'] = np.sum(sol_HG1G2[2]['fvec']**2)\n",
    "        solutions['HG1G2']['H'] = sol_HG1G2[0][0]\n",
    "        solutions['HG1G2']['G1'] = sol_HG1G2[0][1]\n",
    "        solutions['HG1G2']['G2'] = sol_HG1G2[0][2]\n",
    "        solutions['HG1G2']['H_err'] = np.sqrt(sol_HG1G2[1][0, 0])\n",
    "        solutions['HG1G2']['G1_err'] = np.sqrt(sol_HG1G2[1][1, 1])\n",
    "        solutions['HG1G2']['G2_err'] = np.sqrt(sol_HG1G2[1][2, 2])\n",
    "        solutions['HG1G2']['cov'] = sol_HG1G2[1]\n",
    "    except TypeError:\n",
    "        if verbose:\n",
    "            print('HG1G2 model is not converging')\n",
    "        solutions['HG1G2']['chi2'] = np.nan\n",
    "        solutions['HG1G2']['H'] = np.nan\n",
    "        solutions['HG1G2']['G1'] = np.nan\n",
    "        solutions['HG1G2']['G2'] = np.nan\n",
    "        solutions['HG1G2']['H_err'] = np.nan\n",
    "        solutions['HG1G2']['G1_err'] = np.nan\n",
    "        solutions['HG1G2']['G2_err'] = np.nan\n",
    "        solutions['HG1G2']['cov'] = np.nan\n",
    "\n",
    "    return solutions"
   ]
  },
  {
   "cell_type": "markdown",
   "id": "ec51ac0b",
   "metadata": {
    "tags": []
   },
   "source": [
    "## 2. Querying the DP0.3 tables and fitting phase curves of SS objects\n",
    "\n",
    "### 2.1 Create the Rubin TAP Service Client\n",
    "\n",
    "Get an instance of the TAP service, and assert that it exists."
   ]
  },
  {
   "cell_type": "code",
   "execution_count": null,
   "id": "81b8cd59-1ba3-4eaa-846f-6478ed0c3cf5",
   "metadata": {
    "tags": []
   },
   "outputs": [],
   "source": [
    "service = get_tap_service(\"ssotap\")\n",
    "assert service is not None"
   ]
  },
  {
   "cell_type": "markdown",
   "id": "bf968de5-ce59-41c9-88f0-83cd88bdc083",
   "metadata": {},
   "source": [
    "### 2.2 Querying the DP0.3 SSObject and MPCORB catalogs"
   ]
  },
  {
   "cell_type": "markdown",
   "id": "171e087c-b314-48f7-8f22-6013115f2cb9",
   "metadata": {},
   "source": [
    "For phase curve fitting, we need apparent magnitudes & uncertainties, phase angles, topocentric (tdist) and heliocentric (rdist) distances.\n",
    "\n",
    "To define the properties of solar system objects, the DP0.3 model uses the `HG_model` form of the phase curve to predict the observed parameters for each object. These \"truth\" values are defined in the MPCORB table as mpcH (intrinsic absolute magnitude) and mpcG (intrinsic slope). For the purposes of DP0.3, the intrinsic slope, mpcG, for all objects have a constant value of 0.15.\n",
    "\n",
    "In the ssObjectTable, the LSST data products contain the fitted phase curve parameters based on the mock observations using the `HG12_model` (i.e. contain absolute magnitude H and slope parameter G12). Note that the value of G12 slope will differ from G owing to the difference in functional form. \n",
    "\n",
    "To keep a reasonable run time for this tutorial, we limit our query, and select sources with a large number of observations (in the ssObject table, this is numObs > 2200) and, to ensure we select a relatively nearby sample that will have high-quality measurements, we choose perihelion distance of less than 20 AU (in the MPCORB talble, q < 20). Optionally, one can also restrict on the arc of LSST observations (arc) > 1000 days. \n",
    "\n",
    "We call the table returned by this query \"unique\" since it contains the IDs of unique solar system objects (although each object has many individual observations in LSST)"
   ]
  },
  {
   "cell_type": "code",
   "execution_count": null,
   "id": "5d59d020-7e09-4626-9aa8-287bc20187d0",
   "metadata": {
    "tags": []
   },
   "outputs": [],
   "source": [
    "nobs_thrh = '2200'  # Number of LSST observations\n",
    "q_thrh = '20'  # Perihelion distance (AU)\n",
    "# arc_thrh = '1000'  # Arc of LSST observations; units in days"
   ]
  },
  {
   "cell_type": "code",
   "execution_count": null,
   "id": "9841c6de-f012-41e7-aae7-23da5c77e4e6",
   "metadata": {
    "tags": []
   },
   "outputs": [],
   "source": [
    "query = \"\"\"\n",
    "SELECT\n",
    "    mpc.ssObjectId, mpc.q, mpc.mpcG, mpc.mpcH,\n",
    "    sso.arc, sso.numObs,\n",
    "    sso.g_H, sso.g_Herr, sso.g_G12, sso.g_G12err, sso.g_H_gG12_Cov,\n",
    "    sso.r_H, sso.r_Herr, sso.r_G12, sso.r_G12err, sso.r_H_rG12_Cov,\n",
    "    sso.i_H, sso.i_Herr, sso.i_G12, sso.i_G12err, sso.i_H_iG12_Cov,\n",
    "    sso.z_H, sso.z_Herr, sso.z_G12, sso.z_G12err, sso.z_H_zG12_Cov\n",
    "FROM\n",
    "    dp03_catalogs_10yr.MPCORB as mpc\n",
    "INNER JOIN dp03_catalogs_10yr.SSObject as sso\n",
    "ON mpc.ssObjectId = sso.ssObjectId\n",
    "WHERE sso.numObs > {} AND mpc.q < {} ORDER by sso.ssObjectId\n",
    "\"\"\".format(nobs_thrh, q_thrh)\n",
    "\n",
    "df_uniqueObj = service.search(query).to_table()\n",
    "df_uniqueObj"
   ]
  },
  {
   "cell_type": "markdown",
   "id": "977dd781-f675-4ed4-89ac-07cb6042515e",
   "metadata": {},
   "source": [
    "### 2.3 Querying the DP0.3 DiaSource and SSSource catalogs\n",
    "\n",
    "While there are unique solar system objects in the ssObject and MPCORB tables, these objects will be observed many times over the full LSST survey. Individual observations of each unique object are recorded in the SSSource and diaSource tables. Below, we query these tables to obtain all of the individual observed time series data (we call indivObs) for the unique objects (uniqueObj) selected above. This query usually takes ~30 sec."
   ]
  },
  {
   "cell_type": "code",
   "execution_count": null,
   "id": "bb665e68-f274-4c50-9b82-4899b084c33a",
   "metadata": {
    "tags": []
   },
   "outputs": [],
   "source": [
    "query = \"\"\"\n",
    "SELECT\n",
    "    dia.ssObjectId, dia.diaSourceId, dia.mag,\n",
    "    dia.magErr, dia.band, dia.midPointMjdTai,\n",
    "    sss.phaseAngle, sss.topocentricDist, sss.heliocentricDist\n",
    "FROM\n",
    "    dp03_catalogs_10yr.DiaSource as dia\n",
    "INNER JOIN\n",
    "    dp03_catalogs_10yr.SSSource as sss\n",
    "ON\n",
    "    dia.diaSourceId = sss.diaSourceId\n",
    "WHERE\n",
    "    dia.ssObjectId\n",
    "    IN {}\n",
    "ORDER by dia.ssObjectId\n",
    "\"\"\".format(tuple(df_uniqueObj['ssObjectId']))\n",
    "\n",
    "df_indivObs = service.search(query).to_table()\n",
    "df_indivObs"
   ]
  },
  {
   "cell_type": "markdown",
   "id": "e366f714-8078-40a5-9eee-65639fa293ca",
   "metadata": {},
   "source": [
    "As a sanity check, here we confirm that the number of unique objects in df_indivObs is identical to that of df_uniqueObj, as they should be."
   ]
  },
  {
   "cell_type": "code",
   "execution_count": null,
   "id": "077c9400-f3fe-422d-bb2b-7ad0f2587e3d",
   "metadata": {
    "tags": []
   },
   "outputs": [],
   "source": [
    "assert len(df_uniqueObj) == len(np.unique(df_indivObs['ssObjectId']))"
   ]
  },
  {
   "cell_type": "markdown",
   "id": "f57f57e2-a386-46af-a527-73d397658b72",
   "metadata": {},
   "source": [
    "### 2.4 Fitting phase curve per filter per unique object using three different fitting functions"
   ]
  },
  {
   "cell_type": "markdown",
   "id": "392ff14e-eca1-4677-8de8-4dae0e6811bc",
   "metadata": {},
   "source": [
    "To plot the phase curve, we firs tmust compute the reduced magnitude H(alpha) for each observation, and add it as a column to the `df_indivObs` table we produced of individual observations. The educed magnitude H(a) as mentioned in Section 1.2 is the normalized apparent magnitude of an asteroid to make as if it is observed at 1 AU from both the Sun and the Earth as a function of phase angle a, once accounting for the relative distances between the asteroid, and both sun and earth (thdist)."
   ]
  },
  {
   "cell_type": "code",
   "execution_count": null,
   "id": "3a387ad4-6057-4631-84fc-da9f99559b26",
   "metadata": {
    "tags": []
   },
   "outputs": [],
   "source": [
    "thdist = df_indivObs['topocentricDist']*df_indivObs['heliocentricDist']\n",
    "dmag = -5. * np.log10(thdist)\n",
    "reduced_mag = df_indivObs['mag'] + dmag\n",
    "\n",
    "df_indivObs.add_column(reduced_mag, name='reducedMag')"
   ]
  },
  {
   "cell_type": "markdown",
   "id": "98becb52-7bd3-44d8-9b06-f00b9a419467",
   "metadata": {},
   "source": [
    "In the cell below, we now fit the phase curve for one unique object in each LSST filter using the three different fitting functions, `HG_model`, `HG1G2_model` and `HG12_model`. This cell takes ~6 min for 269 unique objects with the medium container size (TBD UPDATE). The output x_fitted contains the parameters that are returned for each model fit (optionally uncomment to inspect)."
   ]
  },
  {
   "cell_type": "code",
   "execution_count": null,
   "id": "5771b7ed-a488-47b5-9c19-91beae25843a",
   "metadata": {
    "tags": []
   },
   "outputs": [],
   "source": [
    "fitted_array = []\n",
    "\n",
    "for iobj in df_uniqueObj['ssObjectId']:\n",
    "    idx = df_indivObs['ssObjectId'] == iobj\n",
    "    df_tmp = df_indivObs[idx]\n",
    "    filts_tmp = np.unique(df_tmp['band'])\n",
    "    for ifilt in filts_tmp:\n",
    "        idx_filt = df_tmp['band'] == ifilt\n",
    "        nobs_ifilt = len(df_tmp[idx_filt])\n",
    "    \n",
    "        # number of observations needs to be greater than the number of fit parameter, which is 3.\n",
    "        if nobs_ifilt > 3:\n",
    "            x_fitted = fitAllPhaseCurveModels(df_tmp['reducedMag'][idx_filt], \n",
    "                                  df_tmp['magErr'][idx_filt], \n",
    "                                  df_tmp['phaseAngle'][idx_filt]\n",
    "                                  )\n",
    "            fitted_array.append([iobj, ifilt, x_fitted])\n",
    "            \n",
    "results = pd.DataFrame(fitted_array)\n",
    "results.columns = ['ssObjectId', 'fname', 'fit_param']\n",
    "#print(x_fitted)"
   ]
  },
  {
   "cell_type": "markdown",
   "id": "a57c8214-2e6b-4355-af8d-284527705faa",
   "metadata": {},
   "source": [
    "Finally, we convert the fit parameter dictionary to individual columns in a pandas dataframe, to make it easy to read each parameter. "
   ]
  },
  {
   "cell_type": "code",
   "execution_count": null,
   "id": "fc5cbf77-0299-4063-86f1-533bc42fca60",
   "metadata": {
    "tags": []
   },
   "outputs": [],
   "source": [
    "results = results[['ssObjectId', 'fname']].join(pd.json_normalize(results.fit_param))"
   ]
  },
  {
   "cell_type": "markdown",
   "id": "b47093f8-45bf-4bf0-9d17-bdc06eeac679",
   "metadata": {},
   "source": [
    "Now, we will plot example phase curves in all available filters (in DP0.3) g,r,i,z for a single object referenced by its ssObjectId, which we call `sId`. (You can explore different objects by changing the iObj index to retrieve different sources). Below you will see that the reduced magnitude and phase curve of the source are offset from eachother in each filter, reflecting the variation in brightness of asteroids in different filters. Overall you see that the 3 different fitted models all describe the observations well for well-sampled phase curves in DP0.3."
   ]
  },
  {
   "cell_type": "code",
   "execution_count": null,
   "id": "3523f9a4-1773-4731-97c8-8d14c1487846",
   "metadata": {
    "tags": []
   },
   "outputs": [],
   "source": [
    "filts = ['g', 'r', 'i', 'z']\n",
    "iObj = 11 # you can pick any integer number between 0 and 268\n",
    "sId = df_uniqueObj['ssObjectId'][iObj]\n",
    "df_tmp = df_indivObs[df_indivObs['ssObjectId'] == sId]\n",
    "phases = np.linspace(0,90,100)\n",
    "\n",
    "for i,ifilt in enumerate(filts):\n",
    "    idx = df_tmp['band'] == ifilt\n",
    "    \n",
    "    # Plot observations\n",
    "    plt.errorbar(df_tmp['phaseAngle'][idx], df_tmp['reducedMag'][idx], \n",
    "                 yerr=df_tmp['magErr'][idx], fmt='.', color=colors[i], \n",
    "                 alpha=0.5, label=ifilt)\n",
    "\n",
    "    # Plot HG model\n",
    "    HG_mag = HG_model(np.deg2rad(phases),\n",
    "                     [results[(results.ssObjectId == sId) & (results.fname == ifilt)]['HG.H'].values,\n",
    "                      results[(results.ssObjectId == sId) & (results.fname == ifilt)]['HG.G'].values])\n",
    "    plt.plot(phases, HG_mag, color=colors[i], label ='HG 2-parameter model')\n",
    "    \n",
    "    #Plot HG12 model\n",
    "    HG12_mag = HG12_model(np.deg2rad(phases),\n",
    "                         [results[(results.ssObjectId == sId) & (results.fname == ifilt)]['HG12.H'].values,\n",
    "                          results[(results.ssObjectId == sId) & (results.fname == ifilt)]['HG12.G12'].values])\n",
    "    plt.plot(phases, HG12_mag, color=colors[i], linestyle='--',  label ='HG12 2-parameter model')\n",
    "    \n",
    "    # Plot HG1G2 model \n",
    "    HG1G2_mag = HG1G2_model(np.deg2rad(phases), \n",
    "                           [results[(results.ssObjectId == sId) & (results.fname == ifilt)]['HG1G2.H'].values,\n",
    "                            results[(results.ssObjectId == sId) & (results.fname == ifilt)]['HG1G2.G1'].values,\n",
    "                            results[(results.ssObjectId == sId) & (results.fname == ifilt)]['HG1G2.G2'].values])\n",
    "    plt.plot(phases, HG1G2_mag, color=colors[i], linestyle='dotted',  \n",
    "             label ='HG1G2 3-parameter model')\n",
    "    \n",
    "plt.xlim(df_tmp['phaseAngle'].min()-5, df_tmp['phaseAngle'].max()+5)\n",
    "plt.ylim(df_tmp['reducedMag'].max()+0.5, df_tmp['reducedMag'].min()-0.5)\n",
    "plt.xlabel('Phase Angle [deg]')\n",
    "plt.ylabel('Reduced magnitude [mag]')\n",
    "plt.legend(bbox_to_anchor=(1.05, 1.0), loc='upper left', ncol=2)\n",
    "plt.title('ssObjectId = %d' % sId)"
   ]
  },
  {
   "cell_type": "markdown",
   "id": "192f7650-8beb-4215-b4c5-a04e864f9887",
   "metadata": {},
   "source": [
    "# 3. Comparing to the automated phase curve data in the ssObject Table\n",
    "\n",
    "While modeling phase curves manually using these three fitting functions demonstrates the process, the `HG12_model` results (the parametrization that is more stable to limited observations across phase angles) will automatically be tabulated as a data product during the course of the survey in the ssObject table. Thus in this section we will compare the manually derived parameters from the last section with those produced in LSST data products.\n"
   ]
  },
  {
   "cell_type": "markdown",
   "id": "d90bfc05-7f77-49a8-8db8-3bb1d1186471",
   "metadata": {},
   "source": [
    "### 3.1 Explore phase curve fit uncertainty\n",
    "\n",
    "For the same unique object we studied in Section 2.4, we focus on the g- and z-filters to demonstrate fit uncertainty between two filters that produce different reduced magnitude quality for the astroids (mostly due to difference in brightness and therefore flux uncertainties between the filters). First, we retrieve the phase curve parameters for the `HG12_model` stored in SSObject Table, which we will call `HG12_mag_sso`. In priciple, these parameters should be identical to those derived for the HG12 model above in this notebook since they were modeled using the same functional form, and this plot shows that is the case.\n",
    "\n",
    "Further, the second plot shows the uncertainty in the model parameters represented by the shaded regions. Choosing fainter or less well-sampled SSObjects increases the error region.\n"
   ]
  },
  {
   "cell_type": "code",
   "execution_count": null,
   "id": "2b072f76-a90b-4a75-89ff-65cc00c8c1cf",
   "metadata": {
    "tags": []
   },
   "outputs": [],
   "source": [
    "for ifilt in ['g', 'z']:\n",
    "    idx = df_tmp['band'] == ifilt\n",
    "    plt.errorbar(df_tmp['phaseAngle'][idx], df_tmp['reducedMag'][idx],\n",
    "                 yerr=df_tmp['magErr'][idx], fmt='o', label=ifilt, zorder=10)\n",
    "\n",
    "    HG12_mag_sso = HG12_model(np.deg2rad(phases), [df_uniqueObj[ifilt+'_H'][iObj],\n",
    "                                                   df_uniqueObj[ifilt+'_G12'][iObj]])\n",
    "    plt.plot(phases, HG12_mag_sso, 'k--', alpha=0.3)\n",
    "\n",
    "    # Compute min/max values in reduced mag at each phase angle\n",
    "    p1 = HG12_model(np.deg2rad(phases),\n",
    "                    [df_uniqueObj[ifilt+'_H'][iObj] + df_uniqueObj[ifilt+'_Herr'][iObj],\n",
    "                     df_uniqueObj[ifilt+'_G12'][iObj] + df_uniqueObj[ifilt+'_G12err'][iObj]])\n",
    "\n",
    "    p2 = HG12_model(np.deg2rad(phases),\n",
    "                    [df_uniqueObj[ifilt+'_H'][iObj] - df_uniqueObj[ifilt+'_Herr'][iObj],\n",
    "                     df_uniqueObj[ifilt+'_G12'][iObj] + df_uniqueObj[ifilt+'_G12err'][iObj]])\n",
    "\n",
    "    p3 = HG12_model(np.deg2rad(phases),\n",
    "                    [df_uniqueObj[ifilt+'_H'][iObj] + df_uniqueObj[ifilt+'_Herr'][iObj],\n",
    "                     df_uniqueObj[ifilt+'_G12'][iObj] - df_uniqueObj[ifilt+'_G12err'][iObj]])\n",
    "\n",
    "    p4 = HG12_model(np.deg2rad(phases),\n",
    "                    [df_uniqueObj[ifilt+'_H'][iObj] - df_uniqueObj[ifilt+'_Herr'][iObj],\n",
    "                     df_uniqueObj[ifilt+'_G12'][iObj] - df_uniqueObj[ifilt+'_G12err'][iObj]])\n",
    "\n",
    "    HG_magHigh = np.maximum(np.maximum(p1, p2), np.maximum(p3, p4))\n",
    "    HG_magLow = np.minimum(np.minimum(p1, p2), np.minimum(p3, p4))\n",
    "\n",
    "    plt.fill_between(phases, HG_magLow, HG_magHigh, alpha=0.3)\n",
    "\n",
    "plt.xlim(df_tmp['phaseAngle'].min()-5, df_tmp['phaseAngle'].max()+5)\n",
    "plt.ylim(df_tmp['reducedMag'].max()+0.5, df_tmp['reducedMag'].min()-0.5)\n",
    "plt.xlabel('Phase Angle [deg]')\n",
    "plt.ylabel('Reduced magnitude [mag]')\n",
    "plt.legend(bbox_to_anchor=(1.05, 1.0), loc='upper left')\n",
    "plt.title('ssObjectId = %d' % sId)"
   ]
  },
  {
   "cell_type": "markdown",
   "id": "d32197ca-5b82-45f8-ab84-0108d5eab863",
   "metadata": {},
   "source": [
    "In the below figure, we take the manually-derived G12 parameter from the phase curves for each of our unique selected solar system objects to that generated automatically in the DP0.3 catalog. Here you can see that overall the manual measurement recovers the DP0.3 value and uncertainty, demonstrating that this model was used to produce the DP0.3 fits."
   ]
  },
  {
   "cell_type": "code",
   "execution_count": null,
   "id": "cdf0c5f8-4dbc-4e26-8181-196d7443fa3a",
   "metadata": {
    "tags": []
   },
   "outputs": [],
   "source": [
    "fig = plt.figure(figsize=(10,7))\n",
    "gs = fig.add_gridspec(2, 2, wspace=0, hspace=0)\n",
    "axs = gs.subplots(sharex=True, sharey=True)\n",
    "axs = axs.ravel()\n",
    "\n",
    "one2one = np.arange(0.01,1,.01)\n",
    "filts = ['g', 'r', 'i', 'z']\n",
    "for i,ifilt in enumerate(filts):\n",
    "    # This is bad, because mpcG always = 0.15 but there's some scatter in the fitting that means\n",
    "    # that the fitted G averages 0.17 and has a distribution +/- 0.05 or so\n",
    "    #axs[i].errorbar(results[results.fname==ifilt]['HG.G'], df_uniqueObj['mpcG'],\n",
    "    #                xerr=results[results.fname==ifilt]['HG.G_err'],\n",
    "    #                fmt='.', alpha=0.5, label='G HG model')\n",
    "\n",
    "    # This demonstrates that the model we use with G12 matches what the ssObject table measures\n",
    "    axs[i].errorbar(results[results.fname==ifilt]['HG12.G12'], df_uniqueObj[ifilt+'_G12'],\n",
    "                    xerr=results[results.fname==ifilt]['HG12.G12_err'],\n",
    "                    yerr=df_uniqueObj[ifilt+'_G12err'], fmt='.', alpha=0.5, label='G12 HG12 model')\n",
    "\n",
    "    #axs[i].errorbar(df_uniqueObj['mpcH'], df_uniqueObj[ifilt+'_H'],\n",
    "    #                 yerr=df_uniqueObj[ifilt+'_Herr'], fmt='.', alpha=0.5, label='MPC')\n",
    "\n",
    "    axs[i].plot(one2one,one2one,'--')\n",
    "#     axs[i].errorbar(results[results.fname==ifilt]['HG.H'],\n",
    "#                     results[results.fname==ifilt]['HG.G'], \n",
    "#                     xerr=results[results.fname==ifilt]['HG.H_err'],\n",
    "#                     yerr=results[results.fname==ifilt]['HG.G_err'],\n",
    "#                     fmt='.', alpha=0.5, label='HG model')\n",
    "    axs[i].text(1, 1.3, ifilt+'-band')\n",
    "\n",
    "fig.supxlabel('Slope parameter G [HG12_model]')\n",
    "fig.supylabel('Slope parameter G [ssObject Table]')\n",
    "axs[0].legend(loc=2)\n",
    "#print(results[results.fname==ifilt]['HG.G'])\n",
    "#plt.show()\n",
    "#plt.hist(results[results.fname==ifilt]['HG.G'],bins=20)"
   ]
  },
  {
   "cell_type": "markdown",
   "id": "df408bac-a77a-4997-b946-b8f12bda924c",
   "metadata": {},
   "source": [
    "## 4. Population study of measurements of the SS objects DP0.3 tables \n",
    "\n",
    "Now that we have demonstrated how to fit a phase curve to DP0.3 data, experimented with 3 different models, and compared those to the automated fits that are stored in the SSObject Table, we look at the population in aggregate to see how e.g., how the fit values differ due to number of observations, or for near/far or bright/faint objects.\n",
    "\n"
   ]
  },
  {
   "cell_type": "markdown",
   "id": "b75ee539-b0a8-4290-a59c-e5452d138600",
   "metadata": {},
   "source": [
    "Here we compare the typical apparent magnitude uncertainties per band to see how that impacts the fit. To do this, we compute the median apparent magnitude (i.e. as observed) and its median uncertainty in the r-filter in this example. This allows us to plot phase curve parameters vs. median apparent magnitude and its median uncertainty to see how these observational characteristics impact the resulting modeling. One can see in the plot that as objects get fainter and the median apparent magnitude uncertainty increases, so does the uncertainty in the fitted parameters of the phase curve. \n",
    "\n",
    "TBD: why do there appear to be two discrete uncertainty distributions (curves) for each parameter, rather than 1 smooth distribution?"
   ]
  },
  {
   "cell_type": "code",
   "execution_count": null,
   "id": "eae70ca2-c3fa-4ae7-9020-aaaab89aab83",
   "metadata": {
    "tags": []
   },
   "outputs": [],
   "source": [
    "mag_med = []\n",
    "magSigma_med = []\n",
    "ifilt = 'r'\n",
    "    \n",
    "for iobj in df_uniqueObj['ssObjectId']:\n",
    "    idx = df_indivObs['ssObjectId'] == iobj\n",
    "    df_tmp = df_indivObs[idx]\n",
    "    idx_filt = df_tmp['band'] == ifilt\n",
    "    \n",
    "    mag_med.append(np.median(df_tmp['mag'][idx_filt]))\n",
    "    magSigma_med.append(np.median(df_tmp['magErr'][idx_filt]))\n",
    "\n",
    "plt.figure(figsize=(13,5))\n",
    "\n",
    "plt.subplot(121)\n",
    "plt.plot(mag_med, df_uniqueObj[ifilt+'_Herr'], '.', alpha=.5, label=ifilt+'-band abs mag H')\n",
    "plt.plot(mag_med, df_uniqueObj[ifilt+'_G12err'], '.', alpha=.5, label=ifilt+'-band G parameter')\n",
    "plt.ylabel('Uncertainty in phase curve fit')\n",
    "plt.xlabel('Median apparent mag')\n",
    "plt.legend()\n",
    "\n",
    "plt.subplot(122)\n",
    "plt.plot(magSigma_med, df_uniqueObj[ifilt+'_Herr'],'.',alpha=.5)\n",
    "plt.plot(magSigma_med, df_uniqueObj[ifilt+'_G12err'],'.',alpha=.5)\n",
    "plt.ylabel('Uncertainty in phase curve fit')\n",
    "plt.xlabel('Median uncertainty in apparent mag')\n",
    "\n",
    "plt.tight_layout()"
   ]
  },
  {
   "cell_type": "code",
   "execution_count": null,
   "id": "074e08d9-ef5a-4658-993e-f5306a653aa7",
   "metadata": {
    "tags": []
   },
   "outputs": [],
   "source": [
    "#del df_uniqueObj, df_indivObs, results"
   ]
  },
  {
   "cell_type": "markdown",
   "id": "0cbfd46d-b407-451e-9b90-1752656dce52",
   "metadata": {},
   "source": [
    "Remember, however, in our first query in Section 2, we specifically selected solar system objects with excellent observations. So to fully explore the quality of the parameters for sources in DP0.3, we should first re-query for a table of columns for unique objects with number of observations and arc over larger dynamic range than before, and add some extra criteria of use in assessing uncertainty. \n",
    "\n",
    "To obtain a random distribution to work with without an overwhelming number of objects, we select 50,000 objects that meet our larger dynamic range criteria."
   ]
  },
  {
   "cell_type": "code",
   "execution_count": null,
   "id": "d9ab0a46-f65a-4cde-a665-4231fa65d291",
   "metadata": {
    "tags": []
   },
   "outputs": [],
   "source": [
    "nobs_thrh = 50 \n",
    "arc_thrh = 100\n",
    "\n",
    "query = \"\"\"\n",
    "SELECT TOP 50000\n",
    "    mpc.ssObjectId, mpc.q, sso.arc, sso.numObs, \n",
    "    sso.g_H, sso.g_Herr, sso.g_G12, sso.g_G12err, \n",
    "    sso.r_H, sso.r_Herr, sso.r_G12, sso.r_G12err, \n",
    "    sso.i_H, sso.i_Herr, sso.i_G12, sso.i_G12err, \n",
    "    sso.z_H, sso.z_Herr, sso.z_G12, sso.z_G12err, \n",
    "    sso.g_Ndata, sso.r_Ndata, \n",
    "    sso.i_Ndata, sso.z_Ndata\n",
    "FROM \n",
    "    dp03_catalogs_10yr.MPCORB as mpc \n",
    "INNER JOIN dp03_catalogs_10yr.SSObject as sso \n",
    "ON mpc.ssObjectId = sso.ssObjectId \n",
    "WHERE sso.numObs > {} AND sso.arc > {} \n",
    "\"\"\".format(nobs_thrh, arc_thrh)\n",
    "\n",
    "res = service.search(query).to_table().to_pandas()\n",
    "res"
   ]
  },
  {
   "cell_type": "markdown",
   "id": "ad575a82-b5e2-421f-ab22-f104a30f53e9",
   "metadata": {},
   "source": [
    "### 4.1 Distribution of H and G12 parameters in observed filters\n",
    "\n",
    "First, lets explore the distribution of typical values of the G12 slope parameter as a function of absolute magnitudes across this larger dynamic range of objects. Remember that  the fixed G slope parameter of 0.15 from the input (truth) `HG_model` that was used to generate the DP0.3 simulated object's observed properties was constant. DP0.3 automated phase curve modeling overall produces a nearly constant value for G12 with a relatively small spread at bright magnitudes (i.e. the measured output of G is relatively constant across the population) and the scatter in measured G starts to deviate more substantially at fainter magnitudes where its likely harder to recover the intrinsic value.\n",
    "\n",
    "TBD: why do we expect the G12 to be constant?"
   ]
  },
  {
   "cell_type": "code",
   "execution_count": null,
   "id": "62d0dc79-c46b-459d-ab27-d0ce6470ef4a",
   "metadata": {
    "tags": []
   },
   "outputs": [],
   "source": [
    "fig = plt.figure(figsize=(13,8))\n",
    "gs = fig.add_gridspec(2, 2, wspace=0, hspace=0)\n",
    "axs = gs.subplots(sharex=True, sharey=True)\n",
    "axs = axs.ravel()\n",
    "\n",
    "for i,ifilt in enumerate(filts):\n",
    "    sns.histplot(x=res[ifilt+'_H'], y=res[ifilt+'_G12'], bins=100, log_scale=(False, True), ax=axs[i])\n",
    "    axs[i].text(20, 30, ifilt+'-band')\n",
    "    axs[i].set(xlabel=None)\n",
    "    axs[i].set(ylabel=None)\n",
    "\n",
    "plt.xlim(10,30)\n",
    "plt.ylim(1e-3,1e3)\n",
    "\n",
    "fig.supxlabel('Absolute magnitude, H [mag]')\n",
    "fig.supylabel('Slope parameter, G12')"
   ]
  },
  {
   "cell_type": "markdown",
   "id": "c071e963-ebb9-45f0-bdde-6c43269dc6b2",
   "metadata": {},
   "source": [
    "### 4.2 How model quality depends on total number and time baseline of LSST observations\n",
    "\n",
    "Second, we have a look at how phase curve modeling accuracy might depend on \"global\" measurements (across all filters). For this section we compare total number of observations for a given source (numObs) and the total time baseline across which observations are made (arc of LSST observations) and explore whether or not these factors impact the quality of phase curve modeling. In general, the first plot shows that more observations yields lower uncertainties in the model fits. I have to admit I don't totally understand the right-hand plots comparing uncertainties as a function of time baseline of observations (arc). I am guessing that longer arc does not translate directly to lower uncertainties, since most(?) of the objects in the catalog are distant (fewer sources close to sun?). Should we plot vs q instead? Since distant objects can have quite long orbits, perhaps the requisite arc for a good fit varies substantially within the population? Maybe this plot would yield better results if the comparison is made after the sample is grouped by heliocentric distance or something."
   ]
  },
  {
   "cell_type": "code",
   "execution_count": null,
   "id": "1f572d01-6e33-4107-b125-0134ba141500",
   "metadata": {
    "tags": []
   },
   "outputs": [],
   "source": [
    "fig = plt.figure(figsize=(10,10))\n",
    "gs = fig.add_gridspec(2, 2, wspace=0)\n",
    "axs = gs.subplots(sharey=True)\n",
    "\n",
    "# Uncertainty in i-band absolute magnitude vs. Number of LSST observations\n",
    "sns.histplot(x=res['numObs'], y=res['i_Herr'], bins=100, log_scale=(True, True), ax=axs[0,0])\n",
    "axs[0,0].set_xlabel('Number of LSST observations')\n",
    "\n",
    "# Uncertainty in i-band absolute magnitude vs. length of arc\n",
    "sns.histplot(x=res['q'], y=res['i_Herr'], bins=100, ax=axs[0,1])\n",
    "axs[0,1].set_xlabel('Arc [days]')\n",
    "\n",
    "# Uncertainty in i-band slope parameter vs. Number of LSST observations\n",
    "sns.histplot(x=res['numObs'], y=res['i_G12err'], bins=100, ax=axs[1,0])\n",
    "axs[1,0].set_xlabel('Number of LSST observations')\n",
    "\n",
    "# Uncertainty in i-band slope parameter vs. length of arc\n",
    "sns.histplot(x=res['q'], y=res['i_G12err'], bins=100, ax=axs[1,1])\n",
    "axs[1,1].set_xlabel('Arc [days]')"
   ]
  },
  {
   "cell_type": "markdown",
   "id": "72e8f22e-96f1-4061-be95-b580eb3cd33e",
   "metadata": {},
   "source": [
    "### 4.3 Number of data used per band\n",
    "\n",
    "The above plots compare numObs (total) with model fits (per band) which may not be the ideal metric since as one can see from the modeling of individual objects in different filters in Section 2.4, the quality of phase curves can vary quite a bit between filters. Instead, we can look at the number of datapoints included in the phase curve modeling on a per filter basis (i.e. rNdata for the r-band in the SSObject Table). Below, we look at the distribution of the number of observations in each filter used to model the phase curve per filter for all SSObjects which in total have more than 100 numObs and arc (as per query above). One can see that generally, r and i bands produce the most data points for recovering phase curves, while u-band produces the fewest. In the second plot, one can see that the "
   ]
  },
  {
   "cell_type": "code",
   "execution_count": null,
   "id": "a37e63c9-6d7a-47d7-afe1-8f20aad2794a",
   "metadata": {
    "tags": []
   },
   "outputs": [],
   "source": [
    "fig, axs = plt.subplots(1, 2, figsize=(13,4))\n",
    "\n",
    "filters = ['g','r','i','z']\n",
    "for i,ifilt in enumerate(filters):\n",
    "    axs[0].hist(res[ifilt+'_Ndata'], bins=100, range=(0,1300), histtype='step', label=ifilt+'-band')\n",
    "    \n",
    "axs[0].set_yscale('log')\n",
    "axs[0].legend()\n",
    "axs[0].set_xlabel('Number of data points per filter')\n",
    "axs[0].set_ylabel('Number of sources')\n",
    "\n",
    "\n",
    "sns.histplot(x=res['r_Ndata'], y=100*res['r_Herr']/res['r_H'], \n",
    "             bins=100, log_scale=(False, True), color='r', alpha=0.7, ax=axs[1])\n",
    "sns.histplot(x=res['i_Ndata'], y=100*res['i_Herr']/res['i_H'], \n",
    "             bins=100, log_scale=(False, True), color='b', ax=axs[1])\n",
    "    \n",
    "axs[1].set_xlabel('Number of data points per filter')\n",
    "axs[1].set_ylabel('Fractional Uncertainty in H [%]')\n",
    "r_patch = mpatches.Patch(color='red', alpha=0.7, label='r-band')\n",
    "u_patch = mpatches.Patch(color='blue', label='i-band')\n",
    "axs[1].legend(handles=[r_patch, u_patch])"
   ]
  },
  {
   "cell_type": "code",
   "execution_count": null,
   "id": "668ec619-dfc4-45a1-b240-1ab613e46f1f",
   "metadata": {},
   "outputs": [],
   "source": []
  }
 ],
 "metadata": {
  "kernelspec": {
   "display_name": "LSST",
   "language": "python",
   "name": "lsst"
  },
  "language_info": {
   "codemirror_mode": {
    "name": "ipython",
    "version": 3
   },
   "file_extension": ".py",
   "mimetype": "text/x-python",
   "name": "python",
   "nbconvert_exporter": "python",
   "pygments_lexer": "ipython3",
   "version": "3.10.10"
  },
  "toc-autonumbering": false
 },
 "nbformat": 4,
 "nbformat_minor": 5
}
