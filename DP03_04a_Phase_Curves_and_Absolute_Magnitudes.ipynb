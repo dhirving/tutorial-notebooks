{
 "cells": [
  {
   "cell_type": "markdown",
   "id": "749b0ddf",
   "metadata": {},
   "source": [
    "<img align=\"left\" src = https://project.lsst.org/sites/default/files/Rubin-O-Logo_0.png width=250 style=\"padding: 10px\"> \n",
    "<br>\n",
    "<b>Phase Curve of Solar System Objects</b> <br>\n",
    "Contact authors: Christina Williams and Yumi Choi<br>\n",
    "Last verified to run: <i>2023-08-18</i> <br>\n",
    "LSST Science Piplines version: Weekly <i>2023_21</i> <br>\n",
    "Container Size: medium <br>\n",
    "Targeted learning level: beginner <br>"
   ]
  },
  {
   "cell_type": "markdown",
   "id": "9da1a210-d858-42fe-8591-570965b8be1a",
   "metadata": {},
   "source": [
    "**Description:** Investigate the phase curves for DP0.3 solar system objects and explore DP0.3-provided phase curve parameters. "
   ]
  },
  {
   "cell_type": "markdown",
   "id": "80a0baf5-51ad-40ec-8991-060a7b27c289",
   "metadata": {},
   "source": [
    "**Skills:** Use various TAP tables, including joining multiple tables. Plot and compare phase curves. Explore accuracy and precision of the phase curve parameters as a function of observation quality."
   ]
  },
  {
   "cell_type": "markdown",
   "id": "393da88f-7978-4920-aa4a-a9830df6eed9",
   "metadata": {},
   "source": [
    "**LSST Data Products:** TAP tables dp03_catalogs_10yr.SSObject, dp03_catalogs_10yr.MPCORB, dp03_catalogs_10yr.DiaSource, dp03_catalogs_10yr.SSSource"
   ]
  },
  {
   "cell_type": "markdown",
   "id": "5c67fab9-136a-4adc-bb42-142b91ab69dd",
   "metadata": {},
   "source": [
    "**Packages:** numpy, scipy, matplotlib, seaborn, lsst.rsp"
   ]
  },
  {
   "cell_type": "markdown",
   "id": "8f72b27f",
   "metadata": {},
   "source": [
    "**Credit:**\n",
    "Inspired by a jupyter notebook developed by Queen's University Belfast Planet Lab (including Brian Rogers, Niall McElroy, and Meg Schwamb). Standalone functions for phase curve computing were developed by Pedro Bernardinelli. References: <a href=\"https://ui.adsabs.harvard.edu/abs/2010Icar..209..542M/abstract\">Muinonen et al. (2010)</a> and <a href=\"http://astronotes.co.uk/blog/2018/05/28/determining-the-h-g-parameters-of-atlas-asteroid-phase-curves.html\">David Young's webpage.</a> Please consider acknowledging them if this notebook is used for the preparation of journal articles, software releases, or other notebooks."
   ]
  },
  {
   "cell_type": "markdown",
   "id": "a400d1bb-e1ec-4160-bd41-bc7ca953a97c",
   "metadata": {
    "execution": {
     "iopub.execute_input": "2023-07-27T17:55:39.523317Z",
     "iopub.status.busy": "2023-07-27T17:55:39.522902Z",
     "iopub.status.idle": "2023-07-27T17:55:40.035942Z",
     "shell.execute_reply": "2023-07-27T17:55:40.034503Z",
     "shell.execute_reply.started": "2023-07-27T17:55:39.523290Z"
    },
    "tags": []
   },
   "source": [
    "**Get Support:** Find DP0.3-related documentation and resources at <a href=\"https://dp0-3.lsst.io\">dp0-3.lsst.io</a>. Questions are welcome as new topics in the <a href=\"https://community.lsst.org/c/support/dp0\">Support - Data Preview 0 Category</a> of the Rubin Community Forum. Rubin staff will respond to all questions posted there."
   ]
  },
  {
   "cell_type": "code",
   "execution_count": null,
   "id": "16896376-9f5b-466f-a627-eb978e7f46e5",
   "metadata": {
    "tags": []
   },
   "outputs": [],
   "source": [
    "%load_ext pycodestyle_magic\n",
    "%flake8_on\n",
    "import logging\n",
    "logging.getLogger(\"flake8\").setLevel(logging.FATAL)"
   ]
  },
  {
   "cell_type": "markdown",
   "id": "cfc73be0",
   "metadata": {
    "tags": []
   },
   "source": [
    "## 1. Introduction\n",
    "\n",
    "This notebook explores the properties of solar system bodies in the DP0.3 dataset by using the science example of constructing and exploring their phase curves. \n",
    "\n",
    "The DP0.3 catalogs contain both real and simulated Solar System objects (including asteroids, near-Earth objects, Trojans, trans-Neptunian objects, comets). In the real survey, these objects will change position between each Rubin image. The DP0.3 catalogs simulate the measurements of object movements between images, and these can be used to estimate their intrinsic properties and orbital parameters. An important way to characterize intrinsic properties of a solar system object is by measuring its \"phase curve\", which is the object brightness as a function of its \"solar phase angle\" (the angle made between the line of sight from the object to the Sun, and the line of sight from the object to Earth; see diagram at <a href=\"http://astronotes.co.uk/blog/2018/05/28/determining-the-h-g-parameters-of-atlas-asteroid-phase-curves.html\">David Young's webpage.</a>)\n",
    "\n",
    "In order to reveal the intrinsic properties of the asteroid (such as its surface properties and albedo; and as a result help determine its class of solar system body) we first must turn apparent magnitudes as a function of time (what is measured by LSST data) into \"reduced magnitude\", which takes into account the relative distances between the asteroid and the Sun/Earth (heliocentric/topocentric distances) at each observation. Reduced magnitude is normalized such that it is the brightness of an asteroid as if it is observed at 1 astronomical unit (au) from both the Sun and the Earth. Note that rotation curves or complex geometry of solar system objects are not included in DP0.3 simulations. Thus, any changes over time in an object’s apparent magnitude are due only to changes in its distance and phase angle. Phase curves can be constructed for each filter.\n",
    "\n",
    "Modeling the phase curve (reduced magnitude $H(α)$ as a function of phase angle $α$) enables measurement of the absolute magnitude, $H$, defined as the brightness at 0 phase angle. The functional form can depend on the data quality and type of object targeted. In this tutorial, we will mention three functional forms that are relevant for understanding the DP0.3 data products. These are the `HG_model`, `HG1G2_model`, and `HG12_model`. The `HG_model` is the simplest model, and has the form:\n",
    "\n",
    "$$H(α)=H−2.5log_{10}[(1−G)Φ_1(α)+GΦ_2(α)],$$\n",
    "\n",
    "where $Φ_n$ are basis functions (which allow for one to model non-linearity in the data, but maintain linearity in the fitted parameters). $Φ_n$ are normalized to unity at α=0 deg. This model provides a best fit for the slope parameter $G$ (from which surface properties can then be derived) and the absolute magnitude $H$. $H$(α) is the reduced magnitude at a given phase angle α if measured at 1 au away from both Earth and from the Sun (i.e. unit topocentric and heliocentric distance). The `HG_model` $G$ and $H$ values are stored in the `dp03_catalogs_10yr.MPCORB` table. For further info on the `HG_model`, see [Bowell et al. 1989](https://ui.adsabs.harvard.edu/abs/1989aste.conf..524B/abstract). \n",
    "\n",
    "To better accommodate various observational effects (e.g., photometric quality, incomplete phase angle sampling) the more sophisticated `HG1G2_model` (a linear three-parameter function) and its nonlinear two-parameter version `HG12_model` were developed (see [Muinonen et al. 2010](https://ui.adsabs.harvard.edu/abs/2010Icar..209..542M/abstract)). The `HG1G2_model` has the form\n",
    "\n",
    "$$H(α)=H−2.5log_{10}[G_1Φ_1(α)+G_2Φ_2(α) + (1-G_1-G_2)Φ_3(α)],$$\n",
    "\n",
    "which now has three free parameters, $H$, $G_1$ and $G_2$. However, a third representation, the `HG12_model`, is generally very effective for deriving reliable values of absolute magnitude when the phase angle sampling is not optimal (e.g., poor phase angle coverage at a range of phase angle). Thus, the LSST data products will compute estimated parameters of the `HG12_model` and this will be the focus of this tutorial. The `HG12_model` expresses the $G_1$ and $G_2$ parameters as a piecewise linear function of a single parameter, $G_{12}$, \n",
    "\n",
    "for $G_{12}$ > 0.2\n",
    "$$G_1 = 0.9529\\times G_{12} + 0.02162$$\n",
    "$$G_2 = -0.6125\\times G_{12} + 0.5572$$\n",
    "for $G_{12}$ < 0.2\n",
    "$$G_1 = 0.7527\\times G_{12} + 0.06164$$\n",
    "$$G_2 = -0.9612\\times G_{12} + 0.6270$$\n",
    "\n",
    "In this notebook we will demonstrate how to plot the phase curve of solar system bodies using the DP0.3 simulated catalogs. In Section 2 we will plot and compare the phase curves for three different types of objects at different orbital radii from the Sun, and compare the data to the LSST pipeline measured phase curve parameters, H, and G12. In Section 3, we will aggregate the phase curve fits for a number of solar system bodies in DP0.3 and study how the quality of the fit depends on LSST observations (which additionally provides some insight into expectations for real LSST data)."
   ]
  },
  {
   "cell_type": "markdown",
   "id": "5bf722b4-8227-441f-9f3e-0f8140040fc1",
   "metadata": {
    "tags": []
   },
   "source": [
    "### 1.1 Package Imports\n",
    "\n",
    "The [matplotlib](https://matplotlib.org/) (and especially sublibrary `matplotlib.pyplot`), [numpy](http://www.numpy.org/), and [scipy](https://scipy.org/) libraries are widely used Python libraries for plotting and scientific computing, and model fitting.\n",
    "\n",
    "The `lsst.rsp` package provides access to the Table Access Protocol (TAP) service for queries to the DP0 catalogs.\n",
    "\n",
    "The [seaborn](https://seaborn.pydata.org/) package provides statistical data visualization with aesthetic and informative graphics.\n"
   ]
  },
  {
   "cell_type": "code",
   "execution_count": null,
   "id": "cddc1458",
   "metadata": {
    "tags": []
   },
   "outputs": [],
   "source": [
    "# general python packages\n",
    "import numpy as np\n",
    "from scipy.interpolate import CubicSpline\n",
    "import matplotlib.pyplot as plt\n",
    "import seaborn as sns\n",
    "\n",
    "# LSST package for TAP queries\n",
    "from lsst.rsp import get_tap_service"
   ]
  },
  {
   "cell_type": "markdown",
   "id": "c217adff-25ed-4fce-95e7-8aa04630f6cc",
   "metadata": {},
   "source": [
    "### 1.2 Define Functions and Parameters"
   ]
  },
  {
   "cell_type": "markdown",
   "id": "8a4a8b3b-91cf-4729-a707-99b7b11a5b8d",
   "metadata": {},
   "source": [
    "#### 1.2.1 Set up some plotting defaults:"
   ]
  },
  {
   "cell_type": "code",
   "execution_count": null,
   "id": "c780a382-5c5e-4f20-9ffd-7aa517c37146",
   "metadata": {
    "tags": []
   },
   "outputs": [],
   "source": [
    "plt.style.use('tableau-colorblind10')\n",
    "prop_cycle = plt.rcParams['axes.prop_cycle']\n",
    "colors = prop_cycle.by_key()['color']\n",
    "params = {'axes.labelsize': 15,\n",
    "          'font.size': 15,\n",
    "          'legend.fontsize': 12}\n",
    "plt.rcParams.update(params)"
   ]
  },
  {
   "cell_type": "markdown",
   "id": "ca7ae11c-5ee6-4b64-9ed3-7a0e2b9630a3",
   "metadata": {},
   "source": [
    "To supress NumPy RuntimeWarning"
   ]
  },
  {
   "cell_type": "code",
   "execution_count": null,
   "id": "cbc8769f-e313-46f3-970b-7596636b5342",
   "metadata": {
    "tags": []
   },
   "outputs": [],
   "source": [
    "np.seterr(all='ignore')"
   ]
  },
  {
   "cell_type": "markdown",
   "id": "12ab5a66-b37d-4a3b-b207-b95a68c7a7a7",
   "metadata": {},
   "source": [
    "#### 1.2.2 Define functions"
   ]
  },
  {
   "cell_type": "markdown",
   "id": "45f9baa6-8055-45b0-b386-eef618872ff9",
   "metadata": {
    "execution": {
     "iopub.execute_input": "2023-08-14T22:18:36.823252Z",
     "iopub.status.busy": "2023-08-14T22:18:36.822151Z",
     "iopub.status.idle": "2023-08-14T22:18:36.830853Z",
     "shell.execute_reply": "2023-08-14T22:18:36.829469Z",
     "shell.execute_reply.started": "2023-08-14T22:18:36.823212Z"
    },
    "tags": []
   },
   "source": [
    "Define a function to convert a given perihelion distance (`q`) and eccentricity (`e`) to an orbital semi-major axis (`a`). Their relationship is defined by q = a(1-e)."
   ]
  },
  {
   "cell_type": "code",
   "execution_count": null,
   "id": "a2a174fc-8a02-441a-b6f8-e89da81717ba",
   "metadata": {
    "tags": []
   },
   "outputs": [],
   "source": [
    "def calc_semimajor_axis(q, e):\n",
    "    \"\"\"\n",
    "    Given a perihelion distance and orbital eccentricity,\n",
    "    calculate the semi-major axis of the orbit.\n",
    "\n",
    "    Parameters\n",
    "    ----------\n",
    "    q: ndarray\n",
    "        Distance at perihelion, in au.\n",
    "    e: ndarray\n",
    "        Orbital eccentricity.\n",
    "\n",
    "    Returns\n",
    "    -------\n",
    "    a: ndarray\n",
    "        Semi-major axis of the orbit, in au.\n",
    "        q = a(1-e), so a = q/(1-e)\n",
    "    \"\"\"\n",
    "\n",
    "    return q / (1.0 - e)"
   ]
  },
  {
   "cell_type": "markdown",
   "id": "92f0179b-c825-4638-b53e-a2ba58c57b2d",
   "metadata": {},
   "source": [
    "The constants used to define the basis functions are pre-defined below with values taken from `sbpy` (https://sbpy.org). We will also initialize the basis functions $Φ_n$ as cubic splines for when we evaluate them later. "
   ]
  },
  {
   "cell_type": "code",
   "execution_count": null,
   "id": "4dd93174-a1a4-471a-9732-67e1b590b99c",
   "metadata": {
    "tags": []
   },
   "outputs": [],
   "source": [
    "alpha_12 = np.deg2rad([7.5, 30., 60, 90, 120, 150])\n",
    "\n",
    "phi_1_sp = [7.5e-1, 3.3486016e-1, 1.3410560e-1, 5.1104756e-2, 2.1465687e-2,\n",
    "            3.6396989e-3]\n",
    "phi_1_derivs = [-1.9098593, -9.1328612e-2]\n",
    "\n",
    "phi_2_sp = [9.25e-1, 6.2884169e-1, 3.1755495e-1, 1.2716367e-1, 2.2373903e-2,\n",
    "            1.6505689e-4]\n",
    "phi_2_derivs = [-5.7295780e-1, -8.6573138e-8]\n",
    "\n",
    "alpha_3 = np.deg2rad([0.0, 0.3, 1., 2., 4., 8., 12., 20., 30.])\n",
    "\n",
    "phi_3_sp = [1., 8.3381185e-1, 5.7735424e-1, 4.2144772e-1, 2.3174230e-1,\n",
    "            1.0348178e-1, 6.1733473e-2, 1.6107006e-2, 0.]\n",
    "phi_3_derivs = [-1.0630097, 0]\n",
    "\n",
    "phi_1 = CubicSpline(alpha_12, phi_1_sp,\n",
    "                    bc_type=((1, phi_1_derivs[0]), (1, phi_1_derivs[1])))\n",
    "phi_2 = CubicSpline(alpha_12, phi_2_sp,\n",
    "                    bc_type=((1, phi_2_derivs[0]), (1, phi_2_derivs[1])))\n",
    "phi_3 = CubicSpline(alpha_3, phi_3_sp,\n",
    "                    bc_type=((1, phi_3_derivs[0]), (1, phi_3_derivs[1])))"
   ]
  },
  {
   "cell_type": "markdown",
   "id": "02f3510d-e484-46e7-b7f9-5e96b803770d",
   "metadata": {},
   "source": [
    "Define a function to compute `HG1G2_model` phase curve for a given set of parameters. For this parametrization, the phase function becomes linear for $\\alpha$ < 7.5 degrees, so we include a mask such that the non-linear terms are not included there (see Table 3 of Muinonen et al, 2010).\n"
   ]
  },
  {
   "cell_type": "code",
   "execution_count": null,
   "id": "8b210c8b-7bc4-4fd9-8853-6719913d0500",
   "metadata": {
    "tags": []
   },
   "outputs": [],
   "source": [
    "def HG1G2_model(phase, params):\n",
    "    \"\"\"\n",
    "    Compute HG1G2 model phase curve for a given set\n",
    "    of parameters. This is a 3-parameter model, which works best\n",
    "    when sufficiently long phaseangle coverage is available.\n",
    "\n",
    "    Parameters\n",
    "    ----------\n",
    "    phase: ndarray\n",
    "        phase angle in radians\n",
    "    params: list\n",
    "        phase curve parameters\n",
    "\n",
    "    Returns\n",
    "    -------\n",
    "    computed reduced magnitude: ndarray\n",
    "    \"\"\"\n",
    "\n",
    "    phi_1_ev = phi_1(phase)\n",
    "    phi_2_ev = phi_2(phase)\n",
    "    phi_3_ev = phi_3(phase)\n",
    "\n",
    "    msk = phase < 7.5 * np.pi/180\n",
    "\n",
    "    phi_1_ev[msk] = 1-6 * phase[msk]/np.pi\n",
    "    phi_2_ev[msk] = 1-9 * phase[msk]/(5 * np.pi)\n",
    "\n",
    "    phi_3_ev[phase > np.pi/6] = 0\n",
    "\n",
    "    return params[0] - 2.5 * np.log10(params[1] * phi_1_ev\n",
    "                                      + params[2] * phi_2_ev\n",
    "                                      + (1-params[1]-params[2]) * phi_3_ev)"
   ]
  },
  {
   "cell_type": "markdown",
   "id": "5542a4d4-fa19-4ff4-b1e7-caccdad8083c",
   "metadata": {},
   "source": [
    "Define a function to compute `HG12_model` phase curve for a given set of parameters."
   ]
  },
  {
   "cell_type": "code",
   "execution_count": null,
   "id": "c70dce96-bc70-4a19-943b-c02dd1afd531",
   "metadata": {
    "tags": []
   },
   "outputs": [],
   "source": [
    "def HG12_model(phase, params):\n",
    "    \"\"\"\n",
    "    Compute HG12 model phase curve for a given set\n",
    "    of parameters. This is a 2-parameter, simplified version\n",
    "    of HG1G2 model, which is useful when phaseangle coverage is shorter.\n",
    "\n",
    "    Parameters\n",
    "    ----------\n",
    "    phase: ndarray\n",
    "        phase angle in radians\n",
    "    params: list\n",
    "        phase curve parameters\n",
    "\n",
    "    Returns\n",
    "    -------\n",
    "    computed reduced magnitude: ndarray\n",
    "    \"\"\"\n",
    "\n",
    "    if params[1] >= 0.2:\n",
    "        G1 = +0.9529*params[1] + 0.02162\n",
    "        G2 = -0.6125*params[1] + 0.5572\n",
    "    else:\n",
    "        G1 = +0.7527*params[1] + 0.06164\n",
    "        G2 = -0.9612*params[1] + 0.6270\n",
    "\n",
    "    return HG1G2_model(phase, [params[0], G1, G2])"
   ]
  },
  {
   "cell_type": "markdown",
   "id": "ec51ac0b",
   "metadata": {
    "tags": []
   },
   "source": [
    "## 2. Plot the phase curve of a DP0.3 main belt asteroid\n",
    "\n",
    "### 2.1 Create the Rubin TAP Service Client\n",
    "\n",
    "Get an instance of the TAP service, and assert that it exists."
   ]
  },
  {
   "cell_type": "code",
   "execution_count": null,
   "id": "81b8cd59-1ba3-4eaa-846f-6478ed0c3cf5",
   "metadata": {
    "tags": []
   },
   "outputs": [],
   "source": [
    "service = get_tap_service(\"ssotap\")\n",
    "assert service is not None"
   ]
  },
  {
   "cell_type": "markdown",
   "id": "bf968de5-ce59-41c9-88f0-83cd88bdc083",
   "metadata": {},
   "source": [
    "### 2.2 Querying the DP0.3 SSObject and MPCORB catalogs"
   ]
  },
  {
   "cell_type": "markdown",
   "id": "171e087c-b314-48f7-8f22-6013115f2cb9",
   "metadata": {},
   "source": [
    "To plot an object's phase curve, we will need its apparent magnitudes & uncertainties across a range of observation times. Additionally, we need the phase angles of the object at those observation times, topocentric ($d_t$) and heliocentric ($d_h$) distances.\n",
    "\n",
    "To define those mock observations of solar system objects, the DP0.3 model uses the `HG_model` form of the phase curve to predict the observed parameters (apparent magnitude) for each object. These \"truth\" values are defined in the MPCORB table as `mpcH` (intrinsic absolute magnitude in $V$ band) and `mpcG` (intrinsic slope). For the purposes of DP0.3, the intrinsic slope, `mpcG`, for all objects have a constant value of 0.15.\n",
    "\n",
    "In the SSObject table, the LSST data products contain the fitted phase curve parameters based on the mock observations using the `HG12_model` (i.e., the fitted absolute magnitude `H` and slope parameter `G12` based on mock observations in $griz$ bands). Note that the value of `G12` slope will differ from `G` owing to the difference in functional form (see Section 1.2). The explanation for the absence of $u$ and $y$ bands in DP0.3 catalogs can be found <a href=\"https://dp0-3.lsst.io/data-products-dp0-3/data-simulation-dp0-3.html\">here</a>.\n",
    "\n",
    "We limit our query and select sources with a large number of observations that likely have good phase curve fits (in the SSObject table, this is `numObs` > 500) and with perihelion distance of less than 50 au (in the MPCORB table, `q` < 50), and then further narrow down our sample to focus on Main Belt asteroids and Trans-Neptunian Obects (TNOs) for this tutorial.  \n",
    "\n",
    "We call the table returned by this query \"unique\" since it contains the IDs of unique solar system objects. Each object has multiple individual observations in each filter in LSST. "
   ]
  },
  {
   "cell_type": "code",
   "execution_count": null,
   "id": "f93c0de6-8730-4adc-a0ab-9b795d3dc4e7",
   "metadata": {
    "jp-MarkdownHeadingCollapsed": true,
    "tags": []
   },
   "outputs": [],
   "source": [
    "nobs_thrh = '500'\n",
    "q_thrh = '50'"
   ]
  },
  {
   "cell_type": "code",
   "execution_count": null,
   "id": "9841c6de-f012-41e7-aae7-23da5c77e4e6",
   "metadata": {
    "tags": []
   },
   "outputs": [],
   "source": [
    "query = \"\"\"\n",
    "SELECT\n",
    "    mpc.ssObjectId, mpc.e, mpc.q, mpc.mpcG, mpc.mpcH,\n",
    "    sso.arc, sso.numObs,\n",
    "    sso.g_H, sso.g_Herr, sso.g_G12, sso.g_G12err,\n",
    "    sso.g_H_gG12_Cov, sso.g_Ndata, sso.r_H, sso.r_Herr,\n",
    "    sso.r_G12, sso.r_G12err, sso.r_H_rG12_Cov, sso.r_Ndata,\n",
    "    sso.i_H, sso.i_Herr, sso.i_G12, sso.i_G12err, sso.i_H_iG12_Cov,\n",
    "    sso.i_Ndata, sso.z_H, sso.z_Herr, sso.z_G12, sso.z_G12err,\n",
    "    sso.z_H_zG12_Cov, sso.z_Ndata\n",
    "FROM\n",
    "    dp03_catalogs_10yr.MPCORB as mpc\n",
    "INNER JOIN dp03_catalogs_10yr.SSObject as sso\n",
    "ON mpc.ssObjectId = sso.ssObjectId\n",
    "WHERE sso.numObs > {} AND mpc.q < {} ORDER by sso.ssObjectId\n",
    "\"\"\".format(nobs_thrh, q_thrh)\n",
    "\n",
    "df_uniqueObj = service.search(query).to_table()\n",
    "df_uniqueObj"
   ]
  },
  {
   "cell_type": "markdown",
   "id": "23c0099e-4761-4140-8aa9-21205abae17a",
   "metadata": {},
   "source": [
    "### 2.3 Identify Main Belt asteroids, Jupiter Trojans, and TNOs"
   ]
  },
  {
   "cell_type": "markdown",
   "id": "ac8fd696-22ab-49f2-acd1-8e5cf8c53a8e",
   "metadata": {},
   "source": [
    "Following the previous DP0.3 tutorial notebook 02 on the Main Belt Asteroids and notebook 03 on Trans-Neptunian Objects (TNOs), in this Section we show an example of how to plot an observed phase curve for a few types of solar system bodies in the DP0.3 dataset. Then, we will plot the best-fit phase curve model (defined in Section 1.2) that is generated by the LSST pipeline and stored in the SSObject table. To identify our Main Belt sample, we first calculate the semi-major axis (`a`) of each object's orbit. We then select several classes of object, based on their semi-major axes: Main Belt asteroids (2.0 < `a` < 3.25 au); Jupiter Trojans (JT; 5 < `a` < 7 au), and finally Trans-Neptunian Objects (TNO) which are at `a` > 30 au. We further limit our sample to the asteroids with `numbObs` > 2000, to focus on objects with many individual observations to define its phase curve (for more information on empirical properties that influence phase curve fitting, see Section 3 and the followup tutorial notebook 04b).  "
   ]
  },
  {
   "cell_type": "code",
   "execution_count": null,
   "id": "17787417-b2ea-4361-888f-0525f8867f03",
   "metadata": {
    "tags": []
   },
   "outputs": [],
   "source": [
    "a = calc_semimajor_axis(df_uniqueObj['q'], df_uniqueObj['e'])\n",
    "\n",
    "main_belt = (a > 2.0) & (a < 3.25)\n",
    "good_main_belt = (df_uniqueObj['numObs'] > 2000) & main_belt\n",
    "\n",
    "JT = (a > 5) & (a < 6)\n",
    "good_JT = (df_uniqueObj['numObs'] > 2000) & JT\n",
    "\n",
    "TNO = (a > 30)\n",
    "good_TNO = (df_uniqueObj['numObs'] > 2000) & TNO\n",
    "\n",
    "print('There are %d good asteroids in this sample!' % len(a[good_main_belt]))\n",
    "print('There are %d good Jupiter Trojans in this sample!' % len(a[good_JT]))\n",
    "print('There are %d TNOs in this sample!' % len(a[good_TNO]))\n",
    "\n",
    "# combine together to use in the search query\n",
    "good_all = good_main_belt+good_JT+good_TNO"
   ]
  },
  {
   "cell_type": "markdown",
   "id": "87eec25f-6d14-47e5-b7f1-e0bdb7dcf774",
   "metadata": {},
   "source": [
    "First, lets visualize the orbital distances of our samples relative to eachother. This plot shows the distributions of the semi-major axis `a` for the all unique objects in our 3 samples."
   ]
  },
  {
   "cell_type": "code",
   "execution_count": null,
   "id": "47510b0c-5b4a-47de-8a6a-75998d39c161",
   "metadata": {
    "tags": []
   },
   "outputs": [],
   "source": [
    "h = plt.hist(a[good_main_belt], bins=25, range=(1, 7),\n",
    "             label='good Main Belt asteroids', alpha=.5)\n",
    "h = plt.hist(a[good_JT], bins=25, range=(1, 7),\n",
    "             label='good Jupiter Trojans', alpha=.5)\n",
    "h = plt.hist(a[good_TNO], bins=50, range=(1, 60), label='TNOs', alpha=.5)\n",
    "\n",
    "plt.xlabel('Semi-major axis [au]')\n",
    "plt.ylabel('Number')\n",
    "plt.yscale('log')\n",
    "plt.legend()"
   ]
  },
  {
   "cell_type": "markdown",
   "id": "977dd781-f675-4ed4-89ac-07cb6042515e",
   "metadata": {},
   "source": [
    "### 2.4 Identify individual mock observations of the solar system bodies in DP0.3 DiaSource and SSSource catalogs \n",
    "\n",
    "While there are unique solar system objects in the `SSObject` and `MPCORB` tables, these objects will be observed many times over the full LSST survey. Individual observations of each unique object in each filter are recorded in the `SSSource` and `diaSource` tables. Below, we query these tables to obtain all of the individual observed time series data (we call `df_indivObs`) for the good solar system bodies selected above. This query usually takes ~30 sec."
   ]
  },
  {
   "cell_type": "code",
   "execution_count": null,
   "id": "bb665e68-f274-4c50-9b82-4899b084c33a",
   "metadata": {
    "tags": []
   },
   "outputs": [],
   "source": [
    "query = \"\"\"\n",
    "SELECT\n",
    "    dia.ssObjectId, dia.diaSourceId, dia.mag,\n",
    "    dia.magErr, dia.band, dia.midPointMjdTai,\n",
    "    sss.phaseAngle, sss.topocentricDist, sss.heliocentricDist\n",
    "FROM\n",
    "    dp03_catalogs_10yr.DiaSource as dia\n",
    "INNER JOIN\n",
    "    dp03_catalogs_10yr.SSSource as sss\n",
    "ON\n",
    "    dia.diaSourceId = sss.diaSourceId\n",
    "WHERE\n",
    "    dia.ssObjectId\n",
    "    IN {}\n",
    "ORDER by dia.ssObjectId\n",
    "\"\"\".format(tuple(df_uniqueObj['ssObjectId'][good_all]))\n",
    "\n",
    "df_indivObs = service.search(query).to_table()\n",
    "df_indivObs"
   ]
  },
  {
   "cell_type": "markdown",
   "id": "e366f714-8078-40a5-9eee-65639fa293ca",
   "metadata": {},
   "source": [
    "As a sanity check, here we confirm that the number of unique objects in `df_indivObs` is identical to that of the \"good\" asteroids in `df_uniqueObj`, as they should be."
   ]
  },
  {
   "cell_type": "code",
   "execution_count": null,
   "id": "077c9400-f3fe-422d-bb2b-7ad0f2587e3d",
   "metadata": {
    "tags": []
   },
   "outputs": [],
   "source": [
    "assert len(df_uniqueObj[good_all]) == len(np.unique(df_indivObs['ssObjectId']))"
   ]
  },
  {
   "cell_type": "markdown",
   "id": "f57f57e2-a386-46af-a527-73d397658b72",
   "metadata": {},
   "source": [
    "### 2.5 Plot the phase curve for a unique Main Belt asteroid"
   ]
  },
  {
   "cell_type": "markdown",
   "id": "392ff14e-eca1-4677-8de8-4dae0e6811bc",
   "metadata": {
    "tags": []
   },
   "source": [
    "To plot the phase curve, we first must compute the reduced magnitude $H(\\alpha)$ for each observation in each filter ($griz$ for DP0.3), and add it as a column to the `df_indivObs` table we produced of individual observations. The reduced magnitude $H(\\alpha)$ as mentioned in Introduction is the normalized apparent magnitude of an asteroid as if it is observed at 1 au from both the Sun and the Earth as a function of phase angle $\\alpha$, once accounting for the relative distances between the asteroid, and both Sun and Earth:\n",
    "\n",
    "$$H(α) = m−5log_{10}(d_t\\times\\,d_h),$$\n",
    "\n",
    "where $m$ is the apparent magnitude, and $d_t$ and $d_h$ are the topocentric and heliocentric distances of the object at the time of each observation. \n",
    "\n",
    "Note that the phase curves of solar system objects vary by observed filter, due to a combination of reflectivity of the surface and the intrinsic solar spectrum. For reference, to define the intrinsic absolute magnitude in DP0.3, the wavelength used to input the intrinsic absolute magnitude is in the $V$ band. Thus, one should not expect the absolute magnitude from any one filter to line up with the \"truth\" absolute magnitude, since none of the LSST filters include $V$ band. The conversion between each of the LSST filters and $V$ are documented for solar system bodies, and can be found here: https://github.com/lsst/dp0-3_lsst_io/blob/main/data-products-dp0-3/data-simulation-dp0-3.rst. "
   ]
  },
  {
   "cell_type": "code",
   "execution_count": null,
   "id": "3a387ad4-6057-4631-84fc-da9f99559b26",
   "metadata": {
    "tags": []
   },
   "outputs": [],
   "source": [
    "thdist = df_indivObs['topocentricDist']*df_indivObs['heliocentricDist']\n",
    "reduced_mag = df_indivObs['mag'] - 5.0*np.log10(thdist)\n",
    "\n",
    "df_indivObs.add_column(reduced_mag, name='reducedMag')"
   ]
  },
  {
   "cell_type": "markdown",
   "id": "b47093f8-45bf-4bf0-9d17-bdc06eeac679",
   "metadata": {},
   "source": [
    "Now, we will plot example phase curves in all available filters (in DP0.3) $g$,$r$,$i$,$z$ for a single object referenced by its ssObjectId, which we call `sId`. (You can explore different objects by changing the `iObj` index to retrieve different sources). Below you will see that the reduced magnitude and phase curve of the source are offset from each other in each filter, reflecting the variation in brightness of asteroids in different filters. "
   ]
  },
  {
   "cell_type": "markdown",
   "id": "8f9a2b64-6b4e-499d-9733-a465b75b3601",
   "metadata": {},
   "source": [
    "You can pick an integer number between 0 and len(df_uniqueObj[good_main_belt])-1 for `iObj` below to explore other objects.\n",
    "\n",
    "We also use the function defined in Section 1 for `HG12_model` in order to visualize the LSST pipeline phase curve fitting (dashed line). This demonstrates how absolute magnitude `H` is determined in the LSST data products."
   ]
  },
  {
   "cell_type": "code",
   "execution_count": null,
   "id": "3523f9a4-1773-4731-97c8-8d14c1487846",
   "metadata": {
    "tags": []
   },
   "outputs": [],
   "source": [
    "iObj = 1\n",
    "sId = df_uniqueObj['ssObjectId'][good_main_belt][iObj]\n",
    "df_tmp = df_indivObs[df_indivObs['ssObjectId'] == sId]\n",
    "phases = np.linspace(0, 90, 100)\n",
    "filts = ['g', 'r', 'i', 'z']\n",
    "\n",
    "\n",
    "for i, ifilt in enumerate(filts):\n",
    "    idx = df_tmp['band'] == ifilt\n",
    "\n",
    "    # Plot observations\n",
    "    plt.errorbar(df_tmp['phaseAngle'][idx], df_tmp['reducedMag'][idx],\n",
    "                 yerr=df_tmp['magErr'][idx], fmt='.', color=colors[i],\n",
    "                 alpha=0.5, label='DP0.3 data in %s' % ifilt)\n",
    "\n",
    "    # Plot HG12 model\n",
    "    HG12_mag = HG12_model(np.deg2rad(phases),\n",
    "                          [df_uniqueObj[ifilt+'_H'][good_main_belt][iObj],\n",
    "                           df_uniqueObj[ifilt+'_G12'][good_main_belt][iObj]])\n",
    "    plt.plot(phases, HG12_mag, color=colors[i], linestyle='--',\n",
    "             label='HG12 2-parameter model in %s' % ifilt)\n",
    "\n",
    "\n",
    "plt.xlim(df_tmp['phaseAngle'].min()-5, df_tmp['phaseAngle'].max()+5)\n",
    "plt.ylim(df_tmp['reducedMag'].max()+0.5, df_tmp['reducedMag'].min()-0.5)\n",
    "plt.xlabel('Phase Angle [deg]')\n",
    "plt.ylabel('Reduced magnitude [mag]')\n",
    "plt.legend(bbox_to_anchor=(1.05, 1.0), loc='upper left', ncol=1)\n",
    "plt.title('Main Belt Asteroid')\n",
    "\n"
   ]
  },
  {
   "cell_type": "markdown",
   "id": "b97b3443-a858-4701-8a92-b97cad2e9fff",
   "metadata": {},
   "source": [
    "Below, we now compare the phase curve of the 3 populations we selected based on orbital semi-major axis earlier: the main belt asteroid again, with the more distant Jupiter Trojans and the TNOs. The same color scheme is used as the cell above. This cell must be executed after running the above cell first."
   ]
  },
  {
   "cell_type": "code",
   "execution_count": null,
   "id": "8e8e4ac2-fe43-4f04-a32d-42bc28a41a59",
   "metadata": {
    "tags": []
   },
   "outputs": [],
   "source": [
    "plt.figure(figsize=(13, 4))\n",
    "\n",
    "# Main Belt Asteroid\n",
    "plt.subplot(131)\n",
    "for i, ifilt in enumerate(filts):\n",
    "    idx = df_tmp['band'] == ifilt\n",
    "\n",
    "    # Plot observations\n",
    "    plt.errorbar(df_tmp['phaseAngle'][idx], df_tmp['reducedMag'][idx],\n",
    "                 yerr=df_tmp['magErr'][idx], fmt='.', color=colors[i],\n",
    "                 alpha=0.5, label='DP0.3 data in %s' % ifilt)\n",
    "\n",
    "    # Plot HG12 model\n",
    "    HG12_mag = HG12_model(np.deg2rad(phases),\n",
    "                          [df_uniqueObj[ifilt+'_H'][good_main_belt][iObj],\n",
    "                           df_uniqueObj[ifilt+'_G12'][good_main_belt][iObj]])\n",
    "    plt.plot(phases, HG12_mag, color=colors[i], linestyle='--',\n",
    "             label='HG12 2-parameter model in %s' % ifilt)\n",
    "\n",
    "\n",
    "plt.xlim(df_tmp['phaseAngle'].min()-5, df_tmp['phaseAngle'].max()+5)\n",
    "plt.ylim(df_tmp['reducedMag'].max()+0.5, df_tmp['reducedMag'].min()-0.5)\n",
    "plt.xlabel('Phase Angle [deg]')\n",
    "plt.ylabel('Reduced magnitude [mag]')\n",
    "plt.title('Main Belt Asteroid')\n",
    "\n",
    "# Jupiter Trojans\n",
    "plt.subplot(132)\n",
    "\n",
    "iObj = 2\n",
    "sId = df_uniqueObj['ssObjectId'][good_JT][iObj]\n",
    "df_tmp = df_indivObs[df_indivObs['ssObjectId'] == sId]\n",
    "\n",
    "for i, ifilt in enumerate(filts):\n",
    "    idx = df_tmp['band'] == ifilt\n",
    "\n",
    "    # Plot observations\n",
    "    plt.errorbar(df_tmp['phaseAngle'][idx], df_tmp['reducedMag'][idx],\n",
    "                 yerr=df_tmp['magErr'][idx], fmt='.', color=colors[i],\n",
    "                 alpha=0.5, label='DP0.3 data in %s' % ifilt)\n",
    "\n",
    "    # Plot HG12 model\n",
    "    HG12_mag = HG12_model(np.deg2rad(phases),\n",
    "                          [df_uniqueObj[ifilt+'_H'][good_JT][iObj],\n",
    "                           df_uniqueObj[ifilt+'_G12'][good_JT][iObj]])\n",
    "    plt.plot(phases, HG12_mag, color=colors[i], linestyle='--',\n",
    "             label='HG12 2-parameter model in %s' % ifilt)\n",
    "\n",
    "\n",
    "plt.xlim(df_tmp['phaseAngle'].min()-5, df_tmp['phaseAngle'].max()+5)\n",
    "plt.ylim(df_tmp['reducedMag'].max()+0.5, df_tmp['reducedMag'].min()-0.5)\n",
    "plt.xlabel('Phase Angle [deg]')\n",
    "plt.ylabel('Reduced magnitude [mag]')\n",
    "plt.title('Jupiter Trojans')\n",
    "\n",
    "# TNO\n",
    "plt.subplot(133)\n",
    "iObj = 3\n",
    "sId = df_uniqueObj['ssObjectId'][good_TNO][iObj]\n",
    "df_tmp = df_indivObs[df_indivObs['ssObjectId'] == sId]\n",
    "\n",
    "for i, ifilt in enumerate(filts):\n",
    "    idx = df_tmp['band'] == ifilt\n",
    "\n",
    "    # Plot observations\n",
    "    plt.errorbar(df_tmp['phaseAngle'][idx], df_tmp['reducedMag'][idx],\n",
    "                 yerr=df_tmp['magErr'][idx], fmt='.', color=colors[i],\n",
    "                 alpha=0.5)\n",
    "\n",
    "plt.xlim(df_tmp['phaseAngle'].min()-.5, df_tmp['phaseAngle'].max()+.5)\n",
    "plt.ylim(df_tmp['reducedMag'].max()+0.5, df_tmp['reducedMag'].min()-0.5)\n",
    "plt.xlabel('Phase Angle [deg]')\n",
    "plt.ylabel('Reduced magnitude [mag]')\n",
    "plt.title('TNO')\n",
    "\n",
    "plt.tight_layout()\n"
   ]
  },
  {
   "cell_type": "markdown",
   "id": "aca692be-f1b7-46b0-b261-3ae66491baf6",
   "metadata": {
    "execution": {
     "iopub.execute_input": "2023-08-17T21:29:13.791091Z",
     "iopub.status.busy": "2023-08-17T21:29:13.790122Z",
     "iopub.status.idle": "2023-08-17T21:29:14.157843Z",
     "shell.execute_reply": "2023-08-17T21:29:14.157116Z",
     "shell.execute_reply.started": "2023-08-17T21:29:13.791050Z"
    },
    "tags": []
   },
   "source": [
    "Notice that the the phase coverage of objects at different semi-major axes are dramatically different over the 10-years of LSST. The most distant (>30 au) TNO will cover at most ~0-3 degrees in phase, while asteroids in the main belt will typically achieve between 0-30 degrees in terms of phase coverage. None of the \"good\" TNOs that we selected (even with thousands of observations) have more than 5 degrees of phase coverage. The LSST pipeline will only attempt to fit phase curves to things with more than 5 degrees of phase coverage, so the SSObject table does not include `H`, `G12` parameters for TNOs. Thus, TNOs do not have any models over-plotted. In these cases, it could be useful to independently model the phase curve using user-defined functions (e.g. for TNOs, a linear fit can be sufficient). We will explore how to explicitly model phase curves in the follow-up notebook on this topic, 04b."
   ]
  },
  {
   "cell_type": "markdown",
   "id": "d90bfc05-7f77-49a8-8db8-3bb1d1186471",
   "metadata": {},
   "source": [
    "### 2.6 Explore phase curve fit uncertainty in each filter\n",
    "\n",
    "For one of the good main belt asteroids, we compare the $g$- and $z$-bands to demonstrate fit uncertainty between two filters that produce different reduced magnitude quality (mostly due to difference in brightness and therefore flux uncertainties between the filters). We compute the model phase curve for a given set of the best-fit phase curve parameters for the `HG12_model` stored in `SSObject` table, which we will call `HG12_mag_sso`. The plot shows the uncertainty in the model parameters represented by the shaded regions. Choosing fainter or less well-sampled SSObjects increases the error region.\n"
   ]
  },
  {
   "cell_type": "code",
   "execution_count": null,
   "id": "2b072f76-a90b-4a75-89ff-65cc00c8c1cf",
   "metadata": {
    "tags": []
   },
   "outputs": [],
   "source": [
    "iObj = 2\n",
    "sId = df_uniqueObj['ssObjectId'][good_main_belt][iObj]\n",
    "df_tmp = df_indivObs[df_indivObs['ssObjectId'] == sId]\n",
    "\n",
    "for ifilt in ['g', 'z']:\n",
    "    idx = df_tmp['band'] == ifilt\n",
    "    plt.errorbar(df_tmp['phaseAngle'][idx], df_tmp['reducedMag'][idx],\n",
    "                 yerr=df_tmp['magErr'][idx], fmt='o', label=ifilt, zorder=10)\n",
    "\n",
    "    HG12_mag_sso = HG12_model(np.deg2rad(phases),\n",
    "                              [df_uniqueObj[ifilt+'_H'][good_main_belt][iObj],\n",
    "                               df_uniqueObj[ifilt+'_G12'][good_main_belt][iObj]\n",
    "                               ])\n",
    "    plt.plot(phases, HG12_mag_sso, 'k--', alpha=0.3)\n",
    "\n",
    "    # Compute min/max values in reduced mag at each phase angle\n",
    "    p1 = HG12_model(np.deg2rad(phases),\n",
    "                    [df_uniqueObj[ifilt+'_H'][good_main_belt][iObj]\n",
    "                     + 3*df_uniqueObj[ifilt+'_Herr'][good_main_belt][iObj],\n",
    "                     df_uniqueObj[ifilt+'_G12'][good_main_belt][iObj]\n",
    "                     + 3*df_uniqueObj[ifilt+'_G12err'][good_main_belt][iObj]])\n",
    "\n",
    "    p2 = HG12_model(np.deg2rad(phases),\n",
    "                    [df_uniqueObj[ifilt+'_H'][good_main_belt][iObj]\n",
    "                     - 3*df_uniqueObj[ifilt+'_Herr'][good_main_belt][iObj],\n",
    "                     df_uniqueObj[ifilt+'_G12'][good_main_belt][iObj]\n",
    "                     + 3*df_uniqueObj[ifilt+'_G12err'][good_main_belt][iObj]])\n",
    "\n",
    "    p3 = HG12_model(np.deg2rad(phases),\n",
    "                    [df_uniqueObj[ifilt+'_H'][good_main_belt][iObj]\n",
    "                     + 3*df_uniqueObj[ifilt+'_Herr'][good_main_belt][iObj],\n",
    "                     df_uniqueObj[ifilt+'_G12'][good_main_belt][iObj]\n",
    "                     - 3*df_uniqueObj[ifilt+'_G12err'][good_main_belt][iObj]])\n",
    "\n",
    "    p4 = HG12_model(np.deg2rad(phases),\n",
    "                    [df_uniqueObj[ifilt+'_H'][good_main_belt][iObj]\n",
    "                     - 3*df_uniqueObj[ifilt+'_Herr'][good_main_belt][iObj],\n",
    "                     df_uniqueObj[ifilt+'_G12'][good_main_belt][iObj]\n",
    "                     - 3*df_uniqueObj[ifilt+'_G12err'][good_main_belt][iObj]])\n",
    "\n",
    "    HG_magHigh = np.maximum(np.maximum(p1, p2), np.maximum(p3, p4))\n",
    "    HG_magLow = np.minimum(np.minimum(p1, p2), np.minimum(p3, p4))\n",
    "\n",
    "    plt.fill_between(phases, HG_magLow, HG_magHigh, alpha=0.3)\n",
    "\n",
    "plt.xlim(df_tmp['phaseAngle'].min()-5, df_tmp['phaseAngle'].max()+5)\n",
    "plt.ylim(df_tmp['reducedMag'].max()+0.5, df_tmp['reducedMag'].min()-0.5)\n",
    "plt.xlabel('Phase Angle [deg]')\n",
    "plt.ylabel('Reduced magnitude [mag]')\n",
    "plt.legend(bbox_to_anchor=(1.05, 1.0), loc='upper left')\n",
    "plt.title('ssObjectId = %d' % sId)"
   ]
  },
  {
   "cell_type": "markdown",
   "id": "772e11d9-c007-41e5-86f3-5ee1052b18fb",
   "metadata": {},
   "source": [
    "# 3. Exploring phase-curve data products from the DP0.3 SSObject and MPCORB catalogs \n"
   ]
  },
  {
   "cell_type": "markdown",
   "id": "40c839dd-80a3-4c7e-8255-ddeb01a92fba",
   "metadata": {},
   "source": [
    "### 3.1 Distribution of H and G12 parameters in observed filters\n",
    "\n",
    "First, we explore the distribution of typical values of the `G12` slope parameter as a function of absolute magnitudes. Remember that the input (truth) `G` value using the `HG_model` that was used to generate the DP0.3 simulated object's observed properties was fixed across the population to a constant value of G=0.15. The DP0.3 automated phase curve fitting (which uses `HG12_model`) produces a nearly constant value for `G12` with a relatively small spread at bright magnitudes, and the scatter in measured `G12` starts to deviate more substantially at fainter magnitudes where its likely harder to recover the intrinsic value."
   ]
  },
  {
   "cell_type": "code",
   "execution_count": null,
   "id": "04ceaa25-e7a4-4e7d-a2bd-3750bf188d05",
   "metadata": {
    "tags": []
   },
   "outputs": [],
   "source": [
    "fig = plt.figure(figsize=(10, 8))\n",
    "gs = fig.add_gridspec(2, 2, wspace=0.1, hspace=0.2)\n",
    "axs = gs.subplots(sharex=True, sharey=True)\n",
    "axs = axs.ravel()\n",
    "\n",
    "\n",
    "for i, ifilt in enumerate(filts):\n",
    "    sns.histplot(x=df_uniqueObj[ifilt+'_H'], y=df_uniqueObj[ifilt+'_G12'],\n",
    "                 bins=100, log_scale=(False, True), ax=axs[i])\n",
    "    axs[i].text(10, 5, ifilt+'-band')\n",
    "    axs[i].set(xlabel=None)\n",
    "    axs[i].set(ylabel=None)\n",
    "\n",
    "plt.xlim(9, 25)\n",
    "plt.ylim(1e-2, 1e1)\n",
    "\n",
    "fig.supxlabel('Absolute magnitude, H [mag]')\n",
    "fig.supylabel('Slope parameter, G12')"
   ]
  },
  {
   "cell_type": "markdown",
   "id": "df408bac-a77a-4997-b946-b8f12bda924c",
   "metadata": {},
   "source": [
    "### 3.2 Phase curve fit uncertainty vs. apparent brightness of the Main Belt asteroids"
   ]
  },
  {
   "cell_type": "markdown",
   "id": "b75ee539-b0a8-4290-a59c-e5452d138600",
   "metadata": {
    "tags": []
   },
   "source": [
    "Here we compare the typical apparent magnitude uncertainties per filter to see how that impacts the fit. To do this, we compute the median apparent magnitude (i.e. as observed) and its median uncertainty in the $r$-band in this example. This allows us to plot phase curve parameters vs. median apparent magnitude and its median uncertainty to see how these observational characteristics impact the resulting modeling. One can see in the plot that as objects get fainter and the median apparent magnitude uncertainty increases, so does the uncertainty in the fitted parameters of the phase curve. "
   ]
  },
  {
   "cell_type": "code",
   "execution_count": null,
   "id": "eae70ca2-c3fa-4ae7-9020-aaaab89aab83",
   "metadata": {
    "tags": []
   },
   "outputs": [],
   "source": [
    "mag_med = []\n",
    "magSigma_med = []\n",
    "ifilt = 'r'\n",
    "\n",
    "for iobj in df_uniqueObj['ssObjectId'][good_main_belt]:\n",
    "    idx = df_indivObs['ssObjectId'] == iobj\n",
    "    df_tmp = df_indivObs[idx]\n",
    "    idx_filt = df_tmp['band'] == ifilt\n",
    "\n",
    "    mag_med.append(np.median(df_tmp['mag'][idx_filt]))\n",
    "    magSigma_med.append(np.median(df_tmp['magErr'][idx_filt]))\n",
    "\n",
    "plt.figure(figsize=(13, 5))\n",
    "\n",
    "plt.subplot(121)\n",
    "plt.plot(mag_med, df_uniqueObj[ifilt+'_Herr'][good_main_belt], '.', alpha=.5,\n",
    "         label=ifilt+'-band H parameter')\n",
    "plt.plot(mag_med, df_uniqueObj[ifilt+'_G12err'][good_main_belt], '.', alpha=.5,\n",
    "         label=ifilt+'-band G12 parameter')\n",
    "plt.ylabel('Uncertainty in phase curve fit')\n",
    "plt.xlabel('Median apparent mag')\n",
    "plt.legend()\n",
    "\n",
    "plt.subplot(122)\n",
    "plt.plot(magSigma_med, df_uniqueObj[ifilt+'_Herr'][good_main_belt],\n",
    "         '.', alpha=.5)\n",
    "plt.plot(magSigma_med, df_uniqueObj[ifilt+'_G12err'][good_main_belt],\n",
    "         '.', alpha=.5)\n",
    "plt.ylabel('Uncertainty in phase curve fit')\n",
    "plt.xlabel('Median uncertainty in apparent mag')\n",
    "\n",
    "plt.tight_layout()"
   ]
  },
  {
   "cell_type": "markdown",
   "id": "2e16f0a8-8caa-4259-8c8c-16ccfed6ee22",
   "metadata": {},
   "source": [
    "### 3.3 How phase-curve fit quality depends on total number of LSST observations and perihelion distance\n",
    "\n",
    "Now, we explore the impact of the total number of observations for a given source (`numObs`) and the perihelion distance (`q`) on the quality of phase curve fitting in $i$-band as an example. In the left columns, it is clear that the model uncertainties decrease with number of observations of each source. So as LSST accumulates data over time, precision in the phase curve modeling will improve. The right columns show that uncertainties in the phase-curve parameters modestly increase for objects with larger perihelion distances. "
   ]
  },
  {
   "cell_type": "code",
   "execution_count": null,
   "id": "1f572d01-6e33-4107-b125-0134ba141500",
   "metadata": {
    "tags": []
   },
   "outputs": [],
   "source": [
    "fig = plt.figure(figsize=(9, 8))\n",
    "gs = fig.add_gridspec(2, 2, wspace=0, hspace=0.3)\n",
    "axs = gs.subplots(sharey=True)\n",
    "ifilt = 'i'\n",
    "\n",
    "sns.histplot(x=df_uniqueObj['numObs'], y=df_uniqueObj[ifilt+'_Herr'], bins=100,\n",
    "             log_scale=(False, True), ax=axs[0, 0])\n",
    "axs[0, 0].set_xlabel('Number of LSST observations')\n",
    "axs[0, 0].set_ylabel(r'$\\Delta$H in %s band' % ifilt)\n",
    "plt.ylim(1e-4, 1e1)\n",
    "\n",
    "sns.histplot(x=df_uniqueObj['q'], y=df_uniqueObj[ifilt+'_Herr'],\n",
    "             bins=100, ax=axs[0, 1])\n",
    "axs[0, 1].set_xlabel('perihelion distance [au]')\n",
    "\n",
    "sns.histplot(x=df_uniqueObj['numObs'], y=df_uniqueObj[ifilt+'_G12err'],\n",
    "             bins=100, log_scale=(False, True), ax=axs[1, 0])\n",
    "axs[1, 0].set_xlabel('Number of LSST observations')\n",
    "axs[1, 0].set_ylabel(r'$\\Delta$G12 in %s band' % ifilt)\n",
    "\n",
    "sns.histplot(x=df_uniqueObj['q'], y=df_uniqueObj[ifilt+'_G12err'],\n",
    "             bins=100, ax=axs[1, 1])\n",
    "axs[1, 1].set_xlabel('perihelion distance [au]')\n"
   ]
  },
  {
   "cell_type": "markdown",
   "id": "91ac8944-997e-4bb4-8cd8-c8817cd44253",
   "metadata": {
    "tags": []
   },
   "source": [
    "### 3.4 Number of datapoints used for phase curve fitting per band\n",
    "\n",
    "The above plots compare `numObs` (total in all bands) with model fits (per band) which may not be the ideal metric since the quality of phase curves can vary quite a bit between filters. Instead, we can look at the number of datapoints included in the phase curve modeling on a per filter basis (i.e. rNdata for the r-band in the `SSObject` table). Below, we look at the distribution of the number of observations in each filter used to model the phase curve per filter. One can see that generally, $r$- and $i$-bands produce the most data points for recovering phase curves, while $g$-band produces less and $z$-band produces the fewest. Phase curves measured in $r$- and $i$-bands will thus be better sampled. \n",
    "\n",
    "Thus in the second panel, one can see that poorer sampling drives higher uncertainty in `H` using $z$-band instead of $r$-band for solar system objects. "
   ]
  },
  {
   "cell_type": "code",
   "execution_count": null,
   "id": "a37e63c9-6d7a-47d7-afe1-8f20aad2794a",
   "metadata": {
    "tags": []
   },
   "outputs": [],
   "source": [
    "fig, axs = plt.subplots(1, 2, figsize=(10, 4))\n",
    "\n",
    "for i, ifilt in enumerate(filts):\n",
    "    axs[0].hist(df_uniqueObj[ifilt+'_Ndata'], bins=100, range=(0, 1300),\n",
    "                histtype='step', label=ifilt+'-band')\n",
    "\n",
    "axs[0].set_yscale('log')\n",
    "axs[0].set_xscale('log')\n",
    "axs[0].legend()\n",
    "axs[0].set_xlabel('Number of data points per filter')\n",
    "axs[0].set_ylabel('Number of sources')\n",
    "\n",
    "sns.histplot(x=df_uniqueObj['r_Herr'], y=df_uniqueObj['z_Herr'],\n",
    "             bins=100, log_scale=(True, True), color='b', ax=axs[1], alpha=0.7)\n",
    "\n",
    "one2one = np.arange(1e-4, 1000, .1)\n",
    "axs[1].plot(one2one, one2one, '--')\n",
    "axs[1].set_ylim(1e-4, 1e2)\n",
    "axs[1].set_xlim(1e-4, 1e2)\n",
    "axs[1].set_ylabel(r'$\\Delta$H using z-band')\n",
    "axs[1].set_xlabel(r'$\\Delta$H using r-band')\n",
    "\n",
    "plt.tight_layout()"
   ]
  },
  {
   "cell_type": "markdown",
   "id": "e8525bdd-cfe9-41ca-b599-38ffaf62acf9",
   "metadata": {},
   "source": [
    "## 4. An incomplete list of outstanding questions about DP0.3 phase curves: \n",
    "This DP0.3 release revealed some unknown features that we can resolve in the future as people use the simulation. Some things that warrant further exploration:\n",
    "\n",
    "- Offsets were found between the input `H` values used for the DP0.3 simulations and the `H` parameters fitted with the Rubin pipeline even after correcting for color differences between LSST filters and $V$ filter used to define intrinsic absolute magnitude. "
   ]
  },
  {
   "cell_type": "markdown",
   "id": "f880c4d0-6ffc-49e9-86f2-95f1b698e279",
   "metadata": {},
   "source": [
    "## 5. Excercises for the learner\n",
    "\n",
    "Try out the more advanced companion tutorial notebook 04b on Phase Curves"
   ]
  },
  {
   "cell_type": "code",
   "execution_count": null,
   "id": "1ffb8ec8-2742-4d06-ba88-16f22b001ec2",
   "metadata": {},
   "outputs": [],
   "source": []
  }
 ],
 "metadata": {
  "kernelspec": {
   "display_name": "LSST",
   "language": "python",
   "name": "lsst"
  },
  "language_info": {
   "codemirror_mode": {
    "name": "ipython",
    "version": 3
   },
   "file_extension": ".py",
   "mimetype": "text/x-python",
   "name": "python",
   "nbconvert_exporter": "python",
   "pygments_lexer": "ipython3",
   "version": "3.10.10"
  },
  "toc-autonumbering": false
 },
 "nbformat": 4,
 "nbformat_minor": 5
}
