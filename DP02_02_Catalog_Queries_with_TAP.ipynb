{
 "cells": [
  {
   "cell_type": "markdown",
   "metadata": {},
   "source": [
    "<img align=\"left\" src = https://project.lsst.org/sites/default/files/Rubin-O-Logo_0.png width=250 style=\"padding: 10px\"> \n",
    "<br><b>Catalog Queries with TAP (Table Access Protocol)</b> <br>\n",
    "Contact authors: Leanne Guy <br>\n",
    "Last verified to run: 2023-11-29 <br>\n",
    "LSST Science Pipelines version: Weekly 2023_47 <br>\n",
    "Container Size: medium <br>\n",
    "Targeted learning level: beginner <br>"
   ]
  },
  {
   "cell_type": "markdown",
   "metadata": {},
   "source": [
    "**Description:** Explore the DP0.2 catalogs via TAP and execute complex queries to retrieve data."
   ]
  },
  {
   "cell_type": "markdown",
   "metadata": {},
   "source": [
    "**Skills:** Use the TAP service. Query catalog data with ADQL. Visualize retrieved datasets."
   ]
  },
  {
   "cell_type": "markdown",
   "metadata": {},
   "source": [
    "**LSST Data Products:** Object, ForcedSource, CcdVisit tables."
   ]
  },
  {
   "cell_type": "markdown",
   "metadata": {},
   "source": [
    "**Packages:** lsst.rsp, bokeh, pandas"
   ]
  },
  {
   "cell_type": "markdown",
   "metadata": {},
   "source": [
    "**Credit:**\n",
    "Originally developed by Leanne Guy in the context of the Rubin DP0.1."
   ]
  },
  {
   "cell_type": "markdown",
   "metadata": {},
   "source": [
    "**Get Support:**\n",
    "Find DP0-related documentation and resources at <a href=\"https://dp0-2.lsst.io\">dp0-2.lsst.io</a>. Questions are welcome as new topics in the <a href=\"https://community.lsst.org/c/support/dp0\">Support - Data Preview 0 Category</a> of the Rubin Community Forum. Rubin staff will respond to all questions posted there."
   ]
  },
  {
   "cell_type": "markdown",
   "metadata": {
    "tags": []
   },
   "source": [
    "## 1. Introduction\n",
    "\n",
    "This notebook provides an intermediate-level demonstration of how to use the Table Access Protocol (TAP) server and ADQL (Astronomy Data Query Language) to query and retrieve data from the DP0.2 catalogs.\n",
    "\n",
    "TAP provides standardized access to catalog data for discovery, search, and retrieval.\n",
    "Full <a href=\"http://www.ivoa.net/documents/TAP\">documentation for TAP</a> is provided by the International Virtual Observatory Alliance (IVOA).\n",
    "ADQL is similar to SQL (Structured Query Langage).\n",
    "The <a href=\"http://www.ivoa.net/documents/latest/ADQL.html\">documentation for ADQL</a> includes more information about syntax and keywords.\n",
    "\n",
    "**Recommendation: review the ADQL recipes and other advice to optimize TAP queries** provided in the documentation for the DP0-era RSP's <a href=\"https://dp0-2.lsst.io/data-access-analysis-tools/index.html\">Data Access and Analysis Tools</a>.\n",
    "\n",
    "> **Warning:** Not all ADQL functionality is supported yet in the DP0 RSP.\n",
    "\n",
    "### 1.1. Package imports\n",
    "\n",
    "Import general python packages, the Rubin TAP service utilities, and bokeh and holoviews for interactive visualization."
   ]
  },
  {
   "cell_type": "code",
   "execution_count": null,
   "metadata": {
    "tags": []
   },
   "outputs": [],
   "source": [
    "import numpy as np\n",
    "import matplotlib.pyplot as plt\n",
    "import pandas\n",
    "from pandas.testing import assert_frame_equal\n",
    "from astropy import units as u\n",
    "from astropy.coordinates import SkyCoord\n",
    "from lsst.rsp import get_tap_service, retrieve_query\n",
    "import bokeh\n",
    "from bokeh.io import output_file, output_notebook, show\n",
    "from bokeh.layouts import gridplot\n",
    "from bokeh.models import ColumnDataSource, CDSView, GroupFilter, HoverTool\n",
    "from bokeh.plotting import figure\n",
    "from bokeh.transform import factor_cmap\n",
    "import holoviews as hv"
   ]
  },
  {
   "cell_type": "markdown",
   "metadata": {},
   "source": [
    "### 1.2. Define functions and parameters\n",
    "\n",
    "Set the maximum number of rows to display from pandas, and configure bokeh to generate output in notebook cells when show() is called."
   ]
  },
  {
   "cell_type": "code",
   "execution_count": null,
   "metadata": {
    "tags": []
   },
   "outputs": [],
   "source": [
    "pandas.set_option('display.max_rows', 20)\n",
    "output_notebook()"
   ]
  },
  {
   "cell_type": "markdown",
   "metadata": {},
   "source": [
    "In general, the order of results from database queries cannot be assumed to be the same every time.\n",
    "This function sorts the data so that we can compare the results dataframes even if the records are not in the same order from the query.\n",
    "Since it is sorting, it also needs to reset the incremental index with `set_index`."
   ]
  },
  {
   "cell_type": "code",
   "execution_count": null,
   "metadata": {
    "tags": []
   },
   "outputs": [],
   "source": [
    "def sort_dataframe(df, sort_key='objectId'):\n",
    "    df = df.sort_values(sort_key)\n",
    "    df.set_index(np.array(range(len(df))), inplace=True)\n",
    "    return df"
   ]
  },
  {
   "cell_type": "markdown",
   "metadata": {},
   "source": [
    "## 2. Explore the DP0.2 schema \n",
    "\n",
    "### 2.1. Create the Rubin TAP Service client\n",
    "\n",
    "Get an instance of the TAP service, and assert that it exists."
   ]
  },
  {
   "cell_type": "code",
   "execution_count": null,
   "metadata": {
    "tags": []
   },
   "outputs": [],
   "source": [
    "service = get_tap_service(\"tap\")\n",
    "assert service is not None"
   ]
  },
  {
   "cell_type": "markdown",
   "metadata": {},
   "source": [
    "### 2.2. Schema discovery\n",
    "\n",
    "To find out what schemas, tables and columns exist, query the Rubin TAP schema.\n",
    "\n",
    "This information is also available in the \"Data Products Definitions\" section of the <a href=\"http://dp0-2.lsst.io\">DP0.2 documentation</a>.\n",
    "\n",
    "Create the query to find out what schemas are in the Rubin `tap_schema`, execute the query, \n",
    "and see that a `TAP Results` object is returned."
   ]
  },
  {
   "cell_type": "code",
   "execution_count": null,
   "metadata": {
    "tags": []
   },
   "outputs": [],
   "source": [
    "query = \"SELECT * FROM tap_schema.schemas\"\n",
    "results = service.search(query)\n",
    "print(type(results))"
   ]
  },
  {
   "cell_type": "markdown",
   "metadata": {},
   "source": [
    "Convert the results to an astropy table and display it."
   ]
  },
  {
   "cell_type": "code",
   "execution_count": null,
   "metadata": {
    "tags": []
   },
   "outputs": [],
   "source": [
    "results = service.search(query).to_table()\n",
    "results"
   ]
  },
  {
   "cell_type": "markdown",
   "metadata": {},
   "source": [
    "### 2.3. The DP0.2 catalogs\n",
    "\n",
    "All the DP0 tables (catalogs) are in the \"dp02_dc2_catalogs\" schema (table collection).\n",
    "\n",
    "Search for the DP0 schema name and store as a variable."
   ]
  },
  {
   "cell_type": "code",
   "execution_count": null,
   "metadata": {
    "tags": []
   },
   "outputs": [],
   "source": [
    "schema_names = results['schema_name']\n",
    "for name in schema_names:\n",
    "    if name.find('dp02') > -1:\n",
    "        dp02_schema_name = name\n",
    "        break\n",
    "print(\"DP0.2 schema is \" + dp02_schema_name)"
   ]
  },
  {
   "cell_type": "markdown",
   "metadata": {},
   "source": [
    "Explore tables in the DP0.2 schema, ordering them by their database.\n",
    "This is the order in which they will appear presented to the user in the RSP Portal.\n",
    "Display the results to see the tables in the DP0.2 schema, which are the same tables that \n",
    "are presented via the Portal GUI, together with a description of each. "
   ]
  },
  {
   "cell_type": "code",
   "execution_count": null,
   "metadata": {
    "tags": []
   },
   "outputs": [],
   "source": [
    "query = \"SELECT * FROM tap_schema.tables \" \\\n",
    "        \"WHERE tap_schema.tables.schema_name = '\" \\\n",
    "        + dp02_schema_name + \"' order by table_index ASC\"\n",
    "print(query)\n",
    "\n",
    "results = service.search(query)\n",
    "results = results.to_table()\n",
    "results"
   ]
  },
  {
   "cell_type": "markdown",
   "metadata": {},
   "source": [
    "<br>\n",
    "Useful terms related to TAP:\n",
    "\n",
    "* `schema` - database terminology for the abstract design that represents the storage of data in a database. \n",
    "* `tap_schema` - the specific schema describing the TAP service. All TAP services must support a set of tables in a schema named TAP_SCHEMA that describe the tables and columns included in the service.\n",
    "* `table collection` - a collection of tables. e.g., `dp02_dc2_catalogs`.\n",
    "* `table` - a collection of related data held in a table format in a database, e.g., the object table (dp02_dc2_catalogs.Object).\n",
    "* `results` - the query result set. The TAP service returns data from a query as a `TAPResults` object. Find more about `TAPResults` [here](https://pyvo.readthedocs.io/en/latest/api/pyvo.dal.TAPResults.html)."
   ]
  },
  {
   "cell_type": "markdown",
   "metadata": {},
   "source": [
    "## 3. Query the DP0.2 Object catalog\n",
    "\n",
    "The Object catalog (`dp02_dc2_catalogs.Object`) contains sources detected in the coadded images (also called stacked or combined images).\n",
    "\n",
    "### 3.1. Get the columns available for a given table\n",
    "\n",
    "Request the column names, data types, descriptions, and units for all columns in the Object catalog, and display as a Pandas table (which will automatically truncate).\n",
    "\n",
    "Notice that there are 991 columns available in the Object table."
   ]
  },
  {
   "cell_type": "code",
   "execution_count": null,
   "metadata": {
    "tags": []
   },
   "outputs": [],
   "source": [
    "results = service.search(\"SELECT column_name, datatype, description, unit from TAP_SCHEMA.columns \"\n",
    "                         \"WHERE table_name = 'dp02_dc2_catalogs.Object'\")\n",
    "results.to_table().to_pandas()"
   ]
  },
  {
   "cell_type": "markdown",
   "metadata": {},
   "source": [
    "There is no need to read through all the columns, which are also available in the \"Data Products Definitions\" section of the <a href=\"http://dp0-2.lsst.io\">DP0.2 documentation</a>.\n",
    "\n",
    "Search all column names for a specific term in order to find columns of interest.\n",
    "For example, the next cell loops over all column names and, if a user-defined search string such as \"coord\" is found, prints the column name."
   ]
  },
  {
   "cell_type": "code",
   "execution_count": null,
   "metadata": {
    "tags": []
   },
   "outputs": [],
   "source": [
    "search_string = 'coord'\n",
    "for cname in results['column_name']:\n",
    "    if cname.find(search_string) > -1:\n",
    "        print(cname)"
   ]
  },
  {
   "cell_type": "markdown",
   "metadata": {},
   "source": [
    "In the cell above, change the search string and execute the cell to find other columns\n",
    "of interest, e.g., try \"Flux\", \"flux\", \"blend\", \"z\", etc.\n",
    "One of those options yeilds no matches."
   ]
  },
  {
   "cell_type": "markdown",
   "metadata": {},
   "source": [
    "Clean up."
   ]
  },
  {
   "cell_type": "code",
   "execution_count": null,
   "metadata": {
    "tags": []
   },
   "outputs": [],
   "source": [
    "del results"
   ]
  },
  {
   "cell_type": "markdown",
   "metadata": {},
   "source": [
    "### 3.2. Cone search specifying the maximum number of records\n",
    "\n",
    ">**RA, Dec constraints yield faster queries:**\n",
    "The TAP-accessible tables are sharded by coordinate (RA, Dec).\n",
    "ADQL query statements that include constraints by coordinate do not require a whole-catalog search, and are typically faster (and can be much faster) than ADQL query statements which only include constraints for other columns.\n",
    "\n",
    "A cone search on the Object table will be a common TAP query.\n",
    "In this example, a circle centered on (RA, Dec) = (62.0, -37.0), with a radius of 1 degree is used.\n",
    "\n",
    "Define the central coordinates and search radius using Astropy `SkyCoord` and units."
   ]
  },
  {
   "cell_type": "code",
   "execution_count": null,
   "metadata": {
    "tags": []
   },
   "outputs": [],
   "source": [
    "center_coords = SkyCoord(62, -37, frame='icrs', unit='deg')\n",
    "search_radius = 1.0*u.deg\n",
    "\n",
    "print(center_coords)\n",
    "print(search_radius)"
   ]
  },
  {
   "cell_type": "markdown",
   "metadata": {},
   "source": [
    "The TAP queries take the center coordinates and the search radius -- both in units of degrees -- as strings, so also define strings to use in the query statements below."
   ]
  },
  {
   "cell_type": "code",
   "execution_count": null,
   "metadata": {
    "tags": []
   },
   "outputs": [],
   "source": [
    "use_center_coords = \"62, -37\"\n",
    "use_radius = \"1.0\""
   ]
  },
  {
   "cell_type": "markdown",
   "metadata": {},
   "source": [
    "For debugging and testing queries, it is often useful to only return a few records for expediency.\n",
    "This can be done in one of two ways, setting the `TOP` field in a query, or setting the `maxrec` parameter in the TAP service query.\n",
    "The two methods produce identical results, as demonstrated below.\n",
    "\n",
    "Define the maximum records to return."
   ]
  },
  {
   "cell_type": "code",
   "execution_count": null,
   "metadata": {
    "tags": []
   },
   "outputs": [],
   "source": [
    "max_rec = 5"
   ]
  },
  {
   "cell_type": "markdown",
   "metadata": {},
   "source": [
    "#### 3.2.1. Set TOP\n",
    "\n",
    "Use the \"TOP\" option to set the maximum number of records.\n",
    "\n",
    "Build a query to find bright objects with magnitude < 18 and an extendedness = 0 in the r-band filter.\n",
    "Recall that it is always recommended to set `detect_isPrimary = True` (which means the source has no deblended children, to avoid returning both deblended *and* blended objects).\n",
    "\n",
    "Order the results by descending flux, both in this example and the next -- otherwise, results are returned in random order and we would not be able to confirm that both methods for setting the number of records are equivalent.\n",
    "\n",
    "> **Warning:** Combining use of TOP with ORDER BY in ADQL queries can be dangerous, as in, may take an unexpectedly long time because the database is trying to first sort, and *then* extract the top N elements. It is best to only combine TOP and ORDER BY if your query cuts down the number of objects that would need to be sorted, first. (Which is the case in the examples below).\n",
    "\n",
    "Execute the query, and confirm that only 5 records were retrieved."
   ]
  },
  {
   "cell_type": "code",
   "execution_count": null,
   "metadata": {
    "tags": []
   },
   "outputs": [],
   "source": [
    "query = \"SELECT TOP \" + str(max_rec) + \" \" + \\\n",
    "        \"objectId, coord_ra, coord_dec, detect_isPrimary, \" + \\\n",
    "        \"g_cModelFlux, r_cModelFlux, r_extendedness, r_inputCount \" + \\\n",
    "        \"FROM dp02_dc2_catalogs.Object \" + \\\n",
    "        \"WHERE CONTAINS(POINT('ICRS', coord_ra, coord_dec), \" + \\\n",
    "        \"CIRCLE('ICRS', \" + use_center_coords + \", \" + use_radius + \")) = 1 \" + \\\n",
    "        \"AND detect_isPrimary = 1 \" + \\\n",
    "        \"AND r_extendedness = 0 \" + \\\n",
    "        \"AND scisql_nanojanskyToAbMag(r_cModelFlux) < 18.0 \" + \\\n",
    "        \"ORDER by r_cModelFlux DESC\"\n",
    "results = service.search(query)\n",
    "assert len(results) == max_rec"
   ]
  },
  {
   "cell_type": "markdown",
   "metadata": {},
   "source": [
    "#### 3.2.2. Set maxrec\n",
    "\n",
    "Execute the same query using the maxrec parameter instead of TOP, name the output \"results1\" instead of \"results\", and confirm that only 5 records were retrieved.\n",
    "\n",
    "Use of `maxrec` is *not* preferred, compared to `SELECT TOP`.\n",
    "Most TAP services map `maxrec` to `SELECT TOP` on the back end anyways, and using `SELECT TOP` ensures that queries are copy-pasteable between interfaces (e.g., into the Portal Aspect).\n",
    "\n",
    "> **Warning:** Use of `maxrec` might return a `DALOverflowWarning` to warn the user that partial results have been returned. In this case, it is ok to ignore this warning, because we *intended* to return partial results by using `maxrec`."
   ]
  },
  {
   "cell_type": "code",
   "execution_count": null,
   "metadata": {
    "tags": []
   },
   "outputs": [],
   "source": [
    "query = \"SELECT objectId, coord_ra, coord_dec, detect_isPrimary, \" + \\\n",
    "        \"g_cModelFlux, r_cModelFlux, r_extendedness, r_inputCount \" + \\\n",
    "        \"FROM dp02_dc2_catalogs.Object \" + \\\n",
    "        \"WHERE CONTAINS(POINT('ICRS', coord_ra, coord_dec), \" + \\\n",
    "        \"CIRCLE('ICRS', \" + use_center_coords + \", \" + use_radius + \")) = 1 \" + \\\n",
    "        \"AND detect_isPrimary = 1 \" + \\\n",
    "        \"AND r_extendedness = 0 \" + \\\n",
    "        \"AND scisql_nanojanskyToAbMag(r_cModelFlux) < 18.0 \" + \\\n",
    "        \"ORDER by r_cModelFlux DESC\"\n",
    "results1 = service.search(query, maxrec=max_rec)\n",
    "assert len(results1) == max_rec"
   ]
  },
  {
   "cell_type": "markdown",
   "metadata": {},
   "source": [
    "#### 3.2.3. Show the results from TOP and maxrec are identical\n",
    "\n",
    "Convert the results to pandas data frames, and  assert that the contents of the two tables are identical.\n",
    "There will be no output if they are identical."
   ]
  },
  {
   "cell_type": "code",
   "execution_count": null,
   "metadata": {
    "tags": []
   },
   "outputs": [],
   "source": [
    "assert_frame_equal(sort_dataframe(results.to_table().to_pandas()),\n",
    "                   sort_dataframe(results1.to_table().to_pandas()))"
   ]
  },
  {
   "cell_type": "markdown",
   "metadata": {},
   "source": [
    "For more detailed analysis of results, converting to a pandas dataframe is often very useful"
   ]
  },
  {
   "cell_type": "code",
   "execution_count": null,
   "metadata": {
    "tags": []
   },
   "outputs": [],
   "source": [
    "results_table = results.to_table().to_pandas()\n",
    "results_table"
   ]
  },
  {
   "cell_type": "code",
   "execution_count": null,
   "metadata": {
    "tags": []
   },
   "outputs": [],
   "source": [
    "results1_table = results1.to_table().to_pandas()\n",
    "results1_table"
   ]
  },
  {
   "cell_type": "markdown",
   "metadata": {},
   "source": [
    "Clean up."
   ]
  },
  {
   "cell_type": "code",
   "execution_count": null,
   "metadata": {
    "tags": []
   },
   "outputs": [],
   "source": [
    "del results, results1, results_table, results1_table"
   ]
  },
  {
   "cell_type": "markdown",
   "metadata": {},
   "source": [
    "### 3.3. Cone search with double table join \n",
    "\n",
    "Create a similar query as above, for bright, non-extended Objects within a 1 degree radius, but now join with the ForcedSource table to obtain PSF photometry from the r-band processed visit images (PVIs), and join with the CcdVisit table to obtain the visits' Modified Julian Dates (MJDs).\n",
    "\n",
    "Do not set a maximum number of records to return, because the goal is to generate a table containing the ForcedSource photometry for all of the Objects of interest. There is no need to use ORDER BY for this example, but it could be.\n",
    "\n",
    "> **Notice:** When restricting a JOIN query to just a portion of the sky (e.g., a cone search), restricting on coordinates in Object, DiaObject, or Source tables where possible can result in significantly improved performance."
   ]
  },
  {
   "cell_type": "code",
   "execution_count": null,
   "metadata": {
    "tags": []
   },
   "outputs": [],
   "source": [
    "query = \"SELECT fs.forcedSourceId, fs.objectId, fs.ccdVisitId, fs.detect_isPrimary, \" + \\\n",
    "        \"fs.band, scisql_nanojanskyToAbMag(fs.psfFlux) as psfMag, ccd.obsStartMJD, \" + \\\n",
    "        \"scisql_nanojanskyToAbMag(obj.r_psfFlux) as obj_rpsfMag \" + \\\n",
    "        \"FROM dp02_dc2_catalogs.ForcedSource as fs \" + \\\n",
    "        \"JOIN dp02_dc2_catalogs.CcdVisit as ccd \" + \\\n",
    "        \"ON fs.ccdVisitId = ccd.ccdVisitId \" + \\\n",
    "        \"JOIN dp02_dc2_catalogs.Object as obj \" + \\\n",
    "        \"ON fs.objectId = obj.objectId \" + \\\n",
    "        \"WHERE CONTAINS(POINT('ICRS', obj.coord_ra, obj.coord_dec), \" + \\\n",
    "        \"CIRCLE('ICRS', \" + use_center_coords + \", \" + use_radius + \")) = 1 \" + \\\n",
    "        \"AND obj.detect_isPrimary = 1 \" + \\\n",
    "        \"AND obj.r_extendedness = 0 \" + \\\n",
    "        \"AND scisql_nanojanskyToAbMag(obj.r_cModelFlux) > 17.5 \" + \\\n",
    "        \"AND scisql_nanojanskyToAbMag(obj.r_cModelFlux) < 18.0 \" + \\\n",
    "        \"AND fs.band = 'r' \"\n",
    "results = service.search(query)"
   ]
  },
  {
   "cell_type": "markdown",
   "metadata": {},
   "source": [
    "Take a look at how the output results are formatted from joined tables. Notice the `obj_rpsfMag` column has the same value for all rows with the same `objectId`. The table join from ForcedSource to Object is a many-to-one match."
   ]
  },
  {
   "cell_type": "code",
   "execution_count": null,
   "metadata": {
    "tags": []
   },
   "outputs": [],
   "source": [
    "results.to_table().to_pandas()"
   ]
  },
  {
   "cell_type": "markdown",
   "metadata": {},
   "source": [
    "Investigate how many unique Objects were returned, and the distribution of the number of ForcedSources (visit images) per Object."
   ]
  },
  {
   "cell_type": "code",
   "execution_count": null,
   "metadata": {
    "tags": []
   },
   "outputs": [],
   "source": [
    "unique_objectIds, counts = np.unique(results['objectId'], return_counts=True)\n",
    "print(len(unique_objectIds), ' unique objects returned')\n",
    "\n",
    "fig = plt.figure(figsize=(4, 2))\n",
    "plt.hist(counts, bins=20)\n",
    "plt.xlabel('Number of ForcedSources')\n",
    "plt.ylabel('Number of Objects')\n",
    "plt.show()"
   ]
  },
  {
   "cell_type": "markdown",
   "metadata": {},
   "source": [
    "Plot the time series of ForcedSource r-band photometry for one of the Objects.\n",
    "For this example, just take the first unique `objectId` from the list."
   ]
  },
  {
   "cell_type": "code",
   "execution_count": null,
   "metadata": {
    "tags": []
   },
   "outputs": [],
   "source": [
    "use_objectId = unique_objectIds[0]\n",
    "\n",
    "tx = np.where(results['objectId'] == use_objectId)[0]\n",
    "\n",
    "fig = plt.figure(figsize=(6, 4))\n",
    "plt.axhline(results['obj_rpsfMag'][tx[0]], ls='solid', color='black',\n",
    "            label='Object r-band PSF Magnitude (from deepCoadd)')\n",
    "plt.plot(results['obsStartMJD'][tx], results['psfMag'][tx],\n",
    "         'o', ms=10, mew=0, alpha=0.5, color='firebrick',\n",
    "         label='ForcedSource r-band PSF Magnitude (from PVIs)')\n",
    "plt.xlabel('MJD')\n",
    "plt.ylabel('r-band magnitude')\n",
    "plt.title('objectId = ' + str(use_objectId))\n",
    "plt.legend(loc='lower left')\n",
    "plt.show()"
   ]
  },
  {
   "cell_type": "markdown",
   "metadata": {},
   "source": [
    "Whether or not that randomly chosen Object is truly variable is left as an exercise for the learner.\n",
    "\n",
    "Clean up."
   ]
  },
  {
   "cell_type": "code",
   "execution_count": null,
   "metadata": {
    "tags": []
   },
   "outputs": [],
   "source": [
    "del results, use_objectId, unique_objectIds, counts"
   ]
  },
  {
   "cell_type": "markdown",
   "metadata": {},
   "source": [
    "Here is an example of an alternative query string for obtaining the same data in the case where the `objectId` is already known -- meaning, a case in which the Object catalog does not need to be queried via any columns aside from `objectId`.\n",
    "\n",
    "```\n",
    "SELECT fs.forcedSourceId, fs.objectId, fs.ccdVisitId, fs.detect_isPrimary, \n",
    "fs.band, scisql_nanojanskyToAbMag(fs.psfFlux) as psfMag, ccd.obsStartMJD, \n",
    "scisql_nanojanskyToAbMag(obj.r_psfFlux) as obj_rpsfMag \n",
    "FROM dp02_dc2_catalogs.ForcedSource as fs \n",
    "JOIN dp02_dc2_catalogs.CcdVisit as ccd ON fs.ccdVisitId = ccd.ccdVisitId \n",
    "JOIN dp02_dc2_catalogs.Object as obj ON fs.objectId = obj.objectId \n",
    "WHERE fs.objectId = 1567762843720227098 AND fs.band = 'r'\n",
    "```"
   ]
  },
  {
   "cell_type": "markdown",
   "metadata": {},
   "source": [
    "## 4. Visualize large data sets resulting from a query\n",
    "\n",
    "In this section, the **bokeh** package is used to create interactive plots to explore a dataset.\n",
    "Multiple panels are used to show different representations of the same dataset.\n",
    "A selection applied to either panel will highlight the selected points in the other panel.\n",
    "\n",
    "<a href=\"https://bokeh.org/\">Bokeh Documentation</a> <br>\n",
    "<a href=\"https://holoviews.org/\">Holoviews Documentation</a>"
   ]
  },
  {
   "cell_type": "markdown",
   "metadata": {},
   "source": [
    "### 4.1. Data query\n",
    "\n",
    "Select Objects within a central search area, with r-band magnitudes between 17 and 23 mag, and with a measured r-band extendedness parameter (that is not NaN or NULL).\n",
    "\n",
    "Return the coordinates, gri magnitudes, and r-band extendedness. \n",
    "\n",
    "> **Notice:** The results are being converted to a Pandas table in the same line as the search is executed."
   ]
  },
  {
   "cell_type": "code",
   "execution_count": null,
   "metadata": {
    "tags": []
   },
   "outputs": [],
   "source": [
    "query = \"SELECT objectId, detect_isPrimary, \" + \\\n",
    "        \"coord_ra AS ra, coord_dec AS dec, \" + \\\n",
    "        \"scisql_nanojanskyToAbMag(g_cModelFlux) AS mag_g_cModel, \" + \\\n",
    "        \"scisql_nanojanskyToAbMag(r_cModelFlux) AS mag_r_cModel, \" + \\\n",
    "        \"scisql_nanojanskyToAbMag(i_cModelFlux) AS mag_i_cModel, \" + \\\n",
    "        \"r_extendedness \" + \\\n",
    "        \"FROM dp02_dc2_catalogs.Object \" + \\\n",
    "        \"WHERE CONTAINS(POINT('ICRS', coord_ra, coord_dec), \" + \\\n",
    "        \"CIRCLE('ICRS', \" + use_center_coords + \", \" + use_radius + \")) = 1 \" + \\\n",
    "        \"AND detect_isPrimary = 1 \" + \\\n",
    "        \"AND scisql_nanojanskyToAbMag(g_cModelFlux) > 17.0 \" + \\\n",
    "        \"AND scisql_nanojanskyToAbMag(g_cModelFlux) < 23.0 \" + \\\n",
    "        \"AND scisql_nanojanskyToAbMag(r_cModelFlux) > 17.0 \" + \\\n",
    "        \"AND scisql_nanojanskyToAbMag(r_cModelFlux) < 23.0 \" + \\\n",
    "        \"AND scisql_nanojanskyToAbMag(i_cModelFlux) > 17.0 \" + \\\n",
    "        \"AND scisql_nanojanskyToAbMag(i_cModelFlux) < 23.0 \" + \\\n",
    "        \"AND r_extendedness IS NOT NULL \"\n",
    "results = service.search(query).to_table().to_pandas()"
   ]
  },
  {
   "cell_type": "markdown",
   "metadata": {},
   "source": [
    "Display the Pandas table."
   ]
  },
  {
   "cell_type": "code",
   "execution_count": null,
   "metadata": {
    "tags": []
   },
   "outputs": [],
   "source": [
    "results"
   ]
  },
  {
   "cell_type": "markdown",
   "metadata": {},
   "source": [
    "### 4.2. Data preparation\n",
    "\n",
    "The basis for any data visualization is the underlying data.\n",
    "\n",
    "The `ColumnDataSource` (CDS) is the core of bokeh plots.\n",
    "A CDS can be prepared from the data returned by a query, enabling it to be passed directly to bokeh.\n",
    "Bokeh automatically creates a CDS from data passed as python lists or numpy arrays.\n",
    "CDS are useful as they allow data to be shared between multiple plots and renderers, enabling brushing and linking.\n",
    "A CDS is essentially a collection of sequences of data that have their own unique column name. \n",
    "\n",
    "Getting the data preparation phase right is the key to creating powerful visualizations. \n",
    "\n",
    "Recall the center coordinates that were defined with `astropy` `SkyCoord`.\n",
    "Get the central RA and Dec as values (datatype float) and print them."
   ]
  },
  {
   "cell_type": "code",
   "execution_count": null,
   "metadata": {
    "tags": []
   },
   "outputs": [],
   "source": [
    "center_ra = center_coords.ra.deg\n",
    "center_dec = center_coords.dec.deg\n",
    "print(center_ra, center_dec)"
   ]
  },
  {
   "cell_type": "markdown",
   "metadata": {},
   "source": [
    "Create a python dictionary that associates the `r_extendedness` column with the Object being a star or a galaxy."
   ]
  },
  {
   "cell_type": "code",
   "execution_count": null,
   "metadata": {
    "tags": []
   },
   "outputs": [],
   "source": [
    "object_map = {0.0: 'star', 1.0: 'galaxy'}"
   ]
  },
  {
   "cell_type": "markdown",
   "metadata": {},
   "source": [
    "Create a python dictionary to store the data from the query and pass to the `ColumnDataSource`.\n",
    "All columns in a CDS must have the same length."
   ]
  },
  {
   "cell_type": "code",
   "execution_count": null,
   "metadata": {
    "tags": []
   },
   "outputs": [],
   "source": [
    "data = dict(ra=results['ra'], dec=results['dec'],\n",
    "            target_ra=results['ra']-center_ra,\n",
    "            target_dec=results['dec']-center_dec,\n",
    "            gmi=results['mag_g_cModel']-results['mag_i_cModel'],\n",
    "            gmag=results['mag_g_cModel'],\n",
    "            rmag=results['mag_r_cModel'],\n",
    "            imag=results['mag_i_cModel'])\n",
    "source = ColumnDataSource(data=data)"
   ]
  },
  {
   "cell_type": "markdown",
   "metadata": {},
   "source": [
    "Additional data can be added to the CDS after creation, as\n",
    "demonstrated in the cell below with the addition of `objectId` and `extendedness` in the r-band.\n",
    "\n",
    "Note that the `objectId` needs to be converted to a string, \n",
    "because bokeh can't interpret an integer value that high."
   ]
  },
  {
   "cell_type": "code",
   "execution_count": null,
   "metadata": {},
   "outputs": [],
   "source": [
    "objIdString = np.array(results['objectId']).astype('str')\n",
    "source.data['objectId'] = objIdString\n",
    "source.data['r_extendedness'] = results['r_extendedness']"
   ]
  },
  {
   "cell_type": "markdown",
   "metadata": {},
   "source": [
    "Use the `object_map` dictionary to add an `object_type` column to the CDS."
   ]
  },
  {
   "cell_type": "code",
   "execution_count": null,
   "metadata": {
    "tags": []
   },
   "outputs": [],
   "source": [
    "source.data['object_type'] = results['r_extendedness'].map(object_map)\n",
    "source.data['object_type']"
   ]
  },
  {
   "cell_type": "markdown",
   "metadata": {},
   "source": [
    "### 4.3. Plot a color-magnitude diagram\n",
    "\n",
    "Use bokeh to plot a color-magnitude (g vs. g-i) diagram making use of the `cModel` magnitudes.\n",
    "Hover over the points in the plot to see their values.\n",
    "\n",
    "Define the plot aesthetics and tools."
   ]
  },
  {
   "cell_type": "code",
   "execution_count": null,
   "metadata": {
    "tags": []
   },
   "outputs": [],
   "source": [
    "plot_options = {'height': 400, 'width': 400,\n",
    "                'tools': ['box_select', 'reset', 'box_zoom', 'help']}"
   ]
  },
  {
   "cell_type": "markdown",
   "metadata": {},
   "source": [
    "Define the hover tool."
   ]
  },
  {
   "cell_type": "code",
   "execution_count": null,
   "metadata": {
    "tags": []
   },
   "outputs": [],
   "source": [
    "tooltips = [\n",
    "    (\"Col (g-i)\", \"@gmi\"),\n",
    "    (\"Mag (g)\", \"@gmag\"),\n",
    "    (\"Mag (r)\", \"@rmag\"),\n",
    "    (\"Mag (i)\", \"@imag\"),\n",
    "    (\"Type\", \"@object_type\")\n",
    "]\n",
    "hover_tool_cmd = HoverTool(tooltips=tooltips)"
   ]
  },
  {
   "cell_type": "markdown",
   "metadata": {},
   "source": [
    "Create a color-magnitude diagram."
   ]
  },
  {
   "cell_type": "code",
   "execution_count": null,
   "metadata": {
    "tags": []
   },
   "outputs": [],
   "source": [
    "p = figure(title=\"Color - Magnitude Diagram\",\n",
    "           x_axis_label='g-i', y_axis_label='g',\n",
    "           x_range=(-1.8, 4.3), y_range=(23.5, 16),\n",
    "           **plot_options)"
   ]
  },
  {
   "cell_type": "markdown",
   "metadata": {},
   "source": [
    "Color-code the different object types by defining a color map palette."
   ]
  },
  {
   "cell_type": "code",
   "execution_count": null,
   "metadata": {
    "tags": []
   },
   "outputs": [],
   "source": [
    "object_type_palette = ['darkred', 'lightgrey']\n",
    "p.add_tools(hover_tool_cmd)\n",
    "p.circle(x='gmi', y='gmag', source=source,\n",
    "         size=3, alpha=0.6,\n",
    "         legend_field=\"object_type\",\n",
    "         color=factor_cmap('object_type',\n",
    "                           palette=object_type_palette,\n",
    "                           factors=['star', 'galaxy']),\n",
    "         hover_color=\"darkblue\")"
   ]
  },
  {
   "cell_type": "markdown",
   "metadata": {},
   "source": [
    "Show the interactive plot."
   ]
  },
  {
   "cell_type": "code",
   "execution_count": null,
   "metadata": {
    "tags": []
   },
   "outputs": [],
   "source": [
    "show(p)"
   ]
  },
  {
   "cell_type": "markdown",
   "metadata": {},
   "source": [
    "### 4.4. Plot a color-color (r-i vs. g-r) diagram\n",
    "\n",
    "Add a color-color (r-i vs. g-r) diagram and make use of the advanced linking features of bokeh \n",
    "to enable brushing and linking between the the color-magnitude diagram and this color-color plot."
   ]
  },
  {
   "cell_type": "code",
   "execution_count": null,
   "metadata": {
    "tags": []
   },
   "outputs": [],
   "source": [
    "source.data['rmi'] = results['mag_r_cModel'] - results['mag_i_cModel']\n",
    "source.data['gmr'] = results['mag_g_cModel'] - results['mag_r_cModel']"
   ]
  },
  {
   "cell_type": "markdown",
   "metadata": {},
   "source": [
    "The CMD above is very crowded. Below, filter on object type and plot stars only.\n",
    "\n",
    "Use a GroupFilter to select rows from the CDS that satisfy `object_type` = \"star\"."
   ]
  },
  {
   "cell_type": "code",
   "execution_count": null,
   "metadata": {
    "tags": []
   },
   "outputs": [],
   "source": [
    "stars = CDSView()\n",
    "stars.filter = GroupFilter(column_name='object_type', group=\"star\")"
   ]
  },
  {
   "cell_type": "markdown",
   "metadata": {},
   "source": [
    "Define the various options for the plot, and create the hover tool."
   ]
  },
  {
   "cell_type": "code",
   "execution_count": null,
   "metadata": {
    "tags": []
   },
   "outputs": [],
   "source": [
    "plot_options = {'height': 350, 'width': 350,\n",
    "                'tools': ['box_zoom', 'box_select',\n",
    "                          'lasso_select', 'reset', 'help']}\n",
    "\n",
    "hover_tool = HoverTool(tooltips=[(\"(RA,DEC)\", \"(@ra, @dec)\"),\n",
    "                                 (\"(g-r,g)\", \"(@gmr, @gmag)\"),\n",
    "                                 (\"objectId\", \"@objectId\"),\n",
    "                                 (\"type\", \"@object_type\")])"
   ]
  },
  {
   "cell_type": "markdown",
   "metadata": {},
   "source": [
    "Create the three plots: spatial, color-magnitude, and color-color, then plot all three together on a grid.\n",
    "\n",
    "Create the spatial plot."
   ]
  },
  {
   "cell_type": "code",
   "execution_count": null,
   "metadata": {},
   "outputs": [],
   "source": [
    "title_spatial = 'Spatial centred on (RA,DEC) = '+use_center_coords\n",
    "\n",
    "fig_spatial = figure(title=title_spatial,\n",
    "                     x_axis_label=\"Delta RA\", y_axis_label=\"Delta DEC\",\n",
    "                     **plot_options)\n",
    "fig_spatial.circle(x='target_ra', y='target_dec',\n",
    "                   source=source, view=stars,\n",
    "                   size=4.0, alpha=0.6,\n",
    "                   color='teal', hover_color='firebrick')\n",
    "fig_spatial.add_tools(hover_tool)"
   ]
  },
  {
   "cell_type": "markdown",
   "metadata": {},
   "source": [
    "Create the color-magnitude plot."
   ]
  },
  {
   "cell_type": "code",
   "execution_count": null,
   "metadata": {},
   "outputs": [],
   "source": [
    "fig_cmag = figure(title=\"Color-Magnitude Diagram\",\n",
    "                  x_axis_label=\"g-r\", y_axis_label=\"g\",\n",
    "                  x_range=(-1.0, 2.0), y_range=(23.5, 16),\n",
    "                  **plot_options)\n",
    "fig_cmag.circle(x='gmr', y='gmag', source=source, view=stars,\n",
    "                size=4.0, alpha=0.6,\n",
    "                color='teal', hover_color='firebrick')\n",
    "fig_cmag.add_tools(hover_tool)"
   ]
  },
  {
   "cell_type": "markdown",
   "metadata": {},
   "source": [
    "Create the color-color plot."
   ]
  },
  {
   "cell_type": "code",
   "execution_count": null,
   "metadata": {},
   "outputs": [],
   "source": [
    "fig_cc = figure(title=\"Color-Color Diagram\",\n",
    "                x_axis_label=\"g-r\", y_axis_label=\"r-i\",\n",
    "                x_range=(-1.0, 2.0), y_range=(-1.0, 2.5),\n",
    "                **plot_options)\n",
    "fig_cc.circle(x='gmr', y='rmi', source=source, view=stars,\n",
    "              size=4.0, alpha=0.6,\n",
    "              color='teal', hover_color='firebrick')\n",
    "fig_cc.add_tools(hover_tool)"
   ]
  },
  {
   "cell_type": "markdown",
   "metadata": {},
   "source": [
    "Show all three plots together in a row."
   ]
  },
  {
   "cell_type": "code",
   "execution_count": null,
   "metadata": {
    "tags": []
   },
   "outputs": [],
   "source": [
    "p = gridplot([[fig_spatial, fig_cmag, fig_cc]])\n",
    "show(p)"
   ]
  },
  {
   "cell_type": "markdown",
   "metadata": {},
   "source": [
    "Hover the mouse over the data points in any of the plots in order to \n",
    "use the hover tool to see information about individual data points (e.g., the `objectId`).\n",
    "Notice the data points highlighted in red on one panel with the hover tool are also highlighted on the other panels.\n",
    "\n",
    "Click on the box select or lasso select icons in the upper right corner of the figure. \n",
    "Use the box select or lasso select functionality to make a selection in any panel by clicking and dragging to define a region. \n",
    "The selected data points will be displayed in darker teal in all panels.\n",
    "\n",
    "Use the refresh icon to reset the plot."
   ]
  },
  {
   "cell_type": "markdown",
   "metadata": {},
   "source": [
    "Clean up."
   ]
  },
  {
   "cell_type": "code",
   "execution_count": null,
   "metadata": {
    "tags": []
   },
   "outputs": [],
   "source": [
    "del results, data, p, stars, source"
   ]
  },
  {
   "cell_type": "markdown",
   "metadata": {},
   "source": [
    "## 5. Asynchronous TAP queries\n",
    "\n",
    "All of the queries above were *synchronous* queries.\n",
    "This means that the query will continue executing in the notebook until it is finished,\n",
    "and no other cells can be executed during that time.\n",
    "The Jupyter code cell will show the asterisk to the left of the cell until the query completes and the results are returned. \n",
    "The asterisk will then become a number. \n",
    "Synchronous queries are good for short queries that take seconds to minutes.\n",
    "\n",
    "For longer queries, or for running multiple queries at the same time, an *asynchronous* query is more suitable. \n",
    "With asynchronous queries, other Jupyter cells can be executed while the query is running, and\n",
    "results can be retrieved later.\n",
    "This is especially important for queries that are long or return a lot of results, and it\n",
    "also safeguards long queries against network outages or timeouts.\n",
    "\n",
    "The results of a query will be the same whether it is run synchronously or asynchronously."
   ]
  },
  {
   "cell_type": "markdown",
   "metadata": {},
   "source": [
    "### 5.1. Define the query\n",
    "\n",
    "Create a table join cone search query on the ForcedSource and CcdVisit tables, but with fewer conditions and a smaller radius than above."
   ]
  },
  {
   "cell_type": "code",
   "execution_count": null,
   "metadata": {
    "tags": []
   },
   "outputs": [],
   "source": [
    "use_radius = \"0.1\"\n",
    "\n",
    "query = \"SELECT fs.forcedSourceId, fs.objectId, fs.ccdVisitId, \" + \\\n",
    "        \"fs.detect_isPrimary, fs.band, \" + \\\n",
    "        \"scisql_nanojanskyToAbMag(fs.psfFlux) as psfMag, ccd.obsStartMJD \" + \\\n",
    "        \"FROM dp02_dc2_catalogs.ForcedSource as fs \" + \\\n",
    "        \"JOIN dp02_dc2_catalogs.CcdVisit as ccd \" + \\\n",
    "        \"ON fs.ccdVisitId = ccd.ccdVisitId \" + \\\n",
    "        \"WHERE CONTAINS(POINT('ICRS', fs.coord_ra, fs.coord_dec), \" + \\\n",
    "        \"CIRCLE('ICRS', \" + use_center_coords + \", \" + use_radius + \")) = 1 \" + \\\n",
    "        \"AND scisql_nanojanskyToAbMag(fs.psfFlux) > 17.5 \" + \\\n",
    "        \"AND scisql_nanojanskyToAbMag(fs.psfFlux) < 18.0 \" + \\\n",
    "        \"AND fs.band = 'r' \"\n",
    "\n",
    "print(query)"
   ]
  },
  {
   "cell_type": "markdown",
   "metadata": {},
   "source": [
    "### 5.2. Synchronous query\n",
    "\n",
    "Run the synchronous query and wait for the results.\n",
    "Notice that the query takes one to two minutes."
   ]
  },
  {
   "cell_type": "code",
   "execution_count": null,
   "metadata": {
    "tags": []
   },
   "outputs": [],
   "source": [
    "results = service.search(query).to_table().to_pandas()"
   ]
  },
  {
   "cell_type": "code",
   "execution_count": null,
   "metadata": {
    "tags": []
   },
   "outputs": [],
   "source": [
    "len_sync_results = len(results)\n",
    "print(len_sync_results)"
   ]
  },
  {
   "cell_type": "markdown",
   "metadata": {},
   "source": [
    "### 5.3. Asynchronous query\n",
    "\n",
    "Create and submit the job. This step does not run the query yet.\n",
    "\n",
    "Then get the job URL and the job phase. It will be \"pending\" until the job is started."
   ]
  },
  {
   "cell_type": "code",
   "execution_count": null,
   "metadata": {
    "tags": []
   },
   "outputs": [],
   "source": [
    "job = service.submit_job(query)\n",
    "\n",
    "print('Job URL is', job.url)\n",
    "\n",
    "print('Job phase is', job.phase)"
   ]
  },
  {
   "cell_type": "markdown",
   "metadata": {},
   "source": [
    "Run the job, and see that the cell completes executing, even though the query is still running.\n",
    "Notice how waiting one to two minutes until another cell can be executed is not necessary with the asynchronous query, as it was with the synchronous version above."
   ]
  },
  {
   "cell_type": "code",
   "execution_count": null,
   "metadata": {
    "tags": []
   },
   "outputs": [],
   "source": [
    "job.run()"
   ]
  },
  {
   "cell_type": "markdown",
   "metadata": {},
   "source": [
    "**Option:** Use the following cell to tell python to wait for the job to finish. \n",
    "Only do this if there is no neeed to run anything else while waiting.\n",
    "The cell will continue executing until the job is finished (i.e., either the status `COMPLETED` or `ERROR` is returned).\n",
    "An asterisk will appear to the left of the cell until the job is finished,\n",
    "just like with a synchronous query."
   ]
  },
  {
   "cell_type": "code",
   "execution_count": null,
   "metadata": {
    "tags": []
   },
   "outputs": [],
   "source": [
    "job.wait(phases=['COMPLETED', 'ERROR'])\n",
    "print('Job phase is', job.phase)"
   ]
  },
  {
   "cell_type": "markdown",
   "metadata": {},
   "source": [
    "A useful function to raise an exception if there was a problem with the query."
   ]
  },
  {
   "cell_type": "code",
   "execution_count": null,
   "metadata": {
    "tags": []
   },
   "outputs": [],
   "source": [
    "job.raise_if_error()"
   ]
  },
  {
   "cell_type": "markdown",
   "metadata": {},
   "source": [
    "Once the job completes successfully, fetch the results."
   ]
  },
  {
   "cell_type": "code",
   "execution_count": null,
   "metadata": {
    "tags": []
   },
   "outputs": [],
   "source": [
    "async_results = job.fetch_result().to_table().to_pandas()"
   ]
  },
  {
   "cell_type": "markdown",
   "metadata": {},
   "source": [
    "Assert that the length of the results of the asynchronous and synchronous executions of the query statement are the same."
   ]
  },
  {
   "cell_type": "code",
   "execution_count": null,
   "metadata": {
    "tags": []
   },
   "outputs": [],
   "source": [
    "assert len(async_results) == len_sync_results"
   ]
  },
  {
   "cell_type": "markdown",
   "metadata": {},
   "source": [
    "Assert that the actual results are the same as obtained from executing synchronous queries. \n",
    "\n",
    "Above, the `sort_dataframe` function was used with the default sort key, `objectId`, \n",
    "but this time the `objectId` is not unique in the results dataframes and so the `forcedSourceId` must be used."
   ]
  },
  {
   "cell_type": "code",
   "execution_count": null,
   "metadata": {
    "tags": []
   },
   "outputs": [],
   "source": [
    "assert_frame_equal(sort_dataframe(results, sort_key='forcedSourceId'),\n",
    "                   sort_dataframe(async_results, sort_key='forcedSourceId'))"
   ]
  },
  {
   "cell_type": "markdown",
   "metadata": {
    "tags": []
   },
   "source": [
    "### 5.4. Retrieve the results from a previous asynchronous job\n",
    "\n",
    "Job results are generally available from previously run queries,\n",
    "and can be retrieved if the URL of the job is known.\n",
    "\n",
    "The code cell below gets the URL for the query above and prints it,\n",
    "then retrieves the results of the job and again asserts that the\n",
    "length is the same as the synchronous query results, and that\n",
    "the two dataframes are equal."
   ]
  },
  {
   "cell_type": "code",
   "execution_count": null,
   "metadata": {
    "tags": []
   },
   "outputs": [],
   "source": [
    "print(job.url)\n",
    "retrieved_job = retrieve_query(job.url)\n",
    "\n",
    "retrieved_results = retrieved_job.fetch_result().to_table().to_pandas()\n",
    "\n",
    "assert len(retrieved_results) == len_sync_results\n",
    "\n",
    "assert_frame_equal(sort_dataframe(retrieved_results, sort_key='forcedSourceId'),\n",
    "                   sort_dataframe(async_results, sort_key='forcedSourceId'))"
   ]
  },
  {
   "cell_type": "markdown",
   "metadata": {},
   "source": [
    "### 5.5. Delete the job\n",
    "\n",
    "Once the job is finished and the results have been retrieved and analyzed \n",
    "(or if analysis revealed a mistake) \n",
    "delete the job and the results from the server. \n",
    "\n",
    "Note that results will be deleted automatically if the notebook kernel is restarted."
   ]
  },
  {
   "cell_type": "code",
   "execution_count": null,
   "metadata": {},
   "outputs": [],
   "source": [
    "job.delete()"
   ]
  },
  {
   "cell_type": "markdown",
   "metadata": {},
   "source": [
    "Clean up."
   ]
  },
  {
   "cell_type": "code",
   "execution_count": null,
   "metadata": {},
   "outputs": [],
   "source": [
    "del results, async_results, retrieved_results"
   ]
  },
  {
   "cell_type": "markdown",
   "metadata": {},
   "source": [
    "## 6. Retrieve the results of a Portal query\n",
    "\n",
    "It is also possible to retrieve the results of queries executed in the Portal Aspect of the Rubin Science Platform.\n",
    "\n",
    "In a new browser tab, go to <a href=\"\">data.lsst.cloud</a> and enter the Portal Aspect.\n",
    "\n",
    "Click \"Edit ADQL\" at upper right, and copy-paste the following query into the ADQL box as shown in the screenshot below.\n",
    "\n",
    "This query selects bright point sources within a 1 degree radius near the center of the DC2 region.\n",
    "\n",
    "```\n",
    "SELECT coord_dec, coord_ra, g_calibFlux, i_calibFlux, r_calibFlux \n",
    "FROM dp02_dc2_catalogs.Object \n",
    "WHERE CONTAINS (POINT('ICRS', coord_ra, coord_dec), CIRCLE('ICRS', 62.0, -37.0, 1)) = 1 \n",
    "AND detect_isPrimary =1 \n",
    "AND g_calibFlux >360 AND g_extendedness =0 \n",
    "AND i_calibFlux >360 AND i_extendedness =0 \n",
    "AND r_calibFlux >360 AND r_extendedness =0 \n",
    "```\n",
    "\n",
    "Click \"Search\".\n",
    "\n",
    "<img src=\"data/DP02_02_S6_fig1.png\" width=700>\n",
    "\n",
    "The default results view will appear as in the screenshot below.\n",
    "\n",
    "<img src=\"data/DP02_02_S6_fig2.png\" width=700>\n",
    "\n",
    "The search results have been automatically saved and assigned a URL.\n",
    "\n",
    "Retrieve the URL by clicking the \"Info\" button (the letter i in a circle)\n",
    "to the upper-right of the table.\n",
    "The pop-up window contains the URL (the Job Link).\n",
    "\n",
    "<img src=\"data/DP02_02_S6_fig3.png\" width=500>\n",
    "\n",
    "> **Warning:** Using the job link above will not work, it has expired.\n",
    "\n",
    "Follow the instructions above to execute the query and obtain the URL.\n",
    "\n",
    "Copy the URL into the empty quotes below to define `my_portal_url`.\n",
    "\n",
    "Uncomment and execute the following cell to obtain the results of \n",
    "the Portal query here in the Notebook, as `my_portal_results`."
   ]
  },
  {
   "cell_type": "code",
   "execution_count": null,
   "metadata": {
    "tags": []
   },
   "outputs": [],
   "source": [
    "# my_portal_url = ''\n",
    "# my_portal_job = retrieve_query(my_portal_url)\n",
    "# my_portal_results = my_portal_job.fetch_result().to_table().to_pandas()\n",
    "# my_portal_results"
   ]
  }
 ],
 "metadata": {
  "kernelspec": {
   "display_name": "LSST",
   "language": "python",
   "name": "lsst"
  },
  "language_info": {
   "codemirror_mode": {
    "name": "ipython",
    "version": 3
   },
   "file_extension": ".py",
   "mimetype": "text/x-python",
   "name": "python",
   "nbconvert_exporter": "python",
   "pygments_lexer": "ipython3",
   "version": "3.11.4"
  }
 },
 "nbformat": 4,
 "nbformat_minor": 4
}
