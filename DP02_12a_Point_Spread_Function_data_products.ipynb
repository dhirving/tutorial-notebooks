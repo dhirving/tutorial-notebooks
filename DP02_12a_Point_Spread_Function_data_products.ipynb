{
 "cells": [
  {
   "cell_type": "markdown",
   "id": "749b0ddf",
   "metadata": {},
   "source": [
    "<img align=\"left\" src = https://project.lsst.org/sites/default/files/Rubin-O-Logo_0.png width=250 style=\"padding: 10px\"> \n",
    "<b>Introduction to Point Spread Function (PSF) - Part a): data products</b> <br>\n",
    "Contact author(s): Andrés A. Plazas Malagón<br>\n",
    "Last verified to run:  09/18/2023 <br>\n",
    "LSST Science Pipelines version: w_2023_37  <br>\n",
    "Container Size: medium <br>\n",
    "Targeted learning level: beginner <br>"
   ]
  },
  {
   "cell_type": "markdown",
   "id": "9da1a210-d858-42fe-8591-570965b8be1a",
   "metadata": {},
   "source": [
    "**Description:** A demonstration on accesing `calexp` and `deepCoadd` PSF properties."
   ]
  },
  {
   "cell_type": "markdown",
   "id": "80a0baf5-51ad-40ec-8991-060a7b27c289",
   "metadata": {},
   "source": [
    "**Skills:** Use of single-epoch and coadded PSF models."
   ]
  },
  {
   "cell_type": "markdown",
   "id": "393da88f-7978-4920-aa4a-a9830df6eed9",
   "metadata": {},
   "source": [
    "**LSST Data Products:**   DP0.2 collection: `2.2i/runs/DP0.2`. Dataset types: `calexp`, `deepCoadd`.  Catalogs: `dp02_dc2_catalogs.Object`, `dp02_dc2_catalogs.Source`."
   ]
  },
  {
   "cell_type": "markdown",
   "id": "5c67fab9-136a-4adc-bb42-142b91ab69dd",
   "metadata": {},
   "source": [
    "**Packages:** lsst.afw.image, lsst.afw.detection, lsst.rsp, lsst.daf.butler, lsst.geom, lsst.afw.display, lsst.analysis.tools, lsst.pipe.base"
   ]
  },
  {
   "cell_type": "markdown",
   "id": "8f72b27f",
   "metadata": {},
   "source": [
    "**Credits:** Developed by Andrés A. Plazas Malagón in collaboration with Melissa Graham, Jeff Carlin, Ryan Lau, and the Rubin Community Science Team for DP0.2. The functions for studying the PSF image profile are built upon the rapid-analysis code originally created by Merlin Fisher-Levine to characterize the Point Spread Function (PSF) of the Rubin Auxiliary Telescope LSST Atmospheric Transmission and Slitless Spectrograph (LATISS) images. \n",
    "\n",
    "This notebook incorporates suggestions from the [Accessible Authoring Checklist](https://iota-school.github.io/accessibility_hackathon/hack#checklist) and utilizes NASA's Astrophysics Data System Bibliographic Services."
   ]
  },
  {
   "cell_type": "markdown",
   "id": "28e91cbf-ab7f-4e26-9276-b00299d6065e",
   "metadata": {},
   "source": [
    "**Get Support:**\n",
    "Find DP0-related documentation and resources at <a href=\"https://dp0-2.lsst.io\">dp0-2.lsst.io</a>. Questions are welcome as new topics in the <a href=\"https://community.lsst.org/c/support/dp0\">Support - Data Preview 0 Category</a> of the Rubin Community Forum. Rubin staff will respond to all questions posted there."
   ]
  },
  {
   "cell_type": "markdown",
   "id": "cfc73be0",
   "metadata": {
    "tags": []
   },
   "source": [
    "## 1. Introduction\n",
    "\n",
    "The Point Spread Function (PSF) can be understood as a function that describes how a bundle of rays, initially converging on a single point, spreads out spatially around that point. To accurately characterize the PSF, it is common to analyze the observed images of stars, which act as point sources before being distorted by the PSF. This analysis helps determine the convolution kernel, representing the size and shape of the blurring effect caused by the PSF. Accurate PSF modeling is crucial because any inaccuracies can lead to erroneous conclusions about fundamental aspects of the universe, such as the properties of dark matter and dark energy. Therefore, understanding and characterizing the PSF is essential to properly interpret and extract reliable cosmological information from astronomical observations.\n",
    "\n",
    "This tutorial (Section 2) produces an image of the PSF model at a specific location in `calexp` and `deepCoadd` images. It then demonstrates how to calculate PSF profiles and contours, along with other properties such as size.\n",
    "\n",
    "#### Additional Resources\n",
    "\n",
    "Point Spread Function Extractor, [PSFEx](https://ui.adsabs.harvard.edu/abs/2013ascl.soft01001B/abstract)\n",
    "\n",
    "[PIFF (PSF in the Full-Field of View)](https://rmjarvis.github.io/Piff/_build/html/index.html)"
   ]
  },
  {
   "cell_type": "markdown",
   "id": "dc36f107",
   "metadata": {
    "tags": []
   },
   "source": [
    "### 1.1. Package Imports\n",
    "\n",
    "The [matplotlib](https://matplotlib.org/) (and especially sublibrary `matplotlib.pyplot`), [numpy](http://www.numpy.org/), [scipy](https://scipy.org/), and [astropy](http://www.astropy.org/) libraries are widely used Python libraries for plotting, scientific computing, scientific analysis, and astronomical data analysis.\n",
    "\n",
    "The `lsst.rsp` package provides access to the Table Access Protocol (TAP) service for queries to the DP0 catalogs.\n",
    "\n",
    "The `lsst.afw.image` provide visualization tools.\n",
    "\n",
    "The `lsst.afw.display` library provides access to image visualization routines and the `lsst.daf.butler` library is used to access data products via the butler.\n",
    "\n",
    "The `lsst.afw.analysis.tools` library provides acces to analysis tools.\n",
    "\n",
    "The `lsst.geom` library provides the representation of a 2D coordinate `Point2D`.\n",
    "\n",
    "The `lsst.pipe.base` library provides access to the `lsst.pipe.base.Struct` container.\n",
    "\n",
    "[treecorr](https://rmjarvis.github.io/TreeCorr/_build/html/index.html) by [Jarvis et al. 2004](https://ui.adsabs.harvard.edu/abs/2004MNRAS.352..338J/abstract) is a widely used tool for fast correlations measurements based on a ball tree method (similar to a [k-d tree](https://en.wikipedia.org/wiki/K-d_tree)). In particular, it is widely used in state-of-the-art weak lensing cosmological analyses. "
   ]
  },
  {
   "cell_type": "code",
   "execution_count": null,
   "id": "d185358a-4c15-4b04-8e3d-13083191ee72",
   "metadata": {
    "tags": []
   },
   "outputs": [],
   "source": [
    "import numpy as np\n",
    "import matplotlib.pyplot as plt\n",
    "from scipy.optimize import curve_fit\n",
    "from scipy.stats import skew\n",
    "\n",
    "import lsst.daf.butler as dafButler\n",
    "import lsst.afw.display as afwDisplay\n",
    "from lsst.geom import Point2D, radToDeg, SpherePoint, degrees"
   ]
  },
  {
   "cell_type": "markdown",
   "id": "fa240aaf-d675-4d72-bb68-d736200f4980",
   "metadata": {},
   "source": [
    "### 1.2 Functions and Parameters Definitions"
   ]
  },
  {
   "cell_type": "markdown",
   "id": "b8dd7f04-f3d2-4f92-9927-acb9f47fe772",
   "metadata": {},
   "source": [
    "The following cell will set a standard figure size and `afwDisplay` backend to use throughout the notebook."
   ]
  },
  {
   "cell_type": "code",
   "execution_count": null,
   "id": "59f35be0-b960-46d7-bc1e-b875f641fd7a",
   "metadata": {
    "tags": []
   },
   "outputs": [],
   "source": [
    "plt.rcParams['figure.figsize'] = (8.0, 8.0)\n",
    "afwDisplay.setDefaultBackend('matplotlib')\n",
    "plt.style.use('tableau-colorblind10')"
   ]
  },
  {
   "cell_type": "markdown",
   "id": "955b0a82-9fb4-46fb-bc9b-2db4c04497ba",
   "metadata": {},
   "source": [
    "The following functions and parameters are defined once, and used throughout this notebook."
   ]
  },
  {
   "cell_type": "markdown",
   "id": "0781578e-6b82-4820-9fbb-bbee1c432e5e",
   "metadata": {},
   "source": [
    "**Constant**: `SIGMATOFWHM` \n",
    "\n",
    "Defines the convertion factor between the standard deviation `sigma` of a Gaussian function a the full-withd at half-maximum (FWHM): $2\\sqrt{2\\ln(2)}$\n",
    "\n",
    "**Function**: `gauss`\n",
    "\n",
    "Defines a one-dimensional Gaussian profile."
   ]
  },
  {
   "cell_type": "code",
   "execution_count": null,
   "id": "7d654417-a7d2-4a2c-9846-de3ee6bcbafb",
   "metadata": {
    "tags": []
   },
   "outputs": [],
   "source": [
    "SIGMATOFWHM = 2.0*np.sqrt(2.0*np.log(2.0))\n",
    "\n",
    "\n",
    "def gauss(x, a, x0, sigma):\n",
    "    return a*np.exp(-(x-x0)**2/(2*sigma**2))"
   ]
  },
  {
   "cell_type": "markdown",
   "id": "182df6b2-16ef-4bed-b91f-202334a73f15",
   "metadata": {},
   "source": [
    "**Function**: `getPsfProperties`\n",
    "\n",
    "Given a PSF model `lsst.meas.extensions.psfex.PsfexPsf` and a coordinate where the model is being evalualted, `lsst.geom.Point2D`, this functions returns the PSF FWHM, flux from aperture photometry, peak value of the normalized PSF (the PSF is normalized to sum one), and size of the PSF postage stamp."
   ]
  },
  {
   "cell_type": "code",
   "execution_count": null,
   "id": "25957b72-15ba-4459-a160-27c77b68d483",
   "metadata": {
    "tags": []
   },
   "outputs": [],
   "source": [
    "def getPsfProperties(psf, point):\n",
    "    \"\"\"Function to obtain PSF properties.\n",
    "\n",
    "    Parameters\n",
    "    ----------\n",
    "    psf : `lsst.meas.extensions.psfex.PsfexPsf`\n",
    "        PSF object.\n",
    "    point : `lsst.geom.Point2D`\n",
    "        Coordinate where the PSF is being evaluated.\n",
    "\n",
    "    Returns\n",
    "    -------\n",
    "        fwhm : `float`\n",
    "            Full-width at half maximuan: PSF determinat radius\n",
    "            from SDSS adaptive moments matrix (sigma) times\n",
    "            SIGMATOFWHM.\n",
    "        ap_flux : `float`\n",
    "            PSF flux from aperture photometry weighted\n",
    "            by a sinc function.\n",
    "        peak : `float`\n",
    "            Peak PSF value.\n",
    "        dims : `lsst.geom.ExtendI`\n",
    "            PSF postage stamp dimensions.\n",
    "    \"\"\"\n",
    "    sigma = psf.computeShape(point).getDeterminantRadius()\n",
    "    fwhm = sigma * SIGMATOFWHM\n",
    "    ap_flux = psf.computeApertureFlux(radius=sigma, position=point)\n",
    "    peak = psf.computePeak(position=point)\n",
    "    dims = psf.computeImage(point).getDimensions()\n",
    "\n",
    "    print(f\"PSF FWHM: {fwhm:.4} pix \\n\"\n",
    "          f\"PSF flux from aperture photometry: {ap_flux:.4} \\n\"\n",
    "          f\"Peak PSF value: {peak:.4} \\n\"\n",
    "          f\"PSF postage stamp dimensions: {dims} \\n\")\n",
    "\n",
    "    return (sigma, ap_flux, peak, dims)"
   ]
  },
  {
   "cell_type": "markdown",
   "id": "9376ef28-0cb2-44aa-ae2c-d569c44f1966",
   "metadata": {
    "execution": {
     "iopub.execute_input": "2023-09-16T23:31:51.836818Z",
     "iopub.status.busy": "2023-09-16T23:31:51.836052Z",
     "iopub.status.idle": "2023-09-16T23:31:52.051703Z",
     "shell.execute_reply": "2023-09-16T23:31:52.050845Z",
     "shell.execute_reply.started": "2023-09-16T23:31:51.836792Z"
    }
   },
   "source": [
    "**Function**: `plotRadialAverage`\n",
    "\n",
    "Plots the azimuthally-averaged radial profile of the PSF, and fits a Gaussian function to it."
   ]
  },
  {
   "cell_type": "code",
   "execution_count": null,
   "id": "fd51deb0-4d72-405c-a561-090754b2ccbc",
   "metadata": {
    "tags": []
   },
   "outputs": [],
   "source": [
    "def plotRadialAverage(exp, ax=None):\n",
    "    \"\"\"\n",
    "    Function to plot the radial average of a point spread function (PSF) image.\n",
    "\n",
    "    Parameters\n",
    "    ----------\n",
    "    exp : `lsst.afw.image.ExposureF`\n",
    "        The PSF image exposure.\n",
    "    ax : `matplotlib.axes.Axes`, optional\n",
    "        If provided, the plot will be drawn on this axis (default is None).\n",
    "\n",
    "    Returns\n",
    "    -------\n",
    "    ax : `matplotlib.axes.Axes`\n",
    "        The axis on which the plot was drawn.\n",
    "    \"\"\"\n",
    "    data = exp.array\n",
    "    xlen, ylen = data.shape\n",
    "    center = np.array([xlen / 2, ylen / 2])\n",
    "    distances = []\n",
    "    values = []\n",
    "\n",
    "    for i in range(xlen):\n",
    "        for j in range(ylen):\n",
    "            value = data[i, j]\n",
    "            dist = np.linalg.norm(np.array([i, j]) - center)\n",
    "            if dist <= xlen / 2:\n",
    "                values.append(value)\n",
    "                distances.append(dist)\n",
    "\n",
    "    peakPos = 0\n",
    "    amplitude = np.max(values)\n",
    "    width = 10\n",
    "\n",
    "    bounds = ((0, 0, 0), (np.inf, np.inf, np.inf))\n",
    "\n",
    "    try:\n",
    "        pars, pCov = curve_fit(gauss, distances, values,\n",
    "                               [amplitude, peakPos, width], bounds=bounds)\n",
    "        pars[0] = np.abs(pars[0])\n",
    "        pars[2] = np.abs(pars[2])\n",
    "    except RuntimeError:\n",
    "        pars = None\n",
    "\n",
    "    if ax is None:\n",
    "        ax = plt.gca()\n",
    "\n",
    "    ax.plot(distances, values, 'x', label='Radial average')\n",
    "\n",
    "    if pars is not None:\n",
    "        fitAmp = pars[0]\n",
    "        fitGausMean = pars[1]\n",
    "        fitFwhm = pars[2] * SIGMATOFWHM\n",
    "        fitline = gauss(distances, *pars)\n",
    "\n",
    "        x_fit = np.linspace(-np.max(distances), np.max(distances), 100)\n",
    "        y_fit = gauss(x_fit, *pars)\n",
    "        skewness = skew(y_fit, axis=0, bias=True)\n",
    "\n",
    "        ax.plot(distances, fitline,\n",
    "                label=f\" Gaussian Fit \\n Amp: {fitAmp:.3f}\"\n",
    "                      f\"\\n Position: {fitGausMean:.2f}\"\n",
    "                      f\"\\n FWHM: {fitFwhm:.2f}\"\n",
    "                      f\"\\n \\n Skeness: {skewness:.2f}\")\n",
    "\n",
    "    ax.set_ylabel('Flux (ADU)')\n",
    "    ax.set_xlabel('Radius (pix)')\n",
    "    ax.set_aspect(1.0 / ax.get_data_ratio(), adjustable='box')\n",
    "    ax.legend()\n",
    "    ax.set_title(\"Azimuthally-averaged radial profile\")\n",
    "\n",
    "    return ax"
   ]
  },
  {
   "cell_type": "markdown",
   "id": "fde6adc9-3a90-45c2-9b12-da811d75953a",
   "metadata": {
    "execution": {
     "iopub.execute_input": "2023-09-18T14:08:48.613653Z",
     "iopub.status.busy": "2023-09-18T14:08:48.612698Z",
     "iopub.status.idle": "2023-09-18T14:08:49.548203Z",
     "shell.execute_reply": "2023-09-18T14:08:49.546510Z",
     "shell.execute_reply.started": "2023-09-18T14:08:48.613621Z"
    }
   },
   "source": [
    "**Function**: `plotCurveOfGrowth`\n",
    "\n",
    "Plots the encircled energy ofthe PSF as a function of radius (curve of growth)."
   ]
  },
  {
   "cell_type": "code",
   "execution_count": null,
   "id": "17d482c9-b4c5-4151-bf1b-3c7162f6ca32",
   "metadata": {
    "tags": []
   },
   "outputs": [],
   "source": [
    "def plotCurveOfGrowth(exp, ax=None):\n",
    "    \"\"\"\n",
    "    Function to plot the curve of growth of a point\n",
    "    spread function (PSF) image.\n",
    "\n",
    "    Parameters\n",
    "    ----------\n",
    "    exp : `lsst.afw.image.ExposureF`\n",
    "        The PSF image exposure.\n",
    "    ax : `matplotlib.axes.Axes`, optional\n",
    "        If provided, the plot will be drawn on this axis (default is None).\n",
    "\n",
    "    Returns\n",
    "    -------\n",
    "    ax : `matplotlib.axes.Axes`\n",
    "        The axis on which the plot was drawn.\n",
    "    \"\"\"\n",
    "    data = exp.array\n",
    "    xlen, ylen = data.shape\n",
    "    center = np.array([xlen / 2, ylen / 2])\n",
    "    distances = []\n",
    "    values = []\n",
    "\n",
    "    for i in range(xlen):\n",
    "        for j in range(ylen):\n",
    "            value = data[i, j]\n",
    "            dist = np.linalg.norm(np.array([i, j]) - center)\n",
    "            if dist <= xlen / 2:\n",
    "                values.append(value)\n",
    "                distances.append(dist)\n",
    "\n",
    "    d = np.array([(r, v) for (r, v) in sorted(zip(distances, values))])\n",
    "    radii = d[:, 0]\n",
    "    values = d[:, 1]\n",
    "    cum_fluxes = np.cumsum(values)\n",
    "    cum_fluxes_norm = cum_fluxes / np.max(cum_fluxes)\n",
    "\n",
    "    if ax is None:\n",
    "        ax = plt.gca()\n",
    "\n",
    "    ax.plot(radii, cum_fluxes_norm, markersize=10)\n",
    "    ax.set_ylabel('Encircled flux (%)')\n",
    "    ax.set_xlabel('Radius (pix)')\n",
    "    ax.set_aspect(1.0 / ax.get_data_ratio(), adjustable='box')\n",
    "    ax.set_title(\"Encircled flux\")\n",
    "\n",
    "    return ax"
   ]
  },
  {
   "cell_type": "markdown",
   "id": "e8e6b637-76ca-4079-a43c-35f6def23dbd",
   "metadata": {
    "execution": {
     "iopub.execute_input": "2023-09-16T22:28:53.117282Z",
     "iopub.status.busy": "2023-09-16T22:28:53.116494Z",
     "iopub.status.idle": "2023-09-16T22:28:53.666615Z",
     "shell.execute_reply": "2023-09-16T22:28:53.665738Z",
     "shell.execute_reply.started": "2023-09-16T22:28:53.117257Z"
    }
   },
   "source": [
    "**Function**: `plotContours` \n",
    "\n",
    "Plots the two-dimensional contous of the PSF postage stamp."
   ]
  },
  {
   "cell_type": "code",
   "execution_count": null,
   "id": "f73d9bea-80f2-442d-99ac-7e23783304fd",
   "metadata": {
    "tags": []
   },
   "outputs": [],
   "source": [
    "def plotContours(exp, ax=None, nContours=10):\n",
    "    \"\"\"\n",
    "    Function to plot contour lines of a point spread function (PSF) image.\n",
    "\n",
    "    Parameters\n",
    "    ----------\n",
    "    exp : `lsst.afw.image.ExposureF`\n",
    "        The PSF image exposure.\n",
    "    ax : `matplotlib.axes.Axes`, optional\n",
    "        If provided, the plot will be drawn on this axis (default is None).\n",
    "    nContours : int, optional\n",
    "        The number of contour lines to plot (default is 10).\n",
    "\n",
    "    Returns\n",
    "    -------\n",
    "    ax : `matplotlib.axes.Axes`\n",
    "        The axis on which the plot was drawn.\n",
    "    \"\"\"\n",
    "    data = exp.array\n",
    "    xlen, ylen = data.shape\n",
    "\n",
    "    vmin = np.percentile(data, 0.1)\n",
    "    vmax = np.percentile(data, 99.9)\n",
    "    lvls = np.linspace(vmin, vmax, nContours)\n",
    "\n",
    "    xx, yy = np.meshgrid(np.arange(-xlen / 2, xlen / 2),\n",
    "                         np.arange(-ylen / 2, ylen / 2))\n",
    "\n",
    "    if ax is None:\n",
    "        ax = plt.gca()\n",
    "\n",
    "    ax.contour(xx, yy, data, levels=lvls)\n",
    "    ax.tick_params(which=\"both\", direction=\"in\", top=True,\n",
    "                   right=True, labelsize=8)\n",
    "    ax.set_aspect(\"equal\")\n",
    "    ax.set_xlabel('x (pix)')\n",
    "    ax.set_ylabel('y (pix)')\n",
    "    ax.set_title(\"Contour plot\")\n",
    "\n",
    "    return ax"
   ]
  },
  {
   "cell_type": "markdown",
   "id": "e54dfd24-7ab3-4a8a-a966-0ab7e08d1ed4",
   "metadata": {
    "tags": []
   },
   "source": [
    "### 2. PSF image manipulation in `calexp` and `deepCoadd` images.\n",
    "\n",
    "#### How are PSFs measured by the LSST Science Pipelines\n",
    "\n",
    "1. The initial stage in processing LSST science observations involves Instrument Signature Removal (ISR). This encompasses fundamental detrending operations like flat-fielding, bias subtraction, fringe correction, and rectification of flawed and oversaturated pixels. \n",
    "\n",
    "2. Subsequently, the focus shifts to characterizing single-epoch direct images, constructing models that depict the observational system and its conversion of the true celestial scene into the observed image. This process encompasses background subtraction, PSF modeling, addressing cosmic ray effects, applying aperture corrections, and source measurement. \n",
    "\n",
    "3. After segregating stars and galaxies, the PSF model in single-epoch images is assembled using data from a star catalog. \n",
    "\n",
    "The LSST Science Pipelines have partially transitioned to using the [PIFF (PSF in the Full-Field of View)](https://rmjarvis.github.io/Piff/_build/html/index.html) code for PSF modeling in the full field of view. However, the DP0.2 PSF models were generated using the Point Spread Function Extractor, [PSFEx](https://ui.adsabs.harvard.edu/abs/2013ascl.soft01001B/abstract), software.  \n",
    "\n",
    "In the forthcoming sub-sections, images of the PSF model at a specific location within both a `calexp` and a `deepCoadd` image will be generated. "
   ]
  },
  {
   "cell_type": "markdown",
   "id": "af207cd0-3eb8-49d0-be1f-85f078ca9380",
   "metadata": {
    "execution": {
     "iopub.execute_input": "2023-07-05T16:27:20.994415Z",
     "iopub.status.busy": "2023-07-05T16:27:20.993404Z",
     "iopub.status.idle": "2023-07-05T16:27:20.997680Z",
     "shell.execute_reply": "2023-07-05T16:27:20.996991Z",
     "shell.execute_reply.started": "2023-07-05T16:27:20.994378Z"
    },
    "tags": []
   },
   "source": [
    "#### 2.1 PSF in `calexp` images."
   ]
  },
  {
   "cell_type": "markdown",
   "id": "1bfbb0ef-2e5c-44e3-a848-ec9f01544571",
   "metadata": {},
   "source": [
    "Define the Butler instance for DP0.2 and select a particular single `calexp` image. Select the same image used in section 2 of DP0.2 Notebook Tutorial 3a. Pass the `visit` and `detector` numbers in order to uniquely constrain the image, and visualize the image afterwards."
   ]
  },
  {
   "cell_type": "code",
   "execution_count": null,
   "id": "82b41fed-5237-434e-ae97-5ef8c3805531",
   "metadata": {
    "tags": []
   },
   "outputs": [],
   "source": [
    "config = 'dp02'\n",
    "collections = '2.2i/runs/DP0.2'\n",
    "butler = dafButler.Butler(config, collections=collections)"
   ]
  },
  {
   "cell_type": "code",
   "execution_count": null,
   "id": "39cf8d6d-4df2-45e6-9ceb-cf95887e527b",
   "metadata": {
    "tags": []
   },
   "outputs": [],
   "source": [
    "datasetType = 'calexp'\n",
    "dataId = {'visit': 192350, 'detector': 175}\n",
    "calexp = butler.get(datasetType, dataId=dataId)"
   ]
  },
  {
   "cell_type": "markdown",
   "id": "1bbe0819-eba3-4006-9e1b-4f8d823525e2",
   "metadata": {},
   "source": [
    "The following plot is a 2D image of the `calexp` from the previous butler query, in pixel coordinates ranging from 0 to 4000 pixels in both axes, and with a contrast bar ranging from -300 to 400 digital units. Point and extended sources are scattered around the image. We will retrieve PSF models at particular points in this image."
   ]
  },
  {
   "cell_type": "code",
   "execution_count": null,
   "id": "a774d0f6-cd45-40bb-86ff-9a19ab1f64aa",
   "metadata": {
    "tags": []
   },
   "outputs": [],
   "source": [
    "fig = plt.figure(figsize=(5, 5))\n",
    "display = afwDisplay.Display(frame=fig)\n",
    "display.scale('asinh', 'zscale')\n",
    "display.mtv(calexp.image)\n",
    "plt.title(f'Calexp. dataID: {dataId}')\n",
    "plt.xlabel('x (pix)')\n",
    "plt.ylabel('y (pix)')\n",
    "plt.show()"
   ]
  },
  {
   "cell_type": "markdown",
   "id": "b6cb02b8-4297-45cc-82a3-ad2b37570335",
   "metadata": {},
   "source": [
    "Extract the PSF model from the exposure information, obtained from the `calexp` object itself."
   ]
  },
  {
   "cell_type": "code",
   "execution_count": null,
   "id": "75cbfc59-9fb1-4169-99aa-63fff065506d",
   "metadata": {
    "tags": []
   },
   "outputs": [],
   "source": [
    "info_calexp = calexp.getInfo()\n",
    "psf_calexp = info_calexp.getPsf()"
   ]
  },
  {
   "cell_type": "markdown",
   "id": "0514d1f6-46e7-4c29-967c-c8ad3bbbb365",
   "metadata": {},
   "source": [
    "##### 2.1.1 Basic `calexp` PSF properties\n",
    "\n",
    "Pick a specific point in the image with coordinates `(x, y) = (2000, 3500)` (indicated by the `point_tuple` variable) and utilize the PSF model along with the `getPsfProperties` helper function to obtain PSF properties, including size, aperture photometry flux, peak flux value, and dimensions of the PSF postage stamp."
   ]
  },
  {
   "cell_type": "code",
   "execution_count": null,
   "id": "2d50cbe7-4729-4045-866c-ad9ca041a34e",
   "metadata": {
    "tags": []
   },
   "outputs": [],
   "source": [
    "point_tuple = (2000, 3500)\n",
    "point_image = Point2D(point_tuple)"
   ]
  },
  {
   "cell_type": "code",
   "execution_count": null,
   "id": "8b0c9e9d-c6f3-4ffa-a720-76abdd78db24",
   "metadata": {
    "tags": []
   },
   "outputs": [],
   "source": [
    "props = getPsfProperties(psf_calexp, point_image)"
   ]
  },
  {
   "cell_type": "markdown",
   "id": "be8390a2-e8d6-4e57-a893-2d167e8a1fb4",
   "metadata": {},
   "source": [
    "The calculated PSF size corresponds to the full-width at half-maximum (FWHM) after applying the conversion factor `SIGMATOFWHM` defined earlier. The PSF is normalized to a sum of one, and its dimensions match those of a postage stamp containing the PSF, as illustrated in the sections below. The peak value signifies the highest normalized PSF value within the image."
   ]
  },
  {
   "cell_type": "markdown",
   "id": "3aeab067-2ea8-4e71-bdc8-7be52780de62",
   "metadata": {},
   "source": [
    "##### 2.1.2 `computeKernelImage` vs `computeImage`"
   ]
  },
  {
   "cell_type": "markdown",
   "id": "994ee3b5-7cf6-48ea-a4b1-e10067b93f4b",
   "metadata": {},
   "source": [
    "Use the `computeKernelImage` method to display the pixel-based model of the PSF at the same specific point selected above (`point_tuple` variable). "
   ]
  },
  {
   "cell_type": "code",
   "execution_count": null,
   "id": "1b1b46f5-6fa8-4059-88fc-115113e84ed4",
   "metadata": {
    "tags": []
   },
   "outputs": [],
   "source": [
    "psf_calexp_kernel = psf_calexp.computeKernelImage(point_image)\n",
    "first_psf_image_calexp = psf_calexp_kernel.convertF()"
   ]
  },
  {
   "cell_type": "markdown",
   "id": "3aa19867-59a3-4bc2-969d-a09a3fa1631d",
   "metadata": {},
   "source": [
    "The subsequent plot depicts a postage stamp or cut-out of a PSF model extracted from a `calexp` image using the `computeKernelImage` function. The PSF is centered at the origin, and the stamp is rectangular, encompassing 40 pixels and spanning from negative 20 to positive 20 pixels on each side. The color contrast bar spans a range from approximately negative 0.0002 to about 0.0003."
   ]
  },
  {
   "cell_type": "code",
   "execution_count": null,
   "id": "4ab8e49b-fb44-4d20-ae72-0e1c816cb49f",
   "metadata": {
    "tags": []
   },
   "outputs": [],
   "source": [
    "fig = plt.figure(figsize=(3, 3))\n",
    "afw_display = afwDisplay.Display(frame=fig)\n",
    "afw_display.scale('asinh', 'zscale')\n",
    "afw_display.mtv(first_psf_image_calexp)\n",
    "plt.xlabel('x (pix)')\n",
    "plt.ylabel('y (pix)')\n",
    "plt.gca().axis('on')\n",
    "plt.show()"
   ]
  },
  {
   "cell_type": "markdown",
   "id": "c991693c-b950-4b03-a396-649a7527983b",
   "metadata": {},
   "source": [
    "Note that the image coordinates are centered at the origin of the image. The coordinates of this origin point are (0,0), resulting in negative coordinates for the lower left point:"
   ]
  },
  {
   "cell_type": "code",
   "execution_count": null,
   "id": "161c6f7e-ead2-44d1-8a52-5fbb8fba61a4",
   "metadata": {
    "tags": []
   },
   "outputs": [],
   "source": [
    "print(first_psf_image_calexp.getXY0())"
   ]
  },
  {
   "cell_type": "markdown",
   "id": "4343915c-88e7-4980-b00b-3e77f67a7655",
   "metadata": {},
   "source": [
    "Now, instead of using `computeKernelImage`, utilize `computeImage`. The former positions the PSF center at the center of the central pixel within the stamp or cutout (`computeKernelImage`). On the other hand, the latter (`computeImage`) allows the PSF center to be placed at any arbitrary location. \n",
    "\n",
    "To achieve this, the astrometric solution, often referred to as the \"World Coordinate System\" (WCS) in the code, is needed. It maps pixel coordinates to sky coordinates and can also be obtained form the exposure information, as the PSF model. The \"WCS\" nomenclature is used for historical reasons. Note also that the `point_tuple` variable needs to be converted into an `lsst.geom.Point2D` object first. "
   ]
  },
  {
   "cell_type": "code",
   "execution_count": null,
   "id": "e309acb1-4213-4817-b64c-649557f35dbf",
   "metadata": {
    "tags": []
   },
   "outputs": [],
   "source": [
    "wcs_calexp = info_calexp.getWcs()\n",
    "point_object = Point2D(point_tuple)\n",
    "second_psf_image_calexp = psf_calexp.computeImage(point_object).convertF()"
   ]
  },
  {
   "cell_type": "markdown",
   "id": "b9a3decc-a8e3-4f14-aabc-06f7a03bbe72",
   "metadata": {},
   "source": [
    "The following plot shows a postage stamp or cut-out of a PSF model from a `calexp`, obtained using `computeKernelImage`. The PSF is centered around (2000, 3500), and the stamp is rectangular, with a size of 40 pixels, ranging from 1980 to 2020 pixels on the `x` axis and from about 3480 to 3520 on the `y` axis. The contrast bar ranges from negative 0.0002 to about 0.0003. "
   ]
  },
  {
   "cell_type": "code",
   "execution_count": null,
   "id": "23265383-a8df-4afe-add5-fc5499dd6c48",
   "metadata": {
    "tags": []
   },
   "outputs": [],
   "source": [
    "fig = plt.figure(figsize=(3, 3))\n",
    "afw_display = afwDisplay.Display(frame=fig)\n",
    "afw_display.scale('asinh', 'zscale')\n",
    "afw_display.mtv(second_psf_image_calexp)\n",
    "plt.xlabel('x (pix)')\n",
    "plt.ylabel('y (pix)')\n",
    "plt.gca().axis('on')\n",
    "plt.show()"
   ]
  },
  {
   "cell_type": "markdown",
   "id": "64bc5b3a-b2e2-4642-9bad-29fbb16a6259",
   "metadata": {},
   "source": [
    "Check again the coordinates for the lower left point in the previous image:"
   ]
  },
  {
   "cell_type": "code",
   "execution_count": null,
   "id": "1ca44e9b-1024-466e-82e5-35077156f11c",
   "metadata": {
    "tags": []
   },
   "outputs": [],
   "source": [
    "print(second_psf_image_calexp.getXY0())"
   ]
  },
  {
   "cell_type": "markdown",
   "id": "c731c48f-3126-4ca9-9bb5-b9549b0b2cb3",
   "metadata": {
    "execution": {
     "iopub.execute_input": "2023-07-05T18:22:30.461406Z",
     "iopub.status.busy": "2023-07-05T18:22:30.460243Z",
     "iopub.status.idle": "2023-07-05T18:22:30.469955Z",
     "shell.execute_reply": "2023-07-05T18:22:30.469108Z",
     "shell.execute_reply.started": "2023-07-05T18:22:30.461368Z"
    },
    "tags": []
   },
   "source": [
    "#### 2.2 PSF in `deepCoadd` images.\n",
    "\n",
    "**Context**: When conducting multi-epoch surveys for static-sky science, the traditional method involves creating coadds. This process entails resampling images from different observations onto a common grid and averaging them to generate a single, deeper image known as a `deepCoadd`. Additionally, a coadded point spread function (PSF) model is established. Handling PSF coadding with care is crucial to ensure a well-defined PSF.\n",
    "\n",
    "One of the challenges in coadding PSFs arises from slight variations observed between PSFs in different visits. Even minor differences make it practically impossible to accurately model the effective PSF of the coadd using coadded star images. Even small positional shifts, known as dithers, used to fill the gaps between charge-coupled devices introduce disruptions in the effective PSF of the coadd. As the number of dithers increases, the areas within the coadd with a continuous effective PSF become smaller, making it increasingly unlikely to find stars suitable for PSF modeling in each region. For the Hyper-Suprime Camera survey, [Bosch et al 2018](https://ui.adsabs.harvard.edu/abs/2018PASJ...70S...5B/abstract) use an approach that involves resampling and combining existing PSF models from the input images using the same coordinate transformations and weights applied to the image data. The Hyper-Suprime Camera survey analysis pipeline is based on the LSST Science Pipelines code."
   ]
  },
  {
   "cell_type": "markdown",
   "id": "222c76e3-37ee-4b18-9a3a-c6b1d9ea23f7",
   "metadata": {},
   "source": [
    "Visualize first the PSF model in a `deepCoadd` image similar to section 2.1, but this time using a `deepCoadd` image. \n",
    "\n",
    "Select the same point in the sky that we used to represent the PSF in the `calexp` of the previous section, to better appreciate the differences between the `deepCoadd` and an individual `calexp` PSF model.\n",
    "\n",
    "First, retrieve the right ascension and declination coordinates of the point we used in the previous section (stored in the variable `point_tuple`), as well as the band of that exposure. Then, follow the steps outlined in section 3.2 of the Notebook tutorial `DP02_01` to determine the `tract` and `patch` of the `deepCoadd`. "
   ]
  },
  {
   "cell_type": "code",
   "execution_count": null,
   "id": "3d0a0a0f-d055-4d49-9035-56e33f76205d",
   "metadata": {
    "tags": []
   },
   "outputs": [],
   "source": [
    "x, y = point_tuple\n",
    "ra, dec = wcs_calexp.pixelToSky(x, y)\n",
    "my_ra_deg = radToDeg(ra)\n",
    "my_dec_deg = radToDeg(dec)\n",
    "print(my_ra_deg, my_dec_deg)"
   ]
  },
  {
   "cell_type": "markdown",
   "id": "164225f0-8589-4d18-a61b-448837171464",
   "metadata": {},
   "source": [
    "The previous information, along with the `band`, will uniquely define a data ID that we can provide to the butler to access the corresponding `deepCoadd`."
   ]
  },
  {
   "cell_type": "code",
   "execution_count": null,
   "id": "c906ff57-a604-4984-89d9-72a509712727",
   "metadata": {
    "tags": []
   },
   "outputs": [],
   "source": [
    "my_band = info_calexp.getFilter().bandLabel\n",
    "print(my_band)"
   ]
  },
  {
   "cell_type": "markdown",
   "id": "e76e390a-544c-4e22-974e-94b611d7cdc2",
   "metadata": {},
   "source": [
    "Pass both the `tract` and `patch` numbers, along with the desired band (`i`), to uniquely specify the image we're interested in."
   ]
  },
  {
   "cell_type": "code",
   "execution_count": null,
   "id": "6aba3928-01c2-4e95-8004-cc6f3191e47a",
   "metadata": {
    "tags": []
   },
   "outputs": [],
   "source": [
    "my_spherePoint = SpherePoint(my_ra_deg*degrees,\n",
    "                             my_dec_deg*degrees)\n",
    "print(my_spherePoint)\n",
    "\n",
    "skymap = butler.get('skyMap')\n",
    "\n",
    "tract = skymap.findTract(my_spherePoint)\n",
    "patch = tract.findPatch(my_spherePoint)\n",
    "\n",
    "my_tract = tract.tract_id\n",
    "my_patch = patch.getSequentialIndex()\n",
    "\n",
    "print('my_tract: ', my_tract)\n",
    "print('my_patch: ', my_patch)"
   ]
  },
  {
   "cell_type": "code",
   "execution_count": null,
   "id": "7a3806f9-de0a-42a0-bcfd-c8b122ce326c",
   "metadata": {
    "tags": []
   },
   "outputs": [],
   "source": [
    "datasetType = 'deepCoadd'\n",
    "dataId = {'tract': my_tract, 'patch': my_patch, 'band': my_band}\n",
    "coadd = butler.get(datasetType, dataId=dataId)"
   ]
  },
  {
   "cell_type": "markdown",
   "id": "d886e6f8-d98d-4726-bc09-8b533a8d9d8f",
   "metadata": {},
   "source": [
    "The following plot is a 2D image of the `deepCoadd` from the previous butler query, in pixel coordinates ranging from 12000 to 16000 pixels in the horizontal axis and 0 to 4000 pixels in the vertical axis. The contrast bar ranges from negative 0.2 to 0.3 digital units. Point and extended sources are scattered around the image."
   ]
  },
  {
   "cell_type": "code",
   "execution_count": null,
   "id": "6a88abef-9142-44f0-a22d-ba65098e6ffe",
   "metadata": {},
   "outputs": [],
   "source": [
    "fig = plt.figure(figsize=(5, 5))\n",
    "display = afwDisplay.Display(frame=fig)\n",
    "display.scale('asinh', 'zscale')\n",
    "display.mtv(coadd.image)\n",
    "plt.title(f'deepCoadd. dataID: {dataId}')\n",
    "plt.xlabel('x (pix)')\n",
    "plt.ylabel('y (pix)')\n",
    "plt.show()"
   ]
  },
  {
   "cell_type": "markdown",
   "id": "d3ab3ac8-e588-4fe5-9956-c580adda7e52",
   "metadata": {},
   "source": [
    "Extract the PSF model from the exposure information, obtained from the `cdeepCoadd` object itself."
   ]
  },
  {
   "cell_type": "code",
   "execution_count": null,
   "id": "485babcf-e6a5-47ce-8dd5-ae7ffb35453e",
   "metadata": {
    "tags": []
   },
   "outputs": [],
   "source": [
    "info_coadd = coadd.getInfo()\n",
    "psf_coadd = info_coadd.getPsf()"
   ]
  },
  {
   "cell_type": "markdown",
   "id": "2ac87233-8dba-4f19-be6d-23fb1f51eeca",
   "metadata": {},
   "source": [
    "##### 2.1.1 Basic `deepCoadd` PSF properties\n",
    "\n",
    "Use the same specific point in the image with coordinates `(x, y) = (2000, 3500)` as above.\n",
    "\n",
    "In order to use the same point as in the example above with the `calexp`, retrieve first the WCS for the coadd information, and convert the sky point to local pixel coordinates in the `deepCoadd` image displayed in the previous cell.  "
   ]
  },
  {
   "cell_type": "code",
   "execution_count": null,
   "id": "46310f91-8936-481d-b35c-e4b99782067c",
   "metadata": {
    "tags": []
   },
   "outputs": [],
   "source": [
    "wcs_coadd = info_coadd.getWcs()\n",
    "point_image = wcs_coadd.skyToPixel(my_spherePoint)\n",
    "point_image"
   ]
  },
  {
   "cell_type": "markdown",
   "id": "1bc2c5a6-5527-437d-aa48-b874e3129ed6",
   "metadata": {},
   "source": [
    "Utilize the PSF model along with the `getPsfProperties` helper function to obtain PSF properties, including size, aperture photometry flux, peak flux value, and dimensions of the PSF postage stamp."
   ]
  },
  {
   "cell_type": "code",
   "execution_count": null,
   "id": "484d6b01-c1e0-471b-a905-e9c2af4252eb",
   "metadata": {
    "tags": []
   },
   "outputs": [],
   "source": [
    "props_psf_coadd = getPsfProperties(psf_coadd, point_image)"
   ]
  },
  {
   "cell_type": "markdown",
   "id": "0b44f6b9-480f-4e22-8e82-c69a298fd778",
   "metadata": {
    "execution": {
     "iopub.execute_input": "2023-09-18T16:49:05.541062Z",
     "iopub.status.busy": "2023-09-18T16:49:05.540231Z",
     "iopub.status.idle": "2023-09-18T16:49:05.703038Z",
     "shell.execute_reply": "2023-09-18T16:49:05.702332Z",
     "shell.execute_reply.started": "2023-09-18T16:49:05.541038Z"
    },
    "tags": []
   },
   "source": [
    "##### 2.1.2 `computeKernelImage` vs `computeImage`"
   ]
  },
  {
   "cell_type": "markdown",
   "id": "7648e581-4bcd-4a76-847f-71477f3a9e9a",
   "metadata": {},
   "source": [
    "Use `computeKernelImage` to display the pixel-based model of the PSF at a particular point. Note the higher signal-to-noise ratio in this image, compared to the single `calexp` PSF image in Section 2.1"
   ]
  },
  {
   "cell_type": "code",
   "execution_count": null,
   "id": "e9455bbb-1fa9-4ff7-860c-cc3223dbfefc",
   "metadata": {
    "tags": []
   },
   "outputs": [],
   "source": [
    "psf_kernel_coadd = psf_coadd.computeKernelImage(point_image)\n",
    "first_psf_image_coadd = psf_kernel_coadd.convertF()"
   ]
  },
  {
   "cell_type": "markdown",
   "id": "10997be2-331a-4ad2-ba1e-3bd3ecbcdda2",
   "metadata": {},
   "source": [
    "The following plot shows a postage stamp or cut-out of a PSF model from a `deepCoadd` image, obtained using `computeKernelImage`. The PSF is centered around zero, and the stamp is rectangular, with a size of about 50 pixels, ranging from -25 to 25 pixels on each size. The contrast bar ranges from -1e-5 to 7e-5 . "
   ]
  },
  {
   "cell_type": "code",
   "execution_count": null,
   "id": "ab1d1c0c-d55f-47cb-acbe-109828b6a7f3",
   "metadata": {
    "tags": []
   },
   "outputs": [],
   "source": [
    "fig = plt.figure(figsize=(3, 3))\n",
    "afw_display = afwDisplay.Display(frame=fig)\n",
    "afw_display.scale('asinh', 'zscale')\n",
    "afw_display.mtv(first_psf_image_coadd)\n",
    "plt.xlabel('x (pix)')\n",
    "plt.ylabel('y (pix)')\n",
    "plt.gca().axis('on')\n",
    "plt.show()"
   ]
  },
  {
   "cell_type": "markdown",
   "id": "d18805e7-b26c-45c4-92c5-b9d1443003cc",
   "metadata": {},
   "source": [
    "Print the coordinates of the lower-left corner:"
   ]
  },
  {
   "cell_type": "code",
   "execution_count": null,
   "id": "45d599ac-2c47-420b-8c9a-411fa34a4e06",
   "metadata": {
    "tags": []
   },
   "outputs": [],
   "source": [
    "print(first_psf_image_coadd.getXY0())"
   ]
  },
  {
   "cell_type": "markdown",
   "id": "3cf24788-f26e-4b1c-8752-514bca1a3687",
   "metadata": {},
   "source": [
    "Now, instead of `computeKernelImage`, use\n",
    "`computeImage`. \n",
    "\n",
    "One has the PSF center at the center of the \n",
    "central pixel in the stamp or cutout (computeKernelImage), and \n",
    "the other one (computeImage) can make it at any arbitrary location."
   ]
  },
  {
   "cell_type": "code",
   "execution_count": null,
   "id": "9a116e4c-8108-445e-a5c3-fc07efe06b09",
   "metadata": {
    "tags": []
   },
   "outputs": [],
   "source": [
    "second_psf_image_coadd = psf_coadd.computeImage(point_image).convertF()"
   ]
  },
  {
   "cell_type": "markdown",
   "id": "a1bcd692-3b79-4793-8ff2-f1b0daa71771",
   "metadata": {},
   "source": [
    "The following plot shows a postage stamp or cut-out of a PSF model from a `deepCoadd` image, obtained using `computeImage`. The PSF is no longer centered around zero as when we used `computeKernelImage`, but centered at about 13000 and 2325 pixels. The stamp is still rectangular, with a size of about 50 pixels, ranging from 12970 to 12970 pixels on the horizantal axis and 2250 to 2350 on the vertical axis. The contrast bar ranges from negative 1e-5 to 7e-5 ."
   ]
  },
  {
   "cell_type": "code",
   "execution_count": null,
   "id": "7e17192f-b5d4-4817-8e11-ec0c2532d2fa",
   "metadata": {
    "tags": []
   },
   "outputs": [],
   "source": [
    "fig = plt.figure(figsize=(3, 3))\n",
    "afw_display = afwDisplay.Display(frame=fig)\n",
    "afw_display.scale('asinh', 'zscale')\n",
    "afw_display.mtv(second_psf_image_coadd)\n",
    "plt.xlabel('x (pix)')\n",
    "plt.ylabel('y (pix)')\n",
    "plt.gca().axis('on')\n",
    "plt.show()"
   ]
  },
  {
   "cell_type": "markdown",
   "id": "7f5ea2b8-fd89-4ff2-ae9c-71b7090afd82",
   "metadata": {},
   "source": [
    "Look at the coordinates of the lower-left corner:"
   ]
  },
  {
   "cell_type": "code",
   "execution_count": null,
   "id": "1f4f53d3-80d2-4d0b-9d76-766b2124d4ed",
   "metadata": {
    "tags": []
   },
   "outputs": [],
   "source": [
    "second_psf_image_coadd.getXY0()"
   ]
  },
  {
   "cell_type": "markdown",
   "id": "92385ff5-cb7a-4670-9c04-d3df99b947cf",
   "metadata": {},
   "source": [
    "#### 2.3.  PSF properties for rapid analysis.\n",
    "\n",
    "Use the functions  `plotRadialAverageplotRadialAverage`, `plotCurveOfGrowth`, and `plotContours`, based on image quality code currently employed for the [swift PSF analysis of the LATISS images](https://roundtable.lsst.codes/rubintv/summit/auxtel/im_current) obtained by Rubin's AuxTel at Cerro Pachón, Chile."
   ]
  },
  {
   "cell_type": "markdown",
   "id": "b3fec3cc-7152-45b2-a05d-74753d265e86",
   "metadata": {},
   "source": [
    "##### 2.3.1 Radial profial and Gaussian fit.\n",
    "\n",
    "\n",
    "Plot an azymuthally-averaged one dimensional PSF profile and fit a Gaussian function to it, for both the `calexp` and `deepCoadd` PSF images. "
   ]
  },
  {
   "cell_type": "code",
   "execution_count": null,
   "id": "ce37032c-277c-47b2-ad9c-d49b8a24ddc5",
   "metadata": {
    "tags": []
   },
   "outputs": [],
   "source": [
    "fig, axes = plt.subplots(1, 2, figsize=(8, 4))\n",
    "ax1 = plotRadialAverage(first_psf_image_calexp, ax=axes[0])\n",
    "ax1.set_title(\"Radial Average (calexp)\")\n",
    "ax2 = plotRadialAverage(first_psf_image_coadd, ax=axes[1])\n",
    "ax2.set_title(\"Radial Average (deepCoadd)\")\n",
    "plt.tight_layout()\n",
    "plt.show()"
   ]
  },
  {
   "cell_type": "markdown",
   "id": "e9c30173-712a-4d04-b2d8-aa3b963ea679",
   "metadata": {},
   "source": [
    "##### 2.3.2  Contour plots\n",
    "\n",
    "Create contour lines on the PSF image. These contour lines depict regions of equal brightness. "
   ]
  },
  {
   "cell_type": "code",
   "execution_count": null,
   "id": "4bfb5ed3-7bae-434a-8d32-1884c55c5ae2",
   "metadata": {
    "tags": []
   },
   "outputs": [],
   "source": [
    "fig, axes = plt.subplots(1, 2, figsize=(8, 4))\n",
    "ax1 = plotContours(first_psf_image_calexp, ax=axes[0])\n",
    "ax1.set_title(\"Contours (calexp)\")\n",
    "ax2 = plotContours(first_psf_image_coadd, ax=axes[1])\n",
    "ax2.set_title(\"Contours (deepCoadd)\")\n",
    "plt.tight_layout()\n",
    "plt.show()"
   ]
  },
  {
   "cell_type": "markdown",
   "id": "7f67dc1e-0f83-4484-b3e9-309c3cdcc9da",
   "metadata": {},
   "source": [
    "##### 2.3.3 Encircled energy \n",
    "\n",
    "Calculate the cumulative amount of light enclosed by successively larger radii from the center of the PSF. This cumulative light measurement is normalized to the total light, resulting in a curve that reveals how light accumulates with increasing distance from the PSF center. "
   ]
  },
  {
   "cell_type": "code",
   "execution_count": null,
   "id": "6317c5ba-519f-4887-b22a-fbc9bc53a6cd",
   "metadata": {
    "tags": []
   },
   "outputs": [],
   "source": [
    "fig, axes = plt.subplots(1, 2, figsize=(8, 4))\n",
    "ax1 = plotCurveOfGrowth(first_psf_image_calexp, ax=axes[0])\n",
    "ax1.set_title(\"calexp\")\n",
    "ax2 = plotCurveOfGrowth(first_psf_image_coadd, ax=axes[1])\n",
    "ax2.set_title(\"deepCoadd\")\n",
    "plt.tight_layout()\n",
    "plt.show()"
   ]
  },
  {
   "cell_type": "markdown",
   "id": "22b3ff6f-07cb-41f5-b884-f4ca9d623c24",
   "metadata": {},
   "source": [
    "### Exercise for the Learner\n",
    "\n",
    "* The function `plotRadialAverage` uses a Gaussian function to fit the averaged PSF profile. Use a different functional form for fitting the one-dimensional PSF radial profiles, such as the Moffat profile (as described in section 3.1 of [Jarvis et al. 2021](https://ui.adsabs.harvard.edu/abs/2021MNRAS.501.1282J/abstract))."
   ]
  }
 ],
 "metadata": {
  "kernelspec": {
   "display_name": "LSST",
   "language": "python",
   "name": "lsst"
  },
  "language_info": {
   "codemirror_mode": {
    "name": "ipython",
    "version": 3
   },
   "file_extension": ".py",
   "mimetype": "text/x-python",
   "name": "python",
   "nbconvert_exporter": "python",
   "pygments_lexer": "ipython3",
   "version": "3.11.4"
  },
  "toc-autonumbering": false
 },
 "nbformat": 4,
 "nbformat_minor": 5
}
