{
 "cells": [
  {
   "cell_type": "markdown",
   "id": "973d2e4b-1fb6-4af3-be5e-f04fd1b3390a",
   "metadata": {},
   "source": [
    "# Create a large cutout of coadded images\n",
    "\n",
    "<img align=\"left\" src = https://project.lsst.org/sites/default/files/Rubin-O-Logo_0.png width=250 style=\"padding: 10px\" alt=\"Rubin Observatory logo, a graphical representation of turning stars into data.\">\n",
    "<br>\n",
    "Contact authors: Christina Williams, Melissa Graham <br>\n",
    "Last verified to run: 2024-05-13 <br>\n",
    "LSST Science Pipelines version: Weekly 2024_16 <br>\n",
    "Container Size: Large <br>\n",
    "Targeted learning level: Intermediate <br>"
   ]
  },
  {
   "cell_type": "markdown",
   "id": "cc18d3c3-0a18-4e6f-9f5e-ec4b0bb7dc64",
   "metadata": {},
   "source": [
    "**Description:** Create a large custom `deepCoadd` cutout."
   ]
  },
  {
   "cell_type": "markdown",
   "id": "de444327-7b83-48dd-af78-1b767f30e92c",
   "metadata": {},
   "source": [
    "**Skills:** Identify tracts and patches and combine them into a large custom `deepCoadd` cutout."
   ]
  },
  {
   "cell_type": "markdown",
   "id": "65848064-fe12-4060-8650-3ad786309402",
   "metadata": {},
   "source": [
    "**LSST Data Products:** deepCoadd_calexp"
   ]
  },
  {
   "cell_type": "markdown",
   "id": "14a042a2-5152-4256-9190-7a81222e1c1f",
   "metadata": {},
   "source": [
    "**Packages:** lsst.ip.diffim.GetTemplateTask"
   ]
  },
  {
   "cell_type": "markdown",
   "id": "ce2ecd7d-2b7d-4fea-8501-7b9a6f6b5df3",
   "metadata": {},
   "source": [
    "**Credit:** Thanks to Aline Chu for raising in the Rubin Community Forum the issue of how to create patch- and tract-spanning cutouts. Thanks to Gregory Dubois-Felsmann and Lauren MacArthur who helped in the Forum."
   ]
  },
  {
   "cell_type": "markdown",
   "id": "b5c4f690-88d7-4d69-aea5-0bc255372db8",
   "metadata": {},
   "source": [
    "**Get Support:**\n",
    "Find DP0-related documentation and resources at <a href=\"https://dp0.lsst.io\">dp0.lsst.io</a>.\n",
    "Questions are welcome as new topics in the \n",
    "<a href=\"https://community.lsst.org/c/support/dp0\">Support - Data Preview 0 Category</a> \n",
    "of the Rubin Community Forum. \n",
    "Rubin staff will respond to all questions posted there."
   ]
  },
  {
   "cell_type": "markdown",
   "id": "89c56237-1162-40f3-bac4-0171f6f61944",
   "metadata": {},
   "source": [
    "## 1. Introduction\n",
    "\n",
    "At the moment, the image cutout service demonstrated in DP0.2 tutorial notebook\n",
    "13a must be passed a tract and patch, and can only create a cutout from a single\n",
    "patch.\n",
    "\n",
    "This will always be a contraint for single processed visit images (PVIs,\n",
    "also known as `calexp`s).\n",
    "In the future, users will be able to request `deepCoadd` cutouts from the \n",
    "Rubin image cutout service which span patch and tract boundaries.\n",
    "\n",
    "In the meantime, this tutorial demonstrates how to use the `GetTemplateTask`\n",
    "to create a single cutout image with contributions from multiple adjacent\n",
    "patches and tracts. \n",
    "\n",
    "In the LSST Science Pipelines, `GetTemplateTask` is used to create a template\n",
    "image from `deepCoadd` images for a given PVI, in order to perform Difference Image Analysis."
   ]
  },
  {
   "cell_type": "markdown",
   "id": "44158545-a490-4c7a-a92e-ed951f943db1",
   "metadata": {},
   "source": [
    "As described in the documentation for\n",
    "<a href=\"https://pipelines.lsst.io/modules/lsst.ip.diffim/tasks/lsst.ip.diffim.GetTemplateTask.html\">GetTemplateTask</a>\n",
    "and its\n",
    "<a href=\"https://pipelines.lsst.io/py-api/lsst.ip.diffim.GetTemplateTask.html#lsst.ip.diffim.GetTemplateTask.run\">run method</a>,\n",
    "the function of this task is to:\n",
    "\n",
    "> *Build a template from existing coadds, which may span multiple tracts. The assembled template inherits the WCS of the selected skymap tract and the resolution of the template exposures. Overlapping box regions of the input template patches are pixel by pixel copied into the assembled template image. There is no warping or pixel resampling. Pixels with no overlap of any available input patches are set to nan value and NO_DATA flagged.*\n",
    "\n",
    ">*Where the tracts overlap, the resulting template image is averaged. The PSF on the template is created by combining the CoaddPsf on each template image into a meta-CoaddPsf.*"
   ]
  },
  {
   "cell_type": "markdown",
   "id": "eb6377f3-8a35-451e-9fe3-a8989a944f53",
   "metadata": {
    "execution": {
     "iopub.execute_input": "2024-05-04T21:56:55.196119Z",
     "iopub.status.busy": "2024-05-04T21:56:55.195330Z",
     "iopub.status.idle": "2024-05-04T21:56:55.199978Z",
     "shell.execute_reply": "2024-05-04T21:56:55.199425Z",
     "shell.execute_reply.started": "2024-05-04T21:56:55.196089Z"
    }
   },
   "source": [
    "**Related tutorials:**\n",
    "This tutorial assumes some familiarity with the following concepts.\n",
    "DP0.2 tutorial notebooks that demonstrate these concepts more fully are listed in parentheses.\n",
    "It is not necessary to run through all of these other tutorials before doing this one,\n",
    "but they might be useful as reference.\n",
    "\n",
    " * the butler (04a, 04b)\n",
    " * the TAP service (02)\n",
    " * image display (03a, 03b)"
   ]
  },
  {
   "cell_type": "markdown",
   "id": "0a3f0133-53e2-4fb4-9643-8d8351b9ef26",
   "metadata": {},
   "source": [
    "### 1.1. Import packages\n",
    "\n",
    "Import packages from the LSST Science Pipelines (top) and \n",
    "general python packages (bottom)."
   ]
  },
  {
   "cell_type": "code",
   "execution_count": null,
   "id": "b0195d52-71b0-4d34-b7af-9988cc522a26",
   "metadata": {},
   "outputs": [],
   "source": [
    "import lsst.afw.display as afwDisplay\n",
    "import lsst.geom as geom\n",
    "from lsst.rsp import get_tap_service, retrieve_query\n",
    "from lsst.daf.butler import Butler, CollectionType\n",
    "from lsst.ip.diffim import GetTemplateTask\n",
    "from lsst.afw.image import Image\n",
    "from lsst.afw.geom import makeSkyWcs\n",
    "\n",
    "import os, sys # delete sys later\n",
    "import matplotlib.pyplot as plt\n",
    "import numpy as np\n",
    "from astropy.wcs import WCS\n",
    "\n",
    "# Added CCW to sanity check WCS\n",
    "from photutils.aperture import SkyCircularAperture\n",
    "from astropy import units as u\n",
    "from astropy.coordinates import SkyCoord\n"
   ]
  },
  {
   "cell_type": "markdown",
   "id": "456ae0ad-2f86-4251-9e24-fcaabf32af18",
   "metadata": {},
   "source": [
    "### 1.2. Define functions and parameters\n",
    "\n",
    "Set the `afwDisplay` backend to `matplotlib`."
   ]
  },
  {
   "cell_type": "code",
   "execution_count": null,
   "id": "618960a9-c365-438c-bd25-737fdc8f9055",
   "metadata": {},
   "outputs": [],
   "source": [
    "afwDisplay.setDefaultBackend('matplotlib')"
   ]
  },
  {
   "cell_type": "markdown",
   "id": "1e29a746-6a8b-4087-b21d-96949be20661",
   "metadata": {},
   "source": [
    "Instantiate the TAP service."
   ]
  },
  {
   "cell_type": "code",
   "execution_count": null,
   "id": "974cae62-db64-469b-91c2-1fcb2b032949",
   "metadata": {},
   "outputs": [],
   "source": [
    "service = get_tap_service(\"tap\")"
   ]
  },
  {
   "cell_type": "markdown",
   "id": "47c63680-cf3d-485c-a2d1-fadbf1e2c296",
   "metadata": {},
   "source": [
    "Instantiate the butler."
   ]
  },
  {
   "cell_type": "code",
   "execution_count": null,
   "id": "da77a370-98df-44fa-903a-a26b69e83235",
   "metadata": {},
   "outputs": [],
   "source": [
    "config = 'dp02'\n",
    "collection = '2.2i/runs/DP0.2'\n",
    "butler = Butler(config, collections=collection)"
   ]
  },
  {
   "cell_type": "markdown",
   "id": "1f00a85e-c64f-473b-84e7-df0feaa0bdfc",
   "metadata": {},
   "source": [
    "## 2. Prepare to create the cutout\n",
    "\n",
    "### 2.1. Define central coordinates and box size\n",
    "\n",
    "Define the central coordinates and the size of the side of the desired cutout.\n",
    "\n",
    "For this example, the coordinates 50.5265, -39.7589 are known to be near the intersection of patches and tracts.\n",
    "\n",
    "The size of the cutout will be constrained by the container size selected\n",
    "when the Notebook Aspect session was started, because all the images\n",
    "that contribute to the cutout must be held in memory simultaneously\n",
    "and passed to `GetTemplateTask` (this will become clear in Section 3)."
   ]
  },
  {
   "cell_type": "code",
   "execution_count": null,
   "id": "d4918ac1-7798-494e-b78d-d8b0e16d5b6e",
   "metadata": {},
   "outputs": [],
   "source": [
    "my_ra = 50.5265\n",
    "my_dec = -39.7589\n",
    "box_side_deg = 0.2"
   ]
  },
  {
   "cell_type": "markdown",
   "id": "8ed96627-df56-4e30-8d22-747a81ba0fb6",
   "metadata": {},
   "source": [
    "Define the extent of the cutout in RA and Dec. Include the `cos(dec)` factor."
   ]
  },
  {
   "cell_type": "code",
   "execution_count": null,
   "id": "8c3239f8-b753-42f4-b43a-d342f14c1fe0",
   "metadata": {},
   "outputs": [],
   "source": [
    "ra1 = my_ra + 0.5 * box_side_deg / np.cos(np.radians(my_dec))\n",
    "ra2 = my_ra - 0.5 * box_side_deg / np.cos(np.radians(my_dec))\n",
    "dec1 = my_dec - 0.5 * box_side_deg\n",
    "dec2 = my_dec + 0.5 * box_side_deg\n",
    "print('ra1 = %8.4f,  ra2 = %8.4f,  delta RA = %6.3f' %\n",
    "      (ra1, ra2, np.abs(ra2-ra1)))\n",
    "print('dec1 = %8.4f, dec2 = %8.4f, delta Dec = %6.3f' %\n",
    "      (dec1, dec2, np.abs(dec2-dec1)))"
   ]
  },
  {
   "cell_type": "markdown",
   "id": "b051dd23-a6b2-480c-841b-d06b1f4cce93",
   "metadata": {},
   "source": [
    "Define corners of the cutout.\n",
    "\n",
    "The order is: SE, SW, NW, NE, as drawn in the plot above."
   ]
  },
  {
   "cell_type": "code",
   "execution_count": null,
   "id": "b0017729-c154-44a4-b005-168072327cfb",
   "metadata": {},
   "outputs": [],
   "source": [
    "corners = np.asarray([[ra1, dec1], [ra2, dec1],\n",
    "                      [ra2, dec2], [ra1, dec2]],\n",
    "                     dtype='float')"
   ]
  },
  {
   "cell_type": "markdown",
   "id": "437d51e3-8b17-40c1-8488-95ec42d17cac",
   "metadata": {},
   "source": [
    "Option to create a little plot to visualize the corners.\n",
    "\n",
    "Note that the figure is forced to 3:2 dimensions size."
   ]
  },
  {
   "cell_type": "code",
   "execution_count": null,
   "id": "c5df7472-f144-4011-a9fc-dda77a35815c",
   "metadata": {},
   "outputs": [],
   "source": [
    "fig = plt.figure(figsize=(3, 2))\n",
    "plt.plot(my_ra, my_dec, '*', ms=10, color='blue')\n",
    "clabels = ['1. SE', '2. SW', '3. NW', '4. NE']\n",
    "for corner, clabel in zip(corners, clabels):\n",
    "    plt.text(corner[0], corner[1], clabel, ha='center', va='center')\n",
    "plt.gca().invert_xaxis()\n",
    "plt.xlim([ra1+0.05, ra2-0.05])\n",
    "plt.ylim([dec1-0.05, dec2+0.05])\n",
    "plt.xlabel('RA')\n",
    "plt.ylabel('Dec')\n",
    "plt.show()"
   ]
  },
  {
   "cell_type": "markdown",
   "id": "63e545bc-1c79-4b38-afe4-e8fc357e5e2b",
   "metadata": {},
   "source": [
    "### 2.2. Identify nearest patch to use as anchor image\n",
    "\n",
    "Use the butler to find the tract and patch within which\n",
    "the central coordinates of the desired cutouts are most centered.\n",
    "\n",
    "This will be the tract and patch used as the \"anchor image\"\n",
    "when creating the big cutout."
   ]
  },
  {
   "cell_type": "code",
   "execution_count": null,
   "id": "b2246af6-08dd-48fa-8a1c-cdc3eb17449b",
   "metadata": {},
   "outputs": [],
   "source": [
    "my_point = geom.SpherePoint(my_ra * geom.degrees,\n",
    "                            my_dec * geom.degrees)\n",
    "skymap = butler.get('skyMap')\n",
    "tract = skymap.findTract(my_point)\n",
    "patch = tract.findPatch(my_point)\n",
    "anchor_tract = tract.tract_id\n",
    "anchor_patch = patch.getSequentialIndex()\n",
    "print('anchor tract and patch: ', anchor_tract, anchor_patch)\n",
    "del my_point, skymap, tract, patch"
   ]
  },
  {
   "cell_type": "markdown",
   "id": "5cee06e4-087a-4fcb-b291-e6f16bda8c90",
   "metadata": {},
   "source": [
    "### 2.3. Identify additional tracts and patches\n",
    "\n",
    "In the future, it will be possible to write ADQL statements\n",
    "that use the INTERSECTS functionality to identify all patches\n",
    "(or images) that overlap with a defined polygon.\n",
    "\n",
    "For now, use the TAP service to search the `coaddPatches` table\n",
    "for images with central coordinates that indicate the patch\n",
    "could *potentially* overlap with the defined extent of the \n",
    "desired cutout.\n",
    "\n",
    "Increase the extent of the search by the patch size to make sure\n",
    "no overlapping patch is missed.\n",
    "This may well end up identifying a few patches that do not, in the end,\n",
    "overlap with the extent of the desired cutout -- and that's ok."
   ]
  },
  {
   "cell_type": "code",
   "execution_count": null,
   "id": "6e15ec10-fc20-4e85-a3cb-c273d1fa0920",
   "metadata": {},
   "outputs": [],
   "source": [
    "sra1 = ra1 + 0.22\n",
    "sra2 = ra2 - 0.22\n",
    "sdec1 = dec1 - 0.22\n",
    "sdec2 = dec2 + 0.22\n",
    "\n",
    "scorners = np.asarray([[sra1, sdec1], [sra2, sdec1],\n",
    "                       [sra2, sdec2], [sra1, sdec2]],\n",
    "                      dtype='float')"
   ]
  },
  {
   "cell_type": "markdown",
   "id": "0c63856b-8d40-4a07-bc2b-e077f8e772b1",
   "metadata": {
    "execution": {
     "iopub.execute_input": "2024-05-04T21:16:07.067305Z",
     "iopub.status.busy": "2024-05-04T21:16:07.066559Z",
     "iopub.status.idle": "2024-05-04T21:16:07.070902Z",
     "shell.execute_reply": "2024-05-04T21:16:07.070415Z",
     "shell.execute_reply.started": "2024-05-04T21:16:07.067285Z"
    }
   },
   "source": [
    "Create the TAP query."
   ]
  },
  {
   "cell_type": "code",
   "execution_count": null,
   "id": "417e9968-15d1-4ea3-a336-4ab6317c8027",
   "metadata": {},
   "outputs": [],
   "source": [
    "string_polygon = \"\"\n",
    "for c, scorner in enumerate(scorners):\n",
    "    s1 = str(np.round(scorner[0], 4))\n",
    "    s2 = str(np.round(scorner[1], 4))\n",
    "    string_polygon += s1 + ', ' + s2\n",
    "    if c < 3:\n",
    "        string_polygon += ', '\n",
    "    del s1, s2\n",
    "\n",
    "query = \"SELECT lsst_patch,lsst_tract,s_dec,s_ra \"\\\n",
    "        \"FROM dp02_dc2_catalogs.CoaddPatches \"\\\n",
    "        \"WHERE CONTAINS(POINT('ICRS', s_ra, s_dec), \"\\\n",
    "        \"POLYGON('ICRS', \"+string_polygon+\"))=1\"\n",
    "print(query)"
   ]
  },
  {
   "cell_type": "markdown",
   "id": "6ea9cb99-03d8-4a3f-bc71-956e9b047dc3",
   "metadata": {},
   "source": [
    "Run the TAP query."
   ]
  },
  {
   "cell_type": "code",
   "execution_count": null,
   "id": "7e62d2bd-c496-4793-9ea0-ec1c9dfee7f0",
   "metadata": {},
   "outputs": [],
   "source": [
    "job = service.submit_job(query)\n",
    "job.run()\n",
    "job.wait(phases=['COMPLETED', 'ERROR'])\n",
    "print('Job phase is', job.phase)"
   ]
  },
  {
   "cell_type": "markdown",
   "id": "c1db9b34-febc-4734-ad8d-c5521cd56dfd",
   "metadata": {},
   "source": [
    "If the returned job phase was \"error\", uncomment the following to review the error."
   ]
  },
  {
   "cell_type": "code",
   "execution_count": null,
   "id": "abba2e71-1a6b-484c-aae2-1c4bafb29bcb",
   "metadata": {},
   "outputs": [],
   "source": [
    "# job.raise_if_error()"
   ]
  },
  {
   "cell_type": "markdown",
   "id": "3d974a58-6878-4ee1-9cde-17629c11ef13",
   "metadata": {
    "execution": {
     "iopub.execute_input": "2024-05-04T22:05:42.810839Z",
     "iopub.status.busy": "2024-05-04T22:05:42.810107Z",
     "iopub.status.idle": "2024-05-04T22:05:42.813866Z",
     "shell.execute_reply": "2024-05-04T22:05:42.813343Z",
     "shell.execute_reply.started": "2024-05-04T22:05:42.810818Z"
    }
   },
   "source": [
    "Retrieve the TAP results."
   ]
  },
  {
   "cell_type": "code",
   "execution_count": null,
   "id": "455e63aa-8aa1-4be4-b5a7-7d7aeccca5ce",
   "metadata": {},
   "outputs": [],
   "source": [
    "results = job.fetch_result().to_table()"
   ]
  },
  {
   "cell_type": "markdown",
   "id": "8afd1493-7625-4698-9e48-442920481213",
   "metadata": {},
   "source": [
    "Option to show the results."
   ]
  },
  {
   "cell_type": "code",
   "execution_count": null,
   "id": "d43c7da1-70e8-4581-9ad6-ffb291ff6c6f",
   "metadata": {},
   "outputs": [],
   "source": [
    "# results"
   ]
  },
  {
   "cell_type": "markdown",
   "id": "4508c32b-ed56-49b6-ace8-39f7d105ac5a",
   "metadata": {},
   "source": [
    "Hold the tract and patch values for images that \n",
    "will contribute, in addition to the anchor image,\n",
    "to the final custom cutout in `add_tracts_and_patches`."
   ]
  },
  {
   "cell_type": "code",
   "execution_count": null,
   "id": "dc5bfcc1-d755-448f-a247-d9e7854d1811",
   "metadata": {},
   "outputs": [],
   "source": [
    "temp = []\n",
    "for result in results:\n",
    "    tract = result['lsst_tract']\n",
    "    patch = result['lsst_patch']\n",
    "    if (tract != anchor_tract) | (patch != anchor_patch):\n",
    "        temp.append([tract, patch])\n",
    "add_tracts_and_patches = np.asarray(temp, dtype='int')\n",
    "del temp\n",
    "\n",
    "print('add these to the anchor patch: ')\n",
    "print(add_tracts_and_patches)"
   ]
  },
  {
   "cell_type": "markdown",
   "id": "58ddf4b6-2e91-4c87-82fd-4d02af8db7a2",
   "metadata": {},
   "source": [
    "## 3. Create the custom cutout\n",
    "\n",
    "Define the filter of the desired custom cutout."
   ]
  },
  {
   "cell_type": "code",
   "execution_count": null,
   "id": "712f4871-69e3-46b0-b3fe-cb3f5c20d229",
   "metadata": {},
   "outputs": [],
   "source": [
    "use_filter = 'r'"
   ]
  },
  {
   "cell_type": "markdown",
   "id": "7de7b519-a918-4297-ab5a-19017ae18e51",
   "metadata": {},
   "source": [
    "Define the `dataId` for the anchor image.\n",
    "\n",
    "Use the butler to retrieve the anchor image and its World Coordinate System (WCS)."
   ]
  },
  {
   "cell_type": "code",
   "execution_count": null,
   "id": "c6c45d64-ced7-4ee9-91a7-4aafc7ea07c9",
   "metadata": {},
   "outputs": [],
   "source": [
    "anchor_dataId = {'tract': anchor_tract, 'patch': anchor_patch,\n",
    "                 'band': use_filter}\n",
    "anchor_image = butler.get('deepCoadd_calexp', dataId=anchor_dataId)\n",
    "anchor_wcs = butler.get('deepCoadd_calexp.wcs', dataId=anchor_dataId)"
   ]
  },
  {
   "cell_type": "markdown",
   "id": "0c970cb2-6346-4c16-8499-d104cc063fac",
   "metadata": {},
   "source": [
    "Visually inspect the `anchor_image`. The below demonstration plots a circle centered at `my_ra` and `my_dec`, with diameter equal to the desired image box edge outlined above. The map indicates that the desired location is near the patch and tract edge and joining to other deepCoadds is required in order to display a contiguous image. "
   ]
  },
  {
   "cell_type": "code",
   "execution_count": null,
   "id": "4fdb5624-712b-46c0-952a-d6118dbf23bd",
   "metadata": {},
   "outputs": [],
   "source": [
    "radius = box_side_deg/2. * u.deg\n",
    "coord = SkyCoord(ra=my_ra*u.degree, dec=my_dec*u.degree, frame='icrs')\n",
    "\n",
    "wcs = WCS(anchor_image.getWcs().getFitsMetadata())\n",
    "plt.subplot(projection=WCS(anchor_image.getWcs().getFitsMetadata()))\n",
    "extent = (anchor_image.getBBox().beginX, anchor_image.getBBox().endX,\n",
    "                 anchor_image.getBBox().beginY, anchor_image.getBBox().endY)\n",
    "\n",
    "plt.imshow(anchor_image.image.array,vmin=.1,vmax=1,extent=extent, origin='lower',cmap='gray')\n",
    "\n",
    "aperture = SkyCircularAperture(coord, r=radius)\n",
    "pix_aperture = aperture.to_pixel(wcs)\n",
    "pix_aperture.plot(color='r',lw=3)\n"
   ]
  },
  {
   "cell_type": "markdown",
   "id": "32ffd0af-76be-439f-bce6-a82039c5432e",
   "metadata": {},
   "source": [
    "Create a bounding box for the new image using the anchor image's WCS."
   ]
  },
  {
   "cell_type": "code",
   "execution_count": null,
   "id": "f88b0326-3791-4aae-8726-9c6b30421a5b",
   "metadata": {},
   "outputs": [],
   "source": [
    "# this should be deleted:\n",
    "\n",
    "corner_SE_deg = geom.SpherePoint(corners[0][0], corners[0][1], geom.degrees)\n",
    "corner_NW_deg = geom.SpherePoint(corners[2][0], corners[2][1], geom.degrees)\n",
    "corner_SE_pix = anchor_wcs.skyToPixel(corner_SE_deg)\n",
    "corner_NW_pix = anchor_wcs.skyToPixel(corner_NW_deg)\n",
    "\n",
    "xmin = int(np.floor(corner_SE_pix[0]))\n",
    "ymin = int(np.floor(corner_SE_pix[1]))\n",
    "xmax = int(np.floor(corner_NW_pix[0]))\n",
    "ymax = int(np.floor(corner_NW_pix[1]))\n",
    "\n",
    "new_img = Image(geom.Box2I(minimum=geom.Point2I(x=xmin, y=ymin),\n",
    "                           maximum=geom.Point2I(x=xmax, y=ymax)),\n",
    "                dtype=np.float32)\n",
    "new_img_bbox = new_img.getBBox()\n",
    "print(new_img_bbox)\n",
    "\n",
    "del corner_SE_deg, corner_NW_deg, corner_SE_pix, corner_NW_pix\n",
    "del xmin, ymin, xmax, ymax\n",
    "del new_img\n",
    "\n",
    "\n"
   ]
  },
  {
   "cell_type": "markdown",
   "id": "9611d861-f18c-4a44-8be6-f11f93036332",
   "metadata": {
    "execution": {
     "iopub.execute_input": "2024-05-04T22:11:37.852011Z",
     "iopub.status.busy": "2024-05-04T22:11:37.851584Z",
     "iopub.status.idle": "2024-05-04T22:11:37.875109Z",
     "shell.execute_reply": "2024-05-04T22:11:37.874640Z",
     "shell.execute_reply.started": "2024-05-04T22:11:37.851994Z"
    }
   },
   "source": [
    "Create the arrays of `dataId`s and images to be passed to `GetTemplateTask`."
   ]
  },
  {
   "cell_type": "code",
   "execution_count": null,
   "id": "7e2ab8a5-8d2e-4e71-9239-673bd9957e0f",
   "metadata": {},
   "outputs": [],
   "source": [
    "# this should NOT be deleted??\n",
    "\n",
    "all_dataIds = [anchor_dataId]\n",
    "all_images = [anchor_image]\n",
    "for i in range(len(add_tracts_and_patches)):\n",
    "    temp_tract = add_tracts_and_patches[i][0]\n",
    "    temp_patch = add_tracts_and_patches[i][1]\n",
    "    temp_dataId = {'tract': temp_tract, 'patch': temp_patch,\n",
    "                   'band': use_filter}\n",
    "    temp_image = butler.get('deepCoadd_calexp', dataId=temp_dataId)\n",
    "\n",
    "    # CCW sanity check that all cdMatrix are the same for each deepCoadd (to delete)\n",
    "    #x = temp_image.getWcs().getFitsMetadata()\n",
    "    #print(x['CD1_1'],x['CD1_2'],x['CD2_1'],x['CD2_2'])\n",
    "    # end CCW sanity check\n",
    "    \n",
    "    all_images.append(temp_image)\n",
    "    all_dataIds.append(temp_dataId)\n",
    "    #del temp_tract, temp_patch, temp_dataId, temp_image"
   ]
  },
  {
   "cell_type": "markdown",
   "id": "a08998f1-0cf7-46dd-8873-3ef2b83a03e7",
   "metadata": {},
   "source": [
    "Option to print the `dataId`s."
   ]
  },
  {
   "cell_type": "code",
   "execution_count": null,
   "id": "3f71621c-c026-4b3e-8161-1eb20b4a5c17",
   "metadata": {},
   "outputs": [],
   "source": [
    "for dataId in all_dataIds:\n",
    "    print(dataId)"
   ]
  },
  {
   "cell_type": "markdown",
   "id": "a4ea673a-75e8-4322-aef9-0c1be00cdedc",
   "metadata": {},
   "source": [
    "Define `getTemplateTask`. \n",
    "\n",
    "No configuration changes are needed."
   ]
  },
  {
   "cell_type": "code",
   "execution_count": null,
   "id": "9c2cfe9d-5d8f-4e58-8dae-58b8120d7865",
   "metadata": {},
   "outputs": [],
   "source": [
    "getTemplateTask = GetTemplateTask()"
   ]
  },
  {
   "cell_type": "markdown",
   "id": "aab6d458-5922-4df8-94df-15fcc84ef4b2",
   "metadata": {},
   "source": [
    "Create the custom cutout as `newimage`.\n",
    "\n",
    ">**Notice:** Some input patch images might be skipped for not, in the end, overlapping with the defined bounding box after all. This was expected, as described in Section 2.3. "
   ]
  },
  {
   "cell_type": "code",
   "execution_count": null,
   "id": "4c6cb365-dc95-446d-9482-f1ec840e6fd7",
   "metadata": {},
   "outputs": [],
   "source": [
    "newimage = getTemplateTask.run(all_images, new_img_bbox,\n",
    "                               anchor_wcs, all_dataIds)"
   ]
  },
  {
   "cell_type": "markdown",
   "id": "4fd8e6cc-8289-42bc-a7b7-967b96ef1d9e",
   "metadata": {},
   "source": [
    "## 4. Visualize the custom cutout\n",
    "\n",
    "Extract metadata for the custom cutout."
   ]
  },
  {
   "cell_type": "code",
   "execution_count": null,
   "id": "1b1b7823-e3f2-480f-afb7-a189bbd60087",
   "metadata": {},
   "outputs": [],
   "source": [
    "newimage_wcs = newimage.template.getWcs()\n",
    "newimage_wcs_fmd = newimage.template.getWcs().getFitsMetadata()\n",
    "newimage_bbox = newimage.template.getBBox()\n",
    "newimage_extent = (newimage_bbox.beginX, newimage_bbox.endX,\n",
    "                   newimage_bbox.beginY, newimage_bbox.endY)"
   ]
  },
  {
   "cell_type": "markdown",
   "id": "27d8fcfb-a843-48ef-943b-aeb2a2ce542a",
   "metadata": {},
   "source": [
    "### 4.1. Display with matplotlib"
   ]
  },
  {
   "cell_type": "code",
   "execution_count": null,
   "id": "4b1a16cb-19f3-46a6-816e-5436c06be048",
   "metadata": {},
   "outputs": [],
   "source": [
    "fig = plt.figure(figsize=(8, 8))\n",
    "plt.subplot(projection=WCS(newimage_wcs_fmd))\n",
    "plt.imshow(newimage.template.image.array, vmin=0.01, vmax=0.5,\n",
    "           extent=newimage_extent, origin='lower', cmap='gray')\n",
    "plt.show()"
   ]
  },
  {
   "cell_type": "markdown",
   "id": "2c728097-f6a1-4c77-ad10-d7487b2136b0",
   "metadata": {},
   "source": [
    "### 4.2. Display with `afwDisplay`"
   ]
  },
  {
   "cell_type": "code",
   "execution_count": null,
   "id": "b2b7ead9-a7bd-4cc2-9aca-0f441b9ff003",
   "metadata": {},
   "outputs": [],
   "source": [
    "fig = plt.figure(figsize=(8, 8))\n",
    "display = afwDisplay.Display(frame=fig)\n",
    "display.scale('asinh', 'zscale')\n",
    "display.mtv(newimage.template.image)\n",
    "plt.show()"
   ]
  },
  {
   "cell_type": "markdown",
   "id": "c749612b-8130-431a-9d7e-34951883f9b5",
   "metadata": {},
   "source": [
    "### 4.3. Display with Firefly\n",
    "\n",
    "Firefly allows for interactive image display and manipulation.\n",
    "See DP0.2 tutorial notebook 03b for a full demonstration of how to use Firefly within the Notebook Aspect.\n",
    "\n",
    "Reset the `afwDisplay` backend to be Firefly and start the display.\n",
    "A new tab will open, containing the Firefly interface."
   ]
  },
  {
   "cell_type": "code",
   "execution_count": null,
   "id": "c7e26c4f-f426-4b5c-85fb-105f7090dede",
   "metadata": {},
   "outputs": [],
   "source": [
    "afwDisplay.setDefaultBackend('firefly')\n",
    "afw_display = afwDisplay.Display(frame=1)"
   ]
  },
  {
   "cell_type": "markdown",
   "id": "af11f3d0-37fc-4041-986c-27d4ed726f11",
   "metadata": {},
   "source": [
    "Display the image in Firely."
   ]
  },
  {
   "cell_type": "code",
   "execution_count": null,
   "id": "15df02e5-3dd9-45fe-8c04-5d9e464a08ed",
   "metadata": {},
   "outputs": [],
   "source": [
    "afw_display.mtv(newimage.template)"
   ]
  },
  {
   "cell_type": "markdown",
   "id": "4cf35ffd-8a3a-4941-9857-476b9796e342",
   "metadata": {},
   "source": [
    "The Firefly default is to visualize the mask plane with colors. \n",
    "Set the mask plane transparency to 100, fully transparent, to see only the pixel data."
   ]
  },
  {
   "cell_type": "code",
   "execution_count": null,
   "id": "6af04896-ba12-42e3-9498-baf779d7361c",
   "metadata": {},
   "outputs": [],
   "source": [
    "afw_display.setMaskTransparency(100)"
   ]
  },
  {
   "cell_type": "markdown",
   "id": "399da00b-9f89-4e83-b7cf-885d43df89e4",
   "metadata": {},
   "source": [
    "### 4.4. Option to save as a FITS file\n",
    "\n",
    "Save as a FITS file in the home directory.\n",
    "\n",
    "> **Warning:** Images can take up a lot of disk space. Save and download with caution."
   ]
  },
  {
   "cell_type": "code",
   "execution_count": null,
   "id": "b8fa969f-70cf-4548-93ca-9db5bf9b217a",
   "metadata": {},
   "outputs": [],
   "source": [
    "username = os.environ.get('USER')\n",
    "fnm = '/home/' + username + '/my_big_cutout.fits'\n",
    "newimage.template.writeFits(fnm)\n",
    "#del username, fnm"
   ]
  },
  {
   "cell_type": "markdown",
   "id": "f359b5f1-9981-403a-a6fc-38be60431aba",
   "metadata": {},
   "source": [
    "## 5. Test out large cutouts using custom WCS creation \n",
    "\n",
    "Here, use the makeSkyWcs, which constructs a simple FITS SkyWcs with no distortion. The plan: define a new WCS where the CRVAL are the coordinates of object of interest, the cdMatrix is the one defined for all deepCoadds (pixel scale), the CRPIX are defined as the center of the bounding box, and the bounding box is defined by the user as the\n",
    "\n",
    "From Gregory for testing purposes:\n",
    "\n",
    "I don't have the answer to that particular question.  I'm sure it is easy but I wouldn't be confident of giving you the minimal recipe.  I would ask on #dm-science-pipelines.  It is entirely possible that there's already a packaged-up solution to this.\n",
    "\n",
    "There are two sub-use cases:\n",
    "\n",
    "The desired cutout crosses patch boundaries but is within a single tract.  In that case the pixel grids are exactly compatible, so no reprojection is needed.  You just have to pull the pixels from the relevant patches (typically 2 but potentially up to no more than 4, unless the desired cutout is larger than the patch scale itself) and drop them into a single array.  If you're not reprojecting, at the end you have to be careful to preserve the CRPIX/CRVAL values of the inputs and not attempt to recenter the WCS on the cutout, because it's still on a tangent plane relative to the tract center.\n",
    "\n",
    "The cutout crosses tract boundaries.  In that case the best solution, I imagine, is to reproject all the inputs (again, typically 2-4 for moderately-sized cutouts) to a new tangent plane centered at the target and with north up."
   ]
  },
  {
   "cell_type": "code",
   "execution_count": null,
   "id": "056760b3-467a-44c9-b179-20c75d65a483",
   "metadata": {},
   "outputs": [],
   "source": [
    "# here just see what the various WCS formats are, so I know how to construct new one\n",
    "#print('WCS format from Melissas newimage:', newimage.template.getWcs())\n",
    "\n",
    "# getFitsMetadata returns a PropertyList which can be accessed as:\n",
    "#\n",
    "#print(x.names())\n",
    "#print(x)\n",
    "#x['CRPIX2']\n",
    "\n"
   ]
  },
  {
   "cell_type": "markdown",
   "id": "4ef65a2a-2547-462b-bdbb-46f0a2abcb6a",
   "metadata": {},
   "source": [
    "Below, define the parameters of the new WCS for the cutout. This will be input to makeSkyWcs as `newWCS` in this cell."
   ]
  },
  {
   "cell_type": "code",
   "execution_count": null,
   "id": "44786db2-dd67-4a1a-a7f2-8bd8ca9713fe",
   "metadata": {},
   "outputs": [],
   "source": [
    "\n",
    "# input formats needed for this function\n",
    "# makeSkyWcs(crpix: lsst.geom.Point2D, crval: lsst.geom.SpherePoint, \n",
    "#            cdMatrix: numpy.ndarray[numpy.float64[2, 2]], \n",
    "#            projection: str = ‘TAN’) -> lsst.afw.geom.SkyWcs\n",
    "\n",
    "# here you want the center (tangent point) to be the object of interest:\n",
    "crval = geom.SpherePoint(my_ra, my_dec, geom.degrees) \n",
    "\n",
    "# Now center pixel should be the center w.r.t. the bounding box\n",
    "# use melissa's bounding box for consistency:\n",
    "print('new img bbox', new_img_bbox)\n",
    "crpix1 = (new_img_bbox.x.max-new_img_bbox.x.min)/2\n",
    "crpix2 = (new_img_bbox.y.max-new_img_bbox.y.min)/2\n",
    "crpix = geom.Point2D(crpix1, crpix2)\n",
    "\n",
    "# I think cdMatrix is the same for all deepCoadds so just grab one from Section 3\n",
    "# TBD: make sure the order is correct, as expected in makeSkyWcs\n",
    "# x = newimage.template.getWcs().getFitsMetadata()\n",
    "x = temp_image.getWcs().getFitsMetadata()\n",
    "# x can use the anchor image because \n",
    "# the pixel scale is the same everywehre\n",
    "cdMatrix = [x['CD1_1'],x['CD1_2']],[x['CD2_1'],x['CD2_2']]\n",
    "projection = 'TAN'\n",
    "\n",
    "# Make the new WCS:\n",
    "newWCS = makeSkyWcs(crpix, crval, cdMatrix, projection)\n",
    "print('Newly generated WCS for the cross-tract cutout:', newWCS)\n",
    "print('Compare to the anchor cutout:',anchor_wcs)\n",
    "\n",
    "\n",
    "# update Melissa's bounding box to the pixel values of the newWCS:\n",
    "corner_SE_deg = geom.SpherePoint(corners[0][0], corners[0][1], geom.degrees)\n",
    "corner_NW_deg = geom.SpherePoint(corners[2][0], corners[2][1], geom.degrees)\n",
    "corner_SE_pix = newWCS.skyToPixel(corner_SE_deg)\n",
    "corner_NW_pix = newWCS.skyToPixel(corner_NW_deg)\n",
    "\n",
    "xmin = int(np.floor(corner_SE_pix[0]))\n",
    "ymin = int(np.floor(corner_SE_pix[1]))\n",
    "xmax = int(np.floor(corner_NW_pix[0]))\n",
    "ymax = int(np.floor(corner_NW_pix[1]))\n",
    "\n",
    "new_img2 = Image(geom.Box2I(minimum=geom.Point2I(x=xmin, y=ymin),\n",
    "                           maximum=geom.Point2I(x=xmax, y=ymax)),\n",
    "                dtype=np.float32)\n",
    "new_img2_bbox = new_img2.getBBox()\n",
    "\n",
    "# Generate a new cross-tract cutout with the new WCS:\n",
    "newimage2 = getTemplateTask.run(all_images, new_img2_bbox,\n",
    "                               newWCS, all_dataIds)\n",
    "\n",
    "\n",
    "newimage2_bbox = newimage2.template.getBBox()\n",
    "newimage2_extent = (newimage2_bbox.beginX, newimage2_bbox.endX,\n",
    "                   newimage2_bbox.beginY, newimage2_bbox.endY)\n",
    "newimage2_wcs_fmd = newimage2.template.getWcs().getFitsMetadata()\n",
    "\n",
    "fig = plt.figure(figsize=(8, 8))\n",
    "plt.subplot(projection=WCS(newimage2_wcs_fmd))\n",
    "plt.imshow(newimage2.template.image.array, vmin=0.01, vmax=0.5,\n",
    "           extent=newimage2_extent, origin='lower', cmap='gray')\n",
    "plt.show()\n"
   ]
  },
  {
   "cell_type": "markdown",
   "id": "424f20bf-3663-4d85-8c36-37273e207f1b",
   "metadata": {},
   "source": [
    "For now, use the same bounding box as in Section 3 for easy comparison. So below, re-generate the location of the bounding box corners using `newWCS`"
   ]
  },
  {
   "cell_type": "code",
   "execution_count": null,
   "id": "547da244-23bd-4717-9ce8-4e7bddfe472f",
   "metadata": {},
   "outputs": [],
   "source": []
  },
  {
   "cell_type": "markdown",
   "id": "938ae755-c622-4d2c-ab3d-ab9891164bd7",
   "metadata": {},
   "source": [
    "Re-define the meta-data properties for plotting, and then plot thew new image with user-defined WCS"
   ]
  },
  {
   "cell_type": "code",
   "execution_count": null,
   "id": "7bbd1bf4-2073-4f6b-9586-f4b445905699",
   "metadata": {},
   "outputs": [],
   "source": []
  },
  {
   "cell_type": "code",
   "execution_count": null,
   "id": "df553592-fb28-41dd-bda3-a17bf1e87d75",
   "metadata": {},
   "outputs": [],
   "source": []
  },
  {
   "cell_type": "code",
   "execution_count": null,
   "id": "44a0b934-808b-45d7-8bf9-376b21ad44bc",
   "metadata": {},
   "outputs": [],
   "source": [
    "#fnm = '/home/' + username + '/my_big_cutout_makeskywcs.fits'\n",
    "#newimage2.template.writeFits(fnm)\n",
    "#del username, fnm"
   ]
  },
  {
   "cell_type": "markdown",
   "id": "7c23d5fd-4137-4c00-be86-cc08b5491676",
   "metadata": {},
   "source": [
    "NOTES:\n",
    "\n",
    "- check that ra/dec of sources on outskirts are still at the right location\n",
    "\n",
    "- get the PSF. it comes with the image i got and ask it to provide the PSF for the x,y coordinates you're interested in. you might see some discontinuity in the PSF size FWHM.\n",
    "\n",
    "- ask it: gimme PSF at this point and the FWHM comes from butler. Andres has a tutorial notebook, just first one is fine. display image you put together and draw on the boundaries of which tract patch (and label and draw lines on it)\n",
    "\n",
    "- release notebook and call this done after that step is completed. \n",
    "try aaron for this review, if not, then jeff\n",
    "\n",
    "- PSF is stretch goal,  "
   ]
  }
 ],
 "metadata": {
  "kernelspec": {
   "display_name": "LSST",
   "language": "python",
   "name": "lsst"
  },
  "language_info": {
   "codemirror_mode": {
    "name": "ipython",
    "version": 3
   },
   "file_extension": ".py",
   "mimetype": "text/x-python",
   "name": "python",
   "nbconvert_exporter": "python",
   "pygments_lexer": "ipython3",
   "version": "3.11.7"
  }
 },
 "nbformat": 4,
 "nbformat_minor": 5
}
