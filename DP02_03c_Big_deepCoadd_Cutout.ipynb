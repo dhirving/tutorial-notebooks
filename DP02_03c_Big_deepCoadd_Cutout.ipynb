{
 "cells": [
  {
   "cell_type": "markdown",
   "id": "973d2e4b-1fb6-4af3-be5e-f04fd1b3390a",
   "metadata": {},
   "source": [
    "# Create a large cutout of coadded images\n",
    "\n",
    "<img align=\"left\" src = https://project.lsst.org/sites/default/files/Rubin-O-Logo_0.png width=250 style=\"padding: 10px\" alt=\"Rubin Observatory logo, a graphical representation of turning stars into data.\">\n",
    "<br>\n",
    "Contact authors: Christina Williams, Melissa Graham <br>\n",
    "Last verified to run: 2024-05-13 <br>\n",
    "LSST Science Pipelines version: Weekly 2024_16 <br>\n",
    "Container Size: Large <br>\n",
    "Targeted learning level: Intermediate <br>"
   ]
  },
  {
   "cell_type": "markdown",
   "id": "cc18d3c3-0a18-4e6f-9f5e-ec4b0bb7dc64",
   "metadata": {},
   "source": [
    "**Description:** Create a large custom `deepCoadd` cutout."
   ]
  },
  {
   "cell_type": "markdown",
   "id": "de444327-7b83-48dd-af78-1b767f30e92c",
   "metadata": {},
   "source": [
    "**Skills:** Identify tracts and patches and combine them into a large custom `deepCoadd` cutout."
   ]
  },
  {
   "cell_type": "markdown",
   "id": "65848064-fe12-4060-8650-3ad786309402",
   "metadata": {},
   "source": [
    "**LSST Data Products:** deepCoadd_calexp"
   ]
  },
  {
   "cell_type": "markdown",
   "id": "14a042a2-5152-4256-9190-7a81222e1c1f",
   "metadata": {},
   "source": [
    "**Packages:** lsst.ip.diffim.GetTemplateTask, lsst.afw.geom.makeSkyWcs"
   ]
  },
  {
   "cell_type": "markdown",
   "id": "ce2ecd7d-2b7d-4fea-8501-7b9a6f6b5df3",
   "metadata": {},
   "source": [
    "**Credit:** Thanks to Aline Chu for raising in the Rubin Community Forum the issue of how to create patch- and tract-spanning cutouts. Thanks to Gregory Dubois-Felsmann and Lauren MacArthur who helped in the Forum, and John Parejko and Yusra Al-Sayyad for help with the LSST science pipelines."
   ]
  },
  {
   "cell_type": "markdown",
   "id": "b5c4f690-88d7-4d69-aea5-0bc255372db8",
   "metadata": {},
   "source": [
    "**Get Support:**\n",
    "Find DP0-related documentation and resources at <a href=\"https://dp0.lsst.io\">dp0.lsst.io</a>.\n",
    "Questions are welcome as new topics in the \n",
    "<a href=\"https://community.lsst.org/c/support/dp0\">Support - Data Preview 0 Category</a> \n",
    "of the Rubin Community Forum. \n",
    "Rubin staff will respond to all questions posted there."
   ]
  },
  {
   "cell_type": "markdown",
   "id": "89c56237-1162-40f3-bac4-0171f6f61944",
   "metadata": {},
   "source": [
    "## 1. Introduction\n",
    "\n",
    "At the moment, the image cutout service demonstrated in DP0.2 tutorial notebook\n",
    "13a must be passed a tract and patch, and can only create a cutout from a single\n",
    "patch.\n",
    "\n",
    "This will always be a contraint for single processed visit images (PVIs,\n",
    "also known as `calexp`s).\n",
    "In the future, users will be able to request `deepCoadd` cutouts from the \n",
    "Rubin image cutout service which span patch and tract boundaries.\n",
    "\n",
    "In the meantime, this tutorial demonstrates how to use the `GetTemplateTask`\n",
    "to create a single cutout image with contributions from multiple adjacent\n",
    "patches and tracts. \n",
    "\n",
    "In the LSST Science Pipelines, `GetTemplateTask` is used to create a template\n",
    "image from `deepCoadd` images for a given PVI, in order to perform Difference Image Analysis."
   ]
  },
  {
   "cell_type": "markdown",
   "id": "44158545-a490-4c7a-a92e-ed951f943db1",
   "metadata": {},
   "source": [
    "As described in the documentation for\n",
    "<a href=\"https://pipelines.lsst.io/modules/lsst.ip.diffim/tasks/lsst.ip.diffim.GetTemplateTask.html\">GetTemplateTask</a>\n",
    "and its\n",
    "<a href=\"https://pipelines.lsst.io/py-api/lsst.ip.diffim.GetTemplateTask.html#lsst.ip.diffim.GetTemplateTask.run\">run method</a>,\n",
    "the function of this task is to:\n",
    "\n",
    "> *Build a template from existing coadds, which may span multiple tracts. The assembled template inherits the WCS of the selected skymap tract and the resolution of the template exposures. Overlapping box regions of the input template patches are pixel by pixel copied into the assembled template image. There is no warping or pixel resampling. Pixels with no overlap of any available input patches are set to nan value and NO_DATA flagged.*\n",
    "\n",
    ">*Where the tracts overlap, the resulting template image is averaged. The PSF on the template is created by combining the CoaddPsf on each template image into a meta-CoaddPsf.*"
   ]
  },
  {
   "cell_type": "markdown",
   "id": "eb6377f3-8a35-451e-9fe3-a8989a944f53",
   "metadata": {
    "execution": {
     "iopub.execute_input": "2024-05-04T21:56:55.196119Z",
     "iopub.status.busy": "2024-05-04T21:56:55.195330Z",
     "iopub.status.idle": "2024-05-04T21:56:55.199978Z",
     "shell.execute_reply": "2024-05-04T21:56:55.199425Z",
     "shell.execute_reply.started": "2024-05-04T21:56:55.196089Z"
    }
   },
   "source": [
    "**Related tutorials:**\n",
    "This tutorial assumes some familiarity with the following concepts.\n",
    "DP0.2 tutorial notebooks that demonstrate these concepts more fully are listed in parentheses.\n",
    "It is not necessary to run through all of these other tutorials before doing this one,\n",
    "but they might be useful as reference.\n",
    "\n",
    " * the butler (04a, 04b)\n",
    " * the TAP service (02)\n",
    " * image display (03a, 03b)"
   ]
  },
  {
   "cell_type": "code",
   "execution_count": 1,
   "id": "b42e8a3f-108b-4688-b781-fbff6345e474",
   "metadata": {
    "execution": {
     "iopub.execute_input": "2024-06-05T17:20:01.285330Z",
     "iopub.status.busy": "2024-06-05T17:20:01.285141Z",
     "iopub.status.idle": "2024-06-05T17:20:01.370565Z",
     "shell.execute_reply": "2024-06-05T17:20:01.369964Z",
     "shell.execute_reply.started": "2024-06-05T17:20:01.285312Z"
    }
   },
   "outputs": [],
   "source": [
    "%load_ext pycodestyle_magic\n",
    "%flake8_on\n",
    "import logging\n",
    "logging.getLogger(\"flake8\").setLevel(logging.FATAL)"
   ]
  },
  {
   "cell_type": "markdown",
   "id": "0a3f0133-53e2-4fb4-9643-8d8351b9ef26",
   "metadata": {},
   "source": [
    "### 1.1. Import packages\n",
    "\n",
    "Import packages from the LSST Science Pipelines (top) and \n",
    "general python packages (bottom)."
   ]
  },
  {
   "cell_type": "code",
   "execution_count": 2,
   "id": "b0195d52-71b0-4d34-b7af-9988cc522a26",
   "metadata": {
    "execution": {
     "iopub.execute_input": "2024-06-05T17:20:01.373152Z",
     "iopub.status.busy": "2024-06-05T17:20:01.372968Z",
     "iopub.status.idle": "2024-06-05T17:20:08.191047Z",
     "shell.execute_reply": "2024-06-05T17:20:08.190539Z",
     "shell.execute_reply.started": "2024-06-05T17:20:01.373136Z"
    }
   },
   "outputs": [
    {
     "data": {
      "text/html": [
       "<pre style=\"margin: 0.1em;\n",
       "padding-left: 0.25em;\n",
       "border-left-style: solid;\n",
       "font-family: var(--jp-code-font-family);\n",
       "font-size: var(--jp-code-font-size);\n",
       "line-height: var(--jp-code-line-height);\n",
       "\"><span style=\"color: var(--jp-warn-color2)\">pycodestyle</span> <span style=\"color: var(--jp-info-color0)\">INFO</span>: 14:80: E501 line too long (95 &gt; 79 characters)</pre>"
      ],
      "text/plain": [
       "<IPython.core.display.HTML object>"
      ]
     },
     "metadata": {},
     "output_type": "display_data"
    }
   ],
   "source": [
    "import lsst.afw.display as afwDisplay\n",
    "import lsst.geom as geom\n",
    "from lsst.rsp import get_tap_service, retrieve_query\n",
    "from lsst.daf.butler import Butler, CollectionType\n",
    "from lsst.ip.diffim import GetTemplateTask\n",
    "from lsst.afw.image import Image\n",
    "from lsst.afw.geom import makeSkyWcs\n",
    "\n",
    "import os\n",
    "import matplotlib.pyplot as plt\n",
    "import numpy as np\n",
    "from astropy.wcs import WCS\n",
    "\n",
    "from photutils.aperture import SkyCircularAperture, RectangularAperture, SkyRectangularAperture\n",
    "from astropy import units as u\n",
    "from astropy.coordinates import SkyCoord\n"
   ]
  },
  {
   "cell_type": "markdown",
   "id": "456ae0ad-2f86-4251-9e24-fcaabf32af18",
   "metadata": {},
   "source": [
    "### 1.2. Define functions and parameters\n",
    "\n",
    "Set the `afwDisplay` backend to `matplotlib`."
   ]
  },
  {
   "cell_type": "code",
   "execution_count": 3,
   "id": "618960a9-c365-438c-bd25-737fdc8f9055",
   "metadata": {
    "execution": {
     "iopub.execute_input": "2024-06-05T17:20:08.193598Z",
     "iopub.status.busy": "2024-06-05T17:20:08.193403Z",
     "iopub.status.idle": "2024-06-05T17:20:08.347249Z",
     "shell.execute_reply": "2024-06-05T17:20:08.346675Z",
     "shell.execute_reply.started": "2024-06-05T17:20:08.193580Z"
    }
   },
   "outputs": [],
   "source": [
    "afwDisplay.setDefaultBackend('matplotlib')"
   ]
  },
  {
   "cell_type": "markdown",
   "id": "1e29a746-6a8b-4087-b21d-96949be20661",
   "metadata": {},
   "source": [
    "Instantiate the TAP service."
   ]
  },
  {
   "cell_type": "code",
   "execution_count": 4,
   "id": "974cae62-db64-469b-91c2-1fcb2b032949",
   "metadata": {
    "execution": {
     "iopub.execute_input": "2024-06-05T17:20:08.348173Z",
     "iopub.status.busy": "2024-06-05T17:20:08.347981Z",
     "iopub.status.idle": "2024-06-05T17:20:08.522864Z",
     "shell.execute_reply": "2024-06-05T17:20:08.522263Z",
     "shell.execute_reply.started": "2024-06-05T17:20:08.348155Z"
    }
   },
   "outputs": [],
   "source": [
    "service = get_tap_service(\"tap\")"
   ]
  },
  {
   "cell_type": "markdown",
   "id": "47c63680-cf3d-485c-a2d1-fadbf1e2c296",
   "metadata": {},
   "source": [
    "Instantiate the butler."
   ]
  },
  {
   "cell_type": "code",
   "execution_count": 5,
   "id": "da77a370-98df-44fa-903a-a26b69e83235",
   "metadata": {
    "execution": {
     "iopub.execute_input": "2024-06-05T17:20:08.523832Z",
     "iopub.status.busy": "2024-06-05T17:20:08.523630Z",
     "iopub.status.idle": "2024-06-05T17:20:10.098207Z",
     "shell.execute_reply": "2024-06-05T17:20:10.097573Z",
     "shell.execute_reply.started": "2024-06-05T17:20:08.523814Z"
    }
   },
   "outputs": [],
   "source": [
    "config = 'dp02'\n",
    "collection = '2.2i/runs/DP0.2'\n",
    "butler = Butler(config, collections=collection)"
   ]
  },
  {
   "cell_type": "markdown",
   "id": "1f00a85e-c64f-473b-84e7-df0feaa0bdfc",
   "metadata": {},
   "source": [
    "## 2. Prepare to create the cutout\n",
    "\n",
    "### 2.1. Define central coordinates and box size\n",
    "\n",
    "Define the central coordinates and the size of the side of the desired cutout.\n",
    "\n",
    "For this example, the coordinates 50.5265, -39.7589 are known to be near the intersection of patches and tracts.\n",
    "\n",
    "The size of the cutout will be constrained by the container size selected\n",
    "when the Notebook Aspect session was started, because all the images\n",
    "that contribute to the cutout must be held in memory simultaneously\n",
    "and passed to `GetTemplateTask` (this will become clear in Section 3)."
   ]
  },
  {
   "cell_type": "code",
   "execution_count": 6,
   "id": "d4918ac1-7798-494e-b78d-d8b0e16d5b6e",
   "metadata": {
    "execution": {
     "iopub.execute_input": "2024-06-05T17:20:10.099256Z",
     "iopub.status.busy": "2024-06-05T17:20:10.099051Z",
     "iopub.status.idle": "2024-06-05T17:20:10.217021Z",
     "shell.execute_reply": "2024-06-05T17:20:10.216359Z",
     "shell.execute_reply.started": "2024-06-05T17:20:10.099239Z"
    }
   },
   "outputs": [],
   "source": [
    "my_ra = 50.5265\n",
    "my_dec = -39.7589\n",
    "box_side_deg = 0.2"
   ]
  },
  {
   "cell_type": "markdown",
   "id": "8ed96627-df56-4e30-8d22-747a81ba0fb6",
   "metadata": {},
   "source": [
    "Define the extent of the cutout in RA and Dec. Include the `cos(dec)` factor."
   ]
  },
  {
   "cell_type": "code",
   "execution_count": 7,
   "id": "8c3239f8-b753-42f4-b43a-d342f14c1fe0",
   "metadata": {
    "execution": {
     "iopub.execute_input": "2024-06-05T17:20:10.218137Z",
     "iopub.status.busy": "2024-06-05T17:20:10.217897Z",
     "iopub.status.idle": "2024-06-05T17:20:10.345047Z",
     "shell.execute_reply": "2024-06-05T17:20:10.344505Z",
     "shell.execute_reply.started": "2024-06-05T17:20:10.218116Z"
    }
   },
   "outputs": [
    {
     "name": "stdout",
     "output_type": "stream",
     "text": [
      "ra1 =  50.6566,  ra2 =  50.3964,  delta RA =  0.260\n",
      "dec1 = -39.8589, dec2 = -39.6589, delta Dec =  0.200\n"
     ]
    }
   ],
   "source": [
    "ra1 = my_ra + 0.5 * box_side_deg / np.cos(np.radians(my_dec))\n",
    "ra2 = my_ra - 0.5 * box_side_deg / np.cos(np.radians(my_dec))\n",
    "dec1 = my_dec - 0.5 * box_side_deg\n",
    "dec2 = my_dec + 0.5 * box_side_deg\n",
    "print('ra1 = %8.4f,  ra2 = %8.4f,  delta RA = %6.3f' %\n",
    "      (ra1, ra2, np.abs(ra2-ra1)))\n",
    "print('dec1 = %8.4f, dec2 = %8.4f, delta Dec = %6.3f' %\n",
    "      (dec1, dec2, np.abs(dec2-dec1)))"
   ]
  },
  {
   "cell_type": "markdown",
   "id": "b051dd23-a6b2-480c-841b-d06b1f4cce93",
   "metadata": {},
   "source": [
    "Define corners of the cutout.\n",
    "\n",
    "The order is: SE, SW, NW, NE, as drawn in the plot above."
   ]
  },
  {
   "cell_type": "code",
   "execution_count": 8,
   "id": "b0017729-c154-44a4-b005-168072327cfb",
   "metadata": {
    "execution": {
     "iopub.execute_input": "2024-06-05T17:20:10.346184Z",
     "iopub.status.busy": "2024-06-05T17:20:10.345778Z",
     "iopub.status.idle": "2024-06-05T17:20:10.460661Z",
     "shell.execute_reply": "2024-06-05T17:20:10.460067Z",
     "shell.execute_reply.started": "2024-06-05T17:20:10.346161Z"
    }
   },
   "outputs": [],
   "source": [
    "corners = np.asarray([[ra1, dec1], [ra2, dec1],\n",
    "                      [ra2, dec2], [ra1, dec2]],\n",
    "                     dtype='float')"
   ]
  },
  {
   "cell_type": "markdown",
   "id": "437d51e3-8b17-40c1-8488-95ec42d17cac",
   "metadata": {},
   "source": [
    "Option to create a little plot to visualize the corners.\n",
    "\n",
    "Note that the figure is forced to 3:2 dimensions size."
   ]
  },
  {
   "cell_type": "code",
   "execution_count": 9,
   "id": "c5df7472-f144-4011-a9fc-dda77a35815c",
   "metadata": {
    "execution": {
     "iopub.execute_input": "2024-06-05T17:20:10.461644Z",
     "iopub.status.busy": "2024-06-05T17:20:10.461450Z",
     "iopub.status.idle": "2024-06-05T17:20:10.691378Z",
     "shell.execute_reply": "2024-06-05T17:20:10.690760Z",
     "shell.execute_reply.started": "2024-06-05T17:20:10.461627Z"
    }
   },
   "outputs": [
    {
     "data": {
      "image/png": "[encoded data removed]",
      "text/plain": [
       "<Figure size 300x200 with 1 Axes>"
      ]
     },
     "metadata": {},
     "output_type": "display_data"
    }
   ],
   "source": [
    "fig = plt.figure(figsize=(3, 2))\n",
    "plt.plot(my_ra, my_dec, '*', ms=10, color='blue')\n",
    "clabels = ['1. SE', '2. SW', '3. NW', '4. NE']\n",
    "for corner, clabel in zip(corners, clabels):\n",
    "    plt.text(corner[0], corner[1], clabel, ha='center', va='center')\n",
    "plt.gca().invert_xaxis()\n",
    "plt.xlim([ra1+0.05, ra2-0.05])\n",
    "plt.ylim([dec1-0.05, dec2+0.05])\n",
    "plt.xlabel('RA')\n",
    "plt.ylabel('Dec')\n",
    "plt.show()"
   ]
  },
  {
   "cell_type": "markdown",
   "id": "63e545bc-1c79-4b38-afe4-e8fc357e5e2b",
   "metadata": {},
   "source": [
    "### 2.2. Identify nearest patch to use as anchor image\n",
    "\n",
    "Use the butler to find the tract and patch within which\n",
    "the central coordinates of the desired cutouts are most centered.\n",
    "\n",
    "This will be the tract and patch used as the \"anchor image\"\n",
    "when creating the big cutout.\n"
   ]
  },
  {
   "cell_type": "code",
   "execution_count": 10,
   "id": "b2246af6-08dd-48fa-8a1c-cdc3eb17449b",
   "metadata": {
    "execution": {
     "iopub.execute_input": "2024-06-05T17:20:10.692580Z",
     "iopub.status.busy": "2024-06-05T17:20:10.692173Z",
     "iopub.status.idle": "2024-06-05T17:20:11.298070Z",
     "shell.execute_reply": "2024-06-05T17:20:11.297486Z",
     "shell.execute_reply.started": "2024-06-05T17:20:10.692561Z"
    }
   },
   "outputs": [
    {
     "name": "stdout",
     "output_type": "stream",
     "text": [
      "anchor tract and patch:  3442 13\n"
     ]
    }
   ],
   "source": [
    "my_point = geom.SpherePoint(my_ra * geom.degrees,\n",
    "                            my_dec * geom.degrees)\n",
    "skymap = butler.get('skyMap')\n",
    "tract = skymap.findTract(my_point)\n",
    "patch = tract.findPatch(my_point)\n",
    "anchor_tract = tract.tract_id\n",
    "anchor_patch = patch.getSequentialIndex()\n",
    "print('anchor tract and patch: ', anchor_tract, anchor_patch)\n",
    "del my_point, skymap, tract, patch"
   ]
  },
  {
   "cell_type": "markdown",
   "id": "5cee06e4-087a-4fcb-b291-e6f16bda8c90",
   "metadata": {},
   "source": [
    "### 2.3. Identify additional tracts and patches\n",
    "\n",
    "In the future, it will be possible to write ADQL statements\n",
    "that use the INTERSECTS functionality to identify all patches\n",
    "(or images) that overlap with a defined polygon.\n",
    "\n",
    "For now, use the TAP service to search the `coaddPatches` table\n",
    "for images with central coordinates that indicate the patch\n",
    "could *potentially* overlap with the defined extent of the \n",
    "desired cutout.\n",
    "\n",
    "Increase the extent of the search by the patch size to make sure\n",
    "no overlapping patch is missed.\n",
    "This may well end up identifying a few patches that do not, in the end,\n",
    "overlap with the extent of the desired cutout -- and that's ok."
   ]
  },
  {
   "cell_type": "code",
   "execution_count": 11,
   "id": "6e15ec10-fc20-4e85-a3cb-c273d1fa0920",
   "metadata": {
    "execution": {
     "iopub.execute_input": "2024-06-05T17:20:11.298997Z",
     "iopub.status.busy": "2024-06-05T17:20:11.298788Z",
     "iopub.status.idle": "2024-06-05T17:20:11.415987Z",
     "shell.execute_reply": "2024-06-05T17:20:11.415424Z",
     "shell.execute_reply.started": "2024-06-05T17:20:11.298981Z"
    }
   },
   "outputs": [],
   "source": [
    "sra1 = ra1 + 0.22\n",
    "sra2 = ra2 - 0.22\n",
    "sdec1 = dec1 - 0.22\n",
    "sdec2 = dec2 + 0.22\n",
    "\n",
    "scorners = np.asarray([[sra1, sdec1], [sra2, sdec1],\n",
    "                       [sra2, sdec2], [sra1, sdec2]],\n",
    "                      dtype='float')"
   ]
  },
  {
   "cell_type": "markdown",
   "id": "0c63856b-8d40-4a07-bc2b-e077f8e772b1",
   "metadata": {
    "execution": {
     "iopub.execute_input": "2024-05-04T21:16:07.067305Z",
     "iopub.status.busy": "2024-05-04T21:16:07.066559Z",
     "iopub.status.idle": "2024-05-04T21:16:07.070902Z",
     "shell.execute_reply": "2024-05-04T21:16:07.070415Z",
     "shell.execute_reply.started": "2024-05-04T21:16:07.067285Z"
    }
   },
   "source": [
    "Create the TAP query."
   ]
  },
  {
   "cell_type": "code",
   "execution_count": 12,
   "id": "417e9968-15d1-4ea3-a336-4ab6317c8027",
   "metadata": {
    "execution": {
     "iopub.execute_input": "2024-06-05T17:20:11.417025Z",
     "iopub.status.busy": "2024-06-05T17:20:11.416722Z",
     "iopub.status.idle": "2024-06-05T17:20:11.547737Z",
     "shell.execute_reply": "2024-06-05T17:20:11.547179Z",
     "shell.execute_reply.started": "2024-06-05T17:20:11.417004Z"
    }
   },
   "outputs": [
    {
     "name": "stdout",
     "output_type": "stream",
     "text": [
      "SELECT lsst_patch,lsst_tract,s_dec,s_ra FROM dp02_dc2_catalogs.CoaddPatches WHERE CONTAINS(POINT('ICRS', s_ra, s_dec), POLYGON('ICRS', 50.8766, -40.0789, 50.1764, -40.0789, 50.1764, -39.4389, 50.8766, -39.4389))=1\n"
     ]
    }
   ],
   "source": [
    "string_polygon = \"\"\n",
    "for c, scorner in enumerate(scorners):\n",
    "    s1 = str(np.round(scorner[0], 4))\n",
    "    s2 = str(np.round(scorner[1], 4))\n",
    "    string_polygon += s1 + ', ' + s2\n",
    "    if c < 3:\n",
    "        string_polygon += ', '\n",
    "    del s1, s2\n",
    "\n",
    "query = \"SELECT lsst_patch,lsst_tract,s_dec,s_ra \"\\\n",
    "        \"FROM dp02_dc2_catalogs.CoaddPatches \"\\\n",
    "        \"WHERE CONTAINS(POINT('ICRS', s_ra, s_dec), \"\\\n",
    "        \"POLYGON('ICRS', \"+string_polygon+\"))=1\"\n",
    "print(query)"
   ]
  },
  {
   "cell_type": "markdown",
   "id": "6ea9cb99-03d8-4a3f-bc71-956e9b047dc3",
   "metadata": {},
   "source": [
    "Run the TAP query."
   ]
  },
  {
   "cell_type": "code",
   "execution_count": 13,
   "id": "7e62d2bd-c496-4793-9ea0-ec1c9dfee7f0",
   "metadata": {
    "execution": {
     "iopub.execute_input": "2024-06-05T17:20:11.548616Z",
     "iopub.status.busy": "2024-06-05T17:20:11.548416Z",
     "iopub.status.idle": "2024-06-05T17:20:12.993194Z",
     "shell.execute_reply": "2024-06-05T17:20:12.992626Z",
     "shell.execute_reply.started": "2024-06-05T17:20:11.548598Z"
    }
   },
   "outputs": [
    {
     "name": "stdout",
     "output_type": "stream",
     "text": [
      "Job phase is COMPLETED\n"
     ]
    }
   ],
   "source": [
    "job = service.submit_job(query)\n",
    "job.run()\n",
    "job.wait(phases=['COMPLETED', 'ERROR'])\n",
    "print('Job phase is', job.phase)"
   ]
  },
  {
   "cell_type": "markdown",
   "id": "c1db9b34-febc-4734-ad8d-c5521cd56dfd",
   "metadata": {},
   "source": [
    "If the returned job phase was \"error\", uncomment the following to review the error."
   ]
  },
  {
   "cell_type": "code",
   "execution_count": 14,
   "id": "abba2e71-1a6b-484c-aae2-1c4bafb29bcb",
   "metadata": {
    "execution": {
     "iopub.execute_input": "2024-06-05T17:20:12.994137Z",
     "iopub.status.busy": "2024-06-05T17:20:12.993923Z",
     "iopub.status.idle": "2024-06-05T17:20:13.117555Z",
     "shell.execute_reply": "2024-06-05T17:20:13.116716Z",
     "shell.execute_reply.started": "2024-06-05T17:20:12.994119Z"
    }
   },
   "outputs": [],
   "source": [
    "# job.raise_if_error()"
   ]
  },
  {
   "cell_type": "markdown",
   "id": "3d974a58-6878-4ee1-9cde-17629c11ef13",
   "metadata": {
    "execution": {
     "iopub.execute_input": "2024-05-04T22:05:42.810839Z",
     "iopub.status.busy": "2024-05-04T22:05:42.810107Z",
     "iopub.status.idle": "2024-05-04T22:05:42.813866Z",
     "shell.execute_reply": "2024-05-04T22:05:42.813343Z",
     "shell.execute_reply.started": "2024-05-04T22:05:42.810818Z"
    }
   },
   "source": [
    "Retrieve the TAP results."
   ]
  },
  {
   "cell_type": "code",
   "execution_count": 15,
   "id": "455e63aa-8aa1-4be4-b5a7-7d7aeccca5ce",
   "metadata": {
    "execution": {
     "iopub.execute_input": "2024-06-05T17:20:13.118615Z",
     "iopub.status.busy": "2024-06-05T17:20:13.118349Z",
     "iopub.status.idle": "2024-06-05T17:20:13.395572Z",
     "shell.execute_reply": "2024-06-05T17:20:13.394913Z",
     "shell.execute_reply.started": "2024-06-05T17:20:13.118596Z"
    }
   },
   "outputs": [],
   "source": [
    "results = job.fetch_result().to_table()"
   ]
  },
  {
   "cell_type": "markdown",
   "id": "8afd1493-7625-4698-9e48-442920481213",
   "metadata": {},
   "source": [
    "Option to show the results."
   ]
  },
  {
   "cell_type": "code",
   "execution_count": 16,
   "id": "d43c7da1-70e8-4581-9ad6-ffb291ff6c6f",
   "metadata": {
    "execution": {
     "iopub.execute_input": "2024-06-05T17:20:13.396809Z",
     "iopub.status.busy": "2024-06-05T17:20:13.396381Z",
     "iopub.status.idle": "2024-06-05T17:20:13.511776Z",
     "shell.execute_reply": "2024-06-05T17:20:13.511226Z",
     "shell.execute_reply.started": "2024-06-05T17:20:13.396788Z"
    }
   },
   "outputs": [],
   "source": [
    "# results"
   ]
  },
  {
   "cell_type": "markdown",
   "id": "4508c32b-ed56-49b6-ace8-39f7d105ac5a",
   "metadata": {},
   "source": [
    "Hold the tract and patch values for images that \n",
    "will contribute, in addition to the anchor image,\n",
    "to the final custom cutout in `add_tracts_and_patches`."
   ]
  },
  {
   "cell_type": "code",
   "execution_count": 17,
   "id": "dc5bfcc1-d755-448f-a247-d9e7854d1811",
   "metadata": {
    "execution": {
     "iopub.execute_input": "2024-06-05T17:20:13.512664Z",
     "iopub.status.busy": "2024-06-05T17:20:13.512482Z",
     "iopub.status.idle": "2024-06-05T17:20:13.638161Z",
     "shell.execute_reply": "2024-06-05T17:20:13.637636Z",
     "shell.execute_reply.started": "2024-06-05T17:20:13.512647Z"
    }
   },
   "outputs": [
    {
     "name": "stdout",
     "output_type": "stream",
     "text": [
      "add these to the anchor patch: \n",
      "[[3442   19]\n",
      " [3441    7]\n",
      " [3441   14]\n",
      " [3442   20]\n",
      " [3442   12]]\n"
     ]
    }
   ],
   "source": [
    "temp = []\n",
    "for result in results:\n",
    "    tract = result['lsst_tract']\n",
    "    patch = result['lsst_patch']\n",
    "    if (tract != anchor_tract) | (patch != anchor_patch):\n",
    "        temp.append([tract, patch])\n",
    "add_tracts_and_patches = np.asarray(temp, dtype='int')\n",
    "del temp\n",
    "\n",
    "print('add these to the anchor patch: ')\n",
    "print(add_tracts_and_patches)"
   ]
  },
  {
   "cell_type": "markdown",
   "id": "58ddf4b6-2e91-4c87-82fd-4d02af8db7a2",
   "metadata": {},
   "source": [
    "## 3. Create the custom cutout\n",
    "\n",
    "Define the filter of the desired custom cutout."
   ]
  },
  {
   "cell_type": "code",
   "execution_count": 18,
   "id": "712f4871-69e3-46b0-b3fe-cb3f5c20d229",
   "metadata": {
    "execution": {
     "iopub.execute_input": "2024-06-05T17:20:13.639170Z",
     "iopub.status.busy": "2024-06-05T17:20:13.638858Z",
     "iopub.status.idle": "2024-06-05T17:20:13.765254Z",
     "shell.execute_reply": "2024-06-05T17:20:13.764606Z",
     "shell.execute_reply.started": "2024-06-05T17:20:13.639150Z"
    }
   },
   "outputs": [],
   "source": [
    "use_filter = 'r'"
   ]
  },
  {
   "cell_type": "markdown",
   "id": "7de7b519-a918-4297-ab5a-19017ae18e51",
   "metadata": {},
   "source": [
    "Define the `dataId` for the anchor image.\n",
    "\n",
    "Use the butler to retrieve the anchor image and its World Coordinate System (WCS)."
   ]
  },
  {
   "cell_type": "code",
   "execution_count": 19,
   "id": "c6c45d64-ced7-4ee9-91a7-4aafc7ea07c9",
   "metadata": {
    "execution": {
     "iopub.execute_input": "2024-06-05T17:20:13.766227Z",
     "iopub.status.busy": "2024-06-05T17:20:13.766021Z",
     "iopub.status.idle": "2024-06-05T17:20:16.779710Z",
     "shell.execute_reply": "2024-06-05T17:20:16.779115Z",
     "shell.execute_reply.started": "2024-06-05T17:20:13.766208Z"
    }
   },
   "outputs": [
    {
     "name": "stdout",
     "output_type": "stream",
     "text": [
      "FITS standard SkyWcs:\n",
      "Sky Origin: (51.4285714286, -39.4214876033)\n",
      "Pixel Origin: (13999, 13999)\n",
      "Pixel Scale: 0.2 arcsec/pixel\n"
     ]
    }
   ],
   "source": [
    "anchor_dataId = {'tract': anchor_tract, 'patch': anchor_patch,\n",
    "                 'band': use_filter}\n",
    "anchor_image = butler.get('deepCoadd_calexp', dataId=anchor_dataId)\n",
    "anchor_wcs = butler.get('deepCoadd_calexp.wcs', dataId=anchor_dataId)\n",
    "print(anchor_wcs)"
   ]
  },
  {
   "cell_type": "markdown",
   "id": "0c970cb2-6346-4c16-8499-d104cc063fac",
   "metadata": {},
   "source": [
    "Visually inspect the `anchor_image`. The below demonstration plots a circle centered at `my_ra` and `my_dec`, with diameter equal to the desired image box edge outlined above. The map indicates that the desired location is near the patch and tract edge and joining to other deepCoadds is required in order to display a contiguous image. "
   ]
  },
  {
   "cell_type": "code",
   "execution_count": 20,
   "id": "4fdb5624-712b-46c0-952a-d6118dbf23bd",
   "metadata": {
    "execution": {
     "iopub.execute_input": "2024-06-05T17:20:16.780764Z",
     "iopub.status.busy": "2024-06-05T17:20:16.780551Z",
     "iopub.status.idle": "2024-06-05T17:20:20.895741Z",
     "shell.execute_reply": "2024-06-05T17:20:20.895183Z",
     "shell.execute_reply.started": "2024-06-05T17:20:16.780746Z"
    }
   },
   "outputs": [
    {
     "data": {
      "text/plain": [
       "(<matplotlib.patches.Circle at 0x7abbfdfe5a50>,)"
      ]
     },
     "execution_count": 20,
     "metadata": {},
     "output_type": "execute_result"
    },
    {
     "data": {
      "image/png": "[encoded data removed]",
      "text/plain": [
       "<Figure size 640x480 with 1 Axes>"
      ]
     },
     "metadata": {},
     "output_type": "display_data"
    },
    {
     "data": {
      "text/html": [
       "<pre style=\"margin: 0.1em;\n",
       "padding-left: 0.25em;\n",
       "border-left-style: solid;\n",
       "font-family: var(--jp-code-font-family);\n",
       "font-size: var(--jp-code-font-size);\n",
       "line-height: var(--jp-code-line-height);\n",
       "\"><span style=\"color: var(--jp-warn-color2)\">pycodestyle</span> <span style=\"color: var(--jp-info-color0)\">INFO</span>: 4:1: W293 blank line contains whitespace</pre>"
      ],
      "text/plain": [
       "<IPython.core.display.HTML object>"
      ]
     },
     "metadata": {},
     "output_type": "display_data"
    }
   ],
   "source": [
    "radius = box_side_deg/2. * u.deg\n",
    "coord = SkyCoord(ra=my_ra*u.degree, dec=my_dec*u.degree, frame='icrs')\n",
    "\n",
    " \n",
    "plt.subplot(projection=WCS(anchor_image.getWcs().getFitsMetadata()))\n",
    "extent = (anchor_image.getBBox().beginX, anchor_image.getBBox().endX,\n",
    "          anchor_image.getBBox().beginY, anchor_image.getBBox().endY)\n",
    "\n",
    "plt.imshow(anchor_image.image.array, vmin=.1, vmax=1, extent=extent,\n",
    "           origin='lower', cmap='gray')\n",
    "\n",
    "anchor_bbox = anchor_image.getBBox()\n",
    "\n",
    "\n",
    "aperture = SkyCircularAperture(coord, r=radius)\n",
    "pix_aperture = aperture.to_pixel(WCS(anchor_image.getWcs().getFitsMetadata()))\n",
    "pix_aperture.plot(color='r', lw=3)\n"
   ]
  },
  {
   "cell_type": "markdown",
   "id": "32ffd0af-76be-439f-bce6-a82039c5432e",
   "metadata": {},
   "source": []
  },
  {
   "cell_type": "markdown",
   "id": "9611d861-f18c-4a44-8be6-f11f93036332",
   "metadata": {
    "execution": {
     "iopub.execute_input": "2024-05-04T22:11:37.852011Z",
     "iopub.status.busy": "2024-05-04T22:11:37.851584Z",
     "iopub.status.idle": "2024-05-04T22:11:37.875109Z",
     "shell.execute_reply": "2024-05-04T22:11:37.874640Z",
     "shell.execute_reply.started": "2024-05-04T22:11:37.851994Z"
    }
   },
   "source": [
    "Create the arrays of `dataId`s and images to be passed to `GetTemplateTask`."
   ]
  },
  {
   "cell_type": "code",
   "execution_count": 21,
   "id": "7e2ab8a5-8d2e-4e71-9239-673bd9957e0f",
   "metadata": {
    "execution": {
     "iopub.execute_input": "2024-06-05T17:20:20.896684Z",
     "iopub.status.busy": "2024-06-05T17:20:20.896495Z",
     "iopub.status.idle": "2024-06-05T17:20:35.869514Z",
     "shell.execute_reply": "2024-06-05T17:20:35.868887Z",
     "shell.execute_reply.started": "2024-06-05T17:20:20.896668Z"
    }
   },
   "outputs": [],
   "source": [
    "all_dataIds = [anchor_dataId]\n",
    "all_images = [anchor_image]\n",
    "for i in range(len(add_tracts_and_patches)):\n",
    "    temp_tract = add_tracts_and_patches[i][0]\n",
    "    temp_patch = add_tracts_and_patches[i][1]\n",
    "    temp_dataId = {'tract': temp_tract, 'patch': temp_patch,\n",
    "                   'band': use_filter}\n",
    "    temp_image = butler.get('deepCoadd_calexp', dataId=temp_dataId)\n",
    "\n",
    "    all_images.append(temp_image)\n",
    "    all_dataIds.append(temp_dataId)\n",
    "    del temp_tract, temp_patch, temp_dataId, temp_image"
   ]
  },
  {
   "cell_type": "markdown",
   "id": "a08998f1-0cf7-46dd-8873-3ef2b83a03e7",
   "metadata": {},
   "source": [
    "Option to print the `dataId`s."
   ]
  },
  {
   "cell_type": "code",
   "execution_count": 22,
   "id": "3f71621c-c026-4b3e-8161-1eb20b4a5c17",
   "metadata": {
    "execution": {
     "iopub.execute_input": "2024-06-05T17:20:35.870573Z",
     "iopub.status.busy": "2024-06-05T17:20:35.870364Z",
     "iopub.status.idle": "2024-06-05T17:20:35.984680Z",
     "shell.execute_reply": "2024-06-05T17:20:35.984108Z",
     "shell.execute_reply.started": "2024-06-05T17:20:35.870556Z"
    }
   },
   "outputs": [
    {
     "name": "stdout",
     "output_type": "stream",
     "text": [
      "{'tract': 3442, 'patch': 13, 'band': 'r'}\n",
      "{'tract': 3442, 'patch': 19, 'band': 'r'}\n",
      "{'tract': 3441, 'patch': 7, 'band': 'r'}\n",
      "{'tract': 3441, 'patch': 14, 'band': 'r'}\n",
      "{'tract': 3442, 'patch': 20, 'band': 'r'}\n",
      "{'tract': 3442, 'patch': 12, 'band': 'r'}\n"
     ]
    }
   ],
   "source": [
    "for dataId in all_dataIds:\n",
    "    print(dataId)"
   ]
  },
  {
   "cell_type": "markdown",
   "id": "a4ea673a-75e8-4322-aef9-0c1be00cdedc",
   "metadata": {},
   "source": [
    "Define `getTemplateTask`. \n",
    "\n",
    "No configuration changes are needed."
   ]
  },
  {
   "cell_type": "code",
   "execution_count": 23,
   "id": "9c2cfe9d-5d8f-4e58-8dae-58b8120d7865",
   "metadata": {
    "execution": {
     "iopub.execute_input": "2024-06-05T17:20:35.985845Z",
     "iopub.status.busy": "2024-06-05T17:20:35.985567Z",
     "iopub.status.idle": "2024-06-05T17:20:36.109542Z",
     "shell.execute_reply": "2024-06-05T17:20:36.108887Z",
     "shell.execute_reply.started": "2024-06-05T17:20:35.985825Z"
    }
   },
   "outputs": [],
   "source": [
    "getTemplateTask = GetTemplateTask()"
   ]
  },
  {
   "cell_type": "markdown",
   "id": "33fe4b2f-943a-4bed-a189-948a980662fb",
   "metadata": {},
   "source": [
    "\n",
    "Build the WCS definition for the new cutout. There are two sub-use cases. \n",
    "\n",
    "If the desired cutout crosses patch boundaries but is within a single tract, then the pixel grids are exactly compatible, and no reprojection is needed. Pixels from adjacent patches can be exactly stitched together at the boundaries, without having to re-define a WCS and reproject the pixels onto it.  Pixels can be taken from the relevant patches and stitched into a single array.  If not reprojecting, careful to preserve the CRPIX/CRVAL values of the inputs and not attempt to recenter the WCS on the cutout, because it's still on a tangent plane relative to the tract center.\n",
    "\n",
    "However, if the cutout crosses tract boundaries (which have independent projections and WCS), then one must reproject the input images to a new tangent plane centered at the target and with north up. This more general case is demonstrated below, and will work also for the simpler case of adjacent patches within one tract.\n",
    "\n",
    "The cell below defines the new WCS for the joined images across both patch and tract boundaries.  The WCS consists of 4 components: 1) the ra and dec of the center of the image defined as `crval`;  2) the center pixel (x, y) defined as `crpix`. In Section 1, the cutout area of interest is defined in `box_side_deg` as 0.2 degrees on a side (12 arcminutes). The center is defined as `box_side_deg` converted to arcsec and then divided in half; dividing that by the deepCoadd pixel scale of 0.2 arcsec/pixel then allows us to find the center pixel of the resulting area of sky; 3) the pixel scale, which is a 2x2 matrix defined as `cdMatrix`; 4) the projection of the WCS `projection`, which is defined as `TAN` (referring to a new tangent projection centered at the `crval`). Note that the pixel scale of all deepCoadds are always the same; the new WCS can thus recycle the one from `anchor_image`."
   ]
  },
  {
   "cell_type": "code",
   "execution_count": 24,
   "id": "d648ade4-987d-4ec4-b9a5-e44bae5af41f",
   "metadata": {
    "execution": {
     "iopub.execute_input": "2024-06-05T17:20:36.113726Z",
     "iopub.status.busy": "2024-06-05T17:20:36.113522Z",
     "iopub.status.idle": "2024-06-05T17:20:36.270659Z",
     "shell.execute_reply": "2024-06-05T17:20:36.270059Z",
     "shell.execute_reply.started": "2024-06-05T17:20:36.113709Z"
    }
   },
   "outputs": [],
   "source": [
    "crval = geom.SpherePoint(my_ra, my_dec, geom.degrees)\n",
    "\n",
    "crpix = box_side_deg * 3600 / 2. / 0.2\n",
    "crpix1 = crpix\n",
    "crpix2 = crpix\n",
    "crpix = geom.Point2D(crpix1, crpix2)\n",
    "\n",
    "x = anchor_image.getWcs().getFitsMetadata()\n",
    "cdMatrix = [x['CD1_1'], x['CD1_2']], [x['CD2_1'], x['CD2_2']]\n",
    "\n",
    "projection = 'TAN'\n"
   ]
  },
  {
   "cell_type": "markdown",
   "id": "aa831407-bf87-431d-abca-7cf38420b37f",
   "metadata": {},
   "source": [
    "Define the new WCS for the large cutout using the `makeSkyWcs` method based on the definition above."
   ]
  },
  {
   "cell_type": "code",
   "execution_count": 25,
   "id": "299762b8-095b-4b0b-b36d-e3a91377d7da",
   "metadata": {
    "execution": {
     "iopub.execute_input": "2024-06-05T17:20:36.271622Z",
     "iopub.status.busy": "2024-06-05T17:20:36.271429Z",
     "iopub.status.idle": "2024-06-05T17:20:36.388886Z",
     "shell.execute_reply": "2024-06-05T17:20:36.388308Z",
     "shell.execute_reply.started": "2024-06-05T17:20:36.271604Z"
    }
   },
   "outputs": [
    {
     "name": "stdout",
     "output_type": "stream",
     "text": [
      "FITS standard SkyWcs:\n",
      "Sky Origin: (50.5265000000, -39.7589000000)\n",
      "Pixel Origin: (1800, 1800)\n",
      "Pixel Scale: 0.2 arcsec/pixel\n",
      "FITS standard SkyWcs:\n",
      "Sky Origin: (51.4285714286, -39.4214876033)\n",
      "Pixel Origin: (13999, 13999)\n",
      "Pixel Scale: 0.2 arcsec/pixel\n"
     ]
    }
   ],
   "source": [
    "newWCS = makeSkyWcs(crpix, crval, cdMatrix, projection)\n",
    "print(newWCS)\n",
    "print(anchor_image.getWcs())"
   ]
  },
  {
   "cell_type": "markdown",
   "id": "42cdee00-072e-4377-a060-24ce493eae3b",
   "metadata": {},
   "source": [
    "Create a bounding box for the new image."
   ]
  },
  {
   "cell_type": "code",
   "execution_count": 26,
   "id": "838b76bb-5235-4caf-80a8-5651c8853d18",
   "metadata": {
    "execution": {
     "iopub.execute_input": "2024-06-05T17:20:36.389817Z",
     "iopub.status.busy": "2024-06-05T17:20:36.389622Z",
     "iopub.status.idle": "2024-06-05T17:20:36.544195Z",
     "shell.execute_reply": "2024-06-05T17:20:36.543564Z",
     "shell.execute_reply.started": "2024-06-05T17:20:36.389800Z"
    }
   },
   "outputs": [],
   "source": [
    "corner_SE_deg = geom.SpherePoint(corners[0][0], corners[0][1], geom.degrees)\n",
    "corner_NW_deg = geom.SpherePoint(corners[2][0], corners[2][1], geom.degrees)\n",
    "corner_SE_pix = newWCS.skyToPixel(corner_SE_deg)\n",
    "corner_NW_pix = newWCS.skyToPixel(corner_NW_deg)\n",
    "\n",
    "xmin = int(np.floor(corner_SE_pix[0]))\n",
    "ymin = int(np.floor(corner_SE_pix[1]))\n",
    "xmax = int(np.floor(corner_NW_pix[0]))\n",
    "ymax = int(np.floor(corner_NW_pix[1]))\n",
    "\n",
    "newimg_shape = Image(geom.Box2I(minimum=geom.Point2I(x=xmin, y=ymin),\n",
    "                                maximum=geom.Point2I(x=xmax, y=ymax)),\n",
    "                     dtype=np.float32)\n",
    "newimage_bbox = newimg_shape.getBBox()\n"
   ]
  },
  {
   "cell_type": "code",
   "execution_count": 28,
   "id": "8e142de6-f55e-4629-b510-345207cff423",
   "metadata": {
    "execution": {
     "iopub.execute_input": "2024-06-05T17:22:42.094915Z",
     "iopub.status.busy": "2024-06-05T17:22:42.094059Z",
     "iopub.status.idle": "2024-06-05T17:22:42.305153Z",
     "shell.execute_reply": "2024-06-05T17:22:42.304441Z",
     "shell.execute_reply.started": "2024-06-05T17:22:42.094887Z"
    }
   },
   "outputs": [],
   "source": [
    "#import regions"
   ]
  },
  {
   "cell_type": "markdown",
   "id": "aab6d458-5922-4df8-94df-15fcc84ef4b2",
   "metadata": {},
   "source": [
    "Create the custom cutout as `newimage`.\n",
    "\n",
    ">**Notice:** Some input patch images might be skipped for not, in the end, overlapping with the defined bounding box after all. This was expected, as described in Section 2.3. "
   ]
  },
  {
   "cell_type": "code",
   "execution_count": 27,
   "id": "0b5b5f91-d202-4b14-a562-275bb9c9ce76",
   "metadata": {
    "execution": {
     "iopub.execute_input": "2024-06-05T17:20:36.545162Z",
     "iopub.status.busy": "2024-06-05T17:20:36.544926Z",
     "iopub.status.idle": "2024-06-05T17:20:36.785707Z",
     "shell.execute_reply": "2024-06-05T17:20:36.784703Z",
     "shell.execute_reply.started": "2024-06-05T17:20:36.545144Z"
    }
   },
   "outputs": [
    {
     "ename": "TypeError",
     "evalue": "GetTemplateTask.run() missing 1 required positional argument: 'physical_filter'",
     "output_type": "error",
     "traceback": [
      "\u001b[0;31m---------------------------------------------------------------------------\u001b[0m",
      "\u001b[0;31mTypeError\u001b[0m                                 Traceback (most recent call last)",
      "Cell \u001b[0;32mIn[27], line 1\u001b[0m\n\u001b[0;32m----> 1\u001b[0m newimage \u001b[38;5;241m=\u001b[39m \u001b[43mgetTemplateTask\u001b[49m\u001b[38;5;241;43m.\u001b[39;49m\u001b[43mrun\u001b[49m\u001b[43m(\u001b[49m\u001b[43mall_images\u001b[49m\u001b[43m,\u001b[49m\u001b[43m \u001b[49m\u001b[43mnewimage_bbox\u001b[49m\u001b[43m,\u001b[49m\n\u001b[1;32m      2\u001b[0m \u001b[43m                               \u001b[49m\u001b[43mnewWCS\u001b[49m\u001b[43m,\u001b[49m\u001b[43m \u001b[49m\u001b[43mall_dataIds\u001b[49m\u001b[43m)\u001b[49m\n",
      "File \u001b[0;32m/opt/lsst/software/stack/stack/miniconda3-py38_4.9.2-8.0.0/Linux64/utils/g0154d4b521+585e252eca/python/lsst/utils/timer.py:300\u001b[0m, in \u001b[0;36mtimeMethod.<locals>.decorator_timer.<locals>.timeMethod_wrapper\u001b[0;34m(self, *args, **keyArgs)\u001b[0m\n\u001b[1;32m    291\u001b[0m logInfo(\n\u001b[1;32m    292\u001b[0m     obj\u001b[38;5;241m=\u001b[39m\u001b[38;5;28mself\u001b[39m,\n\u001b[1;32m    293\u001b[0m     prefix\u001b[38;5;241m=\u001b[39mfunc\u001b[38;5;241m.\u001b[39m\u001b[38;5;18m__name__\u001b[39m \u001b[38;5;241m+\u001b[39m \u001b[38;5;124m\"\u001b[39m\u001b[38;5;124mStart\u001b[39m\u001b[38;5;124m\"\u001b[39m,\n\u001b[0;32m   (...)\u001b[0m\n\u001b[1;32m    297\u001b[0m     stacklevel\u001b[38;5;241m=\u001b[39mstacklevel,\n\u001b[1;32m    298\u001b[0m )\n\u001b[1;32m    299\u001b[0m \u001b[38;5;28;01mtry\u001b[39;00m:\n\u001b[0;32m--> 300\u001b[0m     res \u001b[38;5;241m=\u001b[39m \u001b[43mfunc\u001b[49m\u001b[43m(\u001b[49m\u001b[38;5;28;43mself\u001b[39;49m\u001b[43m,\u001b[49m\u001b[43m \u001b[49m\u001b[38;5;241;43m*\u001b[39;49m\u001b[43margs\u001b[49m\u001b[43m,\u001b[49m\u001b[43m \u001b[49m\u001b[38;5;241;43m*\u001b[39;49m\u001b[38;5;241;43m*\u001b[39;49m\u001b[43mkeyArgs\u001b[49m\u001b[43m)\u001b[49m\n\u001b[1;32m    301\u001b[0m \u001b[38;5;28;01mfinally\u001b[39;00m:\n\u001b[1;32m    302\u001b[0m     logInfo(\n\u001b[1;32m    303\u001b[0m         obj\u001b[38;5;241m=\u001b[39m\u001b[38;5;28mself\u001b[39m,\n\u001b[1;32m    304\u001b[0m         prefix\u001b[38;5;241m=\u001b[39mfunc\u001b[38;5;241m.\u001b[39m\u001b[38;5;18m__name__\u001b[39m \u001b[38;5;241m+\u001b[39m \u001b[38;5;124m\"\u001b[39m\u001b[38;5;124mEnd\u001b[39m\u001b[38;5;124m\"\u001b[39m,\n\u001b[0;32m   (...)\u001b[0m\n\u001b[1;32m    308\u001b[0m         stacklevel\u001b[38;5;241m=\u001b[39mstacklevel,\n\u001b[1;32m    309\u001b[0m     )\n",
      "\u001b[0;31mTypeError\u001b[0m: GetTemplateTask.run() missing 1 required positional argument: 'physical_filter'"
     ]
    }
   ],
   "source": [
    "newimage = getTemplateTask.run(all_images, newimage_bbox,\n",
    "                               newWCS, all_dataIds)\n",
    "\n"
   ]
  },
  {
   "cell_type": "markdown",
   "id": "4fd8e6cc-8289-42bc-a7b7-967b96ef1d9e",
   "metadata": {},
   "source": [
    "## 4. Visualize the custom cutout\n",
    "\n",
    "Extract metadata for the custom cutout."
   ]
  },
  {
   "cell_type": "code",
   "execution_count": null,
   "id": "1b1b7823-e3f2-480f-afb7-a189bbd60087",
   "metadata": {
    "execution": {
     "iopub.status.busy": "2024-06-05T17:20:36.786302Z",
     "iopub.status.idle": "2024-06-05T17:20:36.786554Z",
     "shell.execute_reply": "2024-06-05T17:20:36.786447Z",
     "shell.execute_reply.started": "2024-06-05T17:20:36.786437Z"
    }
   },
   "outputs": [],
   "source": [
    "newimage_wcs = newimage.template.getWcs()\n",
    "newimage_wcs_fmd = newimage.template.getWcs().getFitsMetadata()\n",
    "\n",
    "newimage_extent = (newimage_bbox.beginX, newimage_bbox.endX,\n",
    "                   newimage_bbox.beginY, newimage_bbox.endY)"
   ]
  },
  {
   "cell_type": "markdown",
   "id": "27d8fcfb-a843-48ef-943b-aeb2a2ce542a",
   "metadata": {},
   "source": [
    "### 4.1. Display with matplotlib\n",
    "\n",
    "Compare the red circle in the larger cutout to that from the `anchor_image` in the last section."
   ]
  },
  {
   "cell_type": "code",
   "execution_count": null,
   "id": "4b1a16cb-19f3-46a6-816e-5436c06be048",
   "metadata": {
    "execution": {
     "iopub.status.busy": "2024-06-05T17:20:36.787499Z",
     "iopub.status.idle": "2024-06-05T17:20:36.787736Z",
     "shell.execute_reply": "2024-06-05T17:20:36.787635Z",
     "shell.execute_reply.started": "2024-06-05T17:20:36.787626Z"
    }
   },
   "outputs": [],
   "source": [
    "fig = plt.figure(figsize=(8, 8))\n",
    "plt.subplot(projection=WCS(newimage_wcs_fmd))\n",
    "plt.imshow(newimage.template.image.array, vmin=0.01, vmax=0.5,\n",
    "           extent=newimage_extent, origin='lower', cmap='gray')\n",
    "\n",
    "aperture = SkyCircularAperture(coord, r=radius)\n",
    "pix_aperture = aperture.to_pixel(WCS(newimage_wcs_fmd))\n",
    "pix_aperture.plot(color='r', lw=3)\n",
    "\n",
    "\n",
    "\n",
    "\n",
    "\n",
    "\n",
    "###### TRYING TO EDIT FOR MAKING PATCH/TRACT BOXES:\n",
    "#corners2 = anchor_wcs.pixelToSky(anchor_bbox.beginX, anchor_bbox.beginY)\n",
    "#corners = SkyCoord(ra=corners1.getRa(), dec=corners.getDec(), unit='deg')\n",
    "\n",
    "#region_sky = PolygonSkyRegion(vertices=vertices)\n",
    "\n",
    "corners1 = [anchor_wcs.pixelToSky(anchor_bbox.beginX, anchor_bbox.beginY),\n",
    "           anchor_wcs.pixelToSky(anchor_bbox.beginX, anchor_bbox.endY),\n",
    "           anchor_wcs.pixelToSky(anchor_bbox.endX, anchor_bbox.endY),\n",
    "           anchor_wcs.pixelToSky(anchor_bbox.endX, anchor_bbox.beginY)]\n",
    "\n",
    "#print(corners1, anchor_bbox)\n",
    "corners_anchor_sky = geom.SpherePoint(corners1[0].getRa().asDegrees(), corners1[0].getDec().asDegrees(), geom.degrees)\n",
    "                      #[corners1[0].getRa().asDegrees(), corners1[0].getDec().asDegrees()],\n",
    "                      #[corners1[0].getRa().asDegrees(), corners1[0].getDec().asDegrees()],\n",
    "                      #[corners1[0].getRa().asDegrees(), corners1[0].getDec().asDegrees()]], geom.degrees)\n",
    "\n",
    "#corner_SE_deg = geom.SpherePoint(corners[0][0], corners[0][1], geom.degrees)\n",
    "#corner_NW_deg = geom.SpherePoint(corners[2][0], corners[2][1], geom.degrees)\n",
    "#corner_SE_pix = newWCS.skyToPixel(corner_SE_deg)\n",
    "#corner_NW_pix = newWCS.skyToPixel(corner_NW_deg)\n",
    "\n",
    "corners_anchor_pix = newWCS.skyToPixel(corners_anchor_sky)\n",
    "extent1 = [(anchor_image.getBBox().endX-anchor_image.getBBox().beginX)/2. + anchor_image.getBBox().beginX,\n",
    "           (anchor_image.getBBox().endY-anchor_image.getBBox().beginY)/2. + anchor_image.getBBox().beginY]\n",
    "print(anchor_image.getBBox(), anchor_image.getBBox().beginX)\n",
    "anchor_bbox = anchor_image.getBBox()\n",
    "print(corners_anchor_sky)\n",
    "aper = RectangularAperture(extent1,anchor_image.getBBox().endX-anchor_image.getBBox().beginX , anchor_image.getBBox().endY-anchor_image.getBBox().beginY)\n",
    "aper.plot(color='b',lw=3)\n",
    "\n",
    "\n",
    "#vertices = SkyCoord([1, 2, 2], [1, 1, 2], unit='deg', frame='fk5')\n",
    "#vertices = SkyCoord(corners_anchor_sky[0,:],corners_anchor_sky[1,:], unit='deg', frame='fk5')\n",
    "\n",
    "#from matplotlib.patches import Polygon\n",
    "#extent_poly = [[anchor_image.getBBox().beginX+10, anchor_image.getBBox().beginY-10],\n",
    "#               [anchor_image.getBBox().beginX+10, anchor_image.getBBox().endY-10],\n",
    "#               [anchor_image.getBBox().endX, anchor_image.getBBox().endY],\n",
    "#               [anchor_image.getBBox().beginY, anchor_image.getBBox().endX]]\n",
    "#r = Polygon(extent_poly, color='b')\n",
    "#ax = plt.gca()\n",
    "#ax.add_patch(r)\n",
    "\n",
    "######\n",
    "\n",
    "\n",
    "plt.show()"
   ]
  },
  {
   "cell_type": "markdown",
   "id": "2c728097-f6a1-4c77-ad10-d7487b2136b0",
   "metadata": {},
   "source": [
    "### 4.2. Display with `afwDisplay`"
   ]
  },
  {
   "cell_type": "code",
   "execution_count": null,
   "id": "b2b7ead9-a7bd-4cc2-9aca-0f441b9ff003",
   "metadata": {
    "execution": {
     "iopub.status.busy": "2024-06-05T17:20:36.788407Z",
     "iopub.status.idle": "2024-06-05T17:20:36.788638Z",
     "shell.execute_reply": "2024-06-05T17:20:36.788539Z",
     "shell.execute_reply.started": "2024-06-05T17:20:36.788530Z"
    }
   },
   "outputs": [],
   "source": [
    "fig = plt.figure(figsize=(8, 8))\n",
    "display = afwDisplay.Display(frame=fig)\n",
    "display.scale('asinh', 'zscale')\n",
    "display.mtv(newimage.template.image)\n",
    "plt.show()"
   ]
  },
  {
   "cell_type": "markdown",
   "id": "c749612b-8130-431a-9d7e-34951883f9b5",
   "metadata": {},
   "source": [
    "### 4.3. Display with Firefly\n",
    "\n",
    "Firefly allows for interactive image display and manipulation.\n",
    "See DP0.2 tutorial notebook 03b for a full demonstration of how to use Firefly within the Notebook Aspect.\n",
    "\n",
    "Reset the `afwDisplay` backend to be Firefly and start the display.\n",
    "A new tab will open, containing the Firefly interface."
   ]
  },
  {
   "cell_type": "code",
   "execution_count": null,
   "id": "c7e26c4f-f426-4b5c-85fb-105f7090dede",
   "metadata": {
    "execution": {
     "iopub.status.busy": "2024-06-05T17:20:36.789364Z",
     "iopub.status.idle": "2024-06-05T17:20:36.789598Z",
     "shell.execute_reply": "2024-06-05T17:20:36.789499Z",
     "shell.execute_reply.started": "2024-06-05T17:20:36.789490Z"
    }
   },
   "outputs": [],
   "source": [
    "afwDisplay.setDefaultBackend('firefly')\n",
    "afw_display = afwDisplay.Display(frame=1)"
   ]
  },
  {
   "cell_type": "markdown",
   "id": "af11f3d0-37fc-4041-986c-27d4ed726f11",
   "metadata": {},
   "source": [
    "Display the image in Firely."
   ]
  },
  {
   "cell_type": "code",
   "execution_count": null,
   "id": "15df02e5-3dd9-45fe-8c04-5d9e464a08ed",
   "metadata": {
    "execution": {
     "iopub.status.busy": "2024-06-05T17:20:36.790359Z",
     "iopub.status.idle": "2024-06-05T17:20:36.790594Z",
     "shell.execute_reply": "2024-06-05T17:20:36.790492Z",
     "shell.execute_reply.started": "2024-06-05T17:20:36.790484Z"
    }
   },
   "outputs": [],
   "source": [
    "afw_display.mtv(newimage.template)"
   ]
  },
  {
   "cell_type": "markdown",
   "id": "4cf35ffd-8a3a-4941-9857-476b9796e342",
   "metadata": {},
   "source": [
    "The Firefly default is to visualize the mask plane with colors. \n",
    "Set the mask plane transparency to 100, fully transparent, to see only the pixel data."
   ]
  },
  {
   "cell_type": "code",
   "execution_count": null,
   "id": "6af04896-ba12-42e3-9498-baf779d7361c",
   "metadata": {
    "execution": {
     "iopub.status.busy": "2024-06-05T17:20:36.791411Z",
     "iopub.status.idle": "2024-06-05T17:20:36.791638Z",
     "shell.execute_reply": "2024-06-05T17:20:36.791540Z",
     "shell.execute_reply.started": "2024-06-05T17:20:36.791530Z"
    }
   },
   "outputs": [],
   "source": [
    "afw_display.setMaskTransparency(100)"
   ]
  },
  {
   "cell_type": "markdown",
   "id": "399da00b-9f89-4e83-b7cf-885d43df89e4",
   "metadata": {},
   "source": [
    "### 4.4. Option to save as a FITS file\n",
    "\n",
    "Save as a FITS file in the home directory.\n",
    "\n",
    "> **Warning:** Images can take up a lot of disk space. Save and download with caution."
   ]
  },
  {
   "cell_type": "code",
   "execution_count": null,
   "id": "b8fa969f-70cf-4548-93ca-9db5bf9b217a",
   "metadata": {
    "execution": {
     "iopub.status.busy": "2024-06-05T17:20:36.792183Z",
     "iopub.status.idle": "2024-06-05T17:20:36.792404Z",
     "shell.execute_reply": "2024-06-05T17:20:36.792308Z",
     "shell.execute_reply.started": "2024-06-05T17:20:36.792299Z"
    },
    "scrolled": true
   },
   "outputs": [],
   "source": [
    "username = os.environ.get('USER')\n",
    "fnm = '/home/' + username + '/my_big_cutout.fits'\n",
    "newimage.template.writeFits(fnm)\n",
    "del username, fnm"
   ]
  },
  {
   "cell_type": "markdown",
   "id": "e55954a6-27e7-432e-bb99-3453afe3c59b",
   "metadata": {},
   "source": [
    "## 5. PSF stuff\n"
   ]
  },
  {
   "cell_type": "markdown",
   "id": "7c23d5fd-4137-4c00-be86-cc08b5491676",
   "metadata": {},
   "source": [
    "NOTES:\n",
    "\n",
    "x - check that ra/dec of sources on outskirts are still at the right location\n",
    "\n",
    "- get the PSF. it comes with the image i got and ask it to provide the PSF for the x,y coordinates you're interested in. you might see some discontinuity in the PSF size FWHM.\n",
    "\n",
    "- ask it: gimme PSF at this point and the FWHM comes from butler. Andres has a tutorial notebook, just first one is fine. display image you put together and draw on the boundaries of which tract patch (and label and draw lines on it)\n",
    "\n",
    "- release notebook and call this done after that step is completed. \n",
    "try aaron for this review, if not, then jeff\n",
    "\n",
    "- PSF is stretch goal,\n",
    "\n",
    "From end of: https://pipelines.lsst.io/py-api/lsst.ip.diffim.GetTemplateTask.html#lsst.ip.diffim.GetTemplateTask\n",
    " run(coaddExposures, bbox, wcs, dataIds, physical_filter=None, **kwargs)\n",
    "\n",
    "    Warp coadds from multiple tracts to form a template for image diff.\n",
    "\n",
    "    Where the tracts overlap, the resulting template image is averaged. The PSF on the template is created by combining the CoaddPsf on each template image into a meta-CoaddPsf."
   ]
  },
  {
   "cell_type": "code",
   "execution_count": null,
   "id": "a1a74162-14a8-4601-95e0-ca03adea39ec",
   "metadata": {
    "execution": {
     "iopub.status.busy": "2024-06-05T17:20:36.793244Z",
     "iopub.status.idle": "2024-06-05T17:20:36.793472Z",
     "shell.execute_reply": "2024-06-05T17:20:36.793368Z",
     "shell.execute_reply.started": "2024-06-05T17:20:36.793360Z"
    }
   },
   "outputs": [],
   "source": [
    "print(all_images)\n",
    "from lsst.geom import Point2D\n",
    "import sys\n",
    "\n",
    "center = geom.SpherePoint(my_ra, my_dec, geom.degrees)\n",
    "SIGMA_TO_FWHM = 2.0*np.sqrt(2.0*np.log(2.0))\n",
    "\n",
    "# first, compare the PSF at the source in the anchor image to that in the joined cutout\n",
    "anchor_info = anchor_image.getInfo()\n",
    "center_pix_anchor = anchor_wcs.skyToPixel(center) #corner_SE_deg)\n",
    "newimage_info = newimage.template.getInfo() \n",
    "center_pix_newimage = newWCS.skyToPixel(center) #corner_SE_deg)\n",
    "point_tuple = (center_pix_anchor[0],center_pix_anchor[1])\n",
    "point_image = Point2D(point_tuple)\n",
    "anchor_psf = anchor_image.getPsf()\n",
    "psf_shape = anchor_psf.computeShape(point_image)\n",
    "psf_shape\n",
    "psf_sigma = psf_shape.getDeterminantRadius()\n",
    "psf_fwhm = psf_sigma * SIGMA_TO_FWHM\n",
    "print(\"anchor center sigma=\",psf_sigma, \"FWHM=\",psf_fwhm)\n",
    "\n",
    "\n",
    "\n",
    "newimage_psf = newimage.template.getPsf()\n",
    "print(newimage_psf)\n",
    "point_tuple = (center_pix_newimage[0],center_pix_newimage[1])\n",
    "point_image = Point2D(point_tuple)\n",
    "psf_shape = newimage_psf.computeShape(point_image)\n",
    "psf_sigma = psf_shape.getDeterminantRadius()\n",
    "psf_fwhm = psf_sigma * SIGMA_TO_FWHM\n",
    "print(\"newimage center sigma=\",psf_sigma, \"FWHM=\",psf_fwhm)\n",
    "\n",
    "\n",
    "center_pix = anchor_wcs.skyToPixel(corner_SE_deg)\n",
    "point_tuple = (center_pix[0],center_pix[1])\n",
    "point_image = Point2D(point_tuple)\n",
    "psf_shape = anchor_psf.computeShape(point_image)\n",
    "psf_sigma = psf_shape.getDeterminantRadius()\n",
    "psf_fwhm = psf_sigma * SIGMA_TO_FWHM\n",
    "print(\"anchor SE corner sigma=\",psf_sigma, \"FWHM=\",psf_fwhm)\n",
    "\n",
    "\n",
    "\n",
    "center_pix = newWCS.skyToPixel(corner_SE_deg)\n",
    "point_tuple = (center_pix[0],center_pix[1])\n",
    "point_image = Point2D(point_tuple)\n",
    "psf_shape = newimage_psf.computeShape(point_image)\n",
    "psf_sigma = psf_shape.getDeterminantRadius()\n",
    "psf_fwhm = psf_sigma * SIGMA_TO_FWHM\n",
    "print(\"newimage SE corner sigma=\",psf_sigma, \"FWHM=\",psf_fwhm)\n"
   ]
  },
  {
   "cell_type": "code",
   "execution_count": null,
   "id": "4b49493d-84ba-4752-be98-1e60ef59c749",
   "metadata": {},
   "outputs": [],
   "source": []
  }
 ],
 "metadata": {
  "kernelspec": {
   "display_name": "LSST",
   "language": "python",
   "name": "lsst"
  },
  "language_info": {
   "codemirror_mode": {
    "name": "ipython",
    "version": 3
   },
   "file_extension": ".py",
   "mimetype": "text/x-python",
   "name": "python",
   "nbconvert_exporter": "python",
   "pygments_lexer": "ipython3",
   "version": "3.11.7"
  }
 },
 "nbformat": 4,
 "nbformat_minor": 5
}
